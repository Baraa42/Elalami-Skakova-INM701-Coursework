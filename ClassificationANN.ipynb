{
 "cells": [
  {
   "cell_type": "markdown",
   "id": "3c2868f0",
   "metadata": {},
   "source": [
    "## Content:\n",
    "- **[Part 1](#part1)- Importing the data set, packages used**\n",
    "- **[Part 2](#part2)- Preprocessing Data**\n",
    "- **[Part 3](#part3) -  Decision Trees**\n",
    "- **[Part 4](#part4) -  Random Forest**\n",
    "- **[Part 5](#part5) -  Naive Bayes**\n",
    "- **[Part 6](#part6) - Gradient Boost Classifier**\n",
    "- **[Part 7](#part6) - Cat Boost Classifier**\n",
    "- **[Part 8](#part6) - XGB Boost Classifier**\n"
   ]
  },
  {
   "cell_type": "markdown",
   "id": "5015153b",
   "metadata": {},
   "source": [
    "[Back to top](#Content:)\n",
    "\n",
    "\n",
    "<a id='part1'></a>\n",
    "\n",
    "# Part 1 -  Importing the data set"
   ]
  },
  {
   "cell_type": "code",
   "execution_count": 2,
   "id": "61b2d830",
   "metadata": {},
   "outputs": [],
   "source": [
    "import pandas as pd\n",
    "import numpy as np\n",
    "import random\n",
    "import matplotlib.pyplot as plt\n",
    "import sklearn.metrics as metrics\n",
    "%matplotlib inline"
   ]
  },
  {
   "cell_type": "code",
   "execution_count": 3,
   "id": "fee4b163",
   "metadata": {},
   "outputs": [],
   "source": [
    "random.seed(0)"
   ]
  },
  {
   "cell_type": "code",
   "execution_count": 4,
   "id": "13c704d3",
   "metadata": {},
   "outputs": [],
   "source": [
    "# Loading Dataset\n",
    "df = pd.read_csv(\"healthcare/train_data.csv\", na_values=['NA', '?'])"
   ]
  },
  {
   "cell_type": "code",
   "execution_count": 5,
   "id": "9dbb883e",
   "metadata": {},
   "outputs": [],
   "source": [
    "# Dropping na values for \n",
    "df = df.dropna()"
   ]
  },
  {
   "cell_type": "code",
   "execution_count": 6,
   "id": "f5ce239a",
   "metadata": {},
   "outputs": [],
   "source": [
    "# Dropping case_id\n",
    "df.drop(['case_id'], axis=1, inplace=True)"
   ]
  },
  {
   "cell_type": "markdown",
   "id": "e2f1aee2",
   "metadata": {},
   "source": [
    "[Back to top](#Content:)\n",
    "\n",
    "\n",
    "<a id='part2'></a>\n",
    "\n",
    "# Part 2 -  Preprocessing Data"
   ]
  },
  {
   "cell_type": "markdown",
   "id": "a5f8fb88",
   "metadata": {},
   "source": [
    "### Hot Encoded Data"
   ]
  },
  {
   "cell_type": "code",
   "execution_count": 7,
   "id": "a37db6f0",
   "metadata": {},
   "outputs": [],
   "source": [
    "# Function to hot encode the column with name : name for dataframe df\n",
    "def encode_text_dummy(df, name):\n",
    "    dummies = pd.get_dummies(df[name])\n",
    "    for x in dummies.columns:\n",
    "        dummy_name = f\"{name}-{x}\"\n",
    "        df[dummy_name] = dummies[x]\n",
    "    df.drop(name, axis=1, inplace=True) "
   ]
  },
  {
   "cell_type": "code",
   "execution_count": 8,
   "id": "9459aaa1",
   "metadata": {},
   "outputs": [],
   "source": [
    "from sklearn.preprocessing import LabelEncoder \n",
    "# Columns where we use Label Encoding\n",
    "le_string_columns = ['Severity of Illness', 'Age' ]\n",
    "# Columns where we use One Hot Encoding\n",
    "dummies_string_columns = ['Hospital_type_code', 'Hospital_region_code', 'Department', 'Ward_Type', 'Ward_Facility_Code',  'Type of Admission']\n",
    "encoder = LabelEncoder()\n",
    "\n",
    "## label_encoded data\n",
    "Xe = df.drop(['Stay'], axis=1)\n",
    "Xe['Severity of Illness']= Xe['Severity of Illness'].map({'Minor': 0,  'Moderate': 1,'Extreme': 2})\n",
    "Xe['Age'] = encoder.fit_transform(Xe['Age'])\n",
    "\n",
    "ye = df['Stay']\n",
    "ye = encoder.fit_transform(ye)\n",
    "\n",
    "for column in dummies_string_columns :\n",
    "    encode_text_dummy(Xe, column)\n",
    "    "
   ]
  },
  {
   "cell_type": "markdown",
   "id": "569bdba8",
   "metadata": {},
   "source": [
    "### Scaling and splitting Data"
   ]
  },
  {
   "cell_type": "code",
   "execution_count": 9,
   "id": "976107e8",
   "metadata": {},
   "outputs": [],
   "source": [
    "from sklearn.preprocessing import StandardScaler\n",
    "from sklearn.model_selection import train_test_split\n",
    "scaler = StandardScaler()\n",
    "X = Xe.values\n",
    "y = ye\n",
    "X_train, X_test, y_train, y_test = train_test_split(X, y, test_size=0.25, random_state=0)\n",
    "for i in range(X_train.shape[1]) :\n",
    "    X_train[:,i]= scaler.fit_transform(X_train[:,i].reshape(-1, 1))[:,0]\n",
    "    X_test[:,i] = scaler.transform(X_test[:,i].reshape(-1, 1))[:,0]"
   ]
  },
  {
   "cell_type": "markdown",
   "id": "2e2f8898",
   "metadata": {},
   "source": [
    "### Scoring"
   ]
  },
  {
   "cell_type": "code",
   "execution_count": 10,
   "id": "3b01b508",
   "metadata": {},
   "outputs": [],
   "source": [
    "K = 10 # Num of Classes \n",
    "# Classes can be ranked here from 0-10\n",
    "def score(pred, target):\n",
    "    error = (np.mean(np.abs(pred-target)))/K\n",
    "    score = 1 - error\n",
    "    return score"
   ]
  },
  {
   "cell_type": "markdown",
   "id": "cefe6db2",
   "metadata": {},
   "source": [
    "# Models\n",
    "\n",
    "We start by base models, models used here are that are most adapted to the nature of the problem :\n",
    "- Logistic Regression\n",
    "- One Hidden Layer ANN\n",
    "- Two Hidden Layer ANN\n"
   ]
  },
  {
   "cell_type": "code",
   "execution_count": 11,
   "id": "c13137d6",
   "metadata": {},
   "outputs": [],
   "source": [
    "from tensorflow.keras.models import Sequential\n",
    "from tensorflow.keras.layers import Dense, Activation\n",
    "from tensorflow.keras.callbacks import EarlyStopping\n",
    "from tensorflow.keras.layers import Dropout"
   ]
  },
  {
   "cell_type": "markdown",
   "id": "28919ef0",
   "metadata": {},
   "source": [
    "[Back to top](#Content:)\n",
    "\n",
    "\n",
    "<a id='part3'></a>\n",
    "\n",
    "# Part 3 -  Logistic Regression"
   ]
  },
  {
   "cell_type": "code",
   "execution_count": null,
   "id": "021c1714",
   "metadata": {},
   "outputs": [],
   "source": []
  }
 ],
 "metadata": {
  "kernelspec": {
   "display_name": "Python 3 (ipykernel)",
   "language": "python",
   "name": "python3"
  },
  "language_info": {
   "codemirror_mode": {
    "name": "ipython",
    "version": 3
   },
   "file_extension": ".py",
   "mimetype": "text/x-python",
   "name": "python",
   "nbconvert_exporter": "python",
   "pygments_lexer": "ipython3",
   "version": "3.7.11"
  }
 },
 "nbformat": 4,
 "nbformat_minor": 5
}
