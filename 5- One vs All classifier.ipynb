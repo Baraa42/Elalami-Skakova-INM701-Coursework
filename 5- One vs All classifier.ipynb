{
 "cells": [
  {
   "cell_type": "markdown",
   "id": "12b24361",
   "metadata": {},
   "source": [
    "## Content:\n",
    "- **[Part 1](#part1)- Importing the data set, packages used**\n",
    "- **[Part 2](#part2)- Preprocessing Data**\n",
    "- **[Part 3](#part3) -  Class 0 vs All**\n",
    "- **[Part 4](#part4) -  Class 0 vs All with balanced Data**\n",
    "- **[Part 5](#part5) -  Random Forest Class 0 vs All balanced data**\n",
    "- **[Part 6](#part6) - ANN Class 0 vs All balanced data**\n",
    "- **[Part 7](#part7) - ANN 2 hidden layers Class 0 vs All balanced data**\n",
    "- **[Part 8](#part8) - XGBoost Class 0 vs All balanced data**\n",
    "\n"
   ]
  },
  {
   "cell_type": "markdown",
   "id": "5610e2dd",
   "metadata": {},
   "source": [
    "[Back to top](#Content:)\n",
    "\n",
    "\n",
    "<a id='part1'></a>\n",
    "\n",
    "# Part 1 -  Importing the data set"
   ]
  },
  {
   "cell_type": "code",
   "execution_count": 1,
   "id": "12b6aa61",
   "metadata": {},
   "outputs": [],
   "source": [
    "import pandas as pd\n",
    "import numpy as np\n",
    "import random\n",
    "import matplotlib.pyplot as plt\n",
    "import sklearn.metrics as metrics\n",
    "%matplotlib inline"
   ]
  },
  {
   "cell_type": "code",
   "execution_count": 2,
   "id": "ea4b8e06",
   "metadata": {},
   "outputs": [],
   "source": [
    "random.seed(0)"
   ]
  },
  {
   "cell_type": "code",
   "execution_count": 3,
   "id": "de9ac7dc",
   "metadata": {},
   "outputs": [],
   "source": [
    "# Loading Dataset\n",
    "df = pd.read_csv(\"healthcare/train_data.csv\", na_values=['NA', '?'])"
   ]
  },
  {
   "cell_type": "code",
   "execution_count": 4,
   "id": "cf9db3df",
   "metadata": {},
   "outputs": [],
   "source": [
    "# Dropping na values for \n",
    "df = df.dropna()"
   ]
  },
  {
   "cell_type": "code",
   "execution_count": 5,
   "id": "df31ccb3",
   "metadata": {},
   "outputs": [],
   "source": [
    "# Dropping case_id\n",
    "df.drop(['case_id'], axis=1, inplace=True)"
   ]
  },
  {
   "cell_type": "markdown",
   "id": "a80054c0",
   "metadata": {},
   "source": [
    "[Back to top](#Content:)\n",
    "\n",
    "\n",
    "<a id='part2'></a>\n",
    "\n",
    "# Part 2 -  Preprocessing Data"
   ]
  },
  {
   "cell_type": "markdown",
   "id": "7f35a7bf",
   "metadata": {},
   "source": [
    "### Hot Encoded Data"
   ]
  },
  {
   "cell_type": "code",
   "execution_count": 6,
   "id": "dab14cd1",
   "metadata": {},
   "outputs": [],
   "source": [
    "# Function to hot encode the column with name : name for dataframe df\n",
    "def encode_text_dummy(df, name):\n",
    "    dummies = pd.get_dummies(df[name])\n",
    "    for x in dummies.columns:\n",
    "        dummy_name = f\"{name}-{x}\"\n",
    "        df[dummy_name] = dummies[x]\n",
    "    df.drop(name, axis=1, inplace=True) "
   ]
  },
  {
   "cell_type": "code",
   "execution_count": 7,
   "id": "499e93a3",
   "metadata": {},
   "outputs": [],
   "source": [
    "from sklearn.preprocessing import LabelEncoder \n",
    "# Columns where we use Label Encoding\n",
    "le_string_columns = ['Severity of Illness', 'Age' ]\n",
    "# Columns where we use One Hot Encoding\n",
    "dummies_string_columns = ['Hospital_type_code', 'Hospital_region_code', 'Department', 'Ward_Type', 'Ward_Facility_Code',  'Type of Admission']\n",
    "encoder = LabelEncoder()\n",
    "\n",
    "## label_encoded data\n",
    "Xe = df.drop(['Stay'], axis=1)\n",
    "Xe['Severity of Illness']= Xe['Severity of Illness'].map({'Minor': 0,  'Moderate': 1,'Extreme': 2})\n",
    "Xe['Age'] = encoder.fit_transform(Xe['Age'])\n",
    "\n",
    "ye = df['Stay']\n",
    "ye = encoder.fit_transform(ye)\n",
    "\n",
    "for column in dummies_string_columns :\n",
    "    encode_text_dummy(Xe, column)\n",
    "    "
   ]
  },
  {
   "cell_type": "markdown",
   "id": "9effda97",
   "metadata": {},
   "source": [
    "### Scaling and splitting Data"
   ]
  },
  {
   "cell_type": "code",
   "execution_count": 8,
   "id": "0fd9b247",
   "metadata": {},
   "outputs": [],
   "source": [
    "from sklearn.preprocessing import StandardScaler\n",
    "from sklearn.model_selection import train_test_split\n",
    "scaler = StandardScaler()\n",
    "X = Xe.values\n",
    "y = ye\n",
    "X_train, X_test, y_train, y_test = train_test_split(X, y, test_size=0.25, random_state=0)\n",
    "for i in range(X_train.shape[1]) :\n",
    "    X_train[:,i]= scaler.fit_transform(X_train[:,i].reshape(-1, 1))[:,0]\n",
    "    X_test[:,i] = scaler.transform(X_test[:,i].reshape(-1, 1))[:,0]"
   ]
  },
  {
   "cell_type": "markdown",
   "id": "d63d40c2",
   "metadata": {},
   "source": [
    "# Models\n",
    "\n",
    "We will use the best models from our last analysis :\n",
    "- Random Forest\n",
    "- ANN Classifier\n",
    "\n"
   ]
  },
  {
   "cell_type": "code",
   "execution_count": 9,
   "id": "2f35bb24",
   "metadata": {},
   "outputs": [],
   "source": [
    "from tensorflow.keras.models import Sequential\n",
    "from tensorflow.keras.layers import Dense, Activation\n",
    "from tensorflow.keras.callbacks import EarlyStopping\n",
    "from tensorflow.keras.layers import Dropout\n",
    "from sklearn.model_selection import KFold\n",
    "from sklearn.metrics import accuracy_score, confusion_matrix\n",
    "from sklearn.metrics import ConfusionMatrixDisplay\n",
    "from sklearn.ensemble import RandomForestClassifier"
   ]
  },
  {
   "cell_type": "markdown",
   "id": "1e30d800",
   "metadata": {},
   "source": [
    "[Back to top](#Content:)\n",
    "\n",
    "\n",
    "<a id='part3'></a>\n",
    "\n",
    "# Part 3 -  Class 0 vs All"
   ]
  },
  {
   "cell_type": "markdown",
   "id": "261c4d01",
   "metadata": {},
   "source": [
    "## Preparing Data"
   ]
  },
  {
   "cell_type": "code",
   "execution_count": 10,
   "id": "6c5161c7",
   "metadata": {},
   "outputs": [],
   "source": [
    "y_train0 = np.minimum(1, y_train)\n",
    "y_test0 = np.minimum(1, y_test)"
   ]
  },
  {
   "cell_type": "markdown",
   "id": "33c7d884",
   "metadata": {},
   "source": [
    "## Random Forest"
   ]
  },
  {
   "cell_type": "code",
   "execution_count": 18,
   "id": "7aaaaf59",
   "metadata": {},
   "outputs": [
    {
     "data": {
      "text/plain": [
       "RandomForestClassifier(criterion='entropy', n_estimators=60)"
      ]
     },
     "execution_count": 18,
     "metadata": {},
     "output_type": "execute_result"
    }
   ],
   "source": [
    "# Instantiating and fitting the data\n",
    "forest0 = RandomForestClassifier(n_estimators=60, criterion='entropy')\n",
    "forest0.fit(X_train, y_train0)"
   ]
  },
  {
   "cell_type": "code",
   "execution_count": 23,
   "id": "ba3d8bfc",
   "metadata": {},
   "outputs": [
    {
     "name": "stdout",
     "output_type": "stream",
     "text": [
      "Accuracy : 0.926\n"
     ]
    },
    {
     "data": {
      "image/png": "[encoded data removed]",
      "text/plain": [
       "<Figure size 432x288 with 2 Axes>"
      ]
     },
     "metadata": {
      "needs_background": "light"
     },
     "output_type": "display_data"
    }
   ],
   "source": [
    "y_pred = forest0.predict(X_test)\n",
    "print(f'Accuracy : %.3f' % accuracy_score(y_test0, y_pred))\n",
    "\n",
    "cm = confusion_matrix(y_test0, y_pred)\n",
    "disp = ConfusionMatrixDisplay(cm)\n",
    "disp.plot()\n",
    "plt.show()"
   ]
  },
  {
   "cell_type": "code",
   "execution_count": 24,
   "id": "661aecd9",
   "metadata": {},
   "outputs": [
    {
     "name": "stdout",
     "output_type": "stream",
     "text": [
      "Test Precision- 0.93\n",
      "Test Recall- 0.995\n",
      "Test ROCAUC 0.522\n"
     ]
    }
   ],
   "source": [
    "from sklearn.metrics import precision_score, recall_score,roc_curve, auc, roc_auc_score\n",
    "print(\"Test Precision-\",round(precision_score(y_test0, y_pred),3))\n",
    "print(\"Test Recall-\",round(recall_score(y_test0, y_pred),3))\n",
    "print(\"Test ROCAUC\", round(roc_auc_score(y_test0, y_pred),3))"
   ]
  },
  {
   "cell_type": "code",
   "execution_count": 25,
   "id": "849dc40e",
   "metadata": {},
   "outputs": [
    {
     "data": {
      "image/png": "[encoded data removed]",
      "text/plain": [
       "<Figure size 432x288 with 1 Axes>"
      ]
     },
     "metadata": {
      "needs_background": "light"
     },
     "output_type": "display_data"
    }
   ],
   "source": [
    "#Validation\n",
    "fpr_v, tpr_v, _ = roc_curve(y_test0, y_pred)\n",
    "roc_auc_v = auc(fpr_v, tpr_v)\n",
    "plt.plot(fpr_v, tpr_v, 'b', label = 'Validation AUC = %0.2f' % roc_auc_v)\n",
    "plt.legend(loc = 'lower right')\n",
    "plt.plot([0, 1], [0, 1],'r--')\n",
    "plt.xlim([0, 1])\n",
    "plt.ylim([0, 1])\n",
    "plt.ylabel('True Positive Rate')\n",
    "plt.xlabel('False Positive Rate')\n",
    "plt.show()"
   ]
  },
  {
   "cell_type": "markdown",
   "id": "f51401df",
   "metadata": {},
   "source": [
    "Bad classifier, misses a lot"
   ]
  },
  {
   "cell_type": "markdown",
   "id": "9c827843",
   "metadata": {},
   "source": [
    "## ANN"
   ]
  },
  {
   "cell_type": "code",
   "execution_count": 30,
   "id": "ee2c31d1",
   "metadata": {
    "collapsed": true
   },
   "outputs": [
    {
     "name": "stdout",
     "output_type": "stream",
     "text": [
      "Train on 188275 samples, validate on 47069 samples\n",
      "Epoch 1/50\n",
      "188275/188275 [==============================] - 8s 44us/sample - loss: 0.2405 - accuracy: 0.9234 - val_loss: 0.2329 - val_accuracy: 0.9238\n",
      "Epoch 2/50\n",
      "188275/188275 [==============================] - 7s 37us/sample - loss: 0.2252 - accuracy: 0.9262 - val_loss: 0.2287 - val_accuracy: 0.9236\n",
      "Epoch 3/50\n",
      "188275/188275 [==============================] - 7s 37us/sample - loss: 0.2208 - accuracy: 0.9262 - val_loss: 0.2242 - val_accuracy: 0.9242\n",
      "Epoch 4/50\n",
      "188275/188275 [==============================] - 7s 37us/sample - loss: 0.2185 - accuracy: 0.9262 - val_loss: 0.2235 - val_accuracy: 0.9237\n",
      "Epoch 5/50\n",
      "188275/188275 [==============================] - 8s 43us/sample - loss: 0.2175 - accuracy: 0.9263 - val_loss: 0.2232 - val_accuracy: 0.9236\n",
      "Epoch 6/50\n",
      "188275/188275 [==============================] - 7s 38us/sample - loss: 0.2169 - accuracy: 0.9263 - val_loss: 0.2221 - val_accuracy: 0.9239\n",
      "Epoch 7/50\n",
      "188275/188275 [==============================] - 7s 37us/sample - loss: 0.2164 - accuracy: 0.9265 - val_loss: 0.2224 - val_accuracy: 0.9241\n",
      "Epoch 8/50\n",
      "188275/188275 [==============================] - 7s 37us/sample - loss: 0.2161 - accuracy: 0.9264 - val_loss: 0.2228 - val_accuracy: 0.9237\n",
      "Epoch 9/50\n",
      "188275/188275 [==============================] - 7s 37us/sample - loss: 0.2157 - accuracy: 0.9265 - val_loss: 0.2223 - val_accuracy: 0.9238\n",
      "Epoch 10/50\n",
      "188275/188275 [==============================] - 7s 37us/sample - loss: 0.2155 - accuracy: 0.9263 - val_loss: 0.2215 - val_accuracy: 0.9240\n",
      "Epoch 11/50\n",
      "188275/188275 [==============================] - 9s 47us/sample - loss: 0.2154 - accuracy: 0.9264 - val_loss: 0.2219 - val_accuracy: 0.9236\n",
      "Epoch 12/50\n",
      "188275/188275 [==============================] - 9s 50us/sample - loss: 0.2152 - accuracy: 0.9262 - val_loss: 0.2217 - val_accuracy: 0.9236\n",
      "Epoch 13/50\n",
      "188275/188275 [==============================] - 8s 40us/sample - loss: 0.2150 - accuracy: 0.9266 - val_loss: 0.2219 - val_accuracy: 0.9236\n",
      "Epoch 14/50\n",
      "188275/188275 [==============================] - 8s 42us/sample - loss: 0.2149 - accuracy: 0.9265 - val_loss: 0.2218 - val_accuracy: 0.9236\n",
      "Epoch 15/50\n",
      "188275/188275 [==============================] - 8s 42us/sample - loss: 0.2148 - accuracy: 0.9266 - val_loss: 0.2213 - val_accuracy: 0.9234\n",
      "Epoch 16/50\n",
      "188275/188275 [==============================] - 8s 42us/sample - loss: 0.2147 - accuracy: 0.9264 - val_loss: 0.2214 - val_accuracy: 0.9239\n",
      "Epoch 17/50\n",
      "188275/188275 [==============================] - 9s 46us/sample - loss: 0.2145 - accuracy: 0.9265 - val_loss: 0.2211 - val_accuracy: 0.9239\n",
      "Epoch 18/50\n",
      "188275/188275 [==============================] - 8s 41us/sample - loss: 0.2145 - accuracy: 0.9264 - val_loss: 0.2213 - val_accuracy: 0.9238\n",
      "Epoch 19/50\n",
      "188275/188275 [==============================] - 8s 41us/sample - loss: 0.2144 - accuracy: 0.9262 - val_loss: 0.2218 - val_accuracy: 0.9235\n",
      "Epoch 20/50\n",
      "188275/188275 [==============================] - 7s 40us/sample - loss: 0.2141 - accuracy: 0.9265 - val_loss: 0.2215 - val_accuracy: 0.9234\n",
      "Epoch 21/50\n",
      "188275/188275 [==============================] - 7s 40us/sample - loss: 0.2143 - accuracy: 0.9265 - val_loss: 0.2215 - val_accuracy: 0.9237\n",
      "Epoch 22/50\n",
      "188275/188275 [==============================] - 7s 40us/sample - loss: 0.2141 - accuracy: 0.9265 - val_loss: 0.2216 - val_accuracy: 0.9239\n",
      "Epoch 00022: early stopping\n"
     ]
    }
   ],
   "source": [
    "model0 = Sequential()\n",
    "model0.add(Dense(16, input_dim=X_train.shape[1], activation='relu'))\n",
    "model0.add(Dense(1,activation='sigmoid'))\n",
    "model0.compile(loss='binary_crossentropy', optimizer='adam', metrics=['accuracy'])\n",
    "\n",
    "monitor = EarlyStopping(monitor='val_loss', min_delta=1e-4, patience=5, verbose=1, mode='auto')\n",
    "r = model0.fit(X_train,y_train0,verbose=1, callbacks=[monitor],validation_split=0.2, epochs=50)\n",
    "\n"
   ]
  },
  {
   "cell_type": "code",
   "execution_count": 35,
   "id": "96d98fea",
   "metadata": {},
   "outputs": [
    {
     "name": "stdout",
     "output_type": "stream",
     "text": [
      "Accuracy : 0.927\n"
     ]
    },
    {
     "data": {
      "image/png": "[encoded data removed]",
      "text/plain": [
       "<Figure size 432x288 with 2 Axes>"
      ]
     },
     "metadata": {
      "needs_background": "light"
     },
     "output_type": "display_data"
    }
   ],
   "source": [
    "y_pred = model0.predict(X_test) > 0.5\n",
    "print(f'Accuracy : %.3f' % accuracy_score(y_test0, y_pred))\n",
    "\n",
    "cm = confusion_matrix(y_test0, y_pred)\n",
    "disp = ConfusionMatrixDisplay(cm)\n",
    "disp.plot()\n",
    "plt.show()"
   ]
  },
  {
   "cell_type": "markdown",
   "id": "2c6e78ac",
   "metadata": {},
   "source": [
    "Both confusion matrices for Random Forest and ANN are disappointing we possibly have to handle the imcalanced data"
   ]
  },
  {
   "cell_type": "markdown",
   "id": "98e2264c",
   "metadata": {},
   "source": [
    "[Back to top](#Content:)\n",
    "\n",
    "\n",
    "<a id='part4'></a>\n",
    "\n",
    "# Part 4 -  Class 0 vs All with balanced dataset"
   ]
  },
  {
   "cell_type": "code",
   "execution_count": 115,
   "id": "af21694b",
   "metadata": {},
   "outputs": [],
   "source": [
    "ynew = np.minimum(1, y)\n"
   ]
  },
  {
   "cell_type": "code",
   "execution_count": 116,
   "id": "7509b3ac",
   "metadata": {},
   "outputs": [
    {
     "name": "stdout",
     "output_type": "stream",
     "text": [
      "Class 0 appears 23250 times\n",
      "Class 1 appears 290543 times\n",
      "Ration of Class0 : 7.409343% \n"
     ]
    }
   ],
   "source": [
    "# Number of occurence of each class\n",
    "x0 = len(ynew[ynew==0])\n",
    "x1 = len(ynew) - x0\n",
    "    \n",
    "print(f'Class 0 appears {x0} times')\n",
    "print(f'Class 1 appears {x1} times')\n",
    "print('Ration of Class0 : {:%} '.format(x0/(x0+x1))  )"
   ]
  },
  {
   "cell_type": "code",
   "execution_count": 117,
   "id": "eda77673",
   "metadata": {},
   "outputs": [
    {
     "data": {
      "text/plain": [
       "array([0, 1])"
      ]
     },
     "execution_count": 117,
     "metadata": {},
     "output_type": "execute_result"
    }
   ],
   "source": [
    "## Creating new variables to work with\n",
    "np.unique(ynew)"
   ]
  },
  {
   "cell_type": "code",
   "execution_count": 118,
   "id": "e81d64de",
   "metadata": {},
   "outputs": [],
   "source": [
    "indices0 = np.argwhere(ynew ==0)[:,0]\n",
    "indices1 = np.argwhere(ynew ==1)[:,0]\n"
   ]
  },
  {
   "cell_type": "code",
   "execution_count": 119,
   "id": "54048766",
   "metadata": {},
   "outputs": [
    {
     "name": "stdout",
     "output_type": "stream",
     "text": [
      "len(indices0) : 23250\n",
      "len(indices1) : 290543\n"
     ]
    }
   ],
   "source": [
    "print('len(indices0) :', len(indices0))\n",
    "print('len(indices1) :', len(indices1))"
   ]
  },
  {
   "cell_type": "code",
   "execution_count": 120,
   "id": "8586b4b2",
   "metadata": {},
   "outputs": [],
   "source": [
    "import random\n",
    "# Shuffling indices\n",
    "m = len(indices0)\n",
    "random.shuffle(indices1)\n",
    "\n",
    "# Creating new training variables to work with\n",
    "X0 = X[indices0]\n",
    "y0 = ynew[indices0]\n",
    "X1 = X[indices1[:m]]\n",
    "y1 = ynew[indices1[:m]]"
   ]
  },
  {
   "cell_type": "code",
   "execution_count": 121,
   "id": "5356f215",
   "metadata": {},
   "outputs": [],
   "source": [
    "# New training data\n",
    "\n",
    "X_new = np.concatenate([X0,X1])\n",
    "y_new = np.concatenate([y0,y1])\n",
    "X_train_new, X_test_new, y_train_new, y_test_new = train_test_split(X_new, y_new, test_size=0.25, random_state=50)\n",
    "\n"
   ]
  },
  {
   "cell_type": "markdown",
   "id": "5d3dcc0f",
   "metadata": {},
   "source": [
    "[Back to top](#Content:)\n",
    "\n",
    "\n",
    "<a id='part5'></a>\n",
    "\n",
    "# Part 5 -  Random Forest Class 0 vs All balanced data"
   ]
  },
  {
   "cell_type": "markdown",
   "id": "6c74791a",
   "metadata": {},
   "source": [
    "### model"
   ]
  },
  {
   "cell_type": "code",
   "execution_count": 122,
   "id": "4390aa02",
   "metadata": {},
   "outputs": [
    {
     "data": {
      "text/plain": [
       "RandomForestClassifier(criterion='entropy', n_estimators=5)"
      ]
     },
     "execution_count": 122,
     "metadata": {},
     "output_type": "execute_result"
    }
   ],
   "source": [
    "# Instantiating and fitting the data\n",
    "forest = RandomForestClassifier(n_estimators=5, criterion='entropy')\n",
    "forest.fit(X_train_new, y_train_new)"
   ]
  },
  {
   "cell_type": "markdown",
   "id": "71f08977",
   "metadata": {},
   "source": [
    "### Performance on training set "
   ]
  },
  {
   "cell_type": "code",
   "execution_count": 123,
   "id": "440648c8",
   "metadata": {},
   "outputs": [
    {
     "name": "stdout",
     "output_type": "stream",
     "text": [
      "Accuracy : 0.966\n"
     ]
    },
    {
     "data": {
      "image/png": "[encoded data removed]",
      "text/plain": [
       "<Figure size 432x288 with 2 Axes>"
      ]
     },
     "metadata": {
      "needs_background": "light"
     },
     "output_type": "display_data"
    }
   ],
   "source": [
    "y_train_pred = forest.predict(X_train_new)\n",
    "print(f'Accuracy : %.3f' % accuracy_score(y_train_new, y_train_pred))\n",
    "\n",
    "cm = confusion_matrix(y_train_new, y_train_pred)\n",
    "disp = ConfusionMatrixDisplay(cm)\n",
    "disp.plot()\n",
    "plt.show()"
   ]
  },
  {
   "cell_type": "markdown",
   "id": "0d90ef36",
   "metadata": {},
   "source": [
    "### Performance on test set"
   ]
  },
  {
   "cell_type": "code",
   "execution_count": 124,
   "id": "5adc74e9",
   "metadata": {},
   "outputs": [
    {
     "name": "stdout",
     "output_type": "stream",
     "text": [
      "Accuracy : 0.687\n"
     ]
    },
    {
     "data": {
      "image/png": "[encoded data removed]",
      "text/plain": [
       "<Figure size 432x288 with 2 Axes>"
      ]
     },
     "metadata": {
      "needs_background": "light"
     },
     "output_type": "display_data"
    }
   ],
   "source": [
    "y_pred = forest.predict(X_test_new)\n",
    "print(f'Accuracy : %.3f' % accuracy_score(y_test_new, y_pred))\n",
    "\n",
    "cm = confusion_matrix(y_test_new, y_pred)\n",
    "disp = ConfusionMatrixDisplay(cm)\n",
    "disp.plot()\n",
    "plt.show()"
   ]
  },
  {
   "cell_type": "markdown",
   "id": "74dfe3c2",
   "metadata": {},
   "source": [
    "Even with balanced data the model didn't learn to generalise well, it looks like it succeds on training set but fails on test set"
   ]
  },
  {
   "cell_type": "markdown",
   "id": "b180110d",
   "metadata": {},
   "source": [
    "[Back to top](#Content:)\n",
    "\n",
    "\n",
    "<a id='part6'></a>\n",
    "\n",
    "# Part 6 -  ANN Class 0 vs All balanced data"
   ]
  },
  {
   "cell_type": "markdown",
   "id": "d1091960",
   "metadata": {},
   "source": [
    "### Model"
   ]
  },
  {
   "cell_type": "code",
   "execution_count": 153,
   "id": "a43c11ca",
   "metadata": {
    "scrolled": true
   },
   "outputs": [
    {
     "name": "stdout",
     "output_type": "stream",
     "text": [
      "Train on 27900 samples, validate on 6975 samples\n",
      "Epoch 1/150\n",
      "27900/27900 [==============================] - 2s 62us/sample - loss: 70.5173 - accuracy: 0.5063 - val_loss: 6.8300 - val_accuracy: 0.5137\n",
      "Epoch 2/150\n",
      "27900/27900 [==============================] - 1s 41us/sample - loss: 12.2560 - accuracy: 0.5104 - val_loss: 6.3296 - val_accuracy: 0.5130\n",
      "Epoch 3/150\n",
      "27900/27900 [==============================] - 1s 43us/sample - loss: 12.6191 - accuracy: 0.5125 - val_loss: 1.1652 - val_accuracy: 0.6443\n",
      "Epoch 4/150\n",
      "27900/27900 [==============================] - 1s 42us/sample - loss: 13.0991 - accuracy: 0.5280 - val_loss: 17.8351 - val_accuracy: 0.4996\n",
      "Epoch 5/150\n",
      "27900/27900 [==============================] - 1s 44us/sample - loss: 11.6394 - accuracy: 0.5293 - val_loss: 10.9500 - val_accuracy: 0.5110\n",
      "Epoch 6/150\n",
      "27900/27900 [==============================] - 1s 42us/sample - loss: 11.5222 - accuracy: 0.5272 - val_loss: 32.7711 - val_accuracy: 0.5068\n",
      "Epoch 7/150\n",
      "27900/27900 [==============================] - 1s 40us/sample - loss: 12.4537 - accuracy: 0.5323 - val_loss: 22.5437 - val_accuracy: 0.5018\n",
      "Epoch 8/150\n",
      "27900/27900 [==============================] - 1s 40us/sample - loss: 10.5003 - accuracy: 0.5434 - val_loss: 25.5312 - val_accuracy: 0.5111\n",
      "Epoch 9/150\n",
      "27900/27900 [==============================] - 1s 43us/sample - loss: 10.1805 - accuracy: 0.5425 - val_loss: 21.8243 - val_accuracy: 0.5027\n",
      "Epoch 10/150\n",
      "27900/27900 [==============================] - 1s 41us/sample - loss: 9.9984 - accuracy: 0.5493 - val_loss: 16.4458 - val_accuracy: 0.5201\n",
      "Epoch 11/150\n",
      "27900/27900 [==============================] - 1s 40us/sample - loss: 12.4050 - accuracy: 0.5395 - val_loss: 15.5658 - val_accuracy: 0.4982\n",
      "Epoch 12/150\n",
      "27900/27900 [==============================] - 1s 40us/sample - loss: 9.8184 - accuracy: 0.5506 - val_loss: 16.1117 - val_accuracy: 0.5041\n",
      "Epoch 13/150\n",
      "27900/27900 [==============================] - 1s 41us/sample - loss: 11.0307 - accuracy: 0.5505 - val_loss: 13.1966 - val_accuracy: 0.5194\n",
      "Epoch 14/150\n",
      "27900/27900 [==============================] - 1s 42us/sample - loss: 9.4536 - accuracy: 0.5594 - val_loss: 8.0498 - val_accuracy: 0.5705\n",
      "Epoch 15/150\n",
      "27900/27900 [==============================] - 1s 41us/sample - loss: 10.6269 - accuracy: 0.5518 - val_loss: 14.1071 - val_accuracy: 0.5130\n",
      "Epoch 16/150\n",
      "27900/27900 [==============================] - 1s 41us/sample - loss: 10.0638 - accuracy: 0.5572 - val_loss: 8.0000 - val_accuracy: 0.5497\n",
      "Epoch 17/150\n",
      "27900/27900 [==============================] - 1s 41us/sample - loss: 9.3864 - accuracy: 0.5641 - val_loss: 13.7964 - val_accuracy: 0.5272\n",
      "Epoch 18/150\n",
      "27900/27900 [==============================] - 1s 41us/sample - loss: 8.1378 - accuracy: 0.5748 - val_loss: 7.2823 - val_accuracy: 0.5748\n",
      "Epoch 19/150\n",
      "27900/27900 [==============================] - 1s 41us/sample - loss: 9.7852 - accuracy: 0.5626 - val_loss: 3.1744 - val_accuracy: 0.5748\n",
      "Epoch 20/150\n",
      "27900/27900 [==============================] - 1s 41us/sample - loss: 10.2411 - accuracy: 0.5619 - val_loss: 2.9014 - val_accuracy: 0.6241s: 10.3304 - accuracy: 0.561\n",
      "Epoch 21/150\n",
      "27900/27900 [==============================] - 1s 44us/sample - loss: 8.2692 - accuracy: 0.5739 - val_loss: 1.5104 - val_accuracy: 0.6915\n",
      "Epoch 22/150\n",
      "27900/27900 [==============================] - 1s 41us/sample - loss: 9.2532 - accuracy: 0.5667 - val_loss: 2.3577 - val_accuracy: 0.6153\n",
      "Epoch 23/150\n",
      "27900/27900 [==============================] - 1s 41us/sample - loss: 8.1553 - accuracy: 0.5787 - val_loss: 4.3344 - val_accuracy: 0.5351s - loss: 7.4668 - \n",
      "Epoch 24/150\n",
      "27900/27900 [==============================] - 1s 46us/sample - loss: 8.5836 - accuracy: 0.5697 - val_loss: 3.6278 - val_accuracy: 0.6264\n",
      "Epoch 25/150\n",
      "27900/27900 [==============================] - 1s 43us/sample - loss: 9.8755 - accuracy: 0.5651 - val_loss: 5.9682 - val_accuracy: 0.5839\n",
      "Epoch 26/150\n",
      "27900/27900 [==============================] - 1s 42us/sample - loss: 8.5463 - accuracy: 0.5735 - val_loss: 3.0446 - val_accuracy: 0.5894\n",
      "Epoch 27/150\n",
      "27900/27900 [==============================] - 1s 40us/sample - loss: 7.2762 - accuracy: 0.5833 - val_loss: 1.8650 - val_accuracy: 0.6618\n",
      "Epoch 28/150\n",
      "27900/27900 [==============================] - 1s 43us/sample - loss: 9.3504 - accuracy: 0.5722 - val_loss: 1.6810 - val_accuracy: 0.6906\n",
      "Epoch 29/150\n",
      "27900/27900 [==============================] - 1s 41us/sample - loss: 8.1330 - accuracy: 0.5822 - val_loss: 17.5618 - val_accuracy: 0.5074\n",
      "Epoch 30/150\n",
      "27900/27900 [==============================] - 1s 41us/sample - loss: 8.8344 - accuracy: 0.5735 - val_loss: 2.3469 - val_accuracy: 0.6285\n",
      "Epoch 31/150\n",
      "27900/27900 [==============================] - 1s 41us/sample - loss: 8.7078 - accuracy: 0.5757 - val_loss: 9.8653 - val_accuracy: 0.5247\n",
      "Epoch 32/150\n",
      "27900/27900 [==============================] - 1s 41us/sample - loss: 8.6515 - accuracy: 0.5722 - val_loss: 6.5365 - val_accuracy: 0.5459\n",
      "Epoch 33/150\n",
      "27900/27900 [==============================] - 1s 41us/sample - loss: 6.7094 - accuracy: 0.5907 - val_loss: 2.4584 - val_accuracy: 0.6572\n",
      "Epoch 34/150\n",
      "27900/27900 [==============================] - 1s 41us/sample - loss: 8.5848 - accuracy: 0.5794 - val_loss: 21.4352 - val_accuracy: 0.5055\n",
      "Epoch 35/150\n",
      "27900/27900 [==============================] - 1s 41us/sample - loss: 7.1439 - accuracy: 0.5913 - val_loss: 7.2268 - val_accuracy: 0.5858\n",
      "Epoch 36/150\n",
      "27900/27900 [==============================] - 1s 41us/sample - loss: 7.2724 - accuracy: 0.5824 - val_loss: 3.7973 - val_accuracy: 0.6255\n",
      "Epoch 37/150\n",
      "27900/27900 [==============================] - 1s 41us/sample - loss: 9.2063 - accuracy: 0.5735 - val_loss: 7.2048 - val_accuracy: 0.5358\n",
      "Epoch 38/150\n",
      "27900/27900 [==============================] - 1s 41us/sample - loss: 6.8903 - accuracy: 0.5901 - val_loss: 2.7466 - val_accuracy: 0.6135\n",
      "Epoch 39/150\n",
      "27900/27900 [==============================] - 1s 41us/sample - loss: 9.6014 - accuracy: 0.5771 - val_loss: 13.9850 - val_accuracy: 0.5125\n",
      "Epoch 40/150\n",
      "27900/27900 [==============================] - 1s 41us/sample - loss: 7.7663 - accuracy: 0.5799 - val_loss: 18.5150 - val_accuracy: 0.5127\n",
      "Epoch 41/150\n",
      "27900/27900 [==============================] - 1s 41us/sample - loss: 7.5993 - accuracy: 0.5896 - val_loss: 1.9299 - val_accuracy: 0.6923\n",
      "Epoch 42/150\n",
      "27900/27900 [==============================] - 1s 43us/sample - loss: 7.2520 - accuracy: 0.5970 - val_loss: 11.5843 - val_accuracy: 0.5237\n",
      "Epoch 43/150\n",
      "27900/27900 [==============================] - 1s 41us/sample - loss: 8.7202 - accuracy: 0.5838 - val_loss: 6.5193 - val_accuracy: 0.5878\n",
      "Epoch 44/150\n",
      "27900/27900 [==============================] - 1s 41us/sample - loss: 7.0829 - accuracy: 0.5938 - val_loss: 13.3381 - val_accuracy: 0.5442\n",
      "Epoch 45/150\n",
      "27900/27900 [==============================] - 1s 41us/sample - loss: 8.9792 - accuracy: 0.5815 - val_loss: 9.1946 - val_accuracy: 0.5135\n",
      "Epoch 46/150\n",
      "27900/27900 [==============================] - 1s 41us/sample - loss: 7.2801 - accuracy: 0.5932 - val_loss: 13.6371 - val_accuracy: 0.5127\n",
      "Epoch 47/150\n",
      "27900/27900 [==============================] - 1s 41us/sample - loss: 10.2944 - accuracy: 0.5785 - val_loss: 2.6020 - val_accuracy: 0.6671\n",
      "Epoch 48/150\n",
      "27900/27900 [==============================] - 1s 41us/sample - loss: 8.4623 - accuracy: 0.5887 - val_loss: 1.7552 - val_accuracy: 0.6982\n",
      "Epoch 49/150\n",
      "27900/27900 [==============================] - 1s 42us/sample - loss: 7.4111 - accuracy: 0.5923 - val_loss: 25.1030 - val_accuracy: 0.5057\n",
      "Epoch 50/150\n",
      "27900/27900 [==============================] - 1s 41us/sample - loss: 8.9770 - accuracy: 0.5936 - val_loss: 3.5094 - val_accuracy: 0.5890\n",
      "Epoch 51/150\n",
      "27900/27900 [==============================] - 1s 41us/sample - loss: 6.7115 - accuracy: 0.6005 - val_loss: 3.1242 - val_accuracy: 0.6516\n",
      "Epoch 52/150\n",
      "27900/27900 [==============================] - 1s 41us/sample - loss: 7.6857 - accuracy: 0.5928 - val_loss: 4.0630 - val_accuracy: 0.5676\n",
      "Epoch 53/150\n",
      "27900/27900 [==============================] - 1s 41us/sample - loss: 6.8305 - accuracy: 0.5923 - val_loss: 18.8440 - val_accuracy: 0.5027\n",
      "Epoch 54/150\n",
      "27900/27900 [==============================] - 1s 40us/sample - loss: 8.2329 - accuracy: 0.5902 - val_loss: 3.3801 - val_accuracy: 0.6409\n",
      "Epoch 55/150\n",
      "27900/27900 [==============================] - 1s 40us/sample - loss: 9.2423 - accuracy: 0.5886 - val_loss: 3.4374 - val_accuracy: 0.6439\n",
      "Epoch 56/150\n",
      "27900/27900 [==============================] - 1s 41us/sample - loss: 8.6414 - accuracy: 0.5880 - val_loss: 6.9817 - val_accuracy: 0.5525\n",
      "Epoch 57/150\n",
      "27900/27900 [==============================] - 1s 40us/sample - loss: 7.0915 - accuracy: 0.5980 - val_loss: 6.1245 - val_accuracy: 0.5448\n",
      "Epoch 58/150\n",
      "27900/27900 [==============================] - 1s 40us/sample - loss: 9.2440 - accuracy: 0.5888 - val_loss: 6.3238 - val_accuracy: 0.6050\n",
      "Epoch 59/150\n",
      "27900/27900 [==============================] - 1s 40us/sample - loss: 5.9040 - accuracy: 0.6042 - val_loss: 6.0427 - val_accuracy: 0.5994\n",
      "Epoch 60/150\n",
      "27900/27900 [==============================] - 1s 40us/sample - loss: 10.6082 - accuracy: 0.5748 - val_loss: 6.0717 - val_accuracy: 0.6089\n",
      "Epoch 61/150\n",
      "27900/27900 [==============================] - 1s 40us/sample - loss: 6.8186 - accuracy: 0.5982 - val_loss: 1.9331 - val_accuracy: 0.6951\n",
      "Epoch 62/150\n",
      "27900/27900 [==============================] - 1s 40us/sample - loss: 8.0938 - accuracy: 0.5898 - val_loss: 1.8441 - val_accuracy: 0.6903\n",
      "Epoch 63/150\n",
      "27900/27900 [==============================] - 1s 40us/sample - loss: 7.0934 - accuracy: 0.5988 - val_loss: 12.6042 - val_accuracy: 0.5622\n",
      "Epoch 64/150\n",
      "27900/27900 [==============================] - 1s 40us/sample - loss: 7.6063 - accuracy: 0.5920 - val_loss: 1.8692 - val_accuracy: 0.6880\n",
      "Epoch 65/150\n",
      "27900/27900 [==============================] - 1s 40us/sample - loss: 6.6651 - accuracy: 0.5991 - val_loss: 2.0617 - val_accuracy: 0.6674\n",
      "Epoch 66/150\n",
      "27900/27900 [==============================] - 1s 40us/sample - loss: 9.3237 - accuracy: 0.5840 - val_loss: 2.9095 - val_accuracy: 0.6212\n",
      "Epoch 67/150\n",
      "27900/27900 [==============================] - 1s 40us/sample - loss: 6.5586 - accuracy: 0.5980 - val_loss: 4.8317 - val_accuracy: 0.6234\n",
      "Epoch 68/150\n",
      "27900/27900 [==============================] - 1s 41us/sample - loss: 7.6562 - accuracy: 0.5972 - val_loss: 6.4039 - val_accuracy: 0.5518\n",
      "Epoch 69/150\n",
      "27900/27900 [==============================] - 1s 41us/sample - loss: 6.5921 - accuracy: 0.6014 - val_loss: 6.4352 - val_accuracy: 0.5452\n",
      "Epoch 70/150\n",
      "27900/27900 [==============================] - 1s 43us/sample - loss: 8.8066 - accuracy: 0.5929 - val_loss: 16.0735 - val_accuracy: 0.5544\n",
      "Epoch 71/150\n",
      "27900/27900 [==============================] - 1s 40us/sample - loss: 6.1026 - accuracy: 0.6108 - val_loss: 18.0181 - val_accuracy: 0.5064\n",
      "Epoch 72/150\n",
      "27900/27900 [==============================] - 1s 40us/sample - loss: 7.2432 - accuracy: 0.6008 - val_loss: 6.3480 - val_accuracy: 0.6072\n",
      "Epoch 73/150\n",
      "27900/27900 [==============================] - 1s 40us/sample - loss: 7.9209 - accuracy: 0.5922 - val_loss: 23.7017 - val_accuracy: 0.5319\n",
      "Epoch 74/150\n",
      "27900/27900 [==============================] - 1s 40us/sample - loss: 7.0519 - accuracy: 0.5920 - val_loss: 2.4301 - val_accuracy: 0.6485\n",
      "Epoch 75/150\n",
      "27900/27900 [==============================] - 1s 40us/sample - loss: 7.9130 - accuracy: 0.5919 - val_loss: 6.3151 - val_accuracy: 0.5967\n",
      "Epoch 76/150\n",
      "27900/27900 [==============================] - 1s 40us/sample - loss: 6.6175 - accuracy: 0.6006 - val_loss: 8.0287 - val_accuracy: 0.5352\n",
      "Epoch 77/150\n",
      "27900/27900 [==============================] - 1s 40us/sample - loss: 7.7419 - accuracy: 0.5970 - val_loss: 20.7780 - val_accuracy: 0.5391\n",
      "Epoch 78/150\n",
      "27900/27900 [==============================] - 1s 41us/sample - loss: 7.4561 - accuracy: 0.5970 - val_loss: 3.8888 - val_accuracy: 0.5970\n",
      "Epoch 79/150\n",
      "27900/27900 [==============================] - 1s 41us/sample - loss: 6.8754 - accuracy: 0.6012 - val_loss: 10.9708 - val_accuracy: 0.5262\n",
      "Epoch 80/150\n",
      "27900/27900 [==============================] - 1s 41us/sample - loss: 8.2823 - accuracy: 0.5975 - val_loss: 7.9087 - val_accuracy: 0.5366\n",
      "Epoch 81/150\n",
      "27900/27900 [==============================] - 1s 41us/sample - loss: 6.8653 - accuracy: 0.5998 - val_loss: 35.5295 - val_accuracy: 0.5018\n",
      "Epoch 82/150\n",
      "27900/27900 [==============================] - 1s 40us/sample - loss: 9.8606 - accuracy: 0.5905 - val_loss: 9.4013 - val_accuracy: 0.5769\n",
      "Epoch 83/150\n",
      "27900/27900 [==============================] - 1s 41us/sample - loss: 7.7594 - accuracy: 0.6026 - val_loss: 2.7337 - val_accuracy: 0.6691\n",
      "Epoch 84/150\n",
      "27900/27900 [==============================] - 1s 42us/sample - loss: 7.4540 - accuracy: 0.6051 - val_loss: 23.8020 - val_accuracy: 0.5018\n",
      "Epoch 85/150\n",
      "27900/27900 [==============================] - 1s 41us/sample - loss: 8.3367 - accuracy: 0.5944 - val_loss: 8.2442 - val_accuracy: 0.5256\n",
      "Epoch 86/150\n",
      "27900/27900 [==============================] - 1s 41us/sample - loss: 8.1071 - accuracy: 0.5939 - val_loss: 5.7580 - val_accuracy: 0.5650\n",
      "Epoch 87/150\n",
      "27900/27900 [==============================] - 1s 41us/sample - loss: 8.4968 - accuracy: 0.5961 - val_loss: 1.9163 - val_accuracy: 0.7001\n",
      "Epoch 88/150\n",
      "27900/27900 [==============================] - 1s 41us/sample - loss: 7.5231 - accuracy: 0.5982 - val_loss: 3.5280 - val_accuracy: 0.6039\n",
      "Epoch 89/150\n",
      "27900/27900 [==============================] - 1s 41us/sample - loss: 7.8368 - accuracy: 0.5949 - val_loss: 5.7927 - val_accuracy: 0.5492\n",
      "Epoch 90/150\n",
      "27900/27900 [==============================] - 1s 41us/sample - loss: 7.7428 - accuracy: 0.5959 - val_loss: 8.7850 - val_accuracy: 0.5396\n",
      "Epoch 91/150\n",
      "27900/27900 [==============================] - 1s 41us/sample - loss: 7.5835 - accuracy: 0.5936 - val_loss: 5.4454 - val_accuracy: 0.6216\n",
      "Epoch 92/150\n",
      "27900/27900 [==============================] - 1s 41us/sample - loss: 9.9495 - accuracy: 0.5842 - val_loss: 12.5409 - val_accuracy: 0.5193\n",
      "Epoch 93/150\n",
      "27900/27900 [==============================] - 1s 41us/sample - loss: 6.3578 - accuracy: 0.6061 - val_loss: 4.9924 - val_accuracy: 0.6222\n",
      "Epoch 94/150\n",
      "27900/27900 [==============================] - 1s 41us/sample - loss: 8.1242 - accuracy: 0.5952 - val_loss: 4.3780 - val_accuracy: 0.5799\n",
      "Epoch 95/150\n",
      "27900/27900 [==============================] - 1s 41us/sample - loss: 7.5125 - accuracy: 0.5991 - val_loss: 4.1899 - val_accuracy: 0.6373\n",
      "Epoch 96/150\n",
      "27900/27900 [==============================] - 1s 41us/sample - loss: 7.1710 - accuracy: 0.5998 - val_loss: 3.3163 - val_accuracy: 0.6214\n",
      "Epoch 97/150\n",
      "27900/27900 [==============================] - 1s 41us/sample - loss: 6.1849 - accuracy: 0.6089 - val_loss: 2.0298 - val_accuracy: 0.6935\n",
      "Epoch 98/150\n",
      "27900/27900 [==============================] - 1s 42us/sample - loss: 8.1884 - accuracy: 0.5959 - val_loss: 9.0237 - val_accuracy: 0.5765\n",
      "Epoch 99/150\n",
      "27900/27900 [==============================] - 1s 41us/sample - loss: 9.3354 - accuracy: 0.5878 - val_loss: 3.5024 - val_accuracy: 0.6424\n",
      "Epoch 100/150\n",
      "27900/27900 [==============================] - 1s 41us/sample - loss: 7.8875 - accuracy: 0.6011 - val_loss: 46.4311 - val_accuracy: 0.5005\n",
      "Epoch 101/150\n",
      "27900/27900 [==============================] - 1s 41us/sample - loss: 8.0299 - accuracy: 0.5947 - val_loss: 2.9353 - val_accuracy: 0.6297\n",
      "Epoch 102/150\n",
      "27900/27900 [==============================] - 1s 41us/sample - loss: 7.1739 - accuracy: 0.6025 - val_loss: 6.1319 - val_accuracy: 0.5540\n",
      "Epoch 103/150\n",
      "27900/27900 [==============================] - 1s 41us/sample - loss: 7.5678 - accuracy: 0.6006 - val_loss: 2.3229 - val_accuracy: 0.6648\n",
      "Epoch 104/150\n",
      "27900/27900 [==============================] - 1s 41us/sample - loss: 8.4232 - accuracy: 0.5954 - val_loss: 3.0391 - val_accuracy: 0.6594\n",
      "Epoch 105/150\n",
      "27900/27900 [==============================] - 1s 41us/sample - loss: 6.7937 - accuracy: 0.6041 - val_loss: 12.2170 - val_accuracy: 0.5234\n",
      "Epoch 106/150\n",
      "27900/27900 [==============================] - 1s 41us/sample - loss: 6.4467 - accuracy: 0.6106 - val_loss: 2.7363 - val_accuracy: 0.6658\n",
      "Epoch 107/150\n",
      "27900/27900 [==============================] - 1s 41us/sample - loss: 8.0040 - accuracy: 0.5947 - val_loss: 2.3106 - val_accuracy: 0.6849\n",
      "Epoch 108/150\n"
     ]
    },
    {
     "name": "stdout",
     "output_type": "stream",
     "text": [
      "27900/27900 [==============================] - 1s 40us/sample - loss: 7.1979 - accuracy: 0.6052 - val_loss: 4.0217 - val_accuracy: 0.6389\n",
      "Epoch 109/150\n",
      "27900/27900 [==============================] - 1s 40us/sample - loss: 8.6768 - accuracy: 0.5971 - val_loss: 6.1130 - val_accuracy: 0.6062\n",
      "Epoch 110/150\n",
      "27900/27900 [==============================] - 1s 40us/sample - loss: 6.1350 - accuracy: 0.6084 - val_loss: 3.3498 - val_accuracy: 0.6075\n",
      "Epoch 111/150\n",
      "27900/27900 [==============================] - 1s 40us/sample - loss: 6.6201 - accuracy: 0.6092 - val_loss: 2.0754 - val_accuracy: 0.6935\n",
      "Epoch 112/150\n",
      "27900/27900 [==============================] - 1s 41us/sample - loss: 7.1397 - accuracy: 0.5977 - val_loss: 3.4262 - val_accuracy: 0.6508\n",
      "Epoch 113/150\n",
      "27900/27900 [==============================] - 1s 40us/sample - loss: 6.4888 - accuracy: 0.6105 - val_loss: 10.7994 - val_accuracy: 0.5351\n",
      "Epoch 114/150\n",
      "27900/27900 [==============================] - 1s 40us/sample - loss: 7.4543 - accuracy: 0.5942 - val_loss: 5.7747 - val_accuracy: 0.6149\n",
      "Epoch 115/150\n",
      "27900/27900 [==============================] - 1s 42us/sample - loss: 8.4306 - accuracy: 0.5987 - val_loss: 2.6599 - val_accuracy: 0.6731\n",
      "Epoch 116/150\n",
      "27900/27900 [==============================] - 1s 43us/sample - loss: 6.9411 - accuracy: 0.6039 - val_loss: 5.6457 - val_accuracy: 0.6106\n",
      "Epoch 117/150\n",
      "27900/27900 [==============================] - 1s 42us/sample - loss: 8.1569 - accuracy: 0.5876 - val_loss: 20.2404 - val_accuracy: 0.5315\n",
      "Epoch 118/150\n",
      "27900/27900 [==============================] - 1s 42us/sample - loss: 8.7928 - accuracy: 0.5885 - val_loss: 3.5177 - val_accuracy: 0.6079\n",
      "Epoch 119/150\n",
      "27900/27900 [==============================] - 1s 43us/sample - loss: 7.2186 - accuracy: 0.5981 - val_loss: 28.7542 - val_accuracy: 0.5088\n",
      "Epoch 120/150\n",
      "27900/27900 [==============================] - 1s 43us/sample - loss: 7.3493 - accuracy: 0.5992 - val_loss: 3.2386 - val_accuracy: 0.6591\n",
      "Epoch 121/150\n",
      "27900/27900 [==============================] - 1s 42us/sample - loss: 7.0115 - accuracy: 0.6059 - val_loss: 7.5840 - val_accuracy: 0.5983\n",
      "Epoch 122/150\n",
      "27900/27900 [==============================] - 1s 42us/sample - loss: 6.5597 - accuracy: 0.6084 - val_loss: 3.9247 - val_accuracy: 0.6469\n",
      "Epoch 123/150\n",
      "27900/27900 [==============================] - 1s 42us/sample - loss: 7.6068 - accuracy: 0.6026 - val_loss: 1.9633 - val_accuracy: 0.6926\n",
      "Epoch 124/150\n",
      "27900/27900 [==============================] - 1s 41us/sample - loss: 7.9407 - accuracy: 0.5983 - val_loss: 9.8741 - val_accuracy: 0.5352\n",
      "Epoch 125/150\n",
      "27900/27900 [==============================] - 1s 42us/sample - loss: 7.4385 - accuracy: 0.6044 - val_loss: 2.1285 - val_accuracy: 0.6887\n",
      "Epoch 126/150\n",
      "27900/27900 [==============================] - 1s 44us/sample - loss: 6.6461 - accuracy: 0.6112 - val_loss: 2.3250 - val_accuracy: 0.6612\n",
      "Epoch 127/150\n",
      "27900/27900 [==============================] - 1s 41us/sample - loss: 6.0191 - accuracy: 0.6156 - val_loss: 5.4755 - val_accuracy: 0.5663\n",
      "Epoch 128/150\n",
      "27900/27900 [==============================] - 1s 41us/sample - loss: 7.3016 - accuracy: 0.6025 - val_loss: 1.9244 - val_accuracy: 0.6965\n",
      "Epoch 129/150\n",
      "27900/27900 [==============================] - 1s 41us/sample - loss: 5.8527 - accuracy: 0.6142 - val_loss: 3.6041 - val_accuracy: 0.6479\n",
      "Epoch 130/150\n",
      "27900/27900 [==============================] - 1s 41us/sample - loss: 6.9139 - accuracy: 0.6039 - val_loss: 11.2413 - val_accuracy: 0.5233\n",
      "Epoch 131/150\n",
      "27900/27900 [==============================] - 1s 41us/sample - loss: 7.7815 - accuracy: 0.6007 - val_loss: 4.6231 - val_accuracy: 0.6274\n",
      "Epoch 132/150\n",
      "27900/27900 [==============================] - 1s 41us/sample - loss: 6.8752 - accuracy: 0.6025 - val_loss: 2.6341 - val_accuracy: 0.6439\n",
      "Epoch 133/150\n",
      "27900/27900 [==============================] - 1s 41us/sample - loss: 10.0323 - accuracy: 0.5824 - val_loss: 15.6794 - val_accuracy: 0.5222\n",
      "Epoch 134/150\n",
      "27900/27900 [==============================] - 1s 41us/sample - loss: 6.0863 - accuracy: 0.6117 - val_loss: 6.5714 - val_accuracy: 0.5376\n",
      "Epoch 135/150\n",
      "27900/27900 [==============================] - 1s 41us/sample - loss: 6.6845 - accuracy: 0.6096 - val_loss: 8.9178 - val_accuracy: 0.5755\n",
      "Epoch 136/150\n",
      "27900/27900 [==============================] - 1s 42us/sample - loss: 7.0352 - accuracy: 0.6032 - val_loss: 18.2890 - val_accuracy: 0.5120\n",
      "Epoch 137/150\n",
      "27900/27900 [==============================] - 1s 45us/sample - loss: 6.3907 - accuracy: 0.6083 - val_loss: 7.4139 - val_accuracy: 0.5523\n",
      "Epoch 138/150\n",
      "27900/27900 [==============================] - 1s 44us/sample - loss: 8.8155 - accuracy: 0.5938 - val_loss: 2.1112 - val_accuracy: 0.6780\n",
      "Epoch 139/150\n",
      "27900/27900 [==============================] - 1s 42us/sample - loss: 7.1181 - accuracy: 0.6052 - val_loss: 33.2258 - val_accuracy: 0.5016\n",
      "Epoch 140/150\n",
      "27900/27900 [==============================] - 1s 43us/sample - loss: 6.0741 - accuracy: 0.6128 - val_loss: 5.2184 - val_accuracy: 0.5720\n",
      "Epoch 141/150\n",
      "27900/27900 [==============================] - 1s 42us/sample - loss: 6.7111 - accuracy: 0.6031 - val_loss: 2.9929 - val_accuracy: 0.6627\n",
      "Epoch 142/150\n",
      "27900/27900 [==============================] - 1s 42us/sample - loss: 6.9151 - accuracy: 0.6068 - val_loss: 6.8839 - val_accuracy: 0.6040\n",
      "Epoch 143/150\n",
      "27900/27900 [==============================] - 1s 42us/sample - loss: 6.6917 - accuracy: 0.6050 - val_loss: 6.5666 - val_accuracy: 0.5984\n",
      "Epoch 144/150\n",
      "27900/27900 [==============================] - 1s 42us/sample - loss: 5.8126 - accuracy: 0.6113 - val_loss: 6.0250 - val_accuracy: 0.6168\n",
      "Epoch 145/150\n",
      "27900/27900 [==============================] - 1s 42us/sample - loss: 9.2597 - accuracy: 0.5897 - val_loss: 7.5971 - val_accuracy: 0.6017\n",
      "Epoch 146/150\n",
      "27900/27900 [==============================] - 1s 42us/sample - loss: 6.7869 - accuracy: 0.6120 - val_loss: 4.8006 - val_accuracy: 0.6284\n",
      "Epoch 147/150\n",
      "27900/27900 [==============================] - 1s 42us/sample - loss: 8.0239 - accuracy: 0.5932 - val_loss: 11.5316 - val_accuracy: 0.5352\n",
      "Epoch 148/150\n",
      "27900/27900 [==============================] - 1s 42us/sample - loss: 6.9280 - accuracy: 0.6047 - val_loss: 7.8475 - val_accuracy: 0.5953\n",
      "Epoch 149/150\n",
      "27900/27900 [==============================] - 1s 42us/sample - loss: 8.0009 - accuracy: 0.5992 - val_loss: 13.0752 - val_accuracy: 0.5574\n",
      "Epoch 150/150\n",
      "27900/27900 [==============================] - 1s 42us/sample - loss: 5.8795 - accuracy: 0.6124 - val_loss: 3.6740 - val_accuracy: 0.6466\n"
     ]
    }
   ],
   "source": [
    "from tensorflow.keras.optimizers import Adam\n",
    "from tensorflow.keras import regularizers\n",
    "\n",
    "model = Sequential()\n",
    "model.add(Dense(32, input_dim=X_train_new.shape[1], activation='relu'))\n",
    "model.add(Dense(1,activation='sigmoid'))\n",
    "opt = Adam(learning_rate=0.0005)\n",
    "model.compile(loss='binary_crossentropy', optimizer=opt, metrics=['accuracy'])\n",
    "\n",
    "r = model.fit(X_train_new,y_train_new,verbose=1,validation_split=0.2, epochs=150)\n",
    "\n"
   ]
  },
  {
   "cell_type": "markdown",
   "id": "02521187",
   "metadata": {},
   "source": [
    "### Performance on test set"
   ]
  },
  {
   "cell_type": "code",
   "execution_count": 154,
   "id": "957f034a",
   "metadata": {},
   "outputs": [
    {
     "name": "stdout",
     "output_type": "stream",
     "text": [
      "Accuracy : 0.647\n"
     ]
    },
    {
     "data": {
      "image/png": "[encoded data removed]",
      "text/plain": [
       "<Figure size 432x288 with 2 Axes>"
      ]
     },
     "metadata": {
      "needs_background": "light"
     },
     "output_type": "display_data"
    }
   ],
   "source": [
    "y_pred = model.predict(X_test_new) \n",
    "y_pred = 1*(y_pred > 0.5)\n",
    "print(f'Accuracy : %.3f' % accuracy_score(y_test_new, y_pred))\n",
    "\n",
    "cm = confusion_matrix(y_test_new, y_pred)\n",
    "disp = ConfusionMatrixDisplay(cm)\n",
    "disp.plot()\n",
    "plt.show()"
   ]
  },
  {
   "cell_type": "code",
   "execution_count": 158,
   "id": "10dfb256",
   "metadata": {},
   "outputs": [
    {
     "data": {
      "image/png": "[encoded data removed]",
      "text/plain": [
       "<Figure size 432x432 with 2 Axes>"
      ]
     },
     "metadata": {
      "needs_background": "light"
     },
     "output_type": "display_data"
    }
   ],
   "source": [
    "# Plotting\n",
    "plt.figure(figsize=(6,6))\n",
    "\n",
    "plt.plot(r.history['loss'])\n",
    "plt.title('Model loss')\n",
    "plt.ylabel('Loss')\n",
    "plt.legend(['Loss'], loc='upper left')\n",
    "plt.xlabel('Epoch')\n",
    "\n",
    "plt2=plt.twinx()\n",
    "plt2.plot(r.history['val_loss'], color='orange')\n",
    "plt2.legend(['Val_Loss'], loc='center left')\n",
    "\n",
    "\n",
    "\n",
    "plt.show()\n"
   ]
  },
  {
   "cell_type": "markdown",
   "id": "671514a0",
   "metadata": {},
   "source": [
    "Accuracy of the Neural network is lower than Random Forest"
   ]
  },
  {
   "cell_type": "markdown",
   "id": "f7094355",
   "metadata": {},
   "source": [
    "[Back to top](#Content:)\n",
    "\n",
    "\n",
    "<a id='part7'></a>\n",
    "\n",
    "# Part 7 -  ANN 2 hidden layers Class 0 vs All balanced data"
   ]
  },
  {
   "cell_type": "code",
   "execution_count": 167,
   "id": "15b8144f",
   "metadata": {},
   "outputs": [
    {
     "name": "stdout",
     "output_type": "stream",
     "text": [
      "Train on 27900 samples, validate on 6975 samples\n",
      "Epoch 1/150\n",
      "27900/27900 [==============================] - 2s 68us/sample - loss: 65.8645 - accuracy: 0.5004 - val_loss: 47.1815 - val_accuracy: 0.5052\n",
      "Epoch 2/150\n",
      "27900/27900 [==============================] - 1s 47us/sample - loss: 17.2065 - accuracy: 0.5062 - val_loss: 33.1616 - val_accuracy: 0.5057\n",
      "Epoch 3/150\n",
      "27900/27900 [==============================] - 1s 44us/sample - loss: 17.6480 - accuracy: 0.5046 - val_loss: 27.0411 - val_accuracy: 0.4973\n",
      "Epoch 4/150\n",
      "27900/27900 [==============================] - 1s 44us/sample - loss: 13.8505 - accuracy: 0.5118 - val_loss: 1.7113 - val_accuracy: 0.5471\n",
      "Epoch 5/150\n",
      "27900/27900 [==============================] - 1s 48us/sample - loss: 15.0562 - accuracy: 0.5091 - val_loss: 9.8004 - val_accuracy: 0.4975\n",
      "Epoch 6/150\n",
      "27900/27900 [==============================] - 1s 47us/sample - loss: 15.3020 - accuracy: 0.5136 - val_loss: 13.5727 - val_accuracy: 0.4978\n",
      "Epoch 7/150\n",
      "27900/27900 [==============================] - 1s 45us/sample - loss: 13.6137 - accuracy: 0.5131 - val_loss: 1.8747 - val_accuracy: 0.5589\n",
      "Epoch 8/150\n",
      "27900/27900 [==============================] - 1s 46us/sample - loss: 11.9920 - accuracy: 0.5227 - val_loss: 7.6126 - val_accuracy: 0.5214\n",
      "Epoch 9/150\n",
      "27900/27900 [==============================] - 1s 45us/sample - loss: 13.1445 - accuracy: 0.5202 - val_loss: 17.9071 - val_accuracy: 0.5008\n",
      "Epoch 10/150\n",
      "27900/27900 [==============================] - 1s 45us/sample - loss: 10.3797 - accuracy: 0.5291 - val_loss: 30.4028 - val_accuracy: 0.5052\n",
      "Epoch 11/150\n",
      "27900/27900 [==============================] - 1s 46us/sample - loss: 15.4241 - accuracy: 0.5241 - val_loss: 2.4653 - val_accuracy: 0.5994\n",
      "Epoch 12/150\n",
      "27900/27900 [==============================] - 1s 47us/sample - loss: 11.0873 - accuracy: 0.5278 - val_loss: 26.7507 - val_accuracy: 0.5108\n",
      "Epoch 13/150\n",
      "27900/27900 [==============================] - 1s 46us/sample - loss: 11.9722 - accuracy: 0.5265 - val_loss: 2.9740 - val_accuracy: 0.5776\n",
      "Epoch 14/150\n",
      "27900/27900 [==============================] - 1s 45us/sample - loss: 12.7904 - accuracy: 0.5359 - val_loss: 9.3411 - val_accuracy: 0.5016\n",
      "Epoch 15/150\n",
      "27900/27900 [==============================] - 1s 45us/sample - loss: 11.3693 - accuracy: 0.5348 - val_loss: 13.0297 - val_accuracy: 0.4991\n",
      "Epoch 16/150\n",
      "27900/27900 [==============================] - 1s 46us/sample - loss: 9.4952 - accuracy: 0.5400 - val_loss: 25.6202 - val_accuracy: 0.5147\n",
      "Epoch 17/150\n",
      "27900/27900 [==============================] - 1s 46us/sample - loss: 11.9671 - accuracy: 0.5386 - val_loss: 17.8279 - val_accuracy: 0.5249\n",
      "Epoch 18/150\n",
      "27900/27900 [==============================] - 1s 47us/sample - loss: 9.2211 - accuracy: 0.5464 - val_loss: 1.8319 - val_accuracy: 0.6343\n",
      "Epoch 19/150\n",
      "27900/27900 [==============================] - 1s 46us/sample - loss: 11.4576 - accuracy: 0.5344 - val_loss: 6.4327 - val_accuracy: 0.5434\n",
      "Epoch 20/150\n",
      "27900/27900 [==============================] - 1s 45us/sample - loss: 10.3653 - accuracy: 0.5433 - val_loss: 1.2604 - val_accuracy: 0.6698\n",
      "Epoch 21/150\n",
      "27900/27900 [==============================] - 1s 47us/sample - loss: 9.8307 - accuracy: 0.5481 - val_loss: 6.0077 - val_accuracy: 0.5442\n",
      "Epoch 22/150\n",
      "27900/27900 [==============================] - 1s 47us/sample - loss: 9.2994 - accuracy: 0.5508 - val_loss: 10.5731 - val_accuracy: 0.5415\n",
      "Epoch 23/150\n",
      "27900/27900 [==============================] - 1s 48us/sample - loss: 9.2225 - accuracy: 0.5467 - val_loss: 2.8989 - val_accuracy: 0.5497\n",
      "Epoch 24/150\n",
      "27900/27900 [==============================] - 1s 48us/sample - loss: 10.4532 - accuracy: 0.5398 - val_loss: 1.5319 - val_accuracy: 0.6486\n",
      "Epoch 25/150\n",
      "27900/27900 [==============================] - 1s 46us/sample - loss: 7.8503 - accuracy: 0.5602 - val_loss: 4.4005 - val_accuracy: 0.5318\n",
      "Epoch 26/150\n",
      "27900/27900 [==============================] - 1s 45us/sample - loss: 8.3396 - accuracy: 0.5571 - val_loss: 4.0919 - val_accuracy: 0.5884\n",
      "Epoch 27/150\n",
      "27900/27900 [==============================] - 1s 48us/sample - loss: 10.2793 - accuracy: 0.5523 - val_loss: 42.1770 - val_accuracy: 0.5107\n",
      "Epoch 28/150\n",
      "27900/27900 [==============================] - 1s 46us/sample - loss: 10.5997 - accuracy: 0.5496 - val_loss: 27.9299 - val_accuracy: 0.5103\n",
      "Epoch 29/150\n",
      "27900/27900 [==============================] - 1s 47us/sample - loss: 9.1966 - accuracy: 0.5628 - val_loss: 3.4593 - val_accuracy: 0.5418\n",
      "Epoch 30/150\n",
      "27900/27900 [==============================] - 1s 46us/sample - loss: 6.8532 - accuracy: 0.5668 - val_loss: 17.5391 - val_accuracy: 0.5174\n",
      "Epoch 31/150\n",
      "27900/27900 [==============================] - 1s 45us/sample - loss: 9.1731 - accuracy: 0.5565 - val_loss: 1.4581 - val_accuracy: 0.6773\n",
      "Epoch 32/150\n",
      "27900/27900 [==============================] - 1s 47us/sample - loss: 7.9743 - accuracy: 0.5613 - val_loss: 5.2452 - val_accuracy: 0.5128\n",
      "Epoch 33/150\n",
      "27900/27900 [==============================] - 1s 46us/sample - loss: 7.9897 - accuracy: 0.5635 - val_loss: 1.9530 - val_accuracy: 0.6543\n",
      "Epoch 34/150\n",
      "27900/27900 [==============================] - 1s 49us/sample - loss: 7.9862 - accuracy: 0.5607 - val_loss: 4.3261 - val_accuracy: 0.5222\n",
      "Epoch 35/150\n",
      "27900/27900 [==============================] - 1s 49us/sample - loss: 6.8783 - accuracy: 0.5688 - val_loss: 5.2806 - val_accuracy: 0.5362\n",
      "Epoch 36/150\n",
      "27900/27900 [==============================] - 1s 48us/sample - loss: 9.0065 - accuracy: 0.5619 - val_loss: 4.8138 - val_accuracy: 0.5309\n",
      "Epoch 37/150\n",
      "27900/27900 [==============================] - 1s 49us/sample - loss: 7.4178 - accuracy: 0.5710 - val_loss: 9.5651 - val_accuracy: 0.5160\n",
      "Epoch 38/150\n",
      "27900/27900 [==============================] - 1s 47us/sample - loss: 7.2571 - accuracy: 0.5684 - val_loss: 7.9842 - val_accuracy: 0.5223\n",
      "Epoch 39/150\n",
      "27900/27900 [==============================] - 1s 48us/sample - loss: 7.6579 - accuracy: 0.5645 - val_loss: 13.1723 - val_accuracy: 0.5174\n",
      "Epoch 40/150\n",
      "27900/27900 [==============================] - 1s 47us/sample - loss: 7.0911 - accuracy: 0.5633 - val_loss: 18.8342 - val_accuracy: 0.4982\n",
      "Epoch 41/150\n",
      "27900/27900 [==============================] - 1s 45us/sample - loss: 7.1486 - accuracy: 0.5696 - val_loss: 3.2587 - val_accuracy: 0.5500\n",
      "Epoch 42/150\n",
      "27900/27900 [==============================] - 1s 46us/sample - loss: 7.0154 - accuracy: 0.5729 - val_loss: 11.0085 - val_accuracy: 0.5095\n",
      "Epoch 43/150\n",
      "27900/27900 [==============================] - 1s 45us/sample - loss: 6.3508 - accuracy: 0.5708 - val_loss: 1.6014 - val_accuracy: 0.6771\n",
      "Epoch 44/150\n",
      "27900/27900 [==============================] - 1s 44us/sample - loss: 6.0026 - accuracy: 0.5818 - val_loss: 13.5207 - val_accuracy: 0.5123\n",
      "Epoch 45/150\n",
      "27900/27900 [==============================] - 1s 44us/sample - loss: 7.8632 - accuracy: 0.5664 - val_loss: 3.5402 - val_accuracy: 0.5607\n",
      "Epoch 46/150\n",
      "27900/27900 [==============================] - 1s 44us/sample - loss: 7.3736 - accuracy: 0.5701 - val_loss: 3.3921 - val_accuracy: 0.5682\n",
      "Epoch 47/150\n",
      "27900/27900 [==============================] - 1s 47us/sample - loss: 6.3228 - accuracy: 0.5786 - val_loss: 22.6030 - val_accuracy: 0.5262\n",
      "Epoch 48/150\n",
      "27900/27900 [==============================] - 1s 45us/sample - loss: 7.0492 - accuracy: 0.5690 - val_loss: 1.8318 - val_accuracy: 0.6442\n",
      "Epoch 49/150\n",
      "27900/27900 [==============================] - 1s 44us/sample - loss: 6.7292 - accuracy: 0.5725 - val_loss: 3.8507 - val_accuracy: 0.5346\n",
      "Epoch 50/150\n",
      "27900/27900 [==============================] - 1s 47us/sample - loss: 5.8361 - accuracy: 0.5815 - val_loss: 2.8120 - val_accuracy: 0.5683\n",
      "Epoch 51/150\n",
      "27900/27900 [==============================] - 1s 48us/sample - loss: 6.1954 - accuracy: 0.5775 - val_loss: 2.8988 - val_accuracy: 0.6201\n",
      "Epoch 52/150\n",
      "27900/27900 [==============================] - 1s 50us/sample - loss: 6.7048 - accuracy: 0.5725 - val_loss: 19.2679 - val_accuracy: 0.5048\n",
      "Epoch 53/150\n",
      "27900/27900 [==============================] - 2s 64us/sample - loss: 5.5988 - accuracy: 0.5868 - val_loss: 2.9847 - val_accuracy: 0.5556\n",
      "Epoch 54/150\n",
      "27900/27900 [==============================] - 1s 49us/sample - loss: 6.3051 - accuracy: 0.5814 - val_loss: 3.4488 - val_accuracy: 0.6109\n"
     ]
    },
    {
     "name": "stdout",
     "output_type": "stream",
     "text": [
      "Epoch 55/150\n",
      "27900/27900 [==============================] - 1s 45us/sample - loss: 6.0283 - accuracy: 0.5797 - val_loss: 6.2487 - val_accuracy: 0.5355\n",
      "Epoch 56/150\n",
      "27900/27900 [==============================] - 1s 44us/sample - loss: 5.6794 - accuracy: 0.5792 - val_loss: 2.1552 - val_accuracy: 0.6496\n",
      "Epoch 57/150\n",
      "27900/27900 [==============================] - 1s 45us/sample - loss: 6.6064 - accuracy: 0.5718 - val_loss: 4.6618 - val_accuracy: 0.5333\n",
      "Epoch 58/150\n",
      "27900/27900 [==============================] - 1s 45us/sample - loss: 5.7938 - accuracy: 0.5800 - val_loss: 6.0264 - val_accuracy: 0.5693\n",
      "Epoch 59/150\n",
      "27900/27900 [==============================] - 1s 46us/sample - loss: 5.5143 - accuracy: 0.5792 - val_loss: 5.1562 - val_accuracy: 0.5794\n",
      "Epoch 60/150\n",
      "27900/27900 [==============================] - 1s 46us/sample - loss: 7.1390 - accuracy: 0.5722 - val_loss: 5.4919 - val_accuracy: 0.5583\n",
      "Epoch 61/150\n",
      "27900/27900 [==============================] - 1s 45us/sample - loss: 5.2658 - accuracy: 0.5891 - val_loss: 4.3642 - val_accuracy: 0.5351\n",
      "Epoch 62/150\n",
      "27900/27900 [==============================] - 1s 48us/sample - loss: 5.5157 - accuracy: 0.5804 - val_loss: 22.9825 - val_accuracy: 0.5275\n",
      "Epoch 63/150\n",
      "27900/27900 [==============================] - 1s 45us/sample - loss: 5.5112 - accuracy: 0.5870 - val_loss: 1.4385 - val_accuracy: 0.6737\n",
      "Epoch 64/150\n",
      "27900/27900 [==============================] - 1s 45us/sample - loss: 5.2434 - accuracy: 0.5831 - val_loss: 1.3059 - val_accuracy: 0.6837\n",
      "Epoch 65/150\n",
      "27900/27900 [==============================] - 1s 44us/sample - loss: 5.8058 - accuracy: 0.5831 - val_loss: 1.6506 - val_accuracy: 0.6710\n",
      "Epoch 66/150\n",
      "27900/27900 [==============================] - 1s 45us/sample - loss: 7.1313 - accuracy: 0.5659 - val_loss: 10.7446 - val_accuracy: 0.5029\n",
      "Epoch 67/150\n",
      "27900/27900 [==============================] - 1s 46us/sample - loss: 5.5068 - accuracy: 0.5875 - val_loss: 9.4328 - val_accuracy: 0.5427\n",
      "Epoch 68/150\n",
      "27900/27900 [==============================] - 1s 45us/sample - loss: 5.6412 - accuracy: 0.5917 - val_loss: 4.5194 - val_accuracy: 0.5710\n",
      "Epoch 69/150\n",
      "27900/27900 [==============================] - 1s 45us/sample - loss: 6.1768 - accuracy: 0.5819 - val_loss: 10.1933 - val_accuracy: 0.5424\n",
      "Epoch 70/150\n",
      "27900/27900 [==============================] - 1s 45us/sample - loss: 5.1394 - accuracy: 0.5841 - val_loss: 15.0798 - val_accuracy: 0.5316\n",
      "Epoch 71/150\n",
      "27900/27900 [==============================] - 1s 45us/sample - loss: 6.1394 - accuracy: 0.5751 - val_loss: 11.6352 - val_accuracy: 0.5384\n",
      "Epoch 72/150\n",
      "27900/27900 [==============================] - 1s 46us/sample - loss: 5.8150 - accuracy: 0.5752 - val_loss: 7.6925 - val_accuracy: 0.5462\n",
      "Epoch 73/150\n",
      "27900/27900 [==============================] - 1s 45us/sample - loss: 4.0650 - accuracy: 0.6046 - val_loss: 1.5613 - val_accuracy: 0.6487\n",
      "Epoch 74/150\n",
      "27900/27900 [==============================] - 1s 45us/sample - loss: 5.7310 - accuracy: 0.5799 - val_loss: 1.8027 - val_accuracy: 0.6674\n",
      "Epoch 75/150\n",
      "27900/27900 [==============================] - 1s 45us/sample - loss: 4.8108 - accuracy: 0.5872 - val_loss: 4.7107 - val_accuracy: 0.5938\n",
      "Epoch 76/150\n",
      "27900/27900 [==============================] - 1s 45us/sample - loss: 5.0161 - accuracy: 0.5890 - val_loss: 4.5536 - val_accuracy: 0.5379\n",
      "Epoch 77/150\n",
      "27900/27900 [==============================] - 1s 45us/sample - loss: 4.2605 - accuracy: 0.5993 - val_loss: 13.4079 - val_accuracy: 0.5303\n",
      "Epoch 78/150\n",
      "27900/27900 [==============================] - 1s 45us/sample - loss: 5.8586 - accuracy: 0.5884 - val_loss: 1.2122 - val_accuracy: 0.6945\n",
      "Epoch 79/150\n",
      "27900/27900 [==============================] - 1s 46us/sample - loss: 4.9429 - accuracy: 0.5905 - val_loss: 1.4563 - val_accuracy: 0.6614\n",
      "Epoch 80/150\n",
      "27900/27900 [==============================] - 1s 45us/sample - loss: 5.5635 - accuracy: 0.5892 - val_loss: 5.8994 - val_accuracy: 0.5296\n",
      "Epoch 81/150\n",
      "27900/27900 [==============================] - 1s 50us/sample - loss: 5.5339 - accuracy: 0.5864 - val_loss: 1.4583 - val_accuracy: 0.6780\n",
      "Epoch 82/150\n",
      "27900/27900 [==============================] - 1s 46us/sample - loss: 5.0042 - accuracy: 0.5933 - val_loss: 2.0351 - val_accuracy: 0.6493\n",
      "Epoch 83/150\n",
      "27900/27900 [==============================] - 1s 45us/sample - loss: 4.8458 - accuracy: 0.5903 - val_loss: 1.3279 - val_accuracy: 0.6822\n",
      "Epoch 84/150\n",
      "27900/27900 [==============================] - 1s 45us/sample - loss: 4.8794 - accuracy: 0.5883 - val_loss: 2.1539 - val_accuracy: 0.6477\n",
      "Epoch 85/150\n",
      "27900/27900 [==============================] - 1s 47us/sample - loss: 4.5092 - accuracy: 0.5947 - val_loss: 3.0447 - val_accuracy: 0.6176\n",
      "Epoch 86/150\n",
      "27900/27900 [==============================] - 1s 45us/sample - loss: 5.0906 - accuracy: 0.5877 - val_loss: 3.2184 - val_accuracy: 0.6212\n",
      "Epoch 87/150\n",
      "27900/27900 [==============================] - 1s 45us/sample - loss: 5.1033 - accuracy: 0.5924 - val_loss: 2.8042 - val_accuracy: 0.6272\n",
      "Epoch 88/150\n",
      "27900/27900 [==============================] - 1s 46us/sample - loss: 5.4553 - accuracy: 0.5874 - val_loss: 2.4810 - val_accuracy: 0.5874\n",
      "Epoch 89/150\n",
      "27900/27900 [==============================] - 1s 46us/sample - loss: 3.5127 - accuracy: 0.6091 - val_loss: 1.1646 - val_accuracy: 0.6986\n",
      "Epoch 90/150\n",
      "27900/27900 [==============================] - 1s 46us/sample - loss: 4.9755 - accuracy: 0.5856 - val_loss: 9.8565 - val_accuracy: 0.5425\n",
      "Epoch 91/150\n",
      "27900/27900 [==============================] - 1s 47us/sample - loss: 5.0661 - accuracy: 0.5885 - val_loss: 2.3436 - val_accuracy: 0.6371\n",
      "Epoch 92/150\n",
      "27900/27900 [==============================] - 1s 45us/sample - loss: 5.0837 - accuracy: 0.5885 - val_loss: 5.2725 - val_accuracy: 0.5885\n",
      "Epoch 93/150\n",
      "27900/27900 [==============================] - 1s 45us/sample - loss: 4.3968 - accuracy: 0.5955 - val_loss: 16.3482 - val_accuracy: 0.5254\n",
      "Epoch 94/150\n",
      "27900/27900 [==============================] - 2s 58us/sample - loss: 4.0153 - accuracy: 0.6025 - val_loss: 1.4691 - val_accuracy: 0.6803\n",
      "Epoch 95/150\n",
      "27900/27900 [==============================] - 1s 45us/sample - loss: 4.5035 - accuracy: 0.6018 - val_loss: 8.8484 - val_accuracy: 0.5167\n",
      "Epoch 96/150\n",
      "27900/27900 [==============================] - 1s 46us/sample - loss: 3.7202 - accuracy: 0.6081 - val_loss: 2.2367 - val_accuracy: 0.6361\n",
      "Epoch 97/150\n",
      "27900/27900 [==============================] - 1s 47us/sample - loss: 4.5407 - accuracy: 0.5932 - val_loss: 5.2383 - val_accuracy: 0.5308\n",
      "Epoch 98/150\n",
      "27900/27900 [==============================] - 1s 45us/sample - loss: 4.2845 - accuracy: 0.5966 - val_loss: 5.5468 - val_accuracy: 0.5270\n",
      "Epoch 99/150\n",
      "27900/27900 [==============================] - 1s 45us/sample - loss: 4.8121 - accuracy: 0.5873 - val_loss: 5.4228 - val_accuracy: 0.5603\n",
      "Epoch 100/150\n",
      "27900/27900 [==============================] - 1s 45us/sample - loss: 3.9914 - accuracy: 0.6006 - val_loss: 8.5717 - val_accuracy: 0.5134\n",
      "Epoch 101/150\n",
      "27900/27900 [==============================] - 1s 45us/sample - loss: 4.0830 - accuracy: 0.6010 - val_loss: 9.6465 - val_accuracy: 0.51874.003\n",
      "Epoch 102/150\n",
      "27900/27900 [==============================] - 1s 45us/sample - loss: 4.1919 - accuracy: 0.5937 - val_loss: 15.1899 - val_accuracy: 0.5094\n",
      "Epoch 103/150\n",
      "27900/27900 [==============================] - 1s 45us/sample - loss: 4.3337 - accuracy: 0.5952 - val_loss: 1.3539 - val_accuracy: 0.6843\n",
      "Epoch 104/150\n",
      "27900/27900 [==============================] - 1s 45us/sample - loss: 3.6751 - accuracy: 0.6070 - val_loss: 1.2052 - val_accuracy: 0.6946\n",
      "Epoch 105/150\n",
      "27900/27900 [==============================] - 1s 46us/sample - loss: 3.8432 - accuracy: 0.6021 - val_loss: 1.1575 - val_accuracy: 0.6952\n",
      "Epoch 106/150\n",
      "27900/27900 [==============================] - 1s 46us/sample - loss: 3.7299 - accuracy: 0.6026 - val_loss: 14.4723 - val_accuracy: 0.5310\n",
      "Epoch 107/150\n",
      "27900/27900 [==============================] - 1s 45us/sample - loss: 4.3042 - accuracy: 0.5963 - val_loss: 2.9301 - val_accuracy: 0.6212\n",
      "Epoch 108/150\n",
      "27900/27900 [==============================] - 1s 45us/sample - loss: 4.2286 - accuracy: 0.5925 - val_loss: 5.1176 - val_accuracy: 0.5616\n",
      "Epoch 109/150\n",
      "27900/27900 [==============================] - 1s 45us/sample - loss: 4.7905 - accuracy: 0.5969 - val_loss: 1.1780 - val_accuracy: 0.6834\n",
      "Epoch 110/150\n",
      "27900/27900 [==============================] - 1s 45us/sample - loss: 3.4363 - accuracy: 0.6038 - val_loss: 2.7480 - val_accuracy: 0.6216\n",
      "Epoch 111/150\n",
      "27900/27900 [==============================] - 1s 45us/sample - loss: 3.0662 - accuracy: 0.6101 - val_loss: 6.4189 - val_accuracy: 0.5299\n",
      "Epoch 112/150\n",
      "27900/27900 [==============================] - 1s 45us/sample - loss: 3.9358 - accuracy: 0.5989 - val_loss: 1.2041 - val_accuracy: 0.6728\n",
      "Epoch 113/150\n",
      "27900/27900 [==============================] - 1s 45us/sample - loss: 3.2232 - accuracy: 0.6039 - val_loss: 1.8089 - val_accuracy: 0.6073\n",
      "Epoch 114/150\n",
      "27900/27900 [==============================] - 1s 45us/sample - loss: 6.3659 - accuracy: 0.5791 - val_loss: 1.0871 - val_accuracy: 0.6916\n",
      "Epoch 115/150\n",
      "27900/27900 [==============================] - 1s 46us/sample - loss: 3.5850 - accuracy: 0.6061 - val_loss: 1.6357 - val_accuracy: 0.6313\n",
      "Epoch 116/150\n",
      "27900/27900 [==============================] - 1s 46us/sample - loss: 3.4807 - accuracy: 0.5990 - val_loss: 10.8558 - val_accuracy: 0.5130\n",
      "Epoch 117/150\n",
      "27900/27900 [==============================] - 1s 45us/sample - loss: 3.6955 - accuracy: 0.6035 - val_loss: 4.9138 - val_accuracy: 0.5361\n",
      "Epoch 118/150\n",
      "27900/27900 [==============================] - 1s 48us/sample - loss: 4.2847 - accuracy: 0.5930 - val_loss: 10.2973 - val_accuracy: 0.5098.0742 - accuracy: 0.\n",
      "Epoch 119/150\n",
      "27900/27900 [==============================] - 1s 46us/sample - loss: 3.4683 - accuracy: 0.5994 - val_loss: 1.2108 - val_accuracy: 0.6791\n",
      "Epoch 120/150\n",
      "27900/27900 [==============================] - 1s 46us/sample - loss: 3.3430 - accuracy: 0.6064 - val_loss: 4.2778 - val_accuracy: 0.5523\n",
      "Epoch 121/150\n",
      "27900/27900 [==============================] - 1s 45us/sample - loss: 3.5683 - accuracy: 0.5975 - val_loss: 4.1907 - val_accuracy: 0.5504\n",
      "Epoch 122/150\n",
      "27900/27900 [==============================] - 1s 48us/sample - loss: 3.5498 - accuracy: 0.5976 - val_loss: 1.4778 - val_accuracy: 0.6657\n",
      "Epoch 123/150\n",
      "27900/27900 [==============================] - 1s 45us/sample - loss: 3.3735 - accuracy: 0.6046 - val_loss: 1.2411 - val_accuracy: 0.6862\n",
      "Epoch 124/150\n",
      "27900/27900 [==============================] - 1s 45us/sample - loss: 2.9976 - accuracy: 0.6066 - val_loss: 3.7936 - val_accuracy: 0.5472\n",
      "Epoch 125/150\n",
      "27900/27900 [==============================] - 1s 45us/sample - loss: 3.2742 - accuracy: 0.6078 - val_loss: 1.3604 - val_accuracy: 0.6422\n",
      "Epoch 126/150\n",
      "27900/27900 [==============================] - 1s 46us/sample - loss: 3.6158 - accuracy: 0.6031 - val_loss: 1.0222 - val_accuracy: 0.7024\n",
      "Epoch 127/150\n",
      "27900/27900 [==============================] - 1s 45us/sample - loss: 3.5388 - accuracy: 0.6017 - val_loss: 1.8953 - val_accuracy: 0.6459uracy\n",
      "Epoch 128/150\n",
      "27900/27900 [==============================] - 1s 45us/sample - loss: 3.6732 - accuracy: 0.5957 - val_loss: 3.9967 - val_accuracy: 0.5882\n",
      "Epoch 129/150\n",
      "27900/27900 [==============================] - 1s 45us/sample - loss: 3.4095 - accuracy: 0.5967 - val_loss: 1.0809 - val_accuracy: 0.6902\n",
      "Epoch 130/150\n",
      "27900/27900 [==============================] - 1s 46us/sample - loss: 3.6230 - accuracy: 0.5937 - val_loss: 2.8885 - val_accuracy: 0.5560\n",
      "Epoch 131/150\n",
      "27900/27900 [==============================] - 1s 46us/sample - loss: 3.1540 - accuracy: 0.6040 - val_loss: 7.0505 - val_accuracy: 0.5105\n",
      "Epoch 132/150\n",
      "27900/27900 [==============================] - 1s 48us/sample - loss: 2.7241 - accuracy: 0.6144 - val_loss: 1.2000 - val_accuracy: 0.6592\n",
      "Epoch 133/150\n",
      "27900/27900 [==============================] - 1s 45us/sample - loss: 3.4736 - accuracy: 0.5980 - val_loss: 1.0964 - val_accuracy: 0.6846\n",
      "Epoch 134/150\n",
      "27900/27900 [==============================] - 1s 46us/sample - loss: 2.8107 - accuracy: 0.6090 - val_loss: 1.6701 - val_accuracy: 0.6467\n",
      "Epoch 135/150\n",
      "27900/27900 [==============================] - 1s 46us/sample - loss: 2.7146 - accuracy: 0.6105 - val_loss: 1.0457 - val_accuracy: 0.6906\n",
      "Epoch 136/150\n",
      "27900/27900 [==============================] - 1s 45us/sample - loss: 3.0432 - accuracy: 0.6018 - val_loss: 4.2047 - val_accuracy: 0.5791\n",
      "Epoch 137/150\n",
      "27900/27900 [==============================] - 1s 45us/sample - loss: 2.7835 - accuracy: 0.6081 - val_loss: 1.4111 - val_accuracy: 0.6602\n",
      "Epoch 138/150\n",
      "27900/27900 [==============================] - 1s 45us/sample - loss: 2.6772 - accuracy: 0.6105 - val_loss: 1.1633 - val_accuracy: 0.6764\n",
      "Epoch 139/150\n",
      "27900/27900 [==============================] - 1s 45us/sample - loss: 3.1634 - accuracy: 0.6017 - val_loss: 3.8793 - val_accuracy: 0.5776\n",
      "Epoch 140/150\n",
      "27900/27900 [==============================] - 1s 45us/sample - loss: 2.7404 - accuracy: 0.6062 - val_loss: 3.1695 - val_accuracy: 0.6046\n",
      "Epoch 141/150\n",
      "27900/27900 [==============================] - 1s 45us/sample - loss: 3.0625 - accuracy: 0.6014 - val_loss: 7.5002 - val_accuracy: 0.5654\n",
      "Epoch 142/150\n",
      "27900/27900 [==============================] - 1s 45us/sample - loss: 2.5408 - accuracy: 0.6140 - val_loss: 1.6174 - val_accuracy: 0.6403\n",
      "Epoch 143/150\n",
      "27900/27900 [==============================] - 1s 45us/sample - loss: 2.6263 - accuracy: 0.6099 - val_loss: 1.8095 - val_accuracy: 0.6436\n",
      "Epoch 144/150\n",
      "27900/27900 [==============================] - 1s 44us/sample - loss: 2.6157 - accuracy: 0.6076 - val_loss: 2.4554 - val_accuracy: 0.6123\n",
      "Epoch 145/150\n",
      "27900/27900 [==============================] - 1s 44us/sample - loss: 2.4665 - accuracy: 0.6113 - val_loss: 6.4453 - val_accuracy: 0.5540\n",
      "Epoch 146/150\n",
      "27900/27900 [==============================] - 1s 46us/sample - loss: 2.5754 - accuracy: 0.6024 - val_loss: 7.8929 - val_accuracy: 0.5461\n",
      "Epoch 147/150\n",
      "27900/27900 [==============================] - 1s 48us/sample - loss: 2.5633 - accuracy: 0.6054 - val_loss: 1.0533 - val_accuracy: 0.6817\n",
      "Epoch 148/150\n",
      "27900/27900 [==============================] - 1s 46us/sample - loss: 2.4592 - accuracy: 0.6058 - val_loss: 1.7002 - val_accuracy: 0.6401\n",
      "Epoch 149/150\n",
      "27900/27900 [==============================] - 1s 46us/sample - loss: 2.7965 - accuracy: 0.6097 - val_loss: 1.4344 - val_accuracy: 0.6487\n",
      "Epoch 150/150\n",
      "27900/27900 [==============================] - 1s 45us/sample - loss: 2.8156 - accuracy: 0.6006 - val_loss: 1.4545 - val_accuracy: 0.6475\n"
     ]
    }
   ],
   "source": [
    "model = Sequential()\n",
    "model.add(Dense(32, input_dim=X_train_new.shape[1], activation='relu'))\n",
    "model.add(Dense(12, input_dim=X_train_new.shape[1], activation='relu'))\n",
    "model.add(Dense(1,activation='sigmoid'))\n",
    "opt = Adam(learning_rate=0.0005)\n",
    "model.compile(loss='binary_crossentropy', optimizer=opt, metrics=['accuracy'])\n",
    "\n",
    "r = model.fit(X_train_new,y_train_new,verbose=1,validation_split=0.2, epochs=150)"
   ]
  },
  {
   "cell_type": "markdown",
   "id": "bab366cc",
   "metadata": {},
   "source": [
    "### Performance on test set"
   ]
  },
  {
   "cell_type": "code",
   "execution_count": 168,
   "id": "629ea89a",
   "metadata": {},
   "outputs": [
    {
     "name": "stdout",
     "output_type": "stream",
     "text": [
      "Accuracy : 0.648\n"
     ]
    },
    {
     "data": {
      "image/png": "[encoded data removed]",
      "text/plain": [
       "<Figure size 432x288 with 2 Axes>"
      ]
     },
     "metadata": {
      "needs_background": "light"
     },
     "output_type": "display_data"
    }
   ],
   "source": [
    "y_pred = model.predict(X_test_new) > 0.5\n",
    "print(f'Accuracy : %.3f' % accuracy_score(y_test_new, y_pred))\n",
    "\n",
    "cm = confusion_matrix(y_test_new, y_pred)\n",
    "disp = ConfusionMatrixDisplay(cm)\n",
    "disp.plot()\n",
    "plt.show()"
   ]
  },
  {
   "cell_type": "code",
   "execution_count": 169,
   "id": "ef729b7a",
   "metadata": {},
   "outputs": [
    {
     "data": {
      "image/png": "[encoded data removed]",
      "text/plain": [
       "<Figure size 432x432 with 2 Axes>"
      ]
     },
     "metadata": {
      "needs_background": "light"
     },
     "output_type": "display_data"
    }
   ],
   "source": [
    "# Plotting\n",
    "plt.figure(figsize=(6,6))\n",
    "\n",
    "plt.plot(r.history['loss'])\n",
    "plt.title('Model loss')\n",
    "plt.ylabel('Loss')\n",
    "plt.legend(['Loss'], loc='upper left')\n",
    "plt.xlabel('Epoch')\n",
    "\n",
    "plt2=plt.twinx()\n",
    "plt2.plot(r.history['val_loss'], color='orange')\n",
    "plt2.legend(['Val_Loss'], loc='upper right')\n",
    "\n",
    "\n",
    "\n",
    "plt.show()"
   ]
  },
  {
   "cell_type": "markdown",
   "id": "b9604898",
   "metadata": {},
   "source": [
    "After experimenting with differenet paramaters (learning rate, optimizers, regularizers ... ) The best result are from the two models here and it looks like the NN settles on an accuracy of 60% which is not enough, let's try XGBoost to compare"
   ]
  },
  {
   "cell_type": "markdown",
   "id": "6fe3c5e2",
   "metadata": {},
   "source": [
    "[Back to top](#Content:)\n",
    "\n",
    "\n",
    "<a id='part8'></a>\n",
    "\n",
    "# Part 8 -  XGBoost Class 0 vs All balanced data"
   ]
  },
  {
   "cell_type": "code",
   "execution_count": 170,
   "id": "e9a53fd4",
   "metadata": {},
   "outputs": [
    {
     "name": "stderr",
     "output_type": "stream",
     "text": [
      "/Users/baraa/opt/anaconda3/envs/tf/lib/python3.7/site-packages/xgboost/sklearn.py:1224: UserWarning: The use of label encoder in XGBClassifier is deprecated and will be removed in a future release. To remove this warning, do the following: 1) Pass option use_label_encoder=False when constructing XGBClassifier object; and 2) Encode your labels (y) as integers starting with 0, i.e. 0, 1, 2, ..., [num_class - 1].\n",
      "  warnings.warn(label_encoder_deprecation_msg, UserWarning)\n"
     ]
    },
    {
     "name": "stdout",
     "output_type": "stream",
     "text": [
      "[08:29:54] WARNING: ../src/learner.cc:1115: Starting in XGBoost 1.3.0, the default evaluation metric used with the objective 'binary:logistic' was changed from 'error' to 'logloss'. Explicitly set eval_metric if you'd like to restore the old behavior.\n"
     ]
    },
    {
     "data": {
      "text/plain": [
       "XGBClassifier(base_score=0.5, booster='gbtree', colsample_bylevel=1,\n",
       "              colsample_bynode=1, colsample_bytree=1, enable_categorical=False,\n",
       "              gamma=0, gpu_id=-1, importance_type=None,\n",
       "              interaction_constraints='', learning_rate=0.300000012,\n",
       "              max_delta_step=0, max_depth=6, min_child_weight=1, missing=nan,\n",
       "              monotone_constraints='()', n_estimators=100, n_jobs=8,\n",
       "              num_parallel_tree=1, predictor='auto', random_state=0,\n",
       "              reg_alpha=0, reg_lambda=1, scale_pos_weight=1, subsample=1,\n",
       "              tree_method='exact', validate_parameters=1, verbosity=None)"
      ]
     },
     "execution_count": 170,
     "metadata": {},
     "output_type": "execute_result"
    }
   ],
   "source": [
    "from xgboost import XGBClassifier\n",
    "xgb = XGBClassifier()\n",
    "xgb.fit(X_train_new, y_train_new)"
   ]
  },
  {
   "cell_type": "code",
   "execution_count": 171,
   "id": "22120974",
   "metadata": {},
   "outputs": [
    {
     "name": "stdout",
     "output_type": "stream",
     "text": [
      "Accuracy : 0.739\n"
     ]
    },
    {
     "data": {
      "image/png": "[encoded data removed]",
      "text/plain": [
       "<Figure size 432x288 with 2 Axes>"
      ]
     },
     "metadata": {
      "needs_background": "light"
     },
     "output_type": "display_data"
    }
   ],
   "source": [
    "y_pred = xgb.predict(X_test_new)\n",
    "print(f'Accuracy : %.3f' % accuracy_score(y_test_new, y_pred))\n",
    "cm = confusion_matrix(y_test_new, y_pred)\n",
    "disp = ConfusionMatrixDisplay(cm)\n",
    "disp.plot()\n",
    "plt.show()"
   ]
  },
  {
   "cell_type": "markdown",
   "id": "c457b400",
   "metadata": {},
   "source": [
    "XGBoost accuracy is higher than our Random Forest classifier."
   ]
  },
  {
   "cell_type": "markdown",
   "id": "d3144042",
   "metadata": {},
   "source": [
    "### Testing on the real test set"
   ]
  },
  {
   "cell_type": "code",
   "execution_count": 175,
   "id": "bc92f66a",
   "metadata": {},
   "outputs": [
    {
     "name": "stdout",
     "output_type": "stream",
     "text": [
      "Accuracy : 0.153\n"
     ]
    },
    {
     "data": {
      "image/png": "[encoded data removed]",
      "text/plain": [
       "<Figure size 432x288 with 2 Axes>"
      ]
     },
     "metadata": {
      "needs_background": "light"
     },
     "output_type": "display_data"
    }
   ],
   "source": [
    "y_pred = xgb.predict(X_test)\n",
    "y_test_n = np.minimum(y_test,1)\n",
    "print(f'Accuracy : %.3f' % accuracy_score(y_test_n, y_pred))\n",
    "cm = confusion_matrix(y_test_n, y_pred)\n",
    "disp = ConfusionMatrixDisplay(cm)\n",
    "disp.plot()\n",
    "plt.show()"
   ]
  },
  {
   "cell_type": "markdown",
   "id": "2c60bc09",
   "metadata": {},
   "source": [
    "From the confusion matrix we can see that the classifier fails to generalize well ag"
   ]
  }
 ],
 "metadata": {
  "kernelspec": {
   "display_name": "Python 3 (ipykernel)",
   "language": "python",
   "name": "python3"
  },
  "language_info": {
   "codemirror_mode": {
    "name": "ipython",
    "version": 3
   },
   "file_extension": ".py",
   "mimetype": "text/x-python",
   "name": "python",
   "nbconvert_exporter": "python",
   "pygments_lexer": "ipython3",
   "version": "3.8.8"
  }
 },
 "nbformat": 4,
 "nbformat_minor": 5
}
