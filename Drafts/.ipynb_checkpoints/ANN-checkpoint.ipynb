{
 "cells": [
  {
   "cell_type": "code",
   "execution_count": 1,
   "id": "e5733a68",
   "metadata": {},
   "outputs": [],
   "source": [
    "import os\n",
    "import random\n",
    "import numpy as np\n",
    "import pandas as pd\n",
    "import seaborn as sns\n",
    "import matplotlib.pyplot as plt\n",
    "\n",
    "from sklearn.model_selection import train_test_split\n",
    "from sklearn.preprocessing import LabelEncoder\n",
    "from sklearn.preprocessing import OneHotEncoder\n",
    "\n",
    "\n"
   ]
  },
  {
   "cell_type": "code",
   "execution_count": 2,
   "id": "549fff72",
   "metadata": {},
   "outputs": [],
   "source": [
    "random.seed(0)"
   ]
  },
  {
   "cell_type": "code",
   "execution_count": 3,
   "id": "3c0bf509",
   "metadata": {},
   "outputs": [],
   "source": [
    "## loading the file\n",
    "health_care = pd.read_csv('../healthcare/train_data.csv', na_values=['NA', 'NaN', '?'])"
   ]
  },
  {
   "cell_type": "code",
   "execution_count": 4,
   "id": "e145a941",
   "metadata": {},
   "outputs": [],
   "source": [
    "# Dropping these columns for now\n",
    "health_care = health_care.dropna()"
   ]
  },
  {
   "cell_type": "markdown",
   "id": "5268c88e",
   "metadata": {},
   "source": [
    "## Feature engineering\n",
    "\n",
    "We will add 2 features : \n",
    "- Visit number\n",
    "- New Patient"
   ]
  },
  {
   "cell_type": "code",
   "execution_count": 5,
   "id": "2d6560bd",
   "metadata": {},
   "outputs": [],
   "source": [
    "n = health_care.shape[0]\n",
    "visits = []\n",
    "patientid = np.array(health_care['patientid'])\n",
    "for i in range(n) :\n",
    "    count = (patientid[:i+1] == patientid[i]).sum()\n",
    "    visits.append(count)\n",
    "    \n",
    "health_care['Visit Number'] = visits\n",
    "health_care['New Patient'] = (health_care['Visit Number']==1).astype('int32')"
   ]
  },
  {
   "cell_type": "markdown",
   "id": "1b87ecdf",
   "metadata": {},
   "source": [
    "## Label Encoded Data"
   ]
  },
  {
   "cell_type": "code",
   "execution_count": 6,
   "id": "b7a6e769",
   "metadata": {},
   "outputs": [],
   "source": [
    "## Pre processing these columns\n",
    "\n",
    "string_columns = ['Hospital_type_code', 'Hospital_region_code', 'Department', 'Ward_Type', 'Ward_Facility_Code',  'Type of Admission', 'Severity of Illness', 'Age' ]\n",
    "encoder = LabelEncoder()\n",
    "ohEncoder = OneHotEncoder()\n",
    "\n",
    "## label_encoded data\n",
    "X_le = health_care.drop(['Stay', 'case_id'], axis=1)\n",
    "y_le = health_care['Stay']\n",
    "\n",
    "y_le = encoder.fit_transform(y_le)\n",
    "for column in string_columns :\n",
    "    X_le[column] = encoder.fit(X_le[column]).transform(X_le[column])\n",
    "    "
   ]
  },
  {
   "cell_type": "code",
   "execution_count": 7,
   "id": "dcb4c3f9",
   "metadata": {},
   "outputs": [],
   "source": [
    "y_le = 10*y_le + 5"
   ]
  },
  {
   "cell_type": "markdown",
   "id": "a1cbc15d",
   "metadata": {},
   "source": [
    "## Hot encoded Data"
   ]
  },
  {
   "cell_type": "code",
   "execution_count": 8,
   "id": "68dcbef4",
   "metadata": {},
   "outputs": [],
   "source": [
    "# Function to hot encode the column with name : name for dataframe df\n",
    "def encode_text_dummy(df, name):\n",
    "    dummies = pd.get_dummies(df[name])\n",
    "    for x in dummies.columns:\n",
    "        dummy_name = f\"{name}-{x}\"\n",
    "        df[dummy_name] = dummies[x]\n",
    "    df.drop(name, axis=1, inplace=True) ## inplace to make changed on the original df"
   ]
  },
  {
   "cell_type": "code",
   "execution_count": 9,
   "id": "7a64c771",
   "metadata": {},
   "outputs": [],
   "source": [
    "## Pre processing these columns\n",
    "\n",
    "le_string_columns = [  'Severity of Illness', 'Age' ]\n",
    "dummies_string_columns = ['Hospital_type_code', 'Hospital_region_code', 'Department', 'Ward_Type', 'Ward_Facility_Code',  'Type of Admission']\n",
    "encoder = LabelEncoder()\n",
    "#ohEncoder = OneHotEncoder()\n",
    "\n",
    "## label_encoded data\n",
    "Xe = health_care.drop(['Stay', 'case_id'], axis=1)\n",
    "Xe['Severity of Illness']= Xe['Severity of Illness'].map({'Minor': 0,  'Moderate': 1,'Extreme': 2})\n",
    "Xe['Age'] = encoder.fit_transform(Xe['Age'])\n",
    "\n",
    "ye = health_care['Stay']\n",
    "ye = encoder.fit_transform(ye)\n",
    "ye = 10*ye + 5\n",
    "ye\n",
    "\n",
    "for column in dummies_string_columns :\n",
    "    encode_text_dummy(Xe, column)\n",
    "    "
   ]
  },
  {
   "cell_type": "markdown",
   "id": "8ca81f5a",
   "metadata": {},
   "source": [
    "## Scaling Label Encoded Data"
   ]
  },
  {
   "cell_type": "code",
   "execution_count": 10,
   "id": "4906a10d",
   "metadata": {},
   "outputs": [],
   "source": [
    "from sklearn.preprocessing import StandardScaler\n",
    "scaler = StandardScaler()\n",
    "X = X_le.values\n",
    "y = y_le\n",
    "X_train, X_test, y_train, y_test = train_test_split(X, y, test_size=0.25, random_state=0)\n",
    "for i in range(X_train.shape[1]) :\n",
    "    X_train[:,i]= scaler.fit_transform(X_train[:,i].reshape(-1, 1))[:,0]\n",
    "    X_test[:,i] = scaler.transform(X_test[:,i].reshape(-1, 1))[:,0]"
   ]
  },
  {
   "cell_type": "markdown",
   "id": "04094a05",
   "metadata": {},
   "source": [
    "## Lasso for feature selection"
   ]
  },
  {
   "cell_type": "code",
   "execution_count": 11,
   "id": "24869d84",
   "metadata": {},
   "outputs": [],
   "source": [
    "def report_coef(names,coef,intercept):\n",
    "    r = pd.DataFrame( { 'coef': coef, 'positive': np.abs(coef)  }, index = names )\n",
    "    r = r.sort_values(by=['positive'], ascending=True)\n",
    "    display(r)\n",
    "    print(\"Intercept: {}\".format(intercept))\n",
    "    plt.xlabel('covariate coefficient')\n",
    "    r['coef'].plot(kind='barh')"
   ]
  },
  {
   "cell_type": "code",
   "execution_count": 12,
   "id": "b52e313b",
   "metadata": {},
   "outputs": [
    {
     "name": "stdout",
     "output_type": "stream",
     "text": [
      "RMSE : 17.01\n",
      "score : 0.37\n"
     ]
    }
   ],
   "source": [
    "import sklearn\n",
    "from sklearn.linear_model import Lasso\n",
    "from sklearn import metrics\n",
    "\n",
    "# Create linear regression\n",
    "regressor = Lasso(alpha=0.1)\n",
    "\n",
    "# Fit/train LASSO\n",
    "regressor.fit(X_train,y_train)\n",
    "# Predict\n",
    "X_pred = regressor.predict(X_test)\n",
    "\n",
    "a= regressor.coef_\n",
    "b = regressor.intercept_\n",
    "c = np.sqrt(metrics.mean_squared_error(X_pred,y_test))\n",
    "\n",
    "print('RMSE : %.2f' % c)\n",
    "print('score : %.2f' % regressor.score(X_train,y_train))\n",
    "\n"
   ]
  },
  {
   "cell_type": "code",
   "execution_count": 13,
   "id": "5c2c5f3d",
   "metadata": {},
   "outputs": [
    {
     "data": {
      "text/html": [
       "<div>\n",
       "<style scoped>\n",
       "    .dataframe tbody tr th:only-of-type {\n",
       "        vertical-align: middle;\n",
       "    }\n",
       "\n",
       "    .dataframe tbody tr th {\n",
       "        vertical-align: top;\n",
       "    }\n",
       "\n",
       "    .dataframe thead th {\n",
       "        text-align: right;\n",
       "    }\n",
       "</style>\n",
       "<table border=\"1\" class=\"dataframe\">\n",
       "  <thead>\n",
       "    <tr style=\"text-align: right;\">\n",
       "      <th></th>\n",
       "      <th>coef</th>\n",
       "      <th>positive</th>\n",
       "    </tr>\n",
       "  </thead>\n",
       "  <tbody>\n",
       "    <tr>\n",
       "      <th>patientid</th>\n",
       "      <td>-0.000000</td>\n",
       "      <td>0.000000</td>\n",
       "    </tr>\n",
       "    <tr>\n",
       "      <th>City_Code_Patient</th>\n",
       "      <td>-0.056820</td>\n",
       "      <td>0.056820</td>\n",
       "    </tr>\n",
       "    <tr>\n",
       "      <th>Admission_Deposit</th>\n",
       "      <td>0.087787</td>\n",
       "      <td>0.087787</td>\n",
       "    </tr>\n",
       "    <tr>\n",
       "      <th>Visit Number</th>\n",
       "      <td>-0.200844</td>\n",
       "      <td>0.200844</td>\n",
       "    </tr>\n",
       "    <tr>\n",
       "      <th>Hospital_region_code</th>\n",
       "      <td>0.246487</td>\n",
       "      <td>0.246487</td>\n",
       "    </tr>\n",
       "    <tr>\n",
       "      <th>Severity of Illness</th>\n",
       "      <td>-0.253918</td>\n",
       "      <td>0.253918</td>\n",
       "    </tr>\n",
       "    <tr>\n",
       "      <th>Hospital_type_code</th>\n",
       "      <td>0.439190</td>\n",
       "      <td>0.439190</td>\n",
       "    </tr>\n",
       "    <tr>\n",
       "      <th>Department</th>\n",
       "      <td>0.486087</td>\n",
       "      <td>0.486087</td>\n",
       "    </tr>\n",
       "    <tr>\n",
       "      <th>Ward_Facility_Code</th>\n",
       "      <td>0.507510</td>\n",
       "      <td>0.507510</td>\n",
       "    </tr>\n",
       "    <tr>\n",
       "      <th>Hospital_code</th>\n",
       "      <td>0.519537</td>\n",
       "      <td>0.519537</td>\n",
       "    </tr>\n",
       "    <tr>\n",
       "      <th>City_Code_Hospital</th>\n",
       "      <td>-0.633438</td>\n",
       "      <td>0.633438</td>\n",
       "    </tr>\n",
       "    <tr>\n",
       "      <th>New Patient</th>\n",
       "      <td>0.699002</td>\n",
       "      <td>0.699002</td>\n",
       "    </tr>\n",
       "    <tr>\n",
       "      <th>Age</th>\n",
       "      <td>0.842015</td>\n",
       "      <td>0.842015</td>\n",
       "    </tr>\n",
       "    <tr>\n",
       "      <th>Bed Grade</th>\n",
       "      <td>-0.878296</td>\n",
       "      <td>0.878296</td>\n",
       "    </tr>\n",
       "    <tr>\n",
       "      <th>Available Extra Rooms in Hospital</th>\n",
       "      <td>-1.823557</td>\n",
       "      <td>1.823557</td>\n",
       "    </tr>\n",
       "    <tr>\n",
       "      <th>Type of Admission</th>\n",
       "      <td>1.860052</td>\n",
       "      <td>1.860052</td>\n",
       "    </tr>\n",
       "    <tr>\n",
       "      <th>Ward_Type</th>\n",
       "      <td>4.217088</td>\n",
       "      <td>4.217088</td>\n",
       "    </tr>\n",
       "    <tr>\n",
       "      <th>Visitors with Patient</th>\n",
       "      <td>12.237536</td>\n",
       "      <td>12.237536</td>\n",
       "    </tr>\n",
       "  </tbody>\n",
       "</table>\n",
       "</div>"
      ],
      "text/plain": [
       "                                        coef   positive\n",
       "patientid                          -0.000000   0.000000\n",
       "City_Code_Patient                  -0.056820   0.056820\n",
       "Admission_Deposit                   0.087787   0.087787\n",
       "Visit Number                       -0.200844   0.200844\n",
       "Hospital_region_code                0.246487   0.246487\n",
       "Severity of Illness                -0.253918   0.253918\n",
       "Hospital_type_code                  0.439190   0.439190\n",
       "Department                          0.486087   0.486087\n",
       "Ward_Facility_Code                  0.507510   0.507510\n",
       "Hospital_code                       0.519537   0.519537\n",
       "City_Code_Hospital                 -0.633438   0.633438\n",
       "New Patient                         0.699002   0.699002\n",
       "Age                                 0.842015   0.842015\n",
       "Bed Grade                          -0.878296   0.878296\n",
       "Available Extra Rooms in Hospital  -1.823557   1.823557\n",
       "Type of Admission                   1.860052   1.860052\n",
       "Ward_Type                           4.217088   4.217088\n",
       "Visitors with Patient              12.237536  12.237536"
      ]
     },
     "metadata": {},
     "output_type": "display_data"
    },
    {
     "name": "stdout",
     "output_type": "stream",
     "text": [
      "Intercept: 31.985858997892446\n"
     ]
    },
    {
     "data": {
      "image/png": "[encoded data removed]",
      "text/plain": [
       "<Figure size 432x288 with 1 Axes>"
      ]
     },
     "metadata": {
      "needs_background": "light"
     },
     "output_type": "display_data"
    }
   ],
   "source": [
    "names = list(X_le.columns.values)\n",
    "report_coef(\n",
    "  names,\n",
    "  regressor.coef_,\n",
    "  regressor.intercept_)"
   ]
  },
  {
   "cell_type": "markdown",
   "id": "57573d95",
   "metadata": {},
   "source": [
    "# ANN"
   ]
  },
  {
   "cell_type": "code",
   "execution_count": null,
   "id": "b4a69ff9",
   "metadata": {},
   "outputs": [],
   "source": [
    "from tensorflow.keras.models import Sequential\n",
    "from tensorflow.keras.layers import Dense, Activation\n",
    "from tensorflow.keras.callbacks import EarlyStopping\n"
   ]
  },
  {
   "cell_type": "code",
   "execution_count": null,
   "id": "6622464f",
   "metadata": {},
   "outputs": [],
   "source": [
    "model = Sequential()\n",
    "model.add(Dense(64, input_dim=X.shape[1], activation='relu'))\n",
    "model.add(Dense(1)) # Output\n",
    "model.compile(loss='mean_squared_error', optimizer='adam')\n",
    "monitor = EarlyStopping(monitor='loss', min_delta=1e-3, patience=5, verbose=1, mode='auto')\n",
    "model.fit(X_train,y_train,verbose=0,epochs=100)\n",
    "pred = model.predict(X_test)\n",
    "# Measure RMSE error.  \n",
    "score = np.sqrt(metrics.mean_squared_error(pred,y_test))\n",
    "print(\"Final score (RMSE): {}\".format(score))"
   ]
  }
 ],
 "metadata": {
  "kernelspec": {
   "display_name": "Python 3 (ipykernel)",
   "language": "python",
   "name": "python3"
  },
  "language_info": {
   "codemirror_mode": {
    "name": "ipython",
    "version": 3
   },
   "file_extension": ".py",
   "mimetype": "text/x-python",
   "name": "python",
   "nbconvert_exporter": "python",
   "pygments_lexer": "ipython3",
   "version": "3.8.12"
  }
 },
 "nbformat": 4,
 "nbformat_minor": 5
}
