{
 "cells": [
  {
   "cell_type": "code",
   "execution_count": 1,
   "id": "3dd44396",
   "metadata": {},
   "outputs": [],
   "source": [
    "import os\n",
    "import random\n",
    "import numpy as np\n",
    "import pandas as pd\n",
    "import seaborn as sns\n",
    "import matplotlib.pyplot as plt\n"
   ]
  },
  {
   "cell_type": "code",
   "execution_count": 2,
   "id": "838c29b1",
   "metadata": {},
   "outputs": [],
   "source": [
    "random.seed(0)"
   ]
  },
  {
   "cell_type": "code",
   "execution_count": 3,
   "id": "e1ad039b",
   "metadata": {},
   "outputs": [],
   "source": [
    "## loading the file\n",
    "df = pd.read_csv('../healthcare/health_care_le.csv', na_values=['NA', 'NaN', '?'])"
   ]
  },
  {
   "cell_type": "code",
   "execution_count": 4,
   "id": "501d4165",
   "metadata": {},
   "outputs": [
    {
     "data": {
      "text/html": [
       "<div>\n",
       "<style scoped>\n",
       "    .dataframe tbody tr th:only-of-type {\n",
       "        vertical-align: middle;\n",
       "    }\n",
       "\n",
       "    .dataframe tbody tr th {\n",
       "        vertical-align: top;\n",
       "    }\n",
       "\n",
       "    .dataframe thead th {\n",
       "        text-align: right;\n",
       "    }\n",
       "</style>\n",
       "<table border=\"1\" class=\"dataframe\">\n",
       "  <thead>\n",
       "    <tr style=\"text-align: right;\">\n",
       "      <th></th>\n",
       "      <th>case_id</th>\n",
       "      <th>Hospital_code</th>\n",
       "      <th>Hospital_type_code</th>\n",
       "      <th>City_Code_Hospital</th>\n",
       "      <th>Hospital_region_code</th>\n",
       "      <th>Available Extra Rooms in Hospital</th>\n",
       "      <th>Department</th>\n",
       "      <th>Ward_Type</th>\n",
       "      <th>Ward_Facility_Code</th>\n",
       "      <th>Bed Grade</th>\n",
       "      <th>patientid</th>\n",
       "      <th>New Patient</th>\n",
       "      <th>Visit Number</th>\n",
       "      <th>City_Code_Patient</th>\n",
       "      <th>Type of Admission</th>\n",
       "      <th>Severity of Illness</th>\n",
       "      <th>Visitors with Patient</th>\n",
       "      <th>Age</th>\n",
       "      <th>Admission_Deposit</th>\n",
       "      <th>Stay</th>\n",
       "    </tr>\n",
       "  </thead>\n",
       "  <tbody>\n",
       "    <tr>\n",
       "      <th>0</th>\n",
       "      <td>1.0</td>\n",
       "      <td>8.0</td>\n",
       "      <td>2.0</td>\n",
       "      <td>3.0</td>\n",
       "      <td>2.0</td>\n",
       "      <td>3.0</td>\n",
       "      <td>3.0</td>\n",
       "      <td>2.0</td>\n",
       "      <td>5.0</td>\n",
       "      <td>2.0</td>\n",
       "      <td>31397.0</td>\n",
       "      <td>1.0</td>\n",
       "      <td>1.0</td>\n",
       "      <td>7.0</td>\n",
       "      <td>0.0</td>\n",
       "      <td>0.0</td>\n",
       "      <td>2.0</td>\n",
       "      <td>5.0</td>\n",
       "      <td>4911.0</td>\n",
       "      <td>5.0</td>\n",
       "    </tr>\n",
       "    <tr>\n",
       "      <th>1</th>\n",
       "      <td>2.0</td>\n",
       "      <td>2.0</td>\n",
       "      <td>2.0</td>\n",
       "      <td>5.0</td>\n",
       "      <td>2.0</td>\n",
       "      <td>2.0</td>\n",
       "      <td>3.0</td>\n",
       "      <td>3.0</td>\n",
       "      <td>5.0</td>\n",
       "      <td>2.0</td>\n",
       "      <td>31397.0</td>\n",
       "      <td>0.0</td>\n",
       "      <td>2.0</td>\n",
       "      <td>7.0</td>\n",
       "      <td>1.0</td>\n",
       "      <td>0.0</td>\n",
       "      <td>2.0</td>\n",
       "      <td>5.0</td>\n",
       "      <td>5954.0</td>\n",
       "      <td>45.0</td>\n",
       "    </tr>\n",
       "    <tr>\n",
       "      <th>2</th>\n",
       "      <td>3.0</td>\n",
       "      <td>10.0</td>\n",
       "      <td>4.0</td>\n",
       "      <td>1.0</td>\n",
       "      <td>0.0</td>\n",
       "      <td>2.0</td>\n",
       "      <td>1.0</td>\n",
       "      <td>3.0</td>\n",
       "      <td>4.0</td>\n",
       "      <td>2.0</td>\n",
       "      <td>31397.0</td>\n",
       "      <td>0.0</td>\n",
       "      <td>3.0</td>\n",
       "      <td>7.0</td>\n",
       "      <td>1.0</td>\n",
       "      <td>0.0</td>\n",
       "      <td>2.0</td>\n",
       "      <td>5.0</td>\n",
       "      <td>4745.0</td>\n",
       "      <td>35.0</td>\n",
       "    </tr>\n",
       "    <tr>\n",
       "      <th>3</th>\n",
       "      <td>4.0</td>\n",
       "      <td>26.0</td>\n",
       "      <td>1.0</td>\n",
       "      <td>2.0</td>\n",
       "      <td>1.0</td>\n",
       "      <td>2.0</td>\n",
       "      <td>3.0</td>\n",
       "      <td>2.0</td>\n",
       "      <td>3.0</td>\n",
       "      <td>2.0</td>\n",
       "      <td>31397.0</td>\n",
       "      <td>0.0</td>\n",
       "      <td>4.0</td>\n",
       "      <td>7.0</td>\n",
       "      <td>1.0</td>\n",
       "      <td>0.0</td>\n",
       "      <td>2.0</td>\n",
       "      <td>5.0</td>\n",
       "      <td>7272.0</td>\n",
       "      <td>45.0</td>\n",
       "    </tr>\n",
       "    <tr>\n",
       "      <th>4</th>\n",
       "      <td>5.0</td>\n",
       "      <td>26.0</td>\n",
       "      <td>1.0</td>\n",
       "      <td>2.0</td>\n",
       "      <td>1.0</td>\n",
       "      <td>2.0</td>\n",
       "      <td>3.0</td>\n",
       "      <td>3.0</td>\n",
       "      <td>3.0</td>\n",
       "      <td>2.0</td>\n",
       "      <td>31397.0</td>\n",
       "      <td>0.0</td>\n",
       "      <td>5.0</td>\n",
       "      <td>7.0</td>\n",
       "      <td>1.0</td>\n",
       "      <td>0.0</td>\n",
       "      <td>2.0</td>\n",
       "      <td>5.0</td>\n",
       "      <td>5558.0</td>\n",
       "      <td>45.0</td>\n",
       "    </tr>\n",
       "  </tbody>\n",
       "</table>\n",
       "</div>"
      ],
      "text/plain": [
       "   case_id  Hospital_code  Hospital_type_code  City_Code_Hospital  \\\n",
       "0      1.0            8.0                 2.0                 3.0   \n",
       "1      2.0            2.0                 2.0                 5.0   \n",
       "2      3.0           10.0                 4.0                 1.0   \n",
       "3      4.0           26.0                 1.0                 2.0   \n",
       "4      5.0           26.0                 1.0                 2.0   \n",
       "\n",
       "   Hospital_region_code  Available Extra Rooms in Hospital  Department  \\\n",
       "0                   2.0                                3.0         3.0   \n",
       "1                   2.0                                2.0         3.0   \n",
       "2                   0.0                                2.0         1.0   \n",
       "3                   1.0                                2.0         3.0   \n",
       "4                   1.0                                2.0         3.0   \n",
       "\n",
       "   Ward_Type  Ward_Facility_Code  Bed Grade  patientid  New Patient  \\\n",
       "0        2.0                 5.0        2.0    31397.0          1.0   \n",
       "1        3.0                 5.0        2.0    31397.0          0.0   \n",
       "2        3.0                 4.0        2.0    31397.0          0.0   \n",
       "3        2.0                 3.0        2.0    31397.0          0.0   \n",
       "4        3.0                 3.0        2.0    31397.0          0.0   \n",
       "\n",
       "   Visit Number  City_Code_Patient  Type of Admission  Severity of Illness  \\\n",
       "0           1.0                7.0                0.0                  0.0   \n",
       "1           2.0                7.0                1.0                  0.0   \n",
       "2           3.0                7.0                1.0                  0.0   \n",
       "3           4.0                7.0                1.0                  0.0   \n",
       "4           5.0                7.0                1.0                  0.0   \n",
       "\n",
       "   Visitors with Patient  Age  Admission_Deposit  Stay  \n",
       "0                    2.0  5.0             4911.0   5.0  \n",
       "1                    2.0  5.0             5954.0  45.0  \n",
       "2                    2.0  5.0             4745.0  35.0  \n",
       "3                    2.0  5.0             7272.0  45.0  \n",
       "4                    2.0  5.0             5558.0  45.0  "
      ]
     },
     "execution_count": 4,
     "metadata": {},
     "output_type": "execute_result"
    }
   ],
   "source": [
    "df.head()"
   ]
  },
  {
   "cell_type": "code",
   "execution_count": 5,
   "id": "a23c9483",
   "metadata": {},
   "outputs": [
    {
     "data": {
      "text/plain": [
       "True"
      ]
     },
     "execution_count": 5,
     "metadata": {},
     "output_type": "execute_result"
    }
   ],
   "source": [
    "# Checking for NA values\n",
    "df.isnull().values.any()"
   ]
  },
  {
   "cell_type": "code",
   "execution_count": 6,
   "id": "f725e5e3",
   "metadata": {},
   "outputs": [
    {
     "data": {
      "text/plain": [
       "91080"
      ]
     },
     "execution_count": 6,
     "metadata": {},
     "output_type": "execute_result"
    }
   ],
   "source": [
    "# Counting  NA values\n",
    "df.isnull().sum().sum()"
   ]
  },
  {
   "cell_type": "code",
   "execution_count": 7,
   "id": "a1b46027",
   "metadata": {},
   "outputs": [
    {
     "name": "stdout",
     "output_type": "stream",
     "text": [
      "Number of NA values in case_id is : 4554 \n",
      "Number of NA values in Hospital_code is : 4554 \n",
      "Number of NA values in Hospital_type_code is : 4554 \n",
      "Number of NA values in City_Code_Hospital is : 4554 \n",
      "Number of NA values in Hospital_region_code is : 4554 \n",
      "Number of NA values in Available Extra Rooms in Hospital is : 4554 \n",
      "Number of NA values in Department is : 4554 \n",
      "Number of NA values in Ward_Type is : 4554 \n",
      "Number of NA values in Ward_Facility_Code is : 4554 \n",
      "Number of NA values in Bed Grade is : 4554 \n",
      "Number of NA values in patientid is : 4554 \n",
      "Number of NA values in New Patient is : 4554 \n",
      "Number of NA values in Visit Number is : 4554 \n",
      "Number of NA values in City_Code_Patient is : 4554 \n",
      "Number of NA values in Type of Admission is : 4554 \n",
      "Number of NA values in Severity of Illness is : 4554 \n",
      "Number of NA values in Visitors with Patient is : 4554 \n",
      "Number of NA values in Age is : 4554 \n",
      "Number of NA values in Admission_Deposit is : 4554 \n",
      "Number of NA values in Stay is : 4554 \n"
     ]
    }
   ],
   "source": [
    "for column in df.columns :\n",
    "    print(f\"Number of NA values in {column} is : { df[column].isnull().sum()} \")\n"
   ]
  },
  {
   "cell_type": "code",
   "execution_count": 8,
   "id": "b4a80d87",
   "metadata": {},
   "outputs": [],
   "source": [
    "# Dropping these columns for now\n",
    "df = df.dropna()"
   ]
  },
  {
   "cell_type": "code",
   "execution_count": 41,
   "id": "7eda5bfd",
   "metadata": {},
   "outputs": [
    {
     "name": "stdout",
     "output_type": "stream",
     "text": [
      "score : 0.00066\n"
     ]
    }
   ],
   "source": [
    "X = df.drop(['case_id','Stay'], axis=1).values\n",
    "y = df['Stay'].values\n",
    "from sklearn.linear_model import LinearRegression\n",
    "\n",
    "model = LinearRegression(fit_intercept=True)\n",
    "model.fit(X, y)\n",
    "a, b, score = model.coef_, model.intercept_, model.score(X, y)\n",
    "print('score : %.5f' % score)"
   ]
  },
  {
   "cell_type": "code",
   "execution_count": null,
   "id": "67b5967c",
   "metadata": {},
   "outputs": [],
   "source": []
  },
  {
   "cell_type": "code",
   "execution_count": 29,
   "id": "25439767",
   "metadata": {},
   "outputs": [
    {
     "name": "stdout",
     "output_type": "stream",
     "text": [
      "(309239, 18)\n",
      "(309239,)\n"
     ]
    }
   ],
   "source": [
    "print(X.shape)\n",
    "print(y.shape)"
   ]
  },
  {
   "cell_type": "code",
   "execution_count": 30,
   "id": "6dc2e7b1",
   "metadata": {},
   "outputs": [
    {
     "data": {
      "text/plain": [
       "array([ 5., 45., 35., ..., 15., 15.,  5.])"
      ]
     },
     "execution_count": 30,
     "metadata": {},
     "output_type": "execute_result"
    }
   ],
   "source": [
    "y"
   ]
  },
  {
   "cell_type": "code",
   "execution_count": 31,
   "id": "df9cbb99",
   "metadata": {},
   "outputs": [
    {
     "data": {
      "text/plain": [
       "PCA(n_components=5)"
      ]
     },
     "execution_count": 31,
     "metadata": {},
     "output_type": "execute_result"
    }
   ],
   "source": [
    "from sklearn.decomposition import PCA\n",
    "pca = PCA(n_components=5)\n",
    "pca.fit(X)"
   ]
  },
  {
   "cell_type": "code",
   "execution_count": 32,
   "id": "3cdc655c",
   "metadata": {},
   "outputs": [
    {
     "name": "stdout",
     "output_type": "stream",
     "text": [
      "[[ 4.95839624e-07 -1.30013642e-07  4.13867534e-08 -4.19942408e-08\n",
      "   1.07351551e-08  3.42314009e-08  1.88033459e-08  8.64134820e-08\n",
      "   5.60327306e-08  1.00000000e+00 -8.37012213e-09 -2.18130588e-08\n",
      "   2.41733188e-07  3.46252745e-08  8.49654686e-08  3.18846823e-07\n",
      "  -3.23236361e-08 -1.97581130e-05]\n",
      " [ 3.61366526e-04  3.66570916e-05 -9.92442735e-05  5.21495851e-05\n",
      "  -1.54865292e-04 -4.19051445e-05  3.82405650e-05 -3.67590737e-05\n",
      "   6.07880218e-05  1.97579940e-05 -8.56656656e-07 -8.28440393e-06\n",
      "   1.14269062e-04  2.70134082e-05  1.74527752e-05 -2.45310908e-04\n",
      "   4.44898471e-05  9.99999873e-01]\n",
      " [-9.97841356e-01 -7.03249390e-03 -5.37976743e-02  1.20484962e-02\n",
      "   7.53861085e-03 -3.48609941e-04 -1.51593171e-02  2.69337583e-02\n",
      "   1.71030576e-03  4.96627972e-07 -5.10080692e-04  1.22388657e-03\n",
      "   1.30615546e-02  1.28017315e-03  8.55213830e-04  4.51627729e-03\n",
      "  -3.66751177e-03  3.57234233e-04]\n",
      " [ 1.26427118e-02  2.23516718e-02 -2.12896618e-02  2.58764872e-02\n",
      "  -2.02162120e-03  2.73326610e-03  3.69444901e-03 -5.94705409e-02\n",
      "  -2.23465063e-03 -2.38979646e-07  3.35122506e-03 -2.50139543e-02\n",
      "   9.96951452e-01 -4.61181649e-03 -1.39348922e-03 -3.98365250e-03\n",
      "  -7.90913002e-03 -1.25841915e-04]\n",
      " [-5.56529838e-02  6.66337094e-03  9.92295075e-01  1.53993054e-02\n",
      "  -2.21529063e-02  5.82390446e-03  3.17358796e-02 -7.11240606e-02\n",
      "  -1.36077174e-02 -9.71445743e-09 -8.12015559e-03  6.43641803e-02\n",
      "   1.87536885e-02 -1.36633086e-03 -5.44450858e-04  1.22953743e-02\n",
      "   2.19616977e-02  1.11824710e-04]]\n"
     ]
    }
   ],
   "source": [
    "print(pca.components_)"
   ]
  },
  {
   "cell_type": "code",
   "execution_count": 33,
   "id": "8a42d218",
   "metadata": {},
   "outputs": [
    {
     "name": "stdout",
     "output_type": "stream",
     "text": [
      "[1.44220032e+09 1.17751354e+06 7.47027275e+01 2.24281961e+01\n",
      " 9.48997292e+00]\n"
     ]
    }
   ],
   "source": [
    "print(pca.explained_variance_)"
   ]
  },
  {
   "cell_type": "code",
   "execution_count": 34,
   "id": "f67547a4",
   "metadata": {},
   "outputs": [
    {
     "name": "stdout",
     "output_type": "stream",
     "text": [
      "original shape:    (309239, 18)\n",
      "transformed shape: (309239, 5)\n"
     ]
    }
   ],
   "source": [
    "X_pca = pca.transform(X)\n",
    "print(\"original shape:   \", X.shape)\n",
    "print(\"transformed shape:\", X_pca.shape)"
   ]
  },
  {
   "cell_type": "code",
   "execution_count": 35,
   "id": "a3e5adc1",
   "metadata": {},
   "outputs": [
    {
     "name": "stdout",
     "output_type": "stream",
     "text": [
      "(309239, 18)\n"
     ]
    }
   ],
   "source": [
    "X_new = pca.inverse_transform(X_pca)\n",
    "print(X_new.shape)"
   ]
  },
  {
   "cell_type": "code",
   "execution_count": 36,
   "id": "d73af101",
   "metadata": {},
   "outputs": [],
   "source": [
    "from sklearn.model_selection import train_test_split\n",
    "Xtrain, Xtest, ytrain, ytest = train_test_split(X, y, random_state=7)\n",
    "from sklearn.linear_model import LinearRegression\n"
   ]
  },
  {
   "cell_type": "code",
   "execution_count": 37,
   "id": "fd232325",
   "metadata": {},
   "outputs": [
    {
     "name": "stdout",
     "output_type": "stream",
     "text": [
      "0 components used :\n",
      "score : 0.00001\n",
      "1 components used :\n",
      "score : 0.00002\n",
      "2 components used :\n",
      "score : 0.00004\n",
      "3 components used :\n",
      "score : 0.00004\n",
      "4 components used :\n",
      "score : 0.00006\n",
      "5 components used :\n",
      "score : 0.00041\n",
      "6 components used :\n",
      "score : 0.00050\n",
      "7 components used :\n",
      "score : 0.00051\n",
      "8 components used :\n",
      "score : 0.00052\n",
      "9 components used :\n",
      "score : 0.00053\n",
      "10 components used :\n",
      "score : 0.00054\n",
      "11 components used :\n",
      "score : 0.00054\n",
      "12 components used :\n",
      "score : 0.00054\n",
      "13 components used :\n",
      "score : 0.00057\n",
      "14 components used :\n",
      "score : 0.00061\n",
      "15 components used :\n",
      "score : 0.00061\n",
      "16 components used :\n",
      "score : 0.00062\n",
      "17 components used :\n",
      "score : 0.00066\n"
     ]
    }
   ],
   "source": [
    "for i in range(18) :\n",
    "    pca = PCA(i+1)  \n",
    "    X_new = pca.fit_transform(X)\n",
    "    model = LinearRegression(fit_intercept=True)\n",
    "    model.fit(X_new, y)\n",
    "    a, b, score = model.coef_, model.intercept_, model.score(X_new, y)\n",
    "    print(f'{i} components used :')\n",
    "    print('score : %.5f' % score)"
   ]
  },
  {
   "cell_type": "code",
   "execution_count": 38,
   "id": "b38ca930",
   "metadata": {},
   "outputs": [
    {
     "name": "stdout",
     "output_type": "stream",
     "text": [
      "score : 0.00066\n"
     ]
    }
   ],
   "source": [
    "model = LinearRegression(fit_intercept=True)\n",
    "model.fit(X, y)\n",
    "a, b, score = model.coef_, model.intercept_, model.score(X, y)\n",
    "print('score : %.5f' % score)"
   ]
  },
  {
   "cell_type": "code",
   "execution_count": 39,
   "id": "cedcf63e",
   "metadata": {},
   "outputs": [
    {
     "data": {
      "text/plain": [
       "array([[8.000e+00, 2.000e+00, 3.000e+00, ..., 2.000e+00, 5.000e+00,\n",
       "        4.911e+03],\n",
       "       [2.000e+00, 2.000e+00, 5.000e+00, ..., 2.000e+00, 5.000e+00,\n",
       "        5.954e+03],\n",
       "       [1.000e+01, 4.000e+00, 1.000e+00, ..., 2.000e+00, 5.000e+00,\n",
       "        4.745e+03],\n",
       "       ...,\n",
       "       [2.300e+01, 0.000e+00, 6.000e+00, ..., 2.000e+00, 3.000e+00,\n",
       "        4.026e+03],\n",
       "       [1.600e+01, 2.000e+00, 3.000e+00, ..., 4.000e+00, 6.000e+00,\n",
       "        4.347e+03],\n",
       "       [5.000e+00, 0.000e+00, 1.000e+00, ..., 4.000e+00, 7.000e+00,\n",
       "        4.066e+03]])"
      ]
     },
     "execution_count": 39,
     "metadata": {},
     "output_type": "execute_result"
    }
   ],
   "source": []
  },
  {
   "cell_type": "code",
   "execution_count": null,
   "id": "314a4c09",
   "metadata": {},
   "outputs": [],
   "source": []
  }
 ],
 "metadata": {
  "kernelspec": {
   "display_name": "Python 3 (ipykernel)",
   "language": "python",
   "name": "python3"
  },
  "language_info": {
   "codemirror_mode": {
    "name": "ipython",
    "version": 3
   },
   "file_extension": ".py",
   "mimetype": "text/x-python",
   "name": "python",
   "nbconvert_exporter": "python",
   "pygments_lexer": "ipython3",
   "version": "3.8.12"
  }
 },
 "nbformat": 4,
 "nbformat_minor": 5
}
