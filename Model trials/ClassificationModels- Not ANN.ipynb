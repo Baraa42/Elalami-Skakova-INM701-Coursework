{
 "cells": [
  {
   "cell_type": "code",
   "execution_count": 1,
   "id": "bd31e1d3",
   "metadata": {},
   "outputs": [],
   "source": [
    "import os\n",
    "import random\n",
    "import numpy as np\n",
    "import pandas as pd\n",
    "import seaborn as sns\n",
    "import matplotlib.pyplot as plt\n",
    "\n",
    "from sklearn.model_selection import train_test_split\n",
    "from sklearn.preprocessing import LabelEncoder\n",
    "from sklearn.preprocessing import OneHotEncoder\n",
    "\n",
    "\n"
   ]
  },
  {
   "cell_type": "code",
   "execution_count": 2,
   "id": "5fd7f626",
   "metadata": {},
   "outputs": [],
   "source": [
    "random.seed(0)"
   ]
  },
  {
   "cell_type": "code",
   "execution_count": 3,
   "id": "3bda2aaa",
   "metadata": {},
   "outputs": [],
   "source": [
    "## loading the file\n",
    "health_care = pd.read_csv('../healthcare/train_data.csv', na_values=['NA', 'NaN', '?'])"
   ]
  },
  {
   "cell_type": "code",
   "execution_count": 11,
   "id": "fbdddf2c",
   "metadata": {},
   "outputs": [],
   "source": [
    "# Dropping na values for \n",
    "#health_care = health_care.dropna()"
   ]
  },
  {
   "cell_type": "markdown",
   "id": "9a84a569",
   "metadata": {},
   "source": [
    "\n",
    "## Feature engineering\n",
    "\n",
    "We will add 2 features : \n",
    "- Visit number\n",
    "- New Patient"
   ]
  },
  {
   "cell_type": "code",
   "execution_count": 54,
   "id": "44c068fb",
   "metadata": {},
   "outputs": [],
   "source": [
    "n = health_care.shape[0]\n",
    "visits = []\n",
    "patientid = np.array(health_care['patientid'])\n",
    "for i in range(n) :\n",
    "    count = (patientid[:i+1] == patientid[i]).sum()\n",
    "    visits.append(count)\n",
    "    \n",
    "health_care['Visit Number'] = visits\n",
    "health_care['New Patient'] = (health_care['Visit Number']==1).astype('int32')"
   ]
  },
  {
   "cell_type": "markdown",
   "id": "ceee82dd",
   "metadata": {},
   "source": [
    "## Hot encoded Data"
   ]
  },
  {
   "cell_type": "code",
   "execution_count": 4,
   "id": "febd8b99",
   "metadata": {},
   "outputs": [],
   "source": [
    "# Function to hot encode the column with name : name for dataframe df\n",
    "def encode_text_dummy(df, name):\n",
    "    dummies = pd.get_dummies(df[name])\n",
    "    for x in dummies.columns:\n",
    "        dummy_name = f\"{name}-{x}\"\n",
    "        df[dummy_name] = dummies[x]\n",
    "    df.drop(name, axis=1, inplace=True) ## inplace to make changed on the original df"
   ]
  },
  {
   "cell_type": "code",
   "execution_count": 5,
   "id": "f38411c3",
   "metadata": {},
   "outputs": [],
   "source": [
    "## Pre processing these columns\n",
    "\n",
    "le_string_columns = [  'Severity of Illness', 'Age' ]\n",
    "dummies_string_columns = ['Hospital_type_code', 'Hospital_region_code', 'Department', 'Ward_Type', 'Ward_Facility_Code',  'Type of Admission']\n",
    "encoder = LabelEncoder()\n",
    "#ohEncoder = OneHotEncoder()\n",
    "\n",
    "## label_encoded data\n",
    "Xe = health_care.drop(['Stay', 'case_id', 'City_Code_Hospital','City_Code_Patient', 'Bed Grade'], axis=1)\n",
    "Xe['Severity of Illness']= Xe['Severity of Illness'].map({'Minor': 0,  'Moderate': 1,'Extreme': 2})\n",
    "Xe['Age'] = encoder.fit_transform(Xe['Age'])\n",
    "\n",
    "ye = health_care['Stay']\n",
    "ye = encoder.fit_transform(ye)\n",
    "\n",
    "\n",
    "for column in dummies_string_columns :\n",
    "    encode_text_dummy(Xe, column)\n",
    "    "
   ]
  },
  {
   "cell_type": "code",
   "execution_count": 6,
   "id": "d9735405",
   "metadata": {},
   "outputs": [
    {
     "data": {
      "text/plain": [
       "False"
      ]
     },
     "execution_count": 6,
     "metadata": {},
     "output_type": "execute_result"
    }
   ],
   "source": [
    "#checking for missing values\n",
    "Xe.isnull().values.any()"
   ]
  },
  {
   "cell_type": "markdown",
   "id": "b3280c5d",
   "metadata": {},
   "source": [
    "## Scaling Hot Encoded Data"
   ]
  },
  {
   "cell_type": "code",
   "execution_count": 7,
   "id": "29bdbc90",
   "metadata": {},
   "outputs": [],
   "source": [
    "from sklearn.preprocessing import StandardScaler\n",
    "scaler = StandardScaler()\n",
    "X = Xe.values\n",
    "y = ye\n",
    "X_train, X_test, y_train, y_test = train_test_split(X, y, test_size=0.25)\n",
    "for i in range(X_train.shape[1]) :\n",
    "    X_train[:,i]= scaler.fit_transform(X_train[:,i].reshape(-1, 1))[:,0]\n",
    "    X_test[:,i] = scaler.transform(X_test[:,i].reshape(-1, 1))[:,0]"
   ]
  },
  {
   "cell_type": "markdown",
   "id": "c019a17d",
   "metadata": {},
   "source": [
    "# Metrics to use for this dataset"
   ]
  },
  {
   "cell_type": "code",
   "execution_count": 8,
   "id": "41cf54ea",
   "metadata": {},
   "outputs": [],
   "source": [
    "K = 10\n",
    "def score(y_test, y_pred):\n",
    "    score = 1-np.mean(np.abs(y_test-y_pred))/K\n",
    "    return score\n",
    "    "
   ]
  },
  {
   "cell_type": "markdown",
   "id": "6366bdfa",
   "metadata": {},
   "source": [
    "# Classification models to try :\n",
    "\n",
    "- Decision trees\n",
    "- K nearest neighbor\n",
    "- PCA\n",
    "- Random Forest\n"
   ]
  },
  {
   "cell_type": "markdown",
   "id": "6f2cb466",
   "metadata": {},
   "source": [
    "# Decision Trees"
   ]
  },
  {
   "cell_type": "code",
   "execution_count": 9,
   "id": "2fb37edd",
   "metadata": {},
   "outputs": [],
   "source": [
    "from sklearn.model_selection import KFold\n",
    "from sklearn.tree import DecisionTreeClassifier\n",
    "from sklearn.metrics import accuracy_score, confusion_matrix"
   ]
  },
  {
   "cell_type": "code",
   "execution_count": 19,
   "id": "f744ccfe",
   "metadata": {},
   "outputs": [
    {
     "data": {
      "text/plain": [
       "DecisionTreeClassifier(criterion='entropy')"
      ]
     },
     "execution_count": 19,
     "metadata": {},
     "output_type": "execute_result"
    }
   ],
   "source": [
    "tree = DecisionTreeClassifier(criterion='entropy')\n",
    "tree.fit(X_train, y_train)\n"
   ]
  },
  {
   "cell_type": "code",
   "execution_count": 20,
   "id": "dfa700f1",
   "metadata": {},
   "outputs": [
    {
     "data": {
      "text/plain": [
       "(238828,)"
      ]
     },
     "execution_count": 20,
     "metadata": {},
     "output_type": "execute_result"
    }
   ],
   "source": [
    "y_train.shape"
   ]
  },
  {
   "cell_type": "code",
   "execution_count": 21,
   "id": "b84c3c6f",
   "metadata": {},
   "outputs": [
    {
     "data": {
      "text/plain": [
       "array([2, 2, 3, ..., 1, 2, 3])"
      ]
     },
     "execution_count": 21,
     "metadata": {},
     "output_type": "execute_result"
    }
   ],
   "source": [
    "y_train"
   ]
  },
  {
   "cell_type": "code",
   "execution_count": 22,
   "id": "5f23e317",
   "metadata": {},
   "outputs": [],
   "source": [
    "y_pred = tree.predict(X_test)"
   ]
  },
  {
   "cell_type": "code",
   "execution_count": 23,
   "id": "08ab830f",
   "metadata": {},
   "outputs": [],
   "source": [
    "acc = accuracy_score(y_test, y_pred)"
   ]
  },
  {
   "cell_type": "code",
   "execution_count": 24,
   "id": "a420aadf",
   "metadata": {},
   "outputs": [
    {
     "data": {
      "text/plain": [
       "0.28600678306745386"
      ]
     },
     "execution_count": 24,
     "metadata": {},
     "output_type": "execute_result"
    }
   ],
   "source": [
    "acc"
   ]
  },
  {
   "cell_type": "code",
   "execution_count": 10,
   "id": "5fb8f276",
   "metadata": {},
   "outputs": [],
   "source": [
    "from sklearn.metrics import ConfusionMatrixDisplay\n"
   ]
  },
  {
   "cell_type": "code",
   "execution_count": null,
   "id": "ef3430f4",
   "metadata": {},
   "outputs": [],
   "source": [
    "cm = confusion_matrix(y_test, y_pred)"
   ]
  },
  {
   "cell_type": "code",
   "execution_count": 26,
   "id": "caab4a19",
   "metadata": {},
   "outputs": [
    {
     "data": {
      "image/png": "[encoded data removed]",
      "text/plain": [
       "<Figure size 432x288 with 2 Axes>"
      ]
     },
     "metadata": {
      "needs_background": "light"
     },
     "output_type": "display_data"
    }
   ],
   "source": [
    "disp = ConfusionMatrixDisplay(cm)\n",
    "disp.plot()\n",
    "plt.show()"
   ]
  },
  {
   "cell_type": "code",
   "execution_count": 27,
   "id": "1d561703",
   "metadata": {},
   "outputs": [
    {
     "name": "stdout",
     "output_type": "stream",
     "text": [
      "0.8472289913327471\n"
     ]
    }
   ],
   "source": [
    "print(score(y_test, y_pred))"
   ]
  },
  {
   "cell_type": "code",
   "execution_count": 28,
   "id": "e60eaac6",
   "metadata": {},
   "outputs": [
    {
     "name": "stdout",
     "output_type": "stream",
     "text": [
      "Accuracy : 0.2869\n",
      "Score : 0.8472\n",
      "Accuracy : 0.2850\n",
      "Score : 0.8470\n",
      "Accuracy : 0.2855\n",
      "Score : 0.8473\n",
      "Accuracy : 0.2863\n",
      "Score : 0.8475\n",
      "Accuracy : 0.2855\n",
      "Score : 0.8480\n"
     ]
    }
   ],
   "source": [
    "kf = KFold(5, shuffle=True)\n",
    "fold = 1\n",
    "\n",
    "for train_index, validate_index in kf.split(X,y):\n",
    "    tree.fit(X[train_index], y[train_index])\n",
    "    y_test = y[validate_index]\n",
    "    y_pred = tree.predict(X[validate_index])\n",
    "    print(f'Accuracy : %.4f' % accuracy_score(y_test, y_pred))\n",
    "    print(f'Score : %.4f' % score(y_test, y_pred))"
   ]
  },
  {
   "cell_type": "code",
   "execution_count": 36,
   "id": "81cad25e",
   "metadata": {},
   "outputs": [
    {
     "data": {
      "text/plain": [
       "DecisionTreeClassifier()"
      ]
     },
     "execution_count": 36,
     "metadata": {},
     "output_type": "execute_result"
    }
   ],
   "source": [
    "tree = DecisionTreeClassifier(criterion='gini')\n",
    "tree.fit(X_train, y_train)\n"
   ]
  },
  {
   "cell_type": "code",
   "execution_count": 37,
   "id": "4c9f23b9",
   "metadata": {},
   "outputs": [],
   "source": [
    "y_pred = tree.predict(X_test)\n"
   ]
  },
  {
   "cell_type": "code",
   "execution_count": 38,
   "id": "9f33b895",
   "metadata": {},
   "outputs": [
    {
     "data": {
      "text/plain": [
       "(79610,)"
      ]
     },
     "execution_count": 38,
     "metadata": {},
     "output_type": "execute_result"
    }
   ],
   "source": [
    "y_pred.shape"
   ]
  },
  {
   "cell_type": "code",
   "execution_count": 39,
   "id": "c2b35cd7",
   "metadata": {},
   "outputs": [
    {
     "data": {
      "text/plain": [
       "(79610,)"
      ]
     },
     "execution_count": 39,
     "metadata": {},
     "output_type": "execute_result"
    }
   ],
   "source": [
    "y_test.shape"
   ]
  },
  {
   "cell_type": "code",
   "execution_count": 40,
   "id": "ac3565be",
   "metadata": {},
   "outputs": [
    {
     "name": "stdout",
     "output_type": "stream",
     "text": [
      "0.2836201482225851\n"
     ]
    }
   ],
   "source": [
    "print(accuracy_score(y_test, y_pred))"
   ]
  },
  {
   "cell_type": "code",
   "execution_count": 41,
   "id": "86c75e1d",
   "metadata": {},
   "outputs": [
    {
     "name": "stdout",
     "output_type": "stream",
     "text": [
      "0.8464853661600301\n"
     ]
    }
   ],
   "source": [
    "print(score(y_test, y_pred))"
   ]
  },
  {
   "cell_type": "markdown",
   "id": "c46ce62b",
   "metadata": {},
   "source": [
    "### Adding PCA\n"
   ]
  },
  {
   "cell_type": "code",
   "execution_count": null,
   "id": "36cb1ef0",
   "metadata": {},
   "outputs": [],
   "source": [
    "from sklearn.decomposition import PCA\n",
    "pca = PCA(5)\n",
    "\n",
    "Xp = pca.fit_transform(X)\n",
    "X_train, X_test, y_train, y_test = train_test_split(Xp, y, test_size=0.25)\n",
    "for i in range(X_train.shape[1]) :\n",
    "    X_train[:,i]= scaler.fit_transform(X_train[:,i].reshape(-1, 1))[:,0]\n",
    "    X_test[:,i] = scaler.transform(X_test[:,i].reshape(-1, 1))[:,0]\n",
    "\n"
   ]
  },
  {
   "cell_type": "code",
   "execution_count": null,
   "id": "cd3ea2f3",
   "metadata": {},
   "outputs": [],
   "source": [
    "tree.fit(X_train, y_train)\n",
    "y_pred = tree.predict(X_test)"
   ]
  },
  {
   "cell_type": "code",
   "execution_count": null,
   "id": "591696b1",
   "metadata": {},
   "outputs": [],
   "source": [
    "print(accuracy_score(y_test, y_pred))"
   ]
  },
  {
   "cell_type": "code",
   "execution_count": null,
   "id": "a1639af0",
   "metadata": {},
   "outputs": [],
   "source": [
    "print(score(y_test, y_pred,11))"
   ]
  },
  {
   "cell_type": "markdown",
   "id": "d69de068",
   "metadata": {},
   "source": [
    "# SVM"
   ]
  },
  {
   "cell_type": "code",
   "execution_count": null,
   "id": "ebde74d5",
   "metadata": {},
   "outputs": [],
   "source": [
    "from sklearn.svm import SVC\n",
    "model = SVC(kernel='linear', C=1E10)\n",
    "\n",
    "X_train, X_test, y_train, y_test = train_test_split(X, y, test_size=0.25)\n",
    "for i in range(X_train.shape[1]) :\n",
    "    X_train[:,i]= scaler.fit_transform(X_train[:,i].reshape(-1, 1))[:,0]\n",
    "    X_test[:,i] = scaler.transform(X_test[:,i].reshape(-1, 1))[:,0]\n",
    "    \n",
    "model.fit(X_train,y_train)"
   ]
  },
  {
   "cell_type": "code",
   "execution_count": null,
   "id": "0a4916b1",
   "metadata": {},
   "outputs": [],
   "source": [
    "y_pred = model.predict(X_test)\n",
    "print(f'Accuracy : %.3f' % accuracy_score(y_test, y_pred))\n",
    "print(f'Score : %.2f' % score(y_test, y_pred,11))\n",
    "\n",
    "cm = confusion_matrix(y_test, y_pred)\n",
    "disp = ConfusionMatrixDisplay(cm)\n",
    "disp.plot()\n",
    "plt.show()"
   ]
  },
  {
   "cell_type": "markdown",
   "id": "04af3cf4",
   "metadata": {},
   "source": [
    "# Random Forest"
   ]
  },
  {
   "cell_type": "code",
   "execution_count": 42,
   "id": "2b4ba955",
   "metadata": {},
   "outputs": [],
   "source": [
    "from sklearn.ensemble import RandomForestClassifier\n",
    "from sklearn.model_selection import cross_validate"
   ]
  },
  {
   "cell_type": "code",
   "execution_count": 59,
   "id": "d206ac8a",
   "metadata": {},
   "outputs": [
    {
     "data": {
      "text/plain": [
       "RandomForestClassifier(criterion='entropy', n_estimators=10)"
      ]
     },
     "execution_count": 59,
     "metadata": {},
     "output_type": "execute_result"
    }
   ],
   "source": [
    "forest = RandomForestClassifier(n_estimators=10, criterion='entropy')\n",
    "forest.fit(X_train, y_train)"
   ]
  },
  {
   "cell_type": "code",
   "execution_count": 60,
   "id": "b32303f2",
   "metadata": {},
   "outputs": [
    {
     "name": "stdout",
     "output_type": "stream",
     "text": [
      "Accuracy : 0.342\n",
      "Score : 0.8722\n"
     ]
    },
    {
     "data": {
      "image/png": "[encoded data removed]",
      "text/plain": [
       "<Figure size 432x288 with 2 Axes>"
      ]
     },
     "metadata": {
      "needs_background": "light"
     },
     "output_type": "display_data"
    }
   ],
   "source": [
    "y_pred = forest.predict(X_test)\n",
    "print(f'Accuracy : %.3f' % accuracy_score(y_test, y_pred))\n",
    "print(f'Score : %.4f' % score(y_test, y_pred))\n",
    "\n",
    "cm = confusion_matrix(y_test, y_pred)\n",
    "disp = ConfusionMatrixDisplay(cm)\n",
    "disp.plot()\n",
    "plt.show()"
   ]
  },
  {
   "cell_type": "code",
   "execution_count": 61,
   "id": "e4eb6f24",
   "metadata": {},
   "outputs": [
    {
     "name": "stdout",
     "output_type": "stream",
     "text": [
      "Accuracy : 0.3410\n",
      "Score : 0.8706\n",
      "Accuracy : 0.3419\n",
      "Score : 0.8718\n",
      "Accuracy : 0.3407\n",
      "Score : 0.8717\n",
      "Accuracy : 0.3420\n",
      "Score : 0.8720\n",
      "Accuracy : 0.3397\n",
      "Score : 0.8717\n"
     ]
    }
   ],
   "source": [
    "kf = KFold(5, shuffle=True)\n",
    "fold = 1\n",
    "\n",
    "for train_index, validate_index in kf.split(X,y):\n",
    "    forest.fit(X[train_index], y[train_index])\n",
    "    ytest = y[validate_index]\n",
    "    y_pred = forest.predict(X[validate_index])\n",
    "    print(f'Accuracy : %.4f' % accuracy_score(ytest, y_pred))\n",
    "    print(f'Score : %.4f' % score(ytest, y_pred))"
   ]
  },
  {
   "cell_type": "code",
   "execution_count": 69,
   "id": "47d6d65b",
   "metadata": {},
   "outputs": [
    {
     "name": "stdout",
     "output_type": "stream",
     "text": [
      "Accuracy 1 estimators : 0.2802\n",
      "Score 1 estimators : 0.8446\n",
      "Accuracy 2 estimators : 0.2922\n",
      "Score 2 estimators : 0.8535\n",
      "Accuracy 3 estimators : 0.3032\n",
      "Score 3 estimators : 0.8568\n",
      "Accuracy 4 estimators : 0.3108\n",
      "Score 4 estimators : 0.8585\n",
      "Accuracy 5 estimators : 0.3221\n",
      "Score 5 estimators : 0.8636\n",
      "Accuracy 6 estimators : 0.3245\n",
      "Score 6 estimators : 0.8650\n",
      "Accuracy 7 estimators : 0.3316\n",
      "Score 7 estimators : 0.8682\n",
      "Accuracy 8 estimators : 0.3365\n",
      "Score 8 estimators : 0.8696\n",
      "Accuracy 9 estimators : 0.3387\n",
      "Score 9 estimators : 0.8707\n",
      "Accuracy 10 estimators : 0.3418\n",
      "Score 10 estimators : 0.8714\n",
      "Accuracy 11 estimators : 0.3445\n",
      "Score 11 estimators : 0.8725\n",
      "Accuracy 12 estimators : 0.3452\n",
      "Score 12 estimators : 0.8731\n",
      "Accuracy 13 estimators : 0.3488\n",
      "Score 13 estimators : 0.8745\n",
      "Accuracy 14 estimators : 0.3490\n",
      "Score 14 estimators : 0.8745\n",
      "Accuracy 15 estimators : 0.3509\n",
      "Score 15 estimators : 0.8748\n",
      "Accuracy 16 estimators : 0.3531\n",
      "Score 16 estimators : 0.8757\n",
      "Accuracy 17 estimators : 0.3545\n",
      "Score 17 estimators : 0.8762\n",
      "Accuracy 18 estimators : 0.3549\n",
      "Score 18 estimators : 0.8759\n",
      "Accuracy 19 estimators : 0.3561\n",
      "Score 19 estimators : 0.8769\n",
      "Accuracy 20 estimators : 0.3573\n",
      "Score 20 estimators : 0.8772\n",
      "Accuracy 21 estimators : 0.3589\n",
      "Score 21 estimators : 0.8780\n",
      "Accuracy 22 estimators : 0.3570\n",
      "Score 22 estimators : 0.8770\n",
      "Accuracy 23 estimators : 0.3597\n",
      "Score 23 estimators : 0.8780\n",
      "Accuracy 24 estimators : 0.3593\n",
      "Score 24 estimators : 0.8781\n",
      "Accuracy 25 estimators : 0.3596\n",
      "Score 25 estimators : 0.8782\n",
      "Accuracy 26 estimators : 0.3623\n",
      "Score 26 estimators : 0.8787\n",
      "Accuracy 27 estimators : 0.3612\n",
      "Score 27 estimators : 0.8781\n",
      "Accuracy 28 estimators : 0.3613\n",
      "Score 28 estimators : 0.8788\n",
      "Accuracy 29 estimators : 0.3628\n",
      "Score 29 estimators : 0.8789\n",
      "Accuracy 30 estimators : 0.3627\n",
      "Score 30 estimators : 0.8791\n",
      "Accuracy 31 estimators : 0.3640\n",
      "Score 31 estimators : 0.8791\n",
      "Accuracy 32 estimators : 0.3644\n",
      "Score 32 estimators : 0.8793\n",
      "Accuracy 33 estimators : 0.3632\n",
      "Score 33 estimators : 0.8793\n",
      "Accuracy 34 estimators : 0.3654\n",
      "Score 34 estimators : 0.8798\n",
      "Accuracy 35 estimators : 0.3666\n",
      "Score 35 estimators : 0.8802\n",
      "Accuracy 36 estimators : 0.3642\n",
      "Score 36 estimators : 0.8797\n",
      "Accuracy 37 estimators : 0.3650\n",
      "Score 37 estimators : 0.8799\n",
      "Accuracy 38 estimators : 0.3666\n",
      "Score 38 estimators : 0.8799\n",
      "Accuracy 39 estimators : 0.3652\n",
      "Score 39 estimators : 0.8801\n",
      "Accuracy 40 estimators : 0.3657\n",
      "Score 40 estimators : 0.8801\n",
      "Accuracy 41 estimators : 0.3661\n",
      "Score 41 estimators : 0.8801\n",
      "Accuracy 42 estimators : 0.3670\n",
      "Score 42 estimators : 0.8804\n",
      "Accuracy 43 estimators : 0.3683\n",
      "Score 43 estimators : 0.8808\n",
      "Accuracy 44 estimators : 0.3682\n",
      "Score 44 estimators : 0.8808\n",
      "Accuracy 45 estimators : 0.3673\n",
      "Score 45 estimators : 0.8807\n",
      "Accuracy 46 estimators : 0.3670\n",
      "Score 46 estimators : 0.8805\n",
      "Accuracy 47 estimators : 0.3679\n",
      "Score 47 estimators : 0.8807\n",
      "Accuracy 48 estimators : 0.3681\n",
      "Score 48 estimators : 0.8809\n",
      "Accuracy 49 estimators : 0.3682\n",
      "Score 49 estimators : 0.8809\n",
      "Accuracy 50 estimators : 0.3662\n",
      "Score 50 estimators : 0.8803\n",
      "Accuracy 51 estimators : 0.3680\n",
      "Score 51 estimators : 0.8808\n",
      "Accuracy 52 estimators : 0.3680\n",
      "Score 52 estimators : 0.8806\n",
      "Accuracy 53 estimators : 0.3682\n",
      "Score 53 estimators : 0.8811\n",
      "Accuracy 54 estimators : 0.3689\n",
      "Score 54 estimators : 0.8810\n",
      "Accuracy 55 estimators : 0.3707\n",
      "Score 55 estimators : 0.8813\n",
      "Accuracy 56 estimators : 0.3690\n",
      "Score 56 estimators : 0.8810\n",
      "Accuracy 57 estimators : 0.3699\n",
      "Score 57 estimators : 0.8811\n",
      "Accuracy 58 estimators : 0.3685\n",
      "Score 58 estimators : 0.8808\n",
      "Accuracy 59 estimators : 0.3698\n",
      "Score 59 estimators : 0.8812\n",
      "Accuracy 60 estimators : 0.3692\n",
      "Score 60 estimators : 0.8814\n",
      "Accuracy 61 estimators : 0.3699\n",
      "Score 61 estimators : 0.8810\n",
      "Accuracy 62 estimators : 0.3685\n",
      "Score 62 estimators : 0.8809\n",
      "Accuracy 63 estimators : 0.3712\n",
      "Score 63 estimators : 0.8815\n",
      "Accuracy 64 estimators : 0.3697\n",
      "Score 64 estimators : 0.8813\n",
      "Accuracy 65 estimators : 0.3704\n",
      "Score 65 estimators : 0.8812\n",
      "Accuracy 66 estimators : 0.3703\n",
      "Score 66 estimators : 0.8814\n",
      "Accuracy 67 estimators : 0.3700\n",
      "Score 67 estimators : 0.8812\n",
      "Accuracy 68 estimators : 0.3702\n",
      "Score 68 estimators : 0.8813\n",
      "Accuracy 69 estimators : 0.3702\n",
      "Score 69 estimators : 0.8814\n",
      "Accuracy 70 estimators : 0.3724\n",
      "Score 70 estimators : 0.8818\n",
      "Accuracy 71 estimators : 0.3715\n",
      "Score 71 estimators : 0.8819\n",
      "Accuracy 72 estimators : 0.3704\n",
      "Score 72 estimators : 0.8816\n",
      "Accuracy 73 estimators : 0.3721\n",
      "Score 73 estimators : 0.8819\n",
      "Accuracy 74 estimators : 0.3704\n",
      "Score 74 estimators : 0.8813\n",
      "Accuracy 75 estimators : 0.3716\n",
      "Score 75 estimators : 0.8818\n",
      "Accuracy 76 estimators : 0.3728\n",
      "Score 76 estimators : 0.8821\n",
      "Accuracy 77 estimators : 0.3714\n",
      "Score 77 estimators : 0.8814\n",
      "Accuracy 78 estimators : 0.3696\n",
      "Score 78 estimators : 0.8815\n",
      "Accuracy 79 estimators : 0.3717\n",
      "Score 79 estimators : 0.8818\n",
      "Accuracy 80 estimators : 0.3711\n",
      "Score 80 estimators : 0.8817\n",
      "Accuracy 81 estimators : 0.3724\n",
      "Score 81 estimators : 0.8820\n",
      "Accuracy 82 estimators : 0.3693\n",
      "Score 82 estimators : 0.8816\n",
      "Accuracy 83 estimators : 0.3718\n",
      "Score 83 estimators : 0.8819\n",
      "Accuracy 84 estimators : 0.3720\n",
      "Score 84 estimators : 0.8819\n",
      "Accuracy 85 estimators : 0.3717\n",
      "Score 85 estimators : 0.8820\n",
      "Accuracy 86 estimators : 0.3712\n",
      "Score 86 estimators : 0.8819\n",
      "Accuracy 87 estimators : 0.3719\n",
      "Score 87 estimators : 0.8820\n",
      "Accuracy 88 estimators : 0.3724\n",
      "Score 88 estimators : 0.8822\n",
      "Accuracy 89 estimators : 0.3712\n",
      "Score 89 estimators : 0.8819\n",
      "Accuracy 90 estimators : 0.3716\n",
      "Score 90 estimators : 0.8820\n",
      "Accuracy 91 estimators : 0.3707\n",
      "Score 91 estimators : 0.8815\n",
      "Accuracy 92 estimators : 0.3728\n",
      "Score 92 estimators : 0.8821\n",
      "Accuracy 93 estimators : 0.3718\n",
      "Score 93 estimators : 0.8819\n",
      "Accuracy 94 estimators : 0.3728\n",
      "Score 94 estimators : 0.8822\n",
      "Accuracy 95 estimators : 0.3725\n",
      "Score 95 estimators : 0.8819\n",
      "Accuracy 96 estimators : 0.3739\n",
      "Score 96 estimators : 0.8825\n",
      "Accuracy 97 estimators : 0.3714\n",
      "Score 97 estimators : 0.8819\n",
      "Accuracy 98 estimators : 0.3737\n",
      "Score 98 estimators : 0.8823\n",
      "Accuracy 99 estimators : 0.3708\n",
      "Score 99 estimators : 0.8817\n",
      "Accuracy 100 estimators : 0.3728\n",
      "Score 100 estimators : 0.8822\n",
      "Accuracy 101 estimators : 0.3734\n",
      "Score 101 estimators : 0.8826\n",
      "Accuracy 102 estimators : 0.3725\n",
      "Score 102 estimators : 0.8822\n",
      "Accuracy 103 estimators : 0.3727\n",
      "Score 103 estimators : 0.8823\n",
      "Accuracy 104 estimators : 0.3723\n",
      "Score 104 estimators : 0.8822\n",
      "Accuracy 105 estimators : 0.3725\n",
      "Score 105 estimators : 0.8822\n",
      "Accuracy 106 estimators : 0.3723\n",
      "Score 106 estimators : 0.8823\n",
      "Accuracy 107 estimators : 0.3731\n",
      "Score 107 estimators : 0.8823\n",
      "Accuracy 108 estimators : 0.3730\n",
      "Score 108 estimators : 0.8823\n",
      "Accuracy 109 estimators : 0.3743\n",
      "Score 109 estimators : 0.8825\n",
      "Accuracy 110 estimators : 0.3747\n",
      "Score 110 estimators : 0.8826\n",
      "Accuracy 111 estimators : 0.3737\n",
      "Score 111 estimators : 0.8824\n",
      "Accuracy 112 estimators : 0.3717\n",
      "Score 112 estimators : 0.8821\n",
      "Accuracy 113 estimators : 0.3721\n",
      "Score 113 estimators : 0.8822\n",
      "Accuracy 114 estimators : 0.3739\n",
      "Score 114 estimators : 0.8825\n",
      "Accuracy 115 estimators : 0.3716\n",
      "Score 115 estimators : 0.8822\n",
      "Accuracy 116 estimators : 0.3728\n",
      "Score 116 estimators : 0.8821\n",
      "Accuracy 117 estimators : 0.3740\n",
      "Score 117 estimators : 0.8824\n",
      "Accuracy 118 estimators : 0.3729\n",
      "Score 118 estimators : 0.8824\n",
      "Accuracy 119 estimators : 0.3731\n",
      "Score 119 estimators : 0.8825\n",
      "Accuracy 120 estimators : 0.3735\n",
      "Score 120 estimators : 0.8825\n",
      "Accuracy 121 estimators : 0.3737\n",
      "Score 121 estimators : 0.8824\n",
      "Accuracy 122 estimators : 0.3739\n",
      "Score 122 estimators : 0.8824\n",
      "Accuracy 123 estimators : 0.3707\n",
      "Score 123 estimators : 0.8819\n",
      "Accuracy 124 estimators : 0.3727\n",
      "Score 124 estimators : 0.8825\n",
      "Accuracy 125 estimators : 0.3741\n",
      "Score 125 estimators : 0.8826\n",
      "Accuracy 126 estimators : 0.3723\n",
      "Score 126 estimators : 0.8821\n",
      "Accuracy 127 estimators : 0.3741\n",
      "Score 127 estimators : 0.8826\n"
     ]
    }
   ],
   "source": [
    "accuracy_data = []\n",
    "score_data = []\n",
    "\n",
    "for i in range(1,128):\n",
    "    forest = RandomForestClassifier(n_estimators=i, criterion='entropy')\n",
    "    forest.fit(X_train, y_train)\n",
    "    y_pred = forest.predict(X_test)\n",
    "    accuracy = accuracy_score(y_test, y_pred)\n",
    "    score = 1-np.mean(np.abs(y_test-y_pred))/K\n",
    "    print(f'Accuracy {i} estimators : %.4f' % accuracy)\n",
    "    print(f'Score {i} estimators : %.4f' % score)\n",
    "    accuracy_data.append(accuracy)\n",
    "    score_data.append(score)\n",
    "    \n",
    "    "
   ]
  },
  {
   "cell_type": "code",
   "execution_count": 75,
   "id": "3e4a2b8c",
   "metadata": {},
   "outputs": [
    {
     "data": {
      "image/png": "[encoded data removed]",
      "text/plain": [
       "<Figure size 432x360 with 1 Axes>"
      ]
     },
     "metadata": {
      "needs_background": "light"
     },
     "output_type": "display_data"
    }
   ],
   "source": [
    "nums = np.arange(1,128)\n",
    "fig = plt.figure(figsize=(6,5))\n",
    "plt.plot(nums, accuracy_data, c='r', label='Accuracy')\n",
    "plt.plot(nums, score_data, label='Score')\n",
    "plt.xlabel('Number of Trees')\n",
    "plt.ylabel('Accuracy and Score')\n",
    "plt.legend(loc='upper right')\n",
    "plt.show()"
   ]
  },
  {
   "cell_type": "code",
   "execution_count": 78,
   "id": "3a30a171",
   "metadata": {},
   "outputs": [
    {
     "name": "stdout",
     "output_type": "stream",
     "text": [
      "Accuracy : 0.374\n",
      "Score : 0.88\n"
     ]
    },
    {
     "data": {
      "image/png": "[encoded data removed]",
      "text/plain": [
       "<Figure size 432x288 with 2 Axes>"
      ]
     },
     "metadata": {
      "needs_background": "light"
     },
     "output_type": "display_data"
    }
   ],
   "source": [
    "y_pred = forest.predict(X_test)\n",
    "print(f'Accuracy : %.3f' % accuracy_score(y_test, y_pred))\n",
    "score = 1-np.mean(np.abs(y_test-y_pred))/K\n",
    "print(f'Score : %.2f' % score)\n",
    "\n",
    "\n",
    "cm = confusion_matrix(y_test, y_pred)\n",
    "disp = ConfusionMatrixDisplay(cm )\n",
    "disp.plot()\n",
    "plt.show();"
   ]
  },
  {
   "cell_type": "code",
   "execution_count": 79,
   "id": "bed4aaaa",
   "metadata": {},
   "outputs": [
    {
     "data": {
      "image/png": "[encoded data removed]",
      "text/plain": [
       "<Figure size 432x288 with 2 Axes>"
      ]
     },
     "metadata": {
      "needs_background": "light"
     },
     "output_type": "display_data"
    }
   ],
   "source": [
    "cm_reduced = cm[:6,:6]\n",
    "\n",
    "cm = confusion_matrix(y_test, y_pred);\n",
    "disp = ConfusionMatrixDisplay(cm_reduced)\n",
    "disp.plot();"
   ]
  },
  {
   "cell_type": "markdown",
   "id": "8d95f6d0",
   "metadata": {},
   "source": [
    "# Naive Bayes"
   ]
  },
  {
   "cell_type": "code",
   "execution_count": 137,
   "id": "5bb89054",
   "metadata": {},
   "outputs": [
    {
     "data": {
      "text/plain": [
       "GaussianNB(var_smoothing=1.1)"
      ]
     },
     "execution_count": 137,
     "metadata": {},
     "output_type": "execute_result"
    }
   ],
   "source": [
    "from sklearn.naive_bayes import GaussianNB\n",
    "model = GaussianNB(var_smoothing=1.1)\n",
    "model.fit(X_test, y_test)\n"
   ]
  },
  {
   "cell_type": "code",
   "execution_count": 138,
   "id": "6557f9e1",
   "metadata": {},
   "outputs": [
    {
     "name": "stdout",
     "output_type": "stream",
     "text": [
      "Accuracy : 0.311\n",
      "Score : 0.8517\n"
     ]
    },
    {
     "data": {
      "image/png": "[encoded data removed]",
      "text/plain": [
       "<Figure size 432x288 with 2 Axes>"
      ]
     },
     "metadata": {
      "needs_background": "light"
     },
     "output_type": "display_data"
    }
   ],
   "source": [
    "y_pred = model.predict(X_test)\n",
    "print(f'Accuracy : %.3f' % accuracy_score(y_test, y_pred))\n",
    "score = 1-np.mean(np.abs(y_test-y_pred))/K\n",
    "print(f'Score : %.4f' % score)\n",
    "\n",
    "cm = confusion_matrix(y_test, y_pred)\n",
    "disp = ConfusionMatrixDisplay(cm)\n",
    "disp.plot()\n",
    "plt.show()"
   ]
  },
  {
   "cell_type": "code",
   "execution_count": 92,
   "id": "548e74df",
   "metadata": {},
   "outputs": [
    {
     "data": {
      "image/png": "[encoded data removed]",
      "text/plain": [
       "<Figure size 432x288 with 2 Axes>"
      ]
     },
     "metadata": {
      "needs_background": "light"
     },
     "output_type": "display_data"
    }
   ],
   "source": [
    "cm_reduced = cm[:6,:6]\n",
    "\n",
    "cm = confusion_matrix(y_test, y_pred);\n",
    "disp = ConfusionMatrixDisplay(cm_reduced)\n",
    "disp.plot();"
   ]
  },
  {
   "cell_type": "markdown",
   "id": "42a116ac",
   "metadata": {},
   "source": [
    "# Multinomial Naive Bayes"
   ]
  },
  {
   "cell_type": "code",
   "execution_count": 83,
   "id": "db1e439c",
   "metadata": {},
   "outputs": [
    {
     "ename": "ValueError",
     "evalue": "Negative values in data passed to MultinomialNB (input X)",
     "output_type": "error",
     "traceback": [
      "\u001b[0;31m---------------------------------------------------------------------------\u001b[0m",
      "\u001b[0;31mValueError\u001b[0m                                Traceback (most recent call last)",
      "\u001b[0;32m/var/folders/vr/pdn9mc513_g7d3f2pzq7z8v00000gn/T/ipykernel_40359/1990565694.py\u001b[0m in \u001b[0;36m<module>\u001b[0;34m\u001b[0m\n\u001b[1;32m      1\u001b[0m \u001b[0;32mfrom\u001b[0m \u001b[0msklearn\u001b[0m\u001b[0;34m.\u001b[0m\u001b[0mnaive_bayes\u001b[0m \u001b[0;32mimport\u001b[0m \u001b[0mMultinomialNB\u001b[0m\u001b[0;34m\u001b[0m\u001b[0;34m\u001b[0m\u001b[0m\n\u001b[1;32m      2\u001b[0m \u001b[0mmodel\u001b[0m \u001b[0;34m=\u001b[0m \u001b[0mMultinomialNB\u001b[0m\u001b[0;34m(\u001b[0m\u001b[0;34m)\u001b[0m\u001b[0;34m\u001b[0m\u001b[0;34m\u001b[0m\u001b[0m\n\u001b[0;32m----> 3\u001b[0;31m \u001b[0mmodel\u001b[0m\u001b[0;34m.\u001b[0m\u001b[0mfit\u001b[0m\u001b[0;34m(\u001b[0m\u001b[0mX_test\u001b[0m\u001b[0;34m,\u001b[0m \u001b[0my_test\u001b[0m\u001b[0;34m)\u001b[0m\u001b[0;34m\u001b[0m\u001b[0;34m\u001b[0m\u001b[0m\n\u001b[0m",
      "\u001b[0;32m~/opt/anaconda3/lib/python3.8/site-packages/sklearn/naive_bayes.py\u001b[0m in \u001b[0;36mfit\u001b[0;34m(self, X, y, sample_weight)\u001b[0m\n\u001b[1;32m    688\u001b[0m         \u001b[0mn_classes\u001b[0m \u001b[0;34m=\u001b[0m \u001b[0mY\u001b[0m\u001b[0;34m.\u001b[0m\u001b[0mshape\u001b[0m\u001b[0;34m[\u001b[0m\u001b[0;36m1\u001b[0m\u001b[0;34m]\u001b[0m\u001b[0;34m\u001b[0m\u001b[0;34m\u001b[0m\u001b[0m\n\u001b[1;32m    689\u001b[0m         \u001b[0mself\u001b[0m\u001b[0;34m.\u001b[0m\u001b[0m_init_counters\u001b[0m\u001b[0;34m(\u001b[0m\u001b[0mn_classes\u001b[0m\u001b[0;34m,\u001b[0m \u001b[0mn_features\u001b[0m\u001b[0;34m)\u001b[0m\u001b[0;34m\u001b[0m\u001b[0;34m\u001b[0m\u001b[0m\n\u001b[0;32m--> 690\u001b[0;31m         \u001b[0mself\u001b[0m\u001b[0;34m.\u001b[0m\u001b[0m_count\u001b[0m\u001b[0;34m(\u001b[0m\u001b[0mX\u001b[0m\u001b[0;34m,\u001b[0m \u001b[0mY\u001b[0m\u001b[0;34m)\u001b[0m\u001b[0;34m\u001b[0m\u001b[0;34m\u001b[0m\u001b[0m\n\u001b[0m\u001b[1;32m    691\u001b[0m         \u001b[0malpha\u001b[0m \u001b[0;34m=\u001b[0m \u001b[0mself\u001b[0m\u001b[0;34m.\u001b[0m\u001b[0m_check_alpha\u001b[0m\u001b[0;34m(\u001b[0m\u001b[0;34m)\u001b[0m\u001b[0;34m\u001b[0m\u001b[0;34m\u001b[0m\u001b[0m\n\u001b[1;32m    692\u001b[0m         \u001b[0mself\u001b[0m\u001b[0;34m.\u001b[0m\u001b[0m_update_feature_log_prob\u001b[0m\u001b[0;34m(\u001b[0m\u001b[0malpha\u001b[0m\u001b[0;34m)\u001b[0m\u001b[0;34m\u001b[0m\u001b[0;34m\u001b[0m\u001b[0m\n",
      "\u001b[0;32m~/opt/anaconda3/lib/python3.8/site-packages/sklearn/naive_bayes.py\u001b[0m in \u001b[0;36m_count\u001b[0;34m(self, X, Y)\u001b[0m\n\u001b[1;32m    861\u001b[0m     \u001b[0;32mdef\u001b[0m \u001b[0m_count\u001b[0m\u001b[0;34m(\u001b[0m\u001b[0mself\u001b[0m\u001b[0;34m,\u001b[0m \u001b[0mX\u001b[0m\u001b[0;34m,\u001b[0m \u001b[0mY\u001b[0m\u001b[0;34m)\u001b[0m\u001b[0;34m:\u001b[0m\u001b[0;34m\u001b[0m\u001b[0;34m\u001b[0m\u001b[0m\n\u001b[1;32m    862\u001b[0m         \u001b[0;34m\"\"\"Count and smooth feature occurrences.\"\"\"\u001b[0m\u001b[0;34m\u001b[0m\u001b[0;34m\u001b[0m\u001b[0m\n\u001b[0;32m--> 863\u001b[0;31m         \u001b[0mcheck_non_negative\u001b[0m\u001b[0;34m(\u001b[0m\u001b[0mX\u001b[0m\u001b[0;34m,\u001b[0m \u001b[0;34m\"MultinomialNB (input X)\"\u001b[0m\u001b[0;34m)\u001b[0m\u001b[0;34m\u001b[0m\u001b[0;34m\u001b[0m\u001b[0m\n\u001b[0m\u001b[1;32m    864\u001b[0m         \u001b[0mself\u001b[0m\u001b[0;34m.\u001b[0m\u001b[0mfeature_count_\u001b[0m \u001b[0;34m+=\u001b[0m \u001b[0msafe_sparse_dot\u001b[0m\u001b[0;34m(\u001b[0m\u001b[0mY\u001b[0m\u001b[0;34m.\u001b[0m\u001b[0mT\u001b[0m\u001b[0;34m,\u001b[0m \u001b[0mX\u001b[0m\u001b[0;34m)\u001b[0m\u001b[0;34m\u001b[0m\u001b[0;34m\u001b[0m\u001b[0m\n\u001b[1;32m    865\u001b[0m         \u001b[0mself\u001b[0m\u001b[0;34m.\u001b[0m\u001b[0mclass_count_\u001b[0m \u001b[0;34m+=\u001b[0m \u001b[0mY\u001b[0m\u001b[0;34m.\u001b[0m\u001b[0msum\u001b[0m\u001b[0;34m(\u001b[0m\u001b[0maxis\u001b[0m\u001b[0;34m=\u001b[0m\u001b[0;36m0\u001b[0m\u001b[0;34m)\u001b[0m\u001b[0;34m\u001b[0m\u001b[0;34m\u001b[0m\u001b[0m\n",
      "\u001b[0;32m~/opt/anaconda3/lib/python3.8/site-packages/sklearn/utils/validation.py\u001b[0m in \u001b[0;36mcheck_non_negative\u001b[0;34m(X, whom)\u001b[0m\n\u001b[1;32m   1234\u001b[0m \u001b[0;34m\u001b[0m\u001b[0m\n\u001b[1;32m   1235\u001b[0m     \u001b[0;32mif\u001b[0m \u001b[0mX_min\u001b[0m \u001b[0;34m<\u001b[0m \u001b[0;36m0\u001b[0m\u001b[0;34m:\u001b[0m\u001b[0;34m\u001b[0m\u001b[0;34m\u001b[0m\u001b[0m\n\u001b[0;32m-> 1236\u001b[0;31m         \u001b[0;32mraise\u001b[0m \u001b[0mValueError\u001b[0m\u001b[0;34m(\u001b[0m\u001b[0;34m\"Negative values in data passed to %s\"\u001b[0m \u001b[0;34m%\u001b[0m \u001b[0mwhom\u001b[0m\u001b[0;34m)\u001b[0m\u001b[0;34m\u001b[0m\u001b[0;34m\u001b[0m\u001b[0m\n\u001b[0m\u001b[1;32m   1237\u001b[0m \u001b[0;34m\u001b[0m\u001b[0m\n\u001b[1;32m   1238\u001b[0m \u001b[0;34m\u001b[0m\u001b[0m\n",
      "\u001b[0;31mValueError\u001b[0m: Negative values in data passed to MultinomialNB (input X)"
     ]
    }
   ],
   "source": [
    "from sklearn.naive_bayes import MultinomialNB\n",
    "model = MultinomialNB()\n",
    "model.fit(X_test, y_test)\n"
   ]
  },
  {
   "cell_type": "code",
   "execution_count": null,
   "id": "bb980947",
   "metadata": {},
   "outputs": [],
   "source": [
    "y_pred = model.predict(X_test)\n",
    "print(f'Accuracy : %.3f' % accuracy_score(y_test, y_pred))\n",
    "print(f'Score : %.4f' % score(y_test, y_pred))\n",
    "\n",
    "cm = confusion_matrix(y_test, y_pred)\n",
    "disp = ConfusionMatrixDisplay(cm)\n",
    "disp.plot()\n",
    "plt.show()"
   ]
  },
  {
   "cell_type": "markdown",
   "id": "4d818af6",
   "metadata": {},
   "source": [
    "# Gradient Boost Classifier"
   ]
  },
  {
   "cell_type": "code",
   "execution_count": 11,
   "id": "9eb68755",
   "metadata": {},
   "outputs": [],
   "source": [
    "from sklearn.ensemble import GradientBoostingClassifier"
   ]
  },
  {
   "cell_type": "code",
   "execution_count": 12,
   "id": "fb1827c3",
   "metadata": {},
   "outputs": [],
   "source": [
    "model = GradientBoostingClassifier()\n",
    "\n"
   ]
  },
  {
   "cell_type": "code",
   "execution_count": 13,
   "id": "c9788ab5",
   "metadata": {},
   "outputs": [
    {
     "data": {
      "text/plain": [
       "GradientBoostingClassifier()"
      ]
     },
     "execution_count": 13,
     "metadata": {},
     "output_type": "execute_result"
    }
   ],
   "source": [
    "model.fit(X_train, y_train)"
   ]
  },
  {
   "cell_type": "code",
   "execution_count": 14,
   "id": "93fd042b",
   "metadata": {},
   "outputs": [
    {
     "name": "stdout",
     "output_type": "stream",
     "text": [
      "Accuracy : 0.399\n",
      "Score : 0.8902\n"
     ]
    }
   ],
   "source": [
    "y_pred = model.predict(X_test)\n",
    "print(f'Accuracy : %.3f' % accuracy_score(y_test, y_pred))\n",
    "score = 1-np.mean(np.abs(y_test-y_pred))/K\n",
    "print(f'Score : %.4f' % score)"
   ]
  },
  {
   "cell_type": "code",
   "execution_count": 15,
   "id": "5a4cc04a",
   "metadata": {},
   "outputs": [
    {
     "data": {
      "image/png": "[encoded data removed]",
      "text/plain": [
       "<Figure size 432x288 with 2 Axes>"
      ]
     },
     "metadata": {
      "needs_background": "light"
     },
     "output_type": "display_data"
    }
   ],
   "source": [
    "cm = confusion_matrix(y_test, y_pred)\n",
    "disp = ConfusionMatrixDisplay(cm)\n",
    "disp.plot()\n",
    "plt.show()"
   ]
  },
  {
   "cell_type": "code",
   "execution_count": 16,
   "id": "2c83875c",
   "metadata": {},
   "outputs": [
    {
     "data": {
      "image/png": "[encoded data removed]",
      "text/plain": [
       "<Figure size 432x288 with 2 Axes>"
      ]
     },
     "metadata": {
      "needs_background": "light"
     },
     "output_type": "display_data"
    }
   ],
   "source": [
    "cm_reduced = cm[:6,:6]\n",
    "\n",
    "cm = confusion_matrix(y_test, y_pred);\n",
    "disp = ConfusionMatrixDisplay(cm_reduced)\n",
    "disp.plot();"
   ]
  },
  {
   "cell_type": "markdown",
   "id": "3ecba464",
   "metadata": {},
   "source": [
    "# Cat Boost Classifier"
   ]
  },
  {
   "cell_type": "code",
   "execution_count": 11,
   "id": "1359c252",
   "metadata": {},
   "outputs": [],
   "source": [
    "from catboost import CatBoostClassifier\n",
    "cb = CatBoostClassifier(iterations=1000)\n"
   ]
  },
  {
   "cell_type": "code",
   "execution_count": 12,
   "id": "4ff5fdc5",
   "metadata": {},
   "outputs": [
    {
     "name": "stdout",
     "output_type": "stream",
     "text": [
      "Learning rate set to 0.104618\n",
      "0:\tlearn: 2.2281804\ttotal: 186ms\tremaining: 3m 5s\n",
      "1:\tlearn: 2.1106214\ttotal: 289ms\tremaining: 2m 23s\n",
      "2:\tlearn: 2.0240458\ttotal: 387ms\tremaining: 2m 8s\n",
      "3:\tlearn: 1.9573139\ttotal: 492ms\tremaining: 2m 2s\n",
      "4:\tlearn: 1.9018771\ttotal: 594ms\tremaining: 1m 58s\n",
      "5:\tlearn: 1.8585645\ttotal: 698ms\tremaining: 1m 55s\n",
      "6:\tlearn: 1.8194924\ttotal: 795ms\tremaining: 1m 52s\n",
      "7:\tlearn: 1.7890137\ttotal: 895ms\tremaining: 1m 51s\n",
      "8:\tlearn: 1.7610009\ttotal: 1s\tremaining: 1m 50s\n",
      "9:\tlearn: 1.7387758\ttotal: 1.1s\tremaining: 1m 49s\n",
      "10:\tlearn: 1.7192381\ttotal: 1.2s\tremaining: 1m 48s\n",
      "11:\tlearn: 1.7006638\ttotal: 1.31s\tremaining: 1m 47s\n",
      "12:\tlearn: 1.6852619\ttotal: 1.41s\tremaining: 1m 47s\n",
      "13:\tlearn: 1.6714734\ttotal: 1.5s\tremaining: 1m 46s\n",
      "14:\tlearn: 1.6594712\ttotal: 1.61s\tremaining: 1m 45s\n",
      "15:\tlearn: 1.6491984\ttotal: 1.72s\tremaining: 1m 45s\n",
      "16:\tlearn: 1.6416239\ttotal: 1.82s\tremaining: 1m 45s\n",
      "17:\tlearn: 1.6336271\ttotal: 1.93s\tremaining: 1m 45s\n",
      "18:\tlearn: 1.6275935\ttotal: 2.03s\tremaining: 1m 44s\n",
      "19:\tlearn: 1.6206099\ttotal: 2.17s\tremaining: 1m 46s\n",
      "20:\tlearn: 1.6148875\ttotal: 2.28s\tremaining: 1m 46s\n",
      "21:\tlearn: 1.6102728\ttotal: 2.38s\tremaining: 1m 45s\n",
      "22:\tlearn: 1.6059025\ttotal: 2.48s\tremaining: 1m 45s\n",
      "23:\tlearn: 1.6020585\ttotal: 2.6s\tremaining: 1m 45s\n",
      "24:\tlearn: 1.5986966\ttotal: 2.7s\tremaining: 1m 45s\n",
      "25:\tlearn: 1.5957973\ttotal: 2.83s\tremaining: 1m 45s\n",
      "26:\tlearn: 1.5932368\ttotal: 2.95s\tremaining: 1m 46s\n",
      "27:\tlearn: 1.5910159\ttotal: 3.06s\tremaining: 1m 46s\n",
      "28:\tlearn: 1.5890530\ttotal: 3.18s\tremaining: 1m 46s\n",
      "29:\tlearn: 1.5864980\ttotal: 3.28s\tremaining: 1m 46s\n",
      "30:\tlearn: 1.5850516\ttotal: 3.39s\tremaining: 1m 46s\n",
      "31:\tlearn: 1.5834608\ttotal: 3.5s\tremaining: 1m 45s\n",
      "32:\tlearn: 1.5812715\ttotal: 3.6s\tremaining: 1m 45s\n",
      "33:\tlearn: 1.5790248\ttotal: 3.73s\tremaining: 1m 45s\n",
      "34:\tlearn: 1.5778888\ttotal: 3.83s\tremaining: 1m 45s\n",
      "35:\tlearn: 1.5763838\ttotal: 3.93s\tremaining: 1m 45s\n",
      "36:\tlearn: 1.5748448\ttotal: 4.04s\tremaining: 1m 45s\n",
      "37:\tlearn: 1.5739583\ttotal: 4.16s\tremaining: 1m 45s\n",
      "38:\tlearn: 1.5730375\ttotal: 4.26s\tremaining: 1m 44s\n",
      "39:\tlearn: 1.5713955\ttotal: 4.37s\tremaining: 1m 44s\n",
      "40:\tlearn: 1.5702450\ttotal: 4.47s\tremaining: 1m 44s\n",
      "41:\tlearn: 1.5695014\ttotal: 4.59s\tremaining: 1m 44s\n",
      "42:\tlearn: 1.5683184\ttotal: 4.7s\tremaining: 1m 44s\n",
      "43:\tlearn: 1.5665805\ttotal: 4.81s\tremaining: 1m 44s\n",
      "44:\tlearn: 1.5652356\ttotal: 4.91s\tremaining: 1m 44s\n",
      "45:\tlearn: 1.5644542\ttotal: 5.03s\tremaining: 1m 44s\n",
      "46:\tlearn: 1.5638294\ttotal: 5.13s\tremaining: 1m 44s\n",
      "47:\tlearn: 1.5630300\ttotal: 5.24s\tremaining: 1m 43s\n",
      "48:\tlearn: 1.5624707\ttotal: 5.35s\tremaining: 1m 43s\n",
      "49:\tlearn: 1.5617911\ttotal: 5.46s\tremaining: 1m 43s\n",
      "50:\tlearn: 1.5613671\ttotal: 5.57s\tremaining: 1m 43s\n",
      "51:\tlearn: 1.5605747\ttotal: 5.68s\tremaining: 1m 43s\n",
      "52:\tlearn: 1.5594023\ttotal: 5.78s\tremaining: 1m 43s\n",
      "53:\tlearn: 1.5590550\ttotal: 5.9s\tremaining: 1m 43s\n",
      "54:\tlearn: 1.5585905\ttotal: 6.02s\tremaining: 1m 43s\n",
      "55:\tlearn: 1.5580477\ttotal: 6.13s\tremaining: 1m 43s\n",
      "56:\tlearn: 1.5575096\ttotal: 6.24s\tremaining: 1m 43s\n",
      "57:\tlearn: 1.5566769\ttotal: 6.35s\tremaining: 1m 43s\n",
      "58:\tlearn: 1.5555475\ttotal: 6.46s\tremaining: 1m 42s\n",
      "59:\tlearn: 1.5550834\ttotal: 6.56s\tremaining: 1m 42s\n",
      "60:\tlearn: 1.5544749\ttotal: 6.67s\tremaining: 1m 42s\n",
      "61:\tlearn: 1.5539340\ttotal: 6.79s\tremaining: 1m 42s\n",
      "62:\tlearn: 1.5536027\ttotal: 6.9s\tremaining: 1m 42s\n",
      "63:\tlearn: 1.5533514\ttotal: 7.02s\tremaining: 1m 42s\n",
      "64:\tlearn: 1.5528383\ttotal: 7.13s\tremaining: 1m 42s\n",
      "65:\tlearn: 1.5524453\ttotal: 7.24s\tremaining: 1m 42s\n",
      "66:\tlearn: 1.5522047\ttotal: 7.34s\tremaining: 1m 42s\n",
      "67:\tlearn: 1.5517615\ttotal: 7.46s\tremaining: 1m 42s\n",
      "68:\tlearn: 1.5513228\ttotal: 7.55s\tremaining: 1m 41s\n",
      "69:\tlearn: 1.5508574\ttotal: 7.67s\tremaining: 1m 41s\n",
      "70:\tlearn: 1.5503806\ttotal: 7.77s\tremaining: 1m 41s\n",
      "71:\tlearn: 1.5499807\ttotal: 7.89s\tremaining: 1m 41s\n",
      "72:\tlearn: 1.5492578\ttotal: 7.99s\tremaining: 1m 41s\n",
      "73:\tlearn: 1.5488847\ttotal: 8.1s\tremaining: 1m 41s\n",
      "74:\tlearn: 1.5486489\ttotal: 8.21s\tremaining: 1m 41s\n",
      "75:\tlearn: 1.5483481\ttotal: 8.34s\tremaining: 1m 41s\n",
      "76:\tlearn: 1.5481394\ttotal: 8.46s\tremaining: 1m 41s\n",
      "77:\tlearn: 1.5478430\ttotal: 8.57s\tremaining: 1m 41s\n",
      "78:\tlearn: 1.5471275\ttotal: 8.69s\tremaining: 1m 41s\n",
      "79:\tlearn: 1.5468720\ttotal: 8.81s\tremaining: 1m 41s\n",
      "80:\tlearn: 1.5465365\ttotal: 8.91s\tremaining: 1m 41s\n",
      "81:\tlearn: 1.5461568\ttotal: 9.02s\tremaining: 1m 40s\n",
      "82:\tlearn: 1.5457626\ttotal: 9.14s\tremaining: 1m 40s\n",
      "83:\tlearn: 1.5453835\ttotal: 9.24s\tremaining: 1m 40s\n",
      "84:\tlearn: 1.5453690\ttotal: 9.3s\tremaining: 1m 40s\n",
      "85:\tlearn: 1.5450810\ttotal: 9.42s\tremaining: 1m 40s\n",
      "86:\tlearn: 1.5448119\ttotal: 9.53s\tremaining: 1m 40s\n",
      "87:\tlearn: 1.5446433\ttotal: 9.65s\tremaining: 1m 40s\n",
      "88:\tlearn: 1.5441691\ttotal: 9.76s\tremaining: 1m 39s\n",
      "89:\tlearn: 1.5436793\ttotal: 9.86s\tremaining: 1m 39s\n",
      "90:\tlearn: 1.5433572\ttotal: 9.97s\tremaining: 1m 39s\n",
      "91:\tlearn: 1.5429821\ttotal: 10.1s\tremaining: 1m 39s\n",
      "92:\tlearn: 1.5429703\ttotal: 10.2s\tremaining: 1m 39s\n",
      "93:\tlearn: 1.5427665\ttotal: 10.3s\tremaining: 1m 38s\n",
      "94:\tlearn: 1.5425102\ttotal: 10.4s\tremaining: 1m 38s\n",
      "95:\tlearn: 1.5420904\ttotal: 10.5s\tremaining: 1m 38s\n",
      "96:\tlearn: 1.5415504\ttotal: 10.6s\tremaining: 1m 38s\n",
      "97:\tlearn: 1.5413709\ttotal: 10.7s\tremaining: 1m 38s\n",
      "98:\tlearn: 1.5409915\ttotal: 10.8s\tremaining: 1m 38s\n",
      "99:\tlearn: 1.5407725\ttotal: 11s\tremaining: 1m 38s\n",
      "100:\tlearn: 1.5399564\ttotal: 11.1s\tremaining: 1m 38s\n",
      "101:\tlearn: 1.5397605\ttotal: 11.2s\tremaining: 1m 38s\n",
      "102:\tlearn: 1.5395683\ttotal: 11.3s\tremaining: 1m 38s\n",
      "103:\tlearn: 1.5393746\ttotal: 11.4s\tremaining: 1m 38s\n",
      "104:\tlearn: 1.5391962\ttotal: 11.5s\tremaining: 1m 38s\n",
      "105:\tlearn: 1.5389208\ttotal: 11.6s\tremaining: 1m 38s\n",
      "106:\tlearn: 1.5385833\ttotal: 11.7s\tremaining: 1m 37s\n",
      "107:\tlearn: 1.5384170\ttotal: 11.9s\tremaining: 1m 37s\n",
      "108:\tlearn: 1.5381606\ttotal: 12s\tremaining: 1m 37s\n",
      "109:\tlearn: 1.5379158\ttotal: 12.1s\tremaining: 1m 37s\n",
      "110:\tlearn: 1.5375490\ttotal: 12.2s\tremaining: 1m 37s\n",
      "111:\tlearn: 1.5373627\ttotal: 12.3s\tremaining: 1m 37s\n",
      "112:\tlearn: 1.5369315\ttotal: 12.4s\tremaining: 1m 37s\n",
      "113:\tlearn: 1.5365191\ttotal: 12.6s\tremaining: 1m 37s\n",
      "114:\tlearn: 1.5358052\ttotal: 12.7s\tremaining: 1m 37s\n",
      "115:\tlearn: 1.5355803\ttotal: 12.8s\tremaining: 1m 37s\n",
      "116:\tlearn: 1.5352354\ttotal: 12.9s\tremaining: 1m 37s\n",
      "117:\tlearn: 1.5348005\ttotal: 13s\tremaining: 1m 37s\n",
      "118:\tlearn: 1.5345704\ttotal: 13.2s\tremaining: 1m 37s\n",
      "119:\tlearn: 1.5343851\ttotal: 13.3s\tremaining: 1m 37s\n",
      "120:\tlearn: 1.5341508\ttotal: 13.4s\tremaining: 1m 37s\n",
      "121:\tlearn: 1.5336552\ttotal: 13.5s\tremaining: 1m 37s\n",
      "122:\tlearn: 1.5333285\ttotal: 13.7s\tremaining: 1m 37s\n",
      "123:\tlearn: 1.5332518\ttotal: 13.8s\tremaining: 1m 37s\n",
      "124:\tlearn: 1.5329877\ttotal: 13.9s\tremaining: 1m 37s\n",
      "125:\tlearn: 1.5326727\ttotal: 14.1s\tremaining: 1m 37s\n",
      "126:\tlearn: 1.5324679\ttotal: 14.2s\tremaining: 1m 37s\n",
      "127:\tlearn: 1.5321890\ttotal: 14.3s\tremaining: 1m 37s\n",
      "128:\tlearn: 1.5319456\ttotal: 14.4s\tremaining: 1m 37s\n",
      "129:\tlearn: 1.5316950\ttotal: 14.6s\tremaining: 1m 37s\n",
      "130:\tlearn: 1.5313958\ttotal: 14.7s\tremaining: 1m 37s\n",
      "131:\tlearn: 1.5311561\ttotal: 14.8s\tremaining: 1m 37s\n",
      "132:\tlearn: 1.5307196\ttotal: 14.9s\tremaining: 1m 37s\n",
      "133:\tlearn: 1.5303240\ttotal: 15s\tremaining: 1m 37s\n",
      "134:\tlearn: 1.5300165\ttotal: 15.1s\tremaining: 1m 37s\n",
      "135:\tlearn: 1.5296691\ttotal: 15.2s\tremaining: 1m 36s\n",
      "136:\tlearn: 1.5294243\ttotal: 15.4s\tremaining: 1m 36s\n",
      "137:\tlearn: 1.5290650\ttotal: 15.5s\tremaining: 1m 36s\n",
      "138:\tlearn: 1.5288119\ttotal: 15.6s\tremaining: 1m 36s\n",
      "139:\tlearn: 1.5285173\ttotal: 15.7s\tremaining: 1m 36s\n",
      "140:\tlearn: 1.5282863\ttotal: 15.8s\tremaining: 1m 36s\n",
      "141:\tlearn: 1.5280573\ttotal: 16s\tremaining: 1m 36s\n",
      "142:\tlearn: 1.5276011\ttotal: 16.1s\tremaining: 1m 36s\n",
      "143:\tlearn: 1.5274727\ttotal: 16.2s\tremaining: 1m 36s\n",
      "144:\tlearn: 1.5272505\ttotal: 16.3s\tremaining: 1m 36s\n",
      "145:\tlearn: 1.5271303\ttotal: 16.4s\tremaining: 1m 36s\n",
      "146:\tlearn: 1.5269002\ttotal: 16.6s\tremaining: 1m 36s\n",
      "147:\tlearn: 1.5265628\ttotal: 16.7s\tremaining: 1m 36s\n",
      "148:\tlearn: 1.5264579\ttotal: 16.8s\tremaining: 1m 36s\n",
      "149:\tlearn: 1.5263352\ttotal: 16.9s\tremaining: 1m 35s\n",
      "150:\tlearn: 1.5259828\ttotal: 17s\tremaining: 1m 35s\n",
      "151:\tlearn: 1.5255472\ttotal: 17.1s\tremaining: 1m 35s\n",
      "152:\tlearn: 1.5253857\ttotal: 17.3s\tremaining: 1m 35s\n",
      "153:\tlearn: 1.5251694\ttotal: 17.4s\tremaining: 1m 35s\n",
      "154:\tlearn: 1.5249400\ttotal: 17.5s\tremaining: 1m 35s\n",
      "155:\tlearn: 1.5246276\ttotal: 17.6s\tremaining: 1m 35s\n",
      "156:\tlearn: 1.5245484\ttotal: 17.7s\tremaining: 1m 35s\n",
      "157:\tlearn: 1.5243404\ttotal: 17.8s\tremaining: 1m 35s\n"
     ]
    },
    {
     "name": "stdout",
     "output_type": "stream",
     "text": [
      "158:\tlearn: 1.5241535\ttotal: 18s\tremaining: 1m 34s\n",
      "159:\tlearn: 1.5239950\ttotal: 18.1s\tremaining: 1m 34s\n",
      "160:\tlearn: 1.5237860\ttotal: 18.2s\tremaining: 1m 34s\n",
      "161:\tlearn: 1.5235627\ttotal: 18.3s\tremaining: 1m 34s\n",
      "162:\tlearn: 1.5233521\ttotal: 18.4s\tremaining: 1m 34s\n",
      "163:\tlearn: 1.5232005\ttotal: 18.5s\tremaining: 1m 34s\n",
      "164:\tlearn: 1.5230866\ttotal: 18.7s\tremaining: 1m 34s\n",
      "165:\tlearn: 1.5228954\ttotal: 18.8s\tremaining: 1m 34s\n",
      "166:\tlearn: 1.5225361\ttotal: 18.9s\tremaining: 1m 34s\n",
      "167:\tlearn: 1.5223646\ttotal: 19s\tremaining: 1m 34s\n",
      "168:\tlearn: 1.5221833\ttotal: 19.1s\tremaining: 1m 34s\n",
      "169:\tlearn: 1.5217444\ttotal: 19.2s\tremaining: 1m 33s\n",
      "170:\tlearn: 1.5215322\ttotal: 19.3s\tremaining: 1m 33s\n",
      "171:\tlearn: 1.5214248\ttotal: 19.5s\tremaining: 1m 33s\n",
      "172:\tlearn: 1.5211512\ttotal: 19.6s\tremaining: 1m 33s\n",
      "173:\tlearn: 1.5209529\ttotal: 19.7s\tremaining: 1m 33s\n",
      "174:\tlearn: 1.5205206\ttotal: 19.8s\tremaining: 1m 33s\n",
      "175:\tlearn: 1.5203199\ttotal: 19.9s\tremaining: 1m 33s\n",
      "176:\tlearn: 1.5201011\ttotal: 20.1s\tremaining: 1m 33s\n",
      "177:\tlearn: 1.5199274\ttotal: 20.2s\tremaining: 1m 33s\n",
      "178:\tlearn: 1.5196583\ttotal: 20.3s\tremaining: 1m 33s\n",
      "179:\tlearn: 1.5194740\ttotal: 20.4s\tremaining: 1m 32s\n",
      "180:\tlearn: 1.5193196\ttotal: 20.5s\tremaining: 1m 32s\n",
      "181:\tlearn: 1.5191377\ttotal: 20.6s\tremaining: 1m 32s\n",
      "182:\tlearn: 1.5190199\ttotal: 20.8s\tremaining: 1m 32s\n",
      "183:\tlearn: 1.5188401\ttotal: 20.9s\tremaining: 1m 32s\n",
      "184:\tlearn: 1.5186527\ttotal: 21s\tremaining: 1m 32s\n",
      "185:\tlearn: 1.5184966\ttotal: 21.1s\tremaining: 1m 32s\n",
      "186:\tlearn: 1.5183710\ttotal: 21.2s\tremaining: 1m 32s\n",
      "187:\tlearn: 1.5182056\ttotal: 21.3s\tremaining: 1m 32s\n",
      "188:\tlearn: 1.5180497\ttotal: 21.5s\tremaining: 1m 32s\n",
      "189:\tlearn: 1.5179419\ttotal: 21.6s\tremaining: 1m 32s\n",
      "190:\tlearn: 1.5177211\ttotal: 21.7s\tremaining: 1m 31s\n",
      "191:\tlearn: 1.5175349\ttotal: 21.8s\tremaining: 1m 31s\n",
      "192:\tlearn: 1.5173104\ttotal: 21.9s\tremaining: 1m 31s\n",
      "193:\tlearn: 1.5171443\ttotal: 22s\tremaining: 1m 31s\n",
      "194:\tlearn: 1.5169101\ttotal: 22.1s\tremaining: 1m 31s\n",
      "195:\tlearn: 1.5167475\ttotal: 22.3s\tremaining: 1m 31s\n",
      "196:\tlearn: 1.5165231\ttotal: 22.4s\tremaining: 1m 31s\n",
      "197:\tlearn: 1.5164609\ttotal: 22.5s\tremaining: 1m 31s\n",
      "198:\tlearn: 1.5163921\ttotal: 22.6s\tremaining: 1m 30s\n",
      "199:\tlearn: 1.5161792\ttotal: 22.7s\tremaining: 1m 30s\n",
      "200:\tlearn: 1.5160472\ttotal: 22.8s\tremaining: 1m 30s\n",
      "201:\tlearn: 1.5158656\ttotal: 22.9s\tremaining: 1m 30s\n",
      "202:\tlearn: 1.5157090\ttotal: 23.1s\tremaining: 1m 30s\n",
      "203:\tlearn: 1.5156274\ttotal: 23.2s\tremaining: 1m 30s\n",
      "204:\tlearn: 1.5154749\ttotal: 23.3s\tremaining: 1m 30s\n",
      "205:\tlearn: 1.5152242\ttotal: 23.4s\tremaining: 1m 30s\n",
      "206:\tlearn: 1.5150086\ttotal: 23.5s\tremaining: 1m 30s\n",
      "207:\tlearn: 1.5149122\ttotal: 23.6s\tremaining: 1m 29s\n",
      "208:\tlearn: 1.5147577\ttotal: 23.7s\tremaining: 1m 29s\n",
      "209:\tlearn: 1.5145768\ttotal: 23.9s\tremaining: 1m 29s\n",
      "210:\tlearn: 1.5143633\ttotal: 24s\tremaining: 1m 29s\n",
      "211:\tlearn: 1.5143193\ttotal: 24.1s\tremaining: 1m 29s\n",
      "212:\tlearn: 1.5142158\ttotal: 24.2s\tremaining: 1m 29s\n",
      "213:\tlearn: 1.5140236\ttotal: 24.3s\tremaining: 1m 29s\n",
      "214:\tlearn: 1.5137947\ttotal: 24.5s\tremaining: 1m 29s\n",
      "215:\tlearn: 1.5136532\ttotal: 24.6s\tremaining: 1m 29s\n",
      "216:\tlearn: 1.5134872\ttotal: 24.7s\tremaining: 1m 29s\n",
      "217:\tlearn: 1.5133490\ttotal: 24.8s\tremaining: 1m 29s\n",
      "218:\tlearn: 1.5131650\ttotal: 24.9s\tremaining: 1m 28s\n",
      "219:\tlearn: 1.5130316\ttotal: 25.1s\tremaining: 1m 28s\n",
      "220:\tlearn: 1.5129127\ttotal: 25.2s\tremaining: 1m 28s\n",
      "221:\tlearn: 1.5128295\ttotal: 25.3s\tremaining: 1m 28s\n",
      "222:\tlearn: 1.5126864\ttotal: 25.4s\tremaining: 1m 28s\n",
      "223:\tlearn: 1.5124072\ttotal: 25.5s\tremaining: 1m 28s\n",
      "224:\tlearn: 1.5122157\ttotal: 25.6s\tremaining: 1m 28s\n",
      "225:\tlearn: 1.5121587\ttotal: 25.8s\tremaining: 1m 28s\n",
      "226:\tlearn: 1.5120787\ttotal: 25.9s\tremaining: 1m 28s\n",
      "227:\tlearn: 1.5118841\ttotal: 26s\tremaining: 1m 28s\n",
      "228:\tlearn: 1.5116574\ttotal: 26.1s\tremaining: 1m 27s\n",
      "229:\tlearn: 1.5115328\ttotal: 26.3s\tremaining: 1m 27s\n",
      "230:\tlearn: 1.5113656\ttotal: 26.4s\tremaining: 1m 27s\n",
      "231:\tlearn: 1.5111582\ttotal: 26.5s\tremaining: 1m 27s\n",
      "232:\tlearn: 1.5109148\ttotal: 26.6s\tremaining: 1m 27s\n",
      "233:\tlearn: 1.5108120\ttotal: 26.7s\tremaining: 1m 27s\n",
      "234:\tlearn: 1.5107635\ttotal: 26.9s\tremaining: 1m 27s\n",
      "235:\tlearn: 1.5105695\ttotal: 27s\tremaining: 1m 27s\n",
      "236:\tlearn: 1.5104265\ttotal: 27.1s\tremaining: 1m 27s\n",
      "237:\tlearn: 1.5102949\ttotal: 27.2s\tremaining: 1m 27s\n",
      "238:\tlearn: 1.5101494\ttotal: 27.3s\tremaining: 1m 26s\n",
      "239:\tlearn: 1.5099581\ttotal: 27.4s\tremaining: 1m 26s\n",
      "240:\tlearn: 1.5098010\ttotal: 27.5s\tremaining: 1m 26s\n",
      "241:\tlearn: 1.5096880\ttotal: 27.7s\tremaining: 1m 26s\n",
      "242:\tlearn: 1.5096113\ttotal: 27.8s\tremaining: 1m 26s\n",
      "243:\tlearn: 1.5094950\ttotal: 27.9s\tremaining: 1m 26s\n",
      "244:\tlearn: 1.5093145\ttotal: 28s\tremaining: 1m 26s\n",
      "245:\tlearn: 1.5092235\ttotal: 28.2s\tremaining: 1m 26s\n",
      "246:\tlearn: 1.5091020\ttotal: 28.3s\tremaining: 1m 26s\n",
      "247:\tlearn: 1.5088988\ttotal: 28.4s\tremaining: 1m 26s\n",
      "248:\tlearn: 1.5087372\ttotal: 28.5s\tremaining: 1m 25s\n",
      "249:\tlearn: 1.5085490\ttotal: 28.6s\tremaining: 1m 25s\n",
      "250:\tlearn: 1.5083019\ttotal: 28.8s\tremaining: 1m 25s\n",
      "251:\tlearn: 1.5080838\ttotal: 28.9s\tremaining: 1m 25s\n",
      "252:\tlearn: 1.5079487\ttotal: 29s\tremaining: 1m 25s\n",
      "253:\tlearn: 1.5076866\ttotal: 29.1s\tremaining: 1m 25s\n",
      "254:\tlearn: 1.5075590\ttotal: 29.3s\tremaining: 1m 25s\n",
      "255:\tlearn: 1.5074364\ttotal: 29.4s\tremaining: 1m 25s\n",
      "256:\tlearn: 1.5073133\ttotal: 29.5s\tremaining: 1m 25s\n",
      "257:\tlearn: 1.5072485\ttotal: 29.6s\tremaining: 1m 25s\n",
      "258:\tlearn: 1.5070005\ttotal: 29.7s\tremaining: 1m 24s\n",
      "259:\tlearn: 1.5067387\ttotal: 29.8s\tremaining: 1m 24s\n",
      "260:\tlearn: 1.5065144\ttotal: 29.9s\tremaining: 1m 24s\n",
      "261:\tlearn: 1.5063458\ttotal: 30s\tremaining: 1m 24s\n",
      "262:\tlearn: 1.5062536\ttotal: 30.2s\tremaining: 1m 24s\n",
      "263:\tlearn: 1.5060902\ttotal: 30.3s\tremaining: 1m 24s\n",
      "264:\tlearn: 1.5059274\ttotal: 30.4s\tremaining: 1m 24s\n",
      "265:\tlearn: 1.5058812\ttotal: 30.5s\tremaining: 1m 24s\n",
      "266:\tlearn: 1.5058173\ttotal: 30.6s\tremaining: 1m 24s\n",
      "267:\tlearn: 1.5056717\ttotal: 30.7s\tremaining: 1m 23s\n",
      "268:\tlearn: 1.5055344\ttotal: 30.9s\tremaining: 1m 23s\n",
      "269:\tlearn: 1.5054698\ttotal: 31s\tremaining: 1m 23s\n",
      "270:\tlearn: 1.5053485\ttotal: 31.1s\tremaining: 1m 23s\n",
      "271:\tlearn: 1.5052540\ttotal: 31.2s\tremaining: 1m 23s\n",
      "272:\tlearn: 1.5050992\ttotal: 31.3s\tremaining: 1m 23s\n",
      "273:\tlearn: 1.5050181\ttotal: 31.4s\tremaining: 1m 23s\n",
      "274:\tlearn: 1.5049007\ttotal: 31.5s\tremaining: 1m 23s\n",
      "275:\tlearn: 1.5048393\ttotal: 31.7s\tremaining: 1m 23s\n",
      "276:\tlearn: 1.5047534\ttotal: 31.8s\tremaining: 1m 22s\n",
      "277:\tlearn: 1.5045029\ttotal: 31.9s\tremaining: 1m 22s\n",
      "278:\tlearn: 1.5043677\ttotal: 32s\tremaining: 1m 22s\n",
      "279:\tlearn: 1.5042499\ttotal: 32.1s\tremaining: 1m 22s\n",
      "280:\tlearn: 1.5041425\ttotal: 32.2s\tremaining: 1m 22s\n",
      "281:\tlearn: 1.5040912\ttotal: 32.3s\tremaining: 1m 22s\n",
      "282:\tlearn: 1.5039878\ttotal: 32.4s\tremaining: 1m 22s\n",
      "283:\tlearn: 1.5038618\ttotal: 32.5s\tremaining: 1m 22s\n",
      "284:\tlearn: 1.5036546\ttotal: 32.6s\tremaining: 1m 21s\n",
      "285:\tlearn: 1.5035582\ttotal: 32.8s\tremaining: 1m 21s\n",
      "286:\tlearn: 1.5034003\ttotal: 32.9s\tremaining: 1m 21s\n",
      "287:\tlearn: 1.5033094\ttotal: 33s\tremaining: 1m 21s\n",
      "288:\tlearn: 1.5031278\ttotal: 33.1s\tremaining: 1m 21s\n",
      "289:\tlearn: 1.5029707\ttotal: 33.2s\tremaining: 1m 21s\n",
      "290:\tlearn: 1.5028965\ttotal: 33.4s\tremaining: 1m 21s\n",
      "291:\tlearn: 1.5026568\ttotal: 33.5s\tremaining: 1m 21s\n",
      "292:\tlearn: 1.5026041\ttotal: 33.6s\tremaining: 1m 21s\n",
      "293:\tlearn: 1.5024262\ttotal: 33.7s\tremaining: 1m 20s\n",
      "294:\tlearn: 1.5022867\ttotal: 33.8s\tremaining: 1m 20s\n",
      "295:\tlearn: 1.5021456\ttotal: 33.9s\tremaining: 1m 20s\n",
      "296:\tlearn: 1.5019772\ttotal: 34.1s\tremaining: 1m 20s\n",
      "297:\tlearn: 1.5018722\ttotal: 34.2s\tremaining: 1m 20s\n",
      "298:\tlearn: 1.5017188\ttotal: 34.3s\tremaining: 1m 20s\n",
      "299:\tlearn: 1.5015363\ttotal: 34.4s\tremaining: 1m 20s\n",
      "300:\tlearn: 1.5014782\ttotal: 34.5s\tremaining: 1m 20s\n",
      "301:\tlearn: 1.5013897\ttotal: 34.6s\tremaining: 1m 20s\n",
      "302:\tlearn: 1.5012448\ttotal: 34.8s\tremaining: 1m 19s\n",
      "303:\tlearn: 1.5011388\ttotal: 34.9s\tremaining: 1m 19s\n",
      "304:\tlearn: 1.5010504\ttotal: 35s\tremaining: 1m 19s\n",
      "305:\tlearn: 1.5009161\ttotal: 35.1s\tremaining: 1m 19s\n",
      "306:\tlearn: 1.5008578\ttotal: 35.2s\tremaining: 1m 19s\n",
      "307:\tlearn: 1.5007306\ttotal: 35.3s\tremaining: 1m 19s\n",
      "308:\tlearn: 1.5006373\ttotal: 35.5s\tremaining: 1m 19s\n",
      "309:\tlearn: 1.5005118\ttotal: 35.6s\tremaining: 1m 19s\n",
      "310:\tlearn: 1.5004531\ttotal: 35.7s\tremaining: 1m 19s\n",
      "311:\tlearn: 1.5003286\ttotal: 35.8s\tremaining: 1m 18s\n",
      "312:\tlearn: 1.5002655\ttotal: 35.9s\tremaining: 1m 18s\n",
      "313:\tlearn: 1.5001316\ttotal: 36.1s\tremaining: 1m 18s\n"
     ]
    },
    {
     "name": "stdout",
     "output_type": "stream",
     "text": [
      "314:\tlearn: 1.5000258\ttotal: 36.2s\tremaining: 1m 18s\n",
      "315:\tlearn: 1.4997657\ttotal: 36.3s\tremaining: 1m 18s\n",
      "316:\tlearn: 1.4995338\ttotal: 36.4s\tremaining: 1m 18s\n",
      "317:\tlearn: 1.4993697\ttotal: 36.5s\tremaining: 1m 18s\n",
      "318:\tlearn: 1.4992516\ttotal: 36.6s\tremaining: 1m 18s\n",
      "319:\tlearn: 1.4991319\ttotal: 36.7s\tremaining: 1m 18s\n",
      "320:\tlearn: 1.4989903\ttotal: 36.9s\tremaining: 1m 17s\n",
      "321:\tlearn: 1.4987823\ttotal: 37s\tremaining: 1m 17s\n",
      "322:\tlearn: 1.4986389\ttotal: 37.1s\tremaining: 1m 17s\n",
      "323:\tlearn: 1.4985015\ttotal: 37.2s\tremaining: 1m 17s\n",
      "324:\tlearn: 1.4983696\ttotal: 37.3s\tremaining: 1m 17s\n",
      "325:\tlearn: 1.4982742\ttotal: 37.4s\tremaining: 1m 17s\n",
      "326:\tlearn: 1.4980510\ttotal: 37.5s\tremaining: 1m 17s\n",
      "327:\tlearn: 1.4978996\ttotal: 37.7s\tremaining: 1m 17s\n",
      "328:\tlearn: 1.4977673\ttotal: 37.8s\tremaining: 1m 17s\n",
      "329:\tlearn: 1.4975890\ttotal: 37.9s\tremaining: 1m 16s\n",
      "330:\tlearn: 1.4975428\ttotal: 38s\tremaining: 1m 16s\n",
      "331:\tlearn: 1.4974102\ttotal: 38.1s\tremaining: 1m 16s\n",
      "332:\tlearn: 1.4972245\ttotal: 38.2s\tremaining: 1m 16s\n",
      "333:\tlearn: 1.4971429\ttotal: 38.4s\tremaining: 1m 16s\n",
      "334:\tlearn: 1.4970732\ttotal: 38.5s\tremaining: 1m 16s\n",
      "335:\tlearn: 1.4969158\ttotal: 38.6s\tremaining: 1m 16s\n",
      "336:\tlearn: 1.4967833\ttotal: 38.7s\tremaining: 1m 16s\n",
      "337:\tlearn: 1.4967023\ttotal: 38.8s\tremaining: 1m 16s\n",
      "338:\tlearn: 1.4965944\ttotal: 38.9s\tremaining: 1m 15s\n",
      "339:\tlearn: 1.4963841\ttotal: 39.1s\tremaining: 1m 15s\n",
      "340:\tlearn: 1.4962859\ttotal: 39.2s\tremaining: 1m 15s\n",
      "341:\tlearn: 1.4961043\ttotal: 39.3s\tremaining: 1m 15s\n",
      "342:\tlearn: 1.4959545\ttotal: 39.4s\tremaining: 1m 15s\n",
      "343:\tlearn: 1.4958688\ttotal: 39.5s\tremaining: 1m 15s\n",
      "344:\tlearn: 1.4957786\ttotal: 39.7s\tremaining: 1m 15s\n",
      "345:\tlearn: 1.4955612\ttotal: 39.8s\tremaining: 1m 15s\n",
      "346:\tlearn: 1.4954407\ttotal: 39.9s\tremaining: 1m 15s\n",
      "347:\tlearn: 1.4953498\ttotal: 40s\tremaining: 1m 14s\n",
      "348:\tlearn: 1.4952498\ttotal: 40.1s\tremaining: 1m 14s\n",
      "349:\tlearn: 1.4951435\ttotal: 40.2s\tremaining: 1m 14s\n",
      "350:\tlearn: 1.4950391\ttotal: 40.3s\tremaining: 1m 14s\n",
      "351:\tlearn: 1.4949514\ttotal: 40.5s\tremaining: 1m 14s\n",
      "352:\tlearn: 1.4949199\ttotal: 40.6s\tremaining: 1m 14s\n",
      "353:\tlearn: 1.4947470\ttotal: 40.7s\tremaining: 1m 14s\n",
      "354:\tlearn: 1.4945934\ttotal: 40.8s\tremaining: 1m 14s\n",
      "355:\tlearn: 1.4945383\ttotal: 40.9s\tremaining: 1m 14s\n",
      "356:\tlearn: 1.4943974\ttotal: 41s\tremaining: 1m 13s\n",
      "357:\tlearn: 1.4943170\ttotal: 41.2s\tremaining: 1m 13s\n",
      "358:\tlearn: 1.4942685\ttotal: 41.3s\tremaining: 1m 13s\n",
      "359:\tlearn: 1.4941501\ttotal: 41.4s\tremaining: 1m 13s\n",
      "360:\tlearn: 1.4940626\ttotal: 41.5s\tremaining: 1m 13s\n",
      "361:\tlearn: 1.4939459\ttotal: 41.6s\tremaining: 1m 13s\n",
      "362:\tlearn: 1.4937723\ttotal: 41.7s\tremaining: 1m 13s\n",
      "363:\tlearn: 1.4936810\ttotal: 41.9s\tremaining: 1m 13s\n",
      "364:\tlearn: 1.4935354\ttotal: 42s\tremaining: 1m 13s\n",
      "365:\tlearn: 1.4934685\ttotal: 42.1s\tremaining: 1m 12s\n",
      "366:\tlearn: 1.4933277\ttotal: 42.2s\tremaining: 1m 12s\n",
      "367:\tlearn: 1.4932151\ttotal: 42.4s\tremaining: 1m 12s\n",
      "368:\tlearn: 1.4931196\ttotal: 42.5s\tremaining: 1m 12s\n",
      "369:\tlearn: 1.4930251\ttotal: 42.6s\tremaining: 1m 12s\n",
      "370:\tlearn: 1.4928710\ttotal: 42.7s\tremaining: 1m 12s\n",
      "371:\tlearn: 1.4927332\ttotal: 42.8s\tremaining: 1m 12s\n",
      "372:\tlearn: 1.4926446\ttotal: 42.9s\tremaining: 1m 12s\n",
      "373:\tlearn: 1.4924987\ttotal: 43s\tremaining: 1m 12s\n",
      "374:\tlearn: 1.4924170\ttotal: 43.2s\tremaining: 1m 11s\n",
      "375:\tlearn: 1.4922904\ttotal: 43.3s\tremaining: 1m 11s\n",
      "376:\tlearn: 1.4921952\ttotal: 43.4s\tremaining: 1m 11s\n",
      "377:\tlearn: 1.4921247\ttotal: 43.5s\tremaining: 1m 11s\n",
      "378:\tlearn: 1.4920581\ttotal: 43.7s\tremaining: 1m 11s\n",
      "379:\tlearn: 1.4919382\ttotal: 43.8s\tremaining: 1m 11s\n",
      "380:\tlearn: 1.4918465\ttotal: 43.9s\tremaining: 1m 11s\n",
      "381:\tlearn: 1.4917989\ttotal: 44.1s\tremaining: 1m 11s\n",
      "382:\tlearn: 1.4916941\ttotal: 44.2s\tremaining: 1m 11s\n",
      "383:\tlearn: 1.4915009\ttotal: 44.4s\tremaining: 1m 11s\n",
      "384:\tlearn: 1.4913561\ttotal: 44.5s\tremaining: 1m 11s\n",
      "385:\tlearn: 1.4912769\ttotal: 44.6s\tremaining: 1m 10s\n",
      "386:\tlearn: 1.4911752\ttotal: 44.7s\tremaining: 1m 10s\n",
      "387:\tlearn: 1.4909985\ttotal: 44.9s\tremaining: 1m 10s\n",
      "388:\tlearn: 1.4908234\ttotal: 45s\tremaining: 1m 10s\n",
      "389:\tlearn: 1.4906960\ttotal: 45.2s\tremaining: 1m 10s\n",
      "390:\tlearn: 1.4906515\ttotal: 45.4s\tremaining: 1m 10s\n",
      "391:\tlearn: 1.4905586\ttotal: 45.5s\tremaining: 1m 10s\n",
      "392:\tlearn: 1.4904671\ttotal: 45.7s\tremaining: 1m 10s\n",
      "393:\tlearn: 1.4903984\ttotal: 45.8s\tremaining: 1m 10s\n",
      "394:\tlearn: 1.4902337\ttotal: 46s\tremaining: 1m 10s\n",
      "395:\tlearn: 1.4900723\ttotal: 46.1s\tremaining: 1m 10s\n",
      "396:\tlearn: 1.4899584\ttotal: 46.2s\tremaining: 1m 10s\n",
      "397:\tlearn: 1.4898830\ttotal: 46.4s\tremaining: 1m 10s\n",
      "398:\tlearn: 1.4898038\ttotal: 46.5s\tremaining: 1m 10s\n",
      "399:\tlearn: 1.4896947\ttotal: 46.7s\tremaining: 1m 10s\n",
      "400:\tlearn: 1.4895805\ttotal: 46.8s\tremaining: 1m 9s\n",
      "401:\tlearn: 1.4894839\ttotal: 47s\tremaining: 1m 9s\n",
      "402:\tlearn: 1.4893166\ttotal: 47.1s\tremaining: 1m 9s\n",
      "403:\tlearn: 1.4892184\ttotal: 47.3s\tremaining: 1m 9s\n",
      "404:\tlearn: 1.4891022\ttotal: 47.4s\tremaining: 1m 9s\n",
      "405:\tlearn: 1.4889190\ttotal: 47.5s\tremaining: 1m 9s\n",
      "406:\tlearn: 1.4887987\ttotal: 47.7s\tremaining: 1m 9s\n",
      "407:\tlearn: 1.4886975\ttotal: 47.8s\tremaining: 1m 9s\n",
      "408:\tlearn: 1.4885768\ttotal: 48s\tremaining: 1m 9s\n",
      "409:\tlearn: 1.4884854\ttotal: 48.1s\tremaining: 1m 9s\n",
      "410:\tlearn: 1.4883828\ttotal: 48.2s\tremaining: 1m 9s\n",
      "411:\tlearn: 1.4882687\ttotal: 48.4s\tremaining: 1m 9s\n",
      "412:\tlearn: 1.4881559\ttotal: 48.5s\tremaining: 1m 8s\n",
      "413:\tlearn: 1.4880357\ttotal: 48.6s\tremaining: 1m 8s\n",
      "414:\tlearn: 1.4879472\ttotal: 48.8s\tremaining: 1m 8s\n",
      "415:\tlearn: 1.4878197\ttotal: 48.9s\tremaining: 1m 8s\n",
      "416:\tlearn: 1.4876595\ttotal: 49s\tremaining: 1m 8s\n",
      "417:\tlearn: 1.4875553\ttotal: 49.2s\tremaining: 1m 8s\n",
      "418:\tlearn: 1.4874143\ttotal: 49.3s\tremaining: 1m 8s\n",
      "419:\tlearn: 1.4872775\ttotal: 49.4s\tremaining: 1m 8s\n",
      "420:\tlearn: 1.4871195\ttotal: 49.5s\tremaining: 1m 8s\n",
      "421:\tlearn: 1.4869841\ttotal: 49.7s\tremaining: 1m 8s\n",
      "422:\tlearn: 1.4868345\ttotal: 49.8s\tremaining: 1m 7s\n",
      "423:\tlearn: 1.4867409\ttotal: 49.9s\tremaining: 1m 7s\n",
      "424:\tlearn: 1.4866514\ttotal: 50s\tremaining: 1m 7s\n",
      "425:\tlearn: 1.4865295\ttotal: 50.2s\tremaining: 1m 7s\n",
      "426:\tlearn: 1.4863189\ttotal: 50.3s\tremaining: 1m 7s\n",
      "427:\tlearn: 1.4862076\ttotal: 50.4s\tremaining: 1m 7s\n",
      "428:\tlearn: 1.4861409\ttotal: 50.5s\tremaining: 1m 7s\n",
      "429:\tlearn: 1.4859894\ttotal: 50.6s\tremaining: 1m 7s\n",
      "430:\tlearn: 1.4858721\ttotal: 50.8s\tremaining: 1m 7s\n",
      "431:\tlearn: 1.4857692\ttotal: 50.9s\tremaining: 1m 6s\n",
      "432:\tlearn: 1.4856246\ttotal: 51s\tremaining: 1m 6s\n",
      "433:\tlearn: 1.4855446\ttotal: 51.1s\tremaining: 1m 6s\n",
      "434:\tlearn: 1.4854930\ttotal: 51.3s\tremaining: 1m 6s\n",
      "435:\tlearn: 1.4854123\ttotal: 51.4s\tremaining: 1m 6s\n",
      "436:\tlearn: 1.4853509\ttotal: 51.5s\tremaining: 1m 6s\n",
      "437:\tlearn: 1.4852576\ttotal: 51.7s\tremaining: 1m 6s\n",
      "438:\tlearn: 1.4851063\ttotal: 51.8s\tremaining: 1m 6s\n",
      "439:\tlearn: 1.4849936\ttotal: 51.9s\tremaining: 1m 6s\n",
      "440:\tlearn: 1.4849152\ttotal: 52.1s\tremaining: 1m 5s\n",
      "441:\tlearn: 1.4848465\ttotal: 52.2s\tremaining: 1m 5s\n",
      "442:\tlearn: 1.4847486\ttotal: 52.3s\tremaining: 1m 5s\n",
      "443:\tlearn: 1.4846350\ttotal: 52.5s\tremaining: 1m 5s\n",
      "444:\tlearn: 1.4844840\ttotal: 52.6s\tremaining: 1m 5s\n",
      "445:\tlearn: 1.4843616\ttotal: 52.7s\tremaining: 1m 5s\n",
      "446:\tlearn: 1.4842763\ttotal: 52.9s\tremaining: 1m 5s\n",
      "447:\tlearn: 1.4841629\ttotal: 53.1s\tremaining: 1m 5s\n",
      "448:\tlearn: 1.4840233\ttotal: 53.2s\tremaining: 1m 5s\n",
      "449:\tlearn: 1.4839506\ttotal: 53.3s\tremaining: 1m 5s\n",
      "450:\tlearn: 1.4838358\ttotal: 53.5s\tremaining: 1m 5s\n",
      "451:\tlearn: 1.4837747\ttotal: 53.6s\tremaining: 1m 4s\n",
      "452:\tlearn: 1.4836610\ttotal: 53.8s\tremaining: 1m 4s\n",
      "453:\tlearn: 1.4835254\ttotal: 53.9s\tremaining: 1m 4s\n",
      "454:\tlearn: 1.4834121\ttotal: 54.1s\tremaining: 1m 4s\n",
      "455:\tlearn: 1.4833014\ttotal: 54.2s\tremaining: 1m 4s\n",
      "456:\tlearn: 1.4831863\ttotal: 54.3s\tremaining: 1m 4s\n",
      "457:\tlearn: 1.4830191\ttotal: 54.4s\tremaining: 1m 4s\n",
      "458:\tlearn: 1.4829048\ttotal: 54.6s\tremaining: 1m 4s\n",
      "459:\tlearn: 1.4828589\ttotal: 54.7s\tremaining: 1m 4s\n",
      "460:\tlearn: 1.4827053\ttotal: 54.8s\tremaining: 1m 4s\n",
      "461:\tlearn: 1.4826064\ttotal: 55s\tremaining: 1m 4s\n",
      "462:\tlearn: 1.4824567\ttotal: 55.1s\tremaining: 1m 3s\n",
      "463:\tlearn: 1.4823728\ttotal: 55.2s\tremaining: 1m 3s\n",
      "464:\tlearn: 1.4823088\ttotal: 55.4s\tremaining: 1m 3s\n",
      "465:\tlearn: 1.4821658\ttotal: 55.5s\tremaining: 1m 3s\n",
      "466:\tlearn: 1.4821008\ttotal: 55.6s\tremaining: 1m 3s\n",
      "467:\tlearn: 1.4819273\ttotal: 55.8s\tremaining: 1m 3s\n",
      "468:\tlearn: 1.4818412\ttotal: 55.9s\tremaining: 1m 3s\n",
      "469:\tlearn: 1.4815842\ttotal: 56s\tremaining: 1m 3s\n",
      "470:\tlearn: 1.4814454\ttotal: 56.1s\tremaining: 1m 3s\n",
      "471:\tlearn: 1.4813381\ttotal: 56.2s\tremaining: 1m 2s\n"
     ]
    },
    {
     "name": "stdout",
     "output_type": "stream",
     "text": [
      "472:\tlearn: 1.4812567\ttotal: 56.4s\tremaining: 1m 2s\n",
      "473:\tlearn: 1.4811703\ttotal: 56.5s\tremaining: 1m 2s\n",
      "474:\tlearn: 1.4810834\ttotal: 56.7s\tremaining: 1m 2s\n",
      "475:\tlearn: 1.4809736\ttotal: 56.8s\tremaining: 1m 2s\n",
      "476:\tlearn: 1.4808765\ttotal: 56.9s\tremaining: 1m 2s\n",
      "477:\tlearn: 1.4807734\ttotal: 57s\tremaining: 1m 2s\n",
      "478:\tlearn: 1.4806303\ttotal: 57.2s\tremaining: 1m 2s\n",
      "479:\tlearn: 1.4805210\ttotal: 57.3s\tremaining: 1m 2s\n",
      "480:\tlearn: 1.4803742\ttotal: 57.4s\tremaining: 1m 1s\n",
      "481:\tlearn: 1.4803041\ttotal: 57.6s\tremaining: 1m 1s\n",
      "482:\tlearn: 1.4801762\ttotal: 57.7s\tremaining: 1m 1s\n",
      "483:\tlearn: 1.4800938\ttotal: 57.9s\tremaining: 1m 1s\n",
      "484:\tlearn: 1.4799697\ttotal: 58s\tremaining: 1m 1s\n",
      "485:\tlearn: 1.4798450\ttotal: 58.1s\tremaining: 1m 1s\n",
      "486:\tlearn: 1.4797627\ttotal: 58.3s\tremaining: 1m 1s\n",
      "487:\tlearn: 1.4796391\ttotal: 58.4s\tremaining: 1m 1s\n",
      "488:\tlearn: 1.4795281\ttotal: 58.5s\tremaining: 1m 1s\n",
      "489:\tlearn: 1.4794151\ttotal: 58.6s\tremaining: 1m 1s\n",
      "490:\tlearn: 1.4793139\ttotal: 58.7s\tremaining: 1m\n",
      "491:\tlearn: 1.4791961\ttotal: 58.9s\tremaining: 1m\n",
      "492:\tlearn: 1.4791105\ttotal: 59s\tremaining: 1m\n",
      "493:\tlearn: 1.4789691\ttotal: 59.2s\tremaining: 1m\n",
      "494:\tlearn: 1.4788693\ttotal: 59.3s\tremaining: 1m\n",
      "495:\tlearn: 1.4787583\ttotal: 59.4s\tremaining: 1m\n",
      "496:\tlearn: 1.4786297\ttotal: 59.6s\tremaining: 1m\n",
      "497:\tlearn: 1.4785433\ttotal: 59.7s\tremaining: 1m\n",
      "498:\tlearn: 1.4784516\ttotal: 59.9s\tremaining: 1m\n",
      "499:\tlearn: 1.4784167\ttotal: 60s\tremaining: 60s\n",
      "500:\tlearn: 1.4783095\ttotal: 1m\tremaining: 59.9s\n",
      "501:\tlearn: 1.4782442\ttotal: 1m\tremaining: 59.7s\n",
      "502:\tlearn: 1.4781673\ttotal: 1m\tremaining: 59.6s\n",
      "503:\tlearn: 1.4780974\ttotal: 1m\tremaining: 59.5s\n",
      "504:\tlearn: 1.4779581\ttotal: 1m\tremaining: 59.4s\n",
      "505:\tlearn: 1.4778274\ttotal: 1m\tremaining: 59.3s\n",
      "506:\tlearn: 1.4777212\ttotal: 1m\tremaining: 59.2s\n",
      "507:\tlearn: 1.4776224\ttotal: 1m\tremaining: 59.1s\n",
      "508:\tlearn: 1.4775233\ttotal: 1m 1s\tremaining: 59s\n",
      "509:\tlearn: 1.4774055\ttotal: 1m 1s\tremaining: 58.9s\n",
      "510:\tlearn: 1.4773160\ttotal: 1m 1s\tremaining: 58.8s\n",
      "511:\tlearn: 1.4772190\ttotal: 1m 1s\tremaining: 58.7s\n",
      "512:\tlearn: 1.4771246\ttotal: 1m 1s\tremaining: 58.5s\n",
      "513:\tlearn: 1.4770659\ttotal: 1m 1s\tremaining: 58.4s\n",
      "514:\tlearn: 1.4769468\ttotal: 1m 1s\tremaining: 58.3s\n",
      "515:\tlearn: 1.4768516\ttotal: 1m 2s\tremaining: 58.2s\n",
      "516:\tlearn: 1.4767252\ttotal: 1m 2s\tremaining: 58.1s\n",
      "517:\tlearn: 1.4766047\ttotal: 1m 2s\tremaining: 58s\n",
      "518:\tlearn: 1.4764621\ttotal: 1m 2s\tremaining: 57.9s\n",
      "519:\tlearn: 1.4763924\ttotal: 1m 2s\tremaining: 57.8s\n",
      "520:\tlearn: 1.4762641\ttotal: 1m 2s\tremaining: 57.7s\n",
      "521:\tlearn: 1.4761426\ttotal: 1m 2s\tremaining: 57.6s\n",
      "522:\tlearn: 1.4759761\ttotal: 1m 2s\tremaining: 57.4s\n",
      "523:\tlearn: 1.4758217\ttotal: 1m 3s\tremaining: 57.3s\n",
      "524:\tlearn: 1.4757655\ttotal: 1m 3s\tremaining: 57.3s\n",
      "525:\tlearn: 1.4756807\ttotal: 1m 3s\tremaining: 57.2s\n",
      "526:\tlearn: 1.4755854\ttotal: 1m 3s\tremaining: 57.1s\n",
      "527:\tlearn: 1.4755099\ttotal: 1m 3s\tremaining: 57s\n",
      "528:\tlearn: 1.4754657\ttotal: 1m 3s\tremaining: 56.9s\n",
      "529:\tlearn: 1.4754162\ttotal: 1m 3s\tremaining: 56.7s\n",
      "530:\tlearn: 1.4753224\ttotal: 1m 4s\tremaining: 56.6s\n",
      "531:\tlearn: 1.4752427\ttotal: 1m 4s\tremaining: 56.5s\n",
      "532:\tlearn: 1.4750880\ttotal: 1m 4s\tremaining: 56.4s\n",
      "533:\tlearn: 1.4749448\ttotal: 1m 4s\tremaining: 56.3s\n",
      "534:\tlearn: 1.4748762\ttotal: 1m 4s\tremaining: 56.1s\n",
      "535:\tlearn: 1.4747789\ttotal: 1m 4s\tremaining: 56s\n",
      "536:\tlearn: 1.4747096\ttotal: 1m 4s\tremaining: 55.9s\n",
      "537:\tlearn: 1.4745776\ttotal: 1m 4s\tremaining: 55.8s\n",
      "538:\tlearn: 1.4744586\ttotal: 1m 5s\tremaining: 55.7s\n",
      "539:\tlearn: 1.4743096\ttotal: 1m 5s\tremaining: 55.6s\n",
      "540:\tlearn: 1.4741898\ttotal: 1m 5s\tremaining: 55.4s\n",
      "541:\tlearn: 1.4741162\ttotal: 1m 5s\tremaining: 55.3s\n",
      "542:\tlearn: 1.4739891\ttotal: 1m 5s\tremaining: 55.2s\n",
      "543:\tlearn: 1.4739387\ttotal: 1m 5s\tremaining: 55.1s\n",
      "544:\tlearn: 1.4737965\ttotal: 1m 5s\tremaining: 55s\n",
      "545:\tlearn: 1.4737237\ttotal: 1m 5s\tremaining: 54.8s\n",
      "546:\tlearn: 1.4736719\ttotal: 1m 6s\tremaining: 54.7s\n",
      "547:\tlearn: 1.4736264\ttotal: 1m 6s\tremaining: 54.6s\n",
      "548:\tlearn: 1.4735575\ttotal: 1m 6s\tremaining: 54.5s\n",
      "549:\tlearn: 1.4734391\ttotal: 1m 6s\tremaining: 54.4s\n",
      "550:\tlearn: 1.4733470\ttotal: 1m 6s\tremaining: 54.2s\n",
      "551:\tlearn: 1.4732313\ttotal: 1m 6s\tremaining: 54.1s\n",
      "552:\tlearn: 1.4731446\ttotal: 1m 6s\tremaining: 54s\n",
      "553:\tlearn: 1.4730631\ttotal: 1m 6s\tremaining: 53.9s\n",
      "554:\tlearn: 1.4729009\ttotal: 1m 7s\tremaining: 53.8s\n",
      "555:\tlearn: 1.4727940\ttotal: 1m 7s\tremaining: 53.7s\n",
      "556:\tlearn: 1.4727102\ttotal: 1m 7s\tremaining: 53.6s\n",
      "557:\tlearn: 1.4725990\ttotal: 1m 7s\tremaining: 53.4s\n",
      "558:\tlearn: 1.4725408\ttotal: 1m 7s\tremaining: 53.3s\n",
      "559:\tlearn: 1.4723662\ttotal: 1m 7s\tremaining: 53.2s\n",
      "560:\tlearn: 1.4722861\ttotal: 1m 7s\tremaining: 53.1s\n",
      "561:\tlearn: 1.4722050\ttotal: 1m 7s\tremaining: 53s\n",
      "562:\tlearn: 1.4721234\ttotal: 1m 8s\tremaining: 52.9s\n",
      "563:\tlearn: 1.4719952\ttotal: 1m 8s\tremaining: 52.8s\n",
      "564:\tlearn: 1.4719118\ttotal: 1m 8s\tremaining: 52.6s\n",
      "565:\tlearn: 1.4718100\ttotal: 1m 8s\tremaining: 52.5s\n",
      "566:\tlearn: 1.4716706\ttotal: 1m 8s\tremaining: 52.4s\n",
      "567:\tlearn: 1.4715431\ttotal: 1m 8s\tremaining: 52.3s\n",
      "568:\tlearn: 1.4713885\ttotal: 1m 8s\tremaining: 52.2s\n",
      "569:\tlearn: 1.4713054\ttotal: 1m 8s\tremaining: 52.1s\n",
      "570:\tlearn: 1.4712076\ttotal: 1m 9s\tremaining: 51.9s\n",
      "571:\tlearn: 1.4711553\ttotal: 1m 9s\tremaining: 51.8s\n",
      "572:\tlearn: 1.4710188\ttotal: 1m 9s\tremaining: 51.7s\n",
      "573:\tlearn: 1.4708729\ttotal: 1m 9s\tremaining: 51.6s\n",
      "574:\tlearn: 1.4707475\ttotal: 1m 9s\tremaining: 51.5s\n",
      "575:\tlearn: 1.4706061\ttotal: 1m 9s\tremaining: 51.3s\n",
      "576:\tlearn: 1.4705291\ttotal: 1m 9s\tremaining: 51.2s\n",
      "577:\tlearn: 1.4704478\ttotal: 1m 10s\tremaining: 51.1s\n",
      "578:\tlearn: 1.4703618\ttotal: 1m 10s\tremaining: 51s\n",
      "579:\tlearn: 1.4702702\ttotal: 1m 10s\tremaining: 50.9s\n",
      "580:\tlearn: 1.4702382\ttotal: 1m 10s\tremaining: 50.8s\n",
      "581:\tlearn: 1.4701751\ttotal: 1m 10s\tremaining: 50.7s\n",
      "582:\tlearn: 1.4700279\ttotal: 1m 10s\tremaining: 50.6s\n",
      "583:\tlearn: 1.4699077\ttotal: 1m 10s\tremaining: 50.4s\n",
      "584:\tlearn: 1.4697871\ttotal: 1m 10s\tremaining: 50.3s\n",
      "585:\tlearn: 1.4697179\ttotal: 1m 11s\tremaining: 50.2s\n",
      "586:\tlearn: 1.4696459\ttotal: 1m 11s\tremaining: 50.1s\n",
      "587:\tlearn: 1.4695796\ttotal: 1m 11s\tremaining: 50s\n",
      "588:\tlearn: 1.4694917\ttotal: 1m 11s\tremaining: 49.9s\n",
      "589:\tlearn: 1.4693738\ttotal: 1m 11s\tremaining: 49.8s\n",
      "590:\tlearn: 1.4692618\ttotal: 1m 11s\tremaining: 49.7s\n",
      "591:\tlearn: 1.4691957\ttotal: 1m 11s\tremaining: 49.5s\n",
      "592:\tlearn: 1.4691091\ttotal: 1m 11s\tremaining: 49.4s\n",
      "593:\tlearn: 1.4690149\ttotal: 1m 12s\tremaining: 49.3s\n",
      "594:\tlearn: 1.4689646\ttotal: 1m 12s\tremaining: 49.2s\n",
      "595:\tlearn: 1.4688262\ttotal: 1m 12s\tremaining: 49.1s\n",
      "596:\tlearn: 1.4687359\ttotal: 1m 12s\tremaining: 49s\n",
      "597:\tlearn: 1.4686219\ttotal: 1m 12s\tremaining: 48.9s\n",
      "598:\tlearn: 1.4685044\ttotal: 1m 12s\tremaining: 48.7s\n",
      "599:\tlearn: 1.4684322\ttotal: 1m 12s\tremaining: 48.6s\n",
      "600:\tlearn: 1.4683765\ttotal: 1m 13s\tremaining: 48.5s\n",
      "601:\tlearn: 1.4682709\ttotal: 1m 13s\tremaining: 48.4s\n",
      "602:\tlearn: 1.4682002\ttotal: 1m 13s\tremaining: 48.3s\n",
      "603:\tlearn: 1.4681151\ttotal: 1m 13s\tremaining: 48.2s\n",
      "604:\tlearn: 1.4680847\ttotal: 1m 13s\tremaining: 48.1s\n",
      "605:\tlearn: 1.4680050\ttotal: 1m 13s\tremaining: 48s\n",
      "606:\tlearn: 1.4678855\ttotal: 1m 13s\tremaining: 47.9s\n",
      "607:\tlearn: 1.4677449\ttotal: 1m 14s\tremaining: 47.7s\n",
      "608:\tlearn: 1.4676112\ttotal: 1m 14s\tremaining: 47.6s\n",
      "609:\tlearn: 1.4674940\ttotal: 1m 14s\tremaining: 47.5s\n",
      "610:\tlearn: 1.4673425\ttotal: 1m 14s\tremaining: 47.4s\n",
      "611:\tlearn: 1.4672331\ttotal: 1m 14s\tremaining: 47.3s\n",
      "612:\tlearn: 1.4671554\ttotal: 1m 14s\tremaining: 47.2s\n",
      "613:\tlearn: 1.4670554\ttotal: 1m 14s\tremaining: 47.1s\n",
      "614:\tlearn: 1.4669782\ttotal: 1m 15s\tremaining: 47s\n",
      "615:\tlearn: 1.4668860\ttotal: 1m 15s\tremaining: 46.9s\n",
      "616:\tlearn: 1.4668082\ttotal: 1m 15s\tremaining: 46.8s\n",
      "617:\tlearn: 1.4666994\ttotal: 1m 15s\tremaining: 46.6s\n",
      "618:\tlearn: 1.4665960\ttotal: 1m 15s\tremaining: 46.5s\n",
      "619:\tlearn: 1.4664494\ttotal: 1m 15s\tremaining: 46.4s\n",
      "620:\tlearn: 1.4663403\ttotal: 1m 15s\tremaining: 46.3s\n",
      "621:\tlearn: 1.4662620\ttotal: 1m 16s\tremaining: 46.2s\n",
      "622:\tlearn: 1.4661638\ttotal: 1m 16s\tremaining: 46.1s\n",
      "623:\tlearn: 1.4660244\ttotal: 1m 16s\tremaining: 46s\n",
      "624:\tlearn: 1.4659185\ttotal: 1m 16s\tremaining: 45.9s\n",
      "625:\tlearn: 1.4657611\ttotal: 1m 16s\tremaining: 45.8s\n",
      "626:\tlearn: 1.4656836\ttotal: 1m 16s\tremaining: 45.6s\n",
      "627:\tlearn: 1.4655549\ttotal: 1m 16s\tremaining: 45.5s\n",
      "628:\tlearn: 1.4654717\ttotal: 1m 17s\tremaining: 45.4s\n",
      "629:\tlearn: 1.4653671\ttotal: 1m 17s\tremaining: 45.3s\n",
      "630:\tlearn: 1.4652519\ttotal: 1m 17s\tremaining: 45.2s\n",
      "631:\tlearn: 1.4651753\ttotal: 1m 17s\tremaining: 45.1s\n"
     ]
    },
    {
     "name": "stdout",
     "output_type": "stream",
     "text": [
      "632:\tlearn: 1.4650644\ttotal: 1m 17s\tremaining: 45s\n",
      "633:\tlearn: 1.4648891\ttotal: 1m 17s\tremaining: 44.9s\n",
      "634:\tlearn: 1.4647630\ttotal: 1m 17s\tremaining: 44.8s\n",
      "635:\tlearn: 1.4646168\ttotal: 1m 17s\tremaining: 44.6s\n",
      "636:\tlearn: 1.4644918\ttotal: 1m 18s\tremaining: 44.5s\n",
      "637:\tlearn: 1.4644039\ttotal: 1m 18s\tremaining: 44.4s\n",
      "638:\tlearn: 1.4643150\ttotal: 1m 18s\tremaining: 44.3s\n",
      "639:\tlearn: 1.4642019\ttotal: 1m 18s\tremaining: 44.2s\n",
      "640:\tlearn: 1.4640987\ttotal: 1m 18s\tremaining: 44.1s\n",
      "641:\tlearn: 1.4639867\ttotal: 1m 18s\tremaining: 44s\n",
      "642:\tlearn: 1.4638619\ttotal: 1m 18s\tremaining: 43.8s\n",
      "643:\tlearn: 1.4637823\ttotal: 1m 19s\tremaining: 43.7s\n",
      "644:\tlearn: 1.4636938\ttotal: 1m 19s\tremaining: 43.6s\n",
      "645:\tlearn: 1.4635636\ttotal: 1m 19s\tremaining: 43.5s\n",
      "646:\tlearn: 1.4634891\ttotal: 1m 19s\tremaining: 43.4s\n",
      "647:\tlearn: 1.4634050\ttotal: 1m 19s\tremaining: 43.3s\n",
      "648:\tlearn: 1.4633555\ttotal: 1m 19s\tremaining: 43.2s\n",
      "649:\tlearn: 1.4632678\ttotal: 1m 20s\tremaining: 43.1s\n",
      "650:\tlearn: 1.4631743\ttotal: 1m 20s\tremaining: 43s\n",
      "651:\tlearn: 1.4630329\ttotal: 1m 20s\tremaining: 42.9s\n",
      "652:\tlearn: 1.4629460\ttotal: 1m 20s\tremaining: 42.8s\n",
      "653:\tlearn: 1.4628947\ttotal: 1m 20s\tremaining: 42.7s\n",
      "654:\tlearn: 1.4627731\ttotal: 1m 20s\tremaining: 42.5s\n",
      "655:\tlearn: 1.4626563\ttotal: 1m 20s\tremaining: 42.4s\n",
      "656:\tlearn: 1.4625773\ttotal: 1m 21s\tremaining: 42.3s\n",
      "657:\tlearn: 1.4624970\ttotal: 1m 21s\tremaining: 42.2s\n",
      "658:\tlearn: 1.4624176\ttotal: 1m 21s\tremaining: 42.1s\n",
      "659:\tlearn: 1.4623252\ttotal: 1m 21s\tremaining: 42s\n",
      "660:\tlearn: 1.4622438\ttotal: 1m 21s\tremaining: 41.9s\n",
      "661:\tlearn: 1.4621257\ttotal: 1m 21s\tremaining: 41.8s\n",
      "662:\tlearn: 1.4620071\ttotal: 1m 21s\tremaining: 41.6s\n",
      "663:\tlearn: 1.4619106\ttotal: 1m 22s\tremaining: 41.5s\n",
      "664:\tlearn: 1.4618494\ttotal: 1m 22s\tremaining: 41.4s\n",
      "665:\tlearn: 1.4617623\ttotal: 1m 22s\tremaining: 41.3s\n",
      "666:\tlearn: 1.4616869\ttotal: 1m 22s\tremaining: 41.2s\n",
      "667:\tlearn: 1.4616179\ttotal: 1m 22s\tremaining: 41.1s\n",
      "668:\tlearn: 1.4615519\ttotal: 1m 22s\tremaining: 41s\n",
      "669:\tlearn: 1.4614613\ttotal: 1m 22s\tremaining: 40.8s\n",
      "670:\tlearn: 1.4613629\ttotal: 1m 23s\tremaining: 40.7s\n",
      "671:\tlearn: 1.4612394\ttotal: 1m 23s\tremaining: 40.6s\n",
      "672:\tlearn: 1.4611643\ttotal: 1m 23s\tremaining: 40.5s\n",
      "673:\tlearn: 1.4610657\ttotal: 1m 23s\tremaining: 40.4s\n",
      "674:\tlearn: 1.4609717\ttotal: 1m 23s\tremaining: 40.3s\n",
      "675:\tlearn: 1.4608515\ttotal: 1m 23s\tremaining: 40.2s\n",
      "676:\tlearn: 1.4607977\ttotal: 1m 24s\tremaining: 40.1s\n",
      "677:\tlearn: 1.4607241\ttotal: 1m 24s\tremaining: 40s\n",
      "678:\tlearn: 1.4605909\ttotal: 1m 24s\tremaining: 39.9s\n",
      "679:\tlearn: 1.4605095\ttotal: 1m 24s\tremaining: 39.7s\n",
      "680:\tlearn: 1.4604146\ttotal: 1m 24s\tremaining: 39.6s\n",
      "681:\tlearn: 1.4603257\ttotal: 1m 24s\tremaining: 39.5s\n",
      "682:\tlearn: 1.4602602\ttotal: 1m 24s\tremaining: 39.4s\n",
      "683:\tlearn: 1.4601661\ttotal: 1m 25s\tremaining: 39.3s\n",
      "684:\tlearn: 1.4600484\ttotal: 1m 25s\tremaining: 39.2s\n",
      "685:\tlearn: 1.4599443\ttotal: 1m 25s\tremaining: 39s\n",
      "686:\tlearn: 1.4598413\ttotal: 1m 25s\tremaining: 38.9s\n",
      "687:\tlearn: 1.4597153\ttotal: 1m 25s\tremaining: 38.8s\n",
      "688:\tlearn: 1.4596893\ttotal: 1m 25s\tremaining: 38.7s\n",
      "689:\tlearn: 1.4596093\ttotal: 1m 25s\tremaining: 38.6s\n",
      "690:\tlearn: 1.4594998\ttotal: 1m 26s\tremaining: 38.5s\n",
      "691:\tlearn: 1.4593952\ttotal: 1m 26s\tremaining: 38.3s\n",
      "692:\tlearn: 1.4593292\ttotal: 1m 26s\tremaining: 38.2s\n",
      "693:\tlearn: 1.4592355\ttotal: 1m 26s\tremaining: 38.1s\n",
      "694:\tlearn: 1.4591591\ttotal: 1m 26s\tremaining: 38s\n",
      "695:\tlearn: 1.4590761\ttotal: 1m 26s\tremaining: 37.9s\n",
      "696:\tlearn: 1.4589900\ttotal: 1m 26s\tremaining: 37.8s\n",
      "697:\tlearn: 1.4589095\ttotal: 1m 27s\tremaining: 37.7s\n",
      "698:\tlearn: 1.4587757\ttotal: 1m 27s\tremaining: 37.5s\n",
      "699:\tlearn: 1.4587139\ttotal: 1m 27s\tremaining: 37.4s\n",
      "700:\tlearn: 1.4586678\ttotal: 1m 27s\tremaining: 37.3s\n",
      "701:\tlearn: 1.4586001\ttotal: 1m 27s\tremaining: 37.2s\n",
      "702:\tlearn: 1.4585627\ttotal: 1m 27s\tremaining: 37.1s\n",
      "703:\tlearn: 1.4584803\ttotal: 1m 27s\tremaining: 37s\n",
      "704:\tlearn: 1.4583361\ttotal: 1m 28s\tremaining: 36.9s\n",
      "705:\tlearn: 1.4582370\ttotal: 1m 28s\tremaining: 36.7s\n",
      "706:\tlearn: 1.4581577\ttotal: 1m 28s\tremaining: 36.6s\n",
      "707:\tlearn: 1.4580421\ttotal: 1m 28s\tremaining: 36.5s\n",
      "708:\tlearn: 1.4579211\ttotal: 1m 28s\tremaining: 36.4s\n",
      "709:\tlearn: 1.4578425\ttotal: 1m 28s\tremaining: 36.3s\n",
      "710:\tlearn: 1.4577461\ttotal: 1m 28s\tremaining: 36.2s\n",
      "711:\tlearn: 1.4576420\ttotal: 1m 29s\tremaining: 36s\n",
      "712:\tlearn: 1.4575075\ttotal: 1m 29s\tremaining: 35.9s\n",
      "713:\tlearn: 1.4574193\ttotal: 1m 29s\tremaining: 35.8s\n",
      "714:\tlearn: 1.4573234\ttotal: 1m 29s\tremaining: 35.7s\n",
      "715:\tlearn: 1.4572783\ttotal: 1m 29s\tremaining: 35.6s\n",
      "716:\tlearn: 1.4571935\ttotal: 1m 29s\tremaining: 35.5s\n",
      "717:\tlearn: 1.4571087\ttotal: 1m 29s\tremaining: 35.3s\n",
      "718:\tlearn: 1.4570107\ttotal: 1m 30s\tremaining: 35.2s\n",
      "719:\tlearn: 1.4569126\ttotal: 1m 30s\tremaining: 35.1s\n",
      "720:\tlearn: 1.4568655\ttotal: 1m 30s\tremaining: 35s\n",
      "721:\tlearn: 1.4567878\ttotal: 1m 30s\tremaining: 34.9s\n",
      "722:\tlearn: 1.4566277\ttotal: 1m 30s\tremaining: 34.8s\n",
      "723:\tlearn: 1.4565251\ttotal: 1m 30s\tremaining: 34.6s\n",
      "724:\tlearn: 1.4564205\ttotal: 1m 31s\tremaining: 34.5s\n",
      "725:\tlearn: 1.4563309\ttotal: 1m 31s\tremaining: 34.4s\n",
      "726:\tlearn: 1.4562453\ttotal: 1m 31s\tremaining: 34.3s\n",
      "727:\tlearn: 1.4561751\ttotal: 1m 31s\tremaining: 34.2s\n",
      "728:\tlearn: 1.4560542\ttotal: 1m 31s\tremaining: 34s\n",
      "729:\tlearn: 1.4559508\ttotal: 1m 31s\tremaining: 33.9s\n",
      "730:\tlearn: 1.4558682\ttotal: 1m 31s\tremaining: 33.8s\n",
      "731:\tlearn: 1.4557568\ttotal: 1m 31s\tremaining: 33.7s\n",
      "732:\tlearn: 1.4556856\ttotal: 1m 32s\tremaining: 33.6s\n",
      "733:\tlearn: 1.4555959\ttotal: 1m 32s\tremaining: 33.4s\n",
      "734:\tlearn: 1.4555142\ttotal: 1m 32s\tremaining: 33.3s\n",
      "735:\tlearn: 1.4554160\ttotal: 1m 32s\tremaining: 33.2s\n",
      "736:\tlearn: 1.4553300\ttotal: 1m 32s\tremaining: 33.1s\n",
      "737:\tlearn: 1.4552273\ttotal: 1m 32s\tremaining: 33s\n",
      "738:\tlearn: 1.4551579\ttotal: 1m 33s\tremaining: 32.9s\n",
      "739:\tlearn: 1.4551000\ttotal: 1m 33s\tremaining: 32.8s\n",
      "740:\tlearn: 1.4549656\ttotal: 1m 33s\tremaining: 32.6s\n",
      "741:\tlearn: 1.4548830\ttotal: 1m 33s\tremaining: 32.5s\n",
      "742:\tlearn: 1.4548040\ttotal: 1m 33s\tremaining: 32.4s\n",
      "743:\tlearn: 1.4547276\ttotal: 1m 33s\tremaining: 32.3s\n",
      "744:\tlearn: 1.4546173\ttotal: 1m 33s\tremaining: 32.1s\n",
      "745:\tlearn: 1.4545640\ttotal: 1m 34s\tremaining: 32s\n",
      "746:\tlearn: 1.4545002\ttotal: 1m 34s\tremaining: 31.9s\n",
      "747:\tlearn: 1.4544134\ttotal: 1m 34s\tremaining: 31.8s\n",
      "748:\tlearn: 1.4542751\ttotal: 1m 34s\tremaining: 31.7s\n",
      "749:\tlearn: 1.4541549\ttotal: 1m 34s\tremaining: 31.5s\n",
      "750:\tlearn: 1.4540556\ttotal: 1m 34s\tremaining: 31.4s\n",
      "751:\tlearn: 1.4539636\ttotal: 1m 34s\tremaining: 31.3s\n",
      "752:\tlearn: 1.4538673\ttotal: 1m 35s\tremaining: 31.2s\n",
      "753:\tlearn: 1.4537748\ttotal: 1m 35s\tremaining: 31.1s\n",
      "754:\tlearn: 1.4537376\ttotal: 1m 35s\tremaining: 31s\n",
      "755:\tlearn: 1.4536475\ttotal: 1m 35s\tremaining: 30.8s\n",
      "756:\tlearn: 1.4535413\ttotal: 1m 35s\tremaining: 30.7s\n",
      "757:\tlearn: 1.4534633\ttotal: 1m 35s\tremaining: 30.6s\n",
      "758:\tlearn: 1.4533508\ttotal: 1m 35s\tremaining: 30.5s\n",
      "759:\tlearn: 1.4532506\ttotal: 1m 36s\tremaining: 30.3s\n",
      "760:\tlearn: 1.4531715\ttotal: 1m 36s\tremaining: 30.2s\n",
      "761:\tlearn: 1.4530854\ttotal: 1m 36s\tremaining: 30.1s\n",
      "762:\tlearn: 1.4529977\ttotal: 1m 36s\tremaining: 30s\n",
      "763:\tlearn: 1.4529258\ttotal: 1m 36s\tremaining: 29.9s\n",
      "764:\tlearn: 1.4528221\ttotal: 1m 36s\tremaining: 29.7s\n",
      "765:\tlearn: 1.4527645\ttotal: 1m 36s\tremaining: 29.6s\n",
      "766:\tlearn: 1.4526291\ttotal: 1m 37s\tremaining: 29.5s\n",
      "767:\tlearn: 1.4525371\ttotal: 1m 37s\tremaining: 29.4s\n",
      "768:\tlearn: 1.4524336\ttotal: 1m 37s\tremaining: 29.3s\n",
      "769:\tlearn: 1.4523406\ttotal: 1m 37s\tremaining: 29.1s\n",
      "770:\tlearn: 1.4522460\ttotal: 1m 37s\tremaining: 29s\n",
      "771:\tlearn: 1.4521756\ttotal: 1m 37s\tremaining: 28.9s\n",
      "772:\tlearn: 1.4520761\ttotal: 1m 38s\tremaining: 28.8s\n",
      "773:\tlearn: 1.4520155\ttotal: 1m 38s\tremaining: 28.7s\n",
      "774:\tlearn: 1.4519281\ttotal: 1m 38s\tremaining: 28.5s\n",
      "775:\tlearn: 1.4518418\ttotal: 1m 38s\tremaining: 28.4s\n",
      "776:\tlearn: 1.4517484\ttotal: 1m 38s\tremaining: 28.3s\n",
      "777:\tlearn: 1.4516709\ttotal: 1m 38s\tremaining: 28.2s\n",
      "778:\tlearn: 1.4515851\ttotal: 1m 38s\tremaining: 28.1s\n",
      "779:\tlearn: 1.4514978\ttotal: 1m 39s\tremaining: 27.9s\n",
      "780:\tlearn: 1.4513782\ttotal: 1m 39s\tremaining: 27.8s\n",
      "781:\tlearn: 1.4513057\ttotal: 1m 39s\tremaining: 27.7s\n",
      "782:\tlearn: 1.4512563\ttotal: 1m 39s\tremaining: 27.6s\n",
      "783:\tlearn: 1.4511699\ttotal: 1m 39s\tremaining: 27.4s\n",
      "784:\tlearn: 1.4510670\ttotal: 1m 39s\tremaining: 27.3s\n",
      "785:\tlearn: 1.4509544\ttotal: 1m 39s\tremaining: 27.2s\n",
      "786:\tlearn: 1.4509086\ttotal: 1m 40s\tremaining: 27.1s\n",
      "787:\tlearn: 1.4508370\ttotal: 1m 40s\tremaining: 27s\n"
     ]
    },
    {
     "name": "stdout",
     "output_type": "stream",
     "text": [
      "788:\tlearn: 1.4507163\ttotal: 1m 40s\tremaining: 26.8s\n",
      "789:\tlearn: 1.4506223\ttotal: 1m 40s\tremaining: 26.7s\n",
      "790:\tlearn: 1.4505671\ttotal: 1m 40s\tremaining: 26.6s\n",
      "791:\tlearn: 1.4505036\ttotal: 1m 40s\tremaining: 26.5s\n",
      "792:\tlearn: 1.4503086\ttotal: 1m 40s\tremaining: 26.3s\n",
      "793:\tlearn: 1.4502263\ttotal: 1m 41s\tremaining: 26.2s\n",
      "794:\tlearn: 1.4501337\ttotal: 1m 41s\tremaining: 26.1s\n",
      "795:\tlearn: 1.4500430\ttotal: 1m 41s\tremaining: 26s\n",
      "796:\tlearn: 1.4499459\ttotal: 1m 41s\tremaining: 25.8s\n",
      "797:\tlearn: 1.4498297\ttotal: 1m 41s\tremaining: 25.7s\n",
      "798:\tlearn: 1.4497238\ttotal: 1m 41s\tremaining: 25.6s\n",
      "799:\tlearn: 1.4496186\ttotal: 1m 41s\tremaining: 25.5s\n",
      "800:\tlearn: 1.4495261\ttotal: 1m 42s\tremaining: 25.4s\n",
      "801:\tlearn: 1.4494289\ttotal: 1m 42s\tremaining: 25.2s\n",
      "802:\tlearn: 1.4493218\ttotal: 1m 42s\tremaining: 25.1s\n",
      "803:\tlearn: 1.4492562\ttotal: 1m 42s\tremaining: 25s\n",
      "804:\tlearn: 1.4491776\ttotal: 1m 42s\tremaining: 24.9s\n",
      "805:\tlearn: 1.4491145\ttotal: 1m 42s\tremaining: 24.7s\n",
      "806:\tlearn: 1.4490168\ttotal: 1m 42s\tremaining: 24.6s\n",
      "807:\tlearn: 1.4489781\ttotal: 1m 43s\tremaining: 24.5s\n",
      "808:\tlearn: 1.4488571\ttotal: 1m 43s\tremaining: 24.4s\n",
      "809:\tlearn: 1.4488020\ttotal: 1m 43s\tremaining: 24.2s\n",
      "810:\tlearn: 1.4487065\ttotal: 1m 43s\tremaining: 24.1s\n",
      "811:\tlearn: 1.4486224\ttotal: 1m 43s\tremaining: 24s\n",
      "812:\tlearn: 1.4485215\ttotal: 1m 43s\tremaining: 23.9s\n",
      "813:\tlearn: 1.4484137\ttotal: 1m 43s\tremaining: 23.7s\n",
      "814:\tlearn: 1.4483574\ttotal: 1m 44s\tremaining: 23.6s\n",
      "815:\tlearn: 1.4482602\ttotal: 1m 44s\tremaining: 23.5s\n",
      "816:\tlearn: 1.4481581\ttotal: 1m 44s\tremaining: 23.4s\n",
      "817:\tlearn: 1.4480743\ttotal: 1m 44s\tremaining: 23.2s\n",
      "818:\tlearn: 1.4479801\ttotal: 1m 44s\tremaining: 23.1s\n",
      "819:\tlearn: 1.4478689\ttotal: 1m 44s\tremaining: 23s\n",
      "820:\tlearn: 1.4477743\ttotal: 1m 44s\tremaining: 22.9s\n",
      "821:\tlearn: 1.4477394\ttotal: 1m 44s\tremaining: 22.7s\n",
      "822:\tlearn: 1.4476752\ttotal: 1m 45s\tremaining: 22.6s\n",
      "823:\tlearn: 1.4476073\ttotal: 1m 45s\tremaining: 22.5s\n",
      "824:\tlearn: 1.4474963\ttotal: 1m 45s\tremaining: 22.4s\n",
      "825:\tlearn: 1.4474300\ttotal: 1m 45s\tremaining: 22.2s\n",
      "826:\tlearn: 1.4473450\ttotal: 1m 45s\tremaining: 22.1s\n",
      "827:\tlearn: 1.4472707\ttotal: 1m 45s\tremaining: 22s\n",
      "828:\tlearn: 1.4472065\ttotal: 1m 46s\tremaining: 21.9s\n",
      "829:\tlearn: 1.4471581\ttotal: 1m 46s\tremaining: 21.7s\n",
      "830:\tlearn: 1.4470754\ttotal: 1m 46s\tremaining: 21.6s\n",
      "831:\tlearn: 1.4470253\ttotal: 1m 46s\tremaining: 21.5s\n",
      "832:\tlearn: 1.4469814\ttotal: 1m 46s\tremaining: 21.4s\n",
      "833:\tlearn: 1.4468711\ttotal: 1m 46s\tremaining: 21.3s\n",
      "834:\tlearn: 1.4467720\ttotal: 1m 46s\tremaining: 21.1s\n",
      "835:\tlearn: 1.4466436\ttotal: 1m 47s\tremaining: 21s\n",
      "836:\tlearn: 1.4465546\ttotal: 1m 47s\tremaining: 20.9s\n",
      "837:\tlearn: 1.4465125\ttotal: 1m 47s\tremaining: 20.8s\n",
      "838:\tlearn: 1.4463784\ttotal: 1m 47s\tremaining: 20.6s\n",
      "839:\tlearn: 1.4463430\ttotal: 1m 47s\tremaining: 20.5s\n",
      "840:\tlearn: 1.4462952\ttotal: 1m 47s\tremaining: 20.4s\n",
      "841:\tlearn: 1.4461505\ttotal: 1m 47s\tremaining: 20.3s\n",
      "842:\tlearn: 1.4460744\ttotal: 1m 48s\tremaining: 20.1s\n",
      "843:\tlearn: 1.4460007\ttotal: 1m 48s\tremaining: 20s\n",
      "844:\tlearn: 1.4458956\ttotal: 1m 48s\tremaining: 19.9s\n",
      "845:\tlearn: 1.4458354\ttotal: 1m 48s\tremaining: 19.8s\n",
      "846:\tlearn: 1.4457597\ttotal: 1m 48s\tremaining: 19.6s\n",
      "847:\tlearn: 1.4456433\ttotal: 1m 48s\tremaining: 19.5s\n",
      "848:\tlearn: 1.4455680\ttotal: 1m 49s\tremaining: 19.4s\n",
      "849:\tlearn: 1.4455118\ttotal: 1m 49s\tremaining: 19.3s\n",
      "850:\tlearn: 1.4453915\ttotal: 1m 49s\tremaining: 19.2s\n",
      "851:\tlearn: 1.4453213\ttotal: 1m 49s\tremaining: 19s\n",
      "852:\tlearn: 1.4452301\ttotal: 1m 49s\tremaining: 18.9s\n",
      "853:\tlearn: 1.4451591\ttotal: 1m 49s\tremaining: 18.8s\n",
      "854:\tlearn: 1.4450463\ttotal: 1m 49s\tremaining: 18.7s\n",
      "855:\tlearn: 1.4449921\ttotal: 1m 50s\tremaining: 18.5s\n",
      "856:\tlearn: 1.4448653\ttotal: 1m 50s\tremaining: 18.4s\n",
      "857:\tlearn: 1.4448031\ttotal: 1m 50s\tremaining: 18.3s\n",
      "858:\tlearn: 1.4447314\ttotal: 1m 50s\tremaining: 18.1s\n",
      "859:\tlearn: 1.4446807\ttotal: 1m 50s\tremaining: 18s\n",
      "860:\tlearn: 1.4445787\ttotal: 1m 50s\tremaining: 17.9s\n",
      "861:\tlearn: 1.4445013\ttotal: 1m 51s\tremaining: 17.8s\n",
      "862:\tlearn: 1.4444014\ttotal: 1m 51s\tremaining: 17.6s\n",
      "863:\tlearn: 1.4443003\ttotal: 1m 51s\tremaining: 17.5s\n",
      "864:\tlearn: 1.4441825\ttotal: 1m 51s\tremaining: 17.4s\n",
      "865:\tlearn: 1.4441005\ttotal: 1m 51s\tremaining: 17.3s\n",
      "866:\tlearn: 1.4440053\ttotal: 1m 51s\tremaining: 17.1s\n",
      "867:\tlearn: 1.4439185\ttotal: 1m 51s\tremaining: 17s\n",
      "868:\tlearn: 1.4438174\ttotal: 1m 52s\tremaining: 16.9s\n",
      "869:\tlearn: 1.4437073\ttotal: 1m 52s\tremaining: 16.8s\n",
      "870:\tlearn: 1.4435846\ttotal: 1m 52s\tremaining: 16.6s\n",
      "871:\tlearn: 1.4434992\ttotal: 1m 52s\tremaining: 16.5s\n",
      "872:\tlearn: 1.4434741\ttotal: 1m 52s\tremaining: 16.4s\n",
      "873:\tlearn: 1.4433876\ttotal: 1m 52s\tremaining: 16.3s\n",
      "874:\tlearn: 1.4433214\ttotal: 1m 52s\tremaining: 16.1s\n",
      "875:\tlearn: 1.4432116\ttotal: 1m 53s\tremaining: 16s\n",
      "876:\tlearn: 1.4431044\ttotal: 1m 53s\tremaining: 15.9s\n",
      "877:\tlearn: 1.4430539\ttotal: 1m 53s\tremaining: 15.7s\n",
      "878:\tlearn: 1.4429747\ttotal: 1m 53s\tremaining: 15.6s\n",
      "879:\tlearn: 1.4428682\ttotal: 1m 53s\tremaining: 15.5s\n",
      "880:\tlearn: 1.4428047\ttotal: 1m 53s\tremaining: 15.4s\n",
      "881:\tlearn: 1.4427365\ttotal: 1m 53s\tremaining: 15.2s\n",
      "882:\tlearn: 1.4425699\ttotal: 1m 54s\tremaining: 15.1s\n",
      "883:\tlearn: 1.4424846\ttotal: 1m 54s\tremaining: 15s\n",
      "884:\tlearn: 1.4423692\ttotal: 1m 54s\tremaining: 14.9s\n",
      "885:\tlearn: 1.4422689\ttotal: 1m 54s\tremaining: 14.7s\n",
      "886:\tlearn: 1.4421971\ttotal: 1m 54s\tremaining: 14.6s\n",
      "887:\tlearn: 1.4421189\ttotal: 1m 54s\tremaining: 14.5s\n",
      "888:\tlearn: 1.4420547\ttotal: 1m 54s\tremaining: 14.4s\n",
      "889:\tlearn: 1.4419749\ttotal: 1m 55s\tremaining: 14.2s\n",
      "890:\tlearn: 1.4419153\ttotal: 1m 55s\tremaining: 14.1s\n",
      "891:\tlearn: 1.4418452\ttotal: 1m 55s\tremaining: 14s\n",
      "892:\tlearn: 1.4417467\ttotal: 1m 55s\tremaining: 13.8s\n",
      "893:\tlearn: 1.4416260\ttotal: 1m 55s\tremaining: 13.7s\n",
      "894:\tlearn: 1.4415381\ttotal: 1m 55s\tremaining: 13.6s\n",
      "895:\tlearn: 1.4414761\ttotal: 1m 55s\tremaining: 13.5s\n",
      "896:\tlearn: 1.4413792\ttotal: 1m 56s\tremaining: 13.3s\n",
      "897:\tlearn: 1.4412917\ttotal: 1m 56s\tremaining: 13.2s\n",
      "898:\tlearn: 1.4412331\ttotal: 1m 56s\tremaining: 13.1s\n",
      "899:\tlearn: 1.4411476\ttotal: 1m 56s\tremaining: 13s\n",
      "900:\tlearn: 1.4410688\ttotal: 1m 56s\tremaining: 12.8s\n",
      "901:\tlearn: 1.4409566\ttotal: 1m 56s\tremaining: 12.7s\n",
      "902:\tlearn: 1.4408646\ttotal: 1m 57s\tremaining: 12.6s\n",
      "903:\tlearn: 1.4407381\ttotal: 1m 57s\tremaining: 12.4s\n",
      "904:\tlearn: 1.4406837\ttotal: 1m 57s\tremaining: 12.3s\n",
      "905:\tlearn: 1.4406088\ttotal: 1m 57s\tremaining: 12.2s\n",
      "906:\tlearn: 1.4405106\ttotal: 1m 57s\tremaining: 12.1s\n",
      "907:\tlearn: 1.4404137\ttotal: 1m 57s\tremaining: 11.9s\n",
      "908:\tlearn: 1.4403273\ttotal: 1m 57s\tremaining: 11.8s\n",
      "909:\tlearn: 1.4402471\ttotal: 1m 58s\tremaining: 11.7s\n",
      "910:\tlearn: 1.4401544\ttotal: 1m 58s\tremaining: 11.5s\n",
      "911:\tlearn: 1.4400925\ttotal: 1m 58s\tremaining: 11.4s\n",
      "912:\tlearn: 1.4399888\ttotal: 1m 58s\tremaining: 11.3s\n",
      "913:\tlearn: 1.4399337\ttotal: 1m 58s\tremaining: 11.2s\n",
      "914:\tlearn: 1.4398886\ttotal: 1m 58s\tremaining: 11s\n",
      "915:\tlearn: 1.4397996\ttotal: 1m 58s\tremaining: 10.9s\n",
      "916:\tlearn: 1.4397235\ttotal: 1m 59s\tremaining: 10.8s\n",
      "917:\tlearn: 1.4396321\ttotal: 1m 59s\tremaining: 10.6s\n",
      "918:\tlearn: 1.4395646\ttotal: 1m 59s\tremaining: 10.5s\n",
      "919:\tlearn: 1.4394521\ttotal: 1m 59s\tremaining: 10.4s\n",
      "920:\tlearn: 1.4393901\ttotal: 1m 59s\tremaining: 10.3s\n",
      "921:\tlearn: 1.4392741\ttotal: 1m 59s\tremaining: 10.1s\n",
      "922:\tlearn: 1.4391843\ttotal: 1m 59s\tremaining: 10s\n",
      "923:\tlearn: 1.4391123\ttotal: 2m\tremaining: 9.88s\n",
      "924:\tlearn: 1.4390038\ttotal: 2m\tremaining: 9.75s\n",
      "925:\tlearn: 1.4388951\ttotal: 2m\tremaining: 9.62s\n",
      "926:\tlearn: 1.4388154\ttotal: 2m\tremaining: 9.49s\n",
      "927:\tlearn: 1.4387317\ttotal: 2m\tremaining: 9.36s\n",
      "928:\tlearn: 1.4386461\ttotal: 2m\tremaining: 9.23s\n",
      "929:\tlearn: 1.4385763\ttotal: 2m\tremaining: 9.11s\n",
      "930:\tlearn: 1.4384783\ttotal: 2m 1s\tremaining: 8.98s\n",
      "931:\tlearn: 1.4383799\ttotal: 2m 1s\tremaining: 8.85s\n",
      "932:\tlearn: 1.4383183\ttotal: 2m 1s\tremaining: 8.72s\n",
      "933:\tlearn: 1.4382594\ttotal: 2m 1s\tremaining: 8.59s\n",
      "934:\tlearn: 1.4381619\ttotal: 2m 1s\tremaining: 8.46s\n",
      "935:\tlearn: 1.4380761\ttotal: 2m 1s\tremaining: 8.33s\n",
      "936:\tlearn: 1.4379983\ttotal: 2m 2s\tremaining: 8.2s\n",
      "937:\tlearn: 1.4378936\ttotal: 2m 2s\tremaining: 8.07s\n",
      "938:\tlearn: 1.4377733\ttotal: 2m 2s\tremaining: 7.94s\n",
      "939:\tlearn: 1.4377360\ttotal: 2m 2s\tremaining: 7.82s\n",
      "940:\tlearn: 1.4376513\ttotal: 2m 2s\tremaining: 7.69s\n",
      "941:\tlearn: 1.4375590\ttotal: 2m 2s\tremaining: 7.56s\n",
      "942:\tlearn: 1.4374907\ttotal: 2m 2s\tremaining: 7.43s\n",
      "943:\tlearn: 1.4373869\ttotal: 2m 3s\tremaining: 7.3s\n",
      "944:\tlearn: 1.4373218\ttotal: 2m 3s\tremaining: 7.17s\n",
      "945:\tlearn: 1.4372201\ttotal: 2m 3s\tremaining: 7.04s\n"
     ]
    },
    {
     "name": "stdout",
     "output_type": "stream",
     "text": [
      "946:\tlearn: 1.4371249\ttotal: 2m 3s\tremaining: 6.91s\n",
      "947:\tlearn: 1.4370200\ttotal: 2m 3s\tremaining: 6.78s\n",
      "948:\tlearn: 1.4369368\ttotal: 2m 3s\tremaining: 6.65s\n",
      "949:\tlearn: 1.4368511\ttotal: 2m 3s\tremaining: 6.52s\n",
      "950:\tlearn: 1.4367581\ttotal: 2m 4s\tremaining: 6.39s\n",
      "951:\tlearn: 1.4366502\ttotal: 2m 4s\tremaining: 6.26s\n",
      "952:\tlearn: 1.4365704\ttotal: 2m 4s\tremaining: 6.13s\n",
      "953:\tlearn: 1.4364903\ttotal: 2m 4s\tremaining: 6s\n",
      "954:\tlearn: 1.4364226\ttotal: 2m 4s\tremaining: 5.87s\n",
      "955:\tlearn: 1.4363335\ttotal: 2m 4s\tremaining: 5.74s\n",
      "956:\tlearn: 1.4362444\ttotal: 2m 4s\tremaining: 5.61s\n",
      "957:\tlearn: 1.4361987\ttotal: 2m 5s\tremaining: 5.48s\n",
      "958:\tlearn: 1.4361107\ttotal: 2m 5s\tremaining: 5.35s\n",
      "959:\tlearn: 1.4360661\ttotal: 2m 5s\tremaining: 5.22s\n",
      "960:\tlearn: 1.4359471\ttotal: 2m 5s\tremaining: 5.09s\n",
      "961:\tlearn: 1.4358689\ttotal: 2m 5s\tremaining: 4.96s\n",
      "962:\tlearn: 1.4358099\ttotal: 2m 5s\tremaining: 4.83s\n",
      "963:\tlearn: 1.4357459\ttotal: 2m 5s\tremaining: 4.7s\n",
      "964:\tlearn: 1.4356328\ttotal: 2m 6s\tremaining: 4.57s\n",
      "965:\tlearn: 1.4355635\ttotal: 2m 6s\tremaining: 4.44s\n",
      "966:\tlearn: 1.4355145\ttotal: 2m 6s\tremaining: 4.31s\n",
      "967:\tlearn: 1.4354187\ttotal: 2m 6s\tremaining: 4.18s\n",
      "968:\tlearn: 1.4353268\ttotal: 2m 6s\tremaining: 4.05s\n",
      "969:\tlearn: 1.4352513\ttotal: 2m 6s\tremaining: 3.92s\n",
      "970:\tlearn: 1.4351969\ttotal: 2m 6s\tremaining: 3.79s\n",
      "971:\tlearn: 1.4351356\ttotal: 2m 7s\tremaining: 3.66s\n",
      "972:\tlearn: 1.4350705\ttotal: 2m 7s\tremaining: 3.53s\n",
      "973:\tlearn: 1.4350078\ttotal: 2m 7s\tremaining: 3.4s\n",
      "974:\tlearn: 1.4349762\ttotal: 2m 7s\tremaining: 3.27s\n",
      "975:\tlearn: 1.4349079\ttotal: 2m 7s\tremaining: 3.14s\n",
      "976:\tlearn: 1.4347998\ttotal: 2m 7s\tremaining: 3.01s\n",
      "977:\tlearn: 1.4347281\ttotal: 2m 7s\tremaining: 2.88s\n",
      "978:\tlearn: 1.4346434\ttotal: 2m 8s\tremaining: 2.75s\n",
      "979:\tlearn: 1.4345646\ttotal: 2m 8s\tremaining: 2.62s\n",
      "980:\tlearn: 1.4345033\ttotal: 2m 8s\tremaining: 2.49s\n",
      "981:\tlearn: 1.4344048\ttotal: 2m 8s\tremaining: 2.35s\n",
      "982:\tlearn: 1.4343107\ttotal: 2m 8s\tremaining: 2.22s\n",
      "983:\tlearn: 1.4341977\ttotal: 2m 8s\tremaining: 2.09s\n",
      "984:\tlearn: 1.4341155\ttotal: 2m 8s\tremaining: 1.96s\n",
      "985:\tlearn: 1.4339594\ttotal: 2m 9s\tremaining: 1.83s\n",
      "986:\tlearn: 1.4338673\ttotal: 2m 9s\tremaining: 1.7s\n",
      "987:\tlearn: 1.4338016\ttotal: 2m 9s\tremaining: 1.57s\n",
      "988:\tlearn: 1.4337304\ttotal: 2m 9s\tremaining: 1.44s\n",
      "989:\tlearn: 1.4336372\ttotal: 2m 9s\tremaining: 1.31s\n",
      "990:\tlearn: 1.4335911\ttotal: 2m 9s\tremaining: 1.18s\n",
      "991:\tlearn: 1.4335161\ttotal: 2m 9s\tremaining: 1.05s\n",
      "992:\tlearn: 1.4334550\ttotal: 2m 10s\tremaining: 917ms\n",
      "993:\tlearn: 1.4333956\ttotal: 2m 10s\tremaining: 786ms\n",
      "994:\tlearn: 1.4333002\ttotal: 2m 10s\tremaining: 655ms\n",
      "995:\tlearn: 1.4332550\ttotal: 2m 10s\tremaining: 524ms\n",
      "996:\tlearn: 1.4331930\ttotal: 2m 10s\tremaining: 393ms\n",
      "997:\tlearn: 1.4330821\ttotal: 2m 10s\tremaining: 262ms\n",
      "998:\tlearn: 1.4329927\ttotal: 2m 10s\tremaining: 131ms\n",
      "999:\tlearn: 1.4328815\ttotal: 2m 11s\tremaining: 0us\n"
     ]
    },
    {
     "data": {
      "text/plain": [
       "<catboost.core.CatBoostClassifier at 0x7fb60a67fa90>"
      ]
     },
     "execution_count": 12,
     "metadata": {},
     "output_type": "execute_result"
    }
   ],
   "source": [
    "cb.fit(X_train, y_train)"
   ]
  },
  {
   "cell_type": "code",
   "execution_count": 13,
   "id": "715a45f5",
   "metadata": {},
   "outputs": [
    {
     "name": "stdout",
     "output_type": "stream",
     "text": [
      "Accuracy : 0.408\n"
     ]
    }
   ],
   "source": [
    "y_pred = cb.predict(X_test)\n",
    "print(f'Accuracy : %.3f' % accuracy_score(y_test, y_pred))\n"
   ]
  },
  {
   "cell_type": "code",
   "execution_count": 16,
   "id": "f9f37c4d",
   "metadata": {},
   "outputs": [],
   "source": [
    "y_pred = y_pred.flatten()"
   ]
  },
  {
   "cell_type": "code",
   "execution_count": 17,
   "id": "d69e1ca9",
   "metadata": {},
   "outputs": [
    {
     "data": {
      "text/plain": [
       "(79610,)"
      ]
     },
     "execution_count": 17,
     "metadata": {},
     "output_type": "execute_result"
    }
   ],
   "source": [
    "y_pred.shape"
   ]
  },
  {
   "cell_type": "code",
   "execution_count": 18,
   "id": "3f7e9ab6",
   "metadata": {},
   "outputs": [],
   "source": [
    "z = np.abs(y_test-y_pred)"
   ]
  },
  {
   "cell_type": "code",
   "execution_count": 19,
   "id": "92333217",
   "metadata": {},
   "outputs": [],
   "source": [
    "s = np.mean(z)"
   ]
  },
  {
   "cell_type": "code",
   "execution_count": 20,
   "id": "a6620e19",
   "metadata": {},
   "outputs": [],
   "source": [
    "s = 1-s/K"
   ]
  },
  {
   "cell_type": "code",
   "execution_count": 21,
   "id": "a000838b",
   "metadata": {},
   "outputs": [
    {
     "name": "stdout",
     "output_type": "stream",
     "text": [
      "Score : 0.8919\n"
     ]
    }
   ],
   "source": [
    "print(f'Score : %.4f' % s)"
   ]
  },
  {
   "cell_type": "code",
   "execution_count": null,
   "id": "d523afff",
   "metadata": {},
   "outputs": [],
   "source": [
    "cm = confusion_matrix(y_test, y_pred)\n",
    "disp = ConfusionMatrixDisplay(cm)\n",
    "disp.plot()\n",
    "plt.show()"
   ]
  },
  {
   "cell_type": "code",
   "execution_count": null,
   "id": "48ce656e",
   "metadata": {},
   "outputs": [],
   "source": [
    "cm_reduced = cm[:6,:6]\n",
    "\n",
    "cm = confusion_matrix(y_test, y_pred);\n",
    "disp = ConfusionMatrixDisplay(cm_reduced)\n",
    "disp.plot();"
   ]
  },
  {
   "cell_type": "markdown",
   "id": "6ac56b75",
   "metadata": {},
   "source": [
    "# XGB BOOST"
   ]
  },
  {
   "cell_type": "code",
   "execution_count": 18,
   "id": "3cdfdc5e",
   "metadata": {},
   "outputs": [],
   "source": [
    "from xgboost import XGBClassifier"
   ]
  },
  {
   "cell_type": "code",
   "execution_count": 19,
   "id": "3fa482fe",
   "metadata": {},
   "outputs": [],
   "source": [
    "xgb = XGBClassifier()"
   ]
  },
  {
   "cell_type": "code",
   "execution_count": 20,
   "id": "e5946625",
   "metadata": {},
   "outputs": [
    {
     "name": "stderr",
     "output_type": "stream",
     "text": [
      "/Users/baraa/opt/anaconda3/envs/tf/lib/python3.7/site-packages/xgboost/sklearn.py:1224: UserWarning: The use of label encoder in XGBClassifier is deprecated and will be removed in a future release. To remove this warning, do the following: 1) Pass option use_label_encoder=False when constructing XGBClassifier object; and 2) Encode your labels (y) as integers starting with 0, i.e. 0, 1, 2, ..., [num_class - 1].\n",
      "  warnings.warn(label_encoder_deprecation_msg, UserWarning)\n"
     ]
    },
    {
     "name": "stdout",
     "output_type": "stream",
     "text": [
      "[21:33:22] WARNING: ../src/learner.cc:1115: Starting in XGBoost 1.3.0, the default evaluation metric used with the objective 'multi:softprob' was changed from 'merror' to 'mlogloss'. Explicitly set eval_metric if you'd like to restore the old behavior.\n"
     ]
    },
    {
     "data": {
      "text/plain": [
       "XGBClassifier(base_score=0.5, booster='gbtree', colsample_bylevel=1,\n",
       "              colsample_bynode=1, colsample_bytree=1, enable_categorical=False,\n",
       "              gamma=0, gpu_id=-1, importance_type=None,\n",
       "              interaction_constraints='', learning_rate=0.300000012,\n",
       "              max_delta_step=0, max_depth=6, min_child_weight=1, missing=nan,\n",
       "              monotone_constraints='()', n_estimators=100, n_jobs=8,\n",
       "              num_parallel_tree=1, objective='multi:softprob', predictor='auto',\n",
       "              random_state=0, reg_alpha=0, reg_lambda=1, scale_pos_weight=None,\n",
       "              subsample=1, tree_method='exact', validate_parameters=1,\n",
       "              verbosity=None)"
      ]
     },
     "execution_count": 20,
     "metadata": {},
     "output_type": "execute_result"
    }
   ],
   "source": [
    "xgb.fit(X_train, y_train)"
   ]
  },
  {
   "cell_type": "code",
   "execution_count": 21,
   "id": "15c02ba3",
   "metadata": {},
   "outputs": [
    {
     "name": "stdout",
     "output_type": "stream",
     "text": [
      "Accuracy : 0.404\n",
      "Score : 0.8906\n"
     ]
    }
   ],
   "source": [
    "y_pred = xgb.predict(X_test)\n",
    "print(f'Accuracy : %.3f' % accuracy_score(y_test, y_pred))\n",
    "score = 1-np.mean(np.abs(y_test-y_pred))/K\n",
    "print(f'Score : %.4f' % score)"
   ]
  },
  {
   "cell_type": "code",
   "execution_count": 22,
   "id": "91a6a54d",
   "metadata": {},
   "outputs": [
    {
     "data": {
      "image/png": "[encoded data removed]",
      "text/plain": [
       "<Figure size 432x288 with 2 Axes>"
      ]
     },
     "metadata": {
      "needs_background": "light"
     },
     "output_type": "display_data"
    }
   ],
   "source": [
    "cm = confusion_matrix(y_test, y_pred)\n",
    "disp = ConfusionMatrixDisplay(cm)\n",
    "disp.plot()\n",
    "plt.show()"
   ]
  },
  {
   "cell_type": "code",
   "execution_count": 23,
   "id": "5d45e7ce",
   "metadata": {},
   "outputs": [
    {
     "data": {
      "image/png": "[encoded data removed]",
      "text/plain": [
       "<Figure size 432x288 with 2 Axes>"
      ]
     },
     "metadata": {
      "needs_background": "light"
     },
     "output_type": "display_data"
    }
   ],
   "source": [
    "cm_reduced = cm[:6,:6]\n",
    "\n",
    "cm = confusion_matrix(y_test, y_pred);\n",
    "disp = ConfusionMatrixDisplay(cm_reduced)\n",
    "disp.plot();"
   ]
  },
  {
   "cell_type": "code",
   "execution_count": null,
   "id": "4d972a13",
   "metadata": {},
   "outputs": [],
   "source": []
  }
 ],
 "metadata": {
  "kernelspec": {
   "display_name": "Python 3 (ipykernel)",
   "language": "python",
   "name": "python3"
  },
  "language_info": {
   "codemirror_mode": {
    "name": "ipython",
    "version": 3
   },
   "file_extension": ".py",
   "mimetype": "text/x-python",
   "name": "python",
   "nbconvert_exporter": "python",
   "pygments_lexer": "ipython3",
   "version": "3.7.11"
  }
 },
 "nbformat": 4,
 "nbformat_minor": 5
}
