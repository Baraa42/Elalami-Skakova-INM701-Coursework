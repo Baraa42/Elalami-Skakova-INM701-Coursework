{
 "cells": [
  {
   "cell_type": "code",
   "execution_count": null,
   "id": "bd31e1d3",
   "metadata": {},
   "outputs": [],
   "source": [
    "import os\n",
    "import random\n",
    "import numpy as np\n",
    "import pandas as pd\n",
    "import seaborn as sns\n",
    "import matplotlib.pyplot as plt\n",
    "\n",
    "from sklearn.model_selection import train_test_split\n",
    "from sklearn.preprocessing import LabelEncoder\n",
    "from sklearn.preprocessing import OneHotEncoder\n",
    "\n",
    "\n"
   ]
  },
  {
   "cell_type": "code",
   "execution_count": null,
   "id": "5fd7f626",
   "metadata": {},
   "outputs": [],
   "source": [
    "random.seed(0)"
   ]
  },
  {
   "cell_type": "code",
   "execution_count": null,
   "id": "3bda2aaa",
   "metadata": {},
   "outputs": [],
   "source": [
    "## loading the file\n",
    "health_care = pd.read_csv('../healthcare/train_data.csv', na_values=['NA', 'NaN', '?'])"
   ]
  },
  {
   "cell_type": "code",
   "execution_count": null,
   "id": "fbdddf2c",
   "metadata": {},
   "outputs": [],
   "source": [
    "# Dropping na values for \n",
    "#health_care = health_care.dropna()"
   ]
  },
  {
   "cell_type": "markdown",
   "id": "9a84a569",
   "metadata": {},
   "source": [
    "\n",
    "## Feature engineering\n",
    "\n",
    "We will add 2 features : \n",
    "- Visit number\n",
    "- New Patient"
   ]
  },
  {
   "cell_type": "code",
   "execution_count": null,
   "id": "44c068fb",
   "metadata": {},
   "outputs": [],
   "source": [
    "n = health_care.shape[0]\n",
    "visits = []\n",
    "patientid = np.array(health_care['patientid'])\n",
    "for i in range(n) :\n",
    "    count = (patientid[:i+1] == patientid[i]).sum()\n",
    "    visits.append(count)\n",
    "    \n",
    "health_care['Visit Number'] = visits\n",
    "health_care['New Patient'] = (health_care['Visit Number']==1).astype('int32')"
   ]
  },
  {
   "cell_type": "markdown",
   "id": "ceee82dd",
   "metadata": {},
   "source": [
    "## Hot encoded Data"
   ]
  },
  {
   "cell_type": "code",
   "execution_count": null,
   "id": "febd8b99",
   "metadata": {},
   "outputs": [],
   "source": [
    "# Function to hot encode the column with name : name for dataframe df\n",
    "def encode_text_dummy(df, name):\n",
    "    dummies = pd.get_dummies(df[name])\n",
    "    for x in dummies.columns:\n",
    "        dummy_name = f\"{name}-{x}\"\n",
    "        df[dummy_name] = dummies[x]\n",
    "    df.drop(name, axis=1, inplace=True) ## inplace to make changed on the original df"
   ]
  },
  {
   "cell_type": "code",
   "execution_count": null,
   "id": "f38411c3",
   "metadata": {},
   "outputs": [],
   "source": [
    "## Pre processing these columns\n",
    "\n",
    "le_string_columns = [  'Severity of Illness', 'Age' ]\n",
    "dummies_string_columns = ['Hospital_type_code', 'Hospital_region_code', 'Department', 'Ward_Type', 'Ward_Facility_Code',  'Type of Admission']\n",
    "encoder = LabelEncoder()\n",
    "#ohEncoder = OneHotEncoder()\n",
    "\n",
    "## label_encoded data\n",
    "Xe = health_care.drop(['Stay', 'case_id', 'City_Code_Hospital','City_Code_Patient', 'Bed Grade'], axis=1)\n",
    "Xe['Severity of Illness']= Xe['Severity of Illness'].map({'Minor': 0,  'Moderate': 1,'Extreme': 2})\n",
    "Xe['Age'] = encoder.fit_transform(Xe['Age'])\n",
    "\n",
    "ye = health_care['Stay']\n",
    "ye = encoder.fit_transform(ye)\n",
    "\n",
    "\n",
    "for column in dummies_string_columns :\n",
    "    encode_text_dummy(Xe, column)\n",
    "    "
   ]
  },
  {
   "cell_type": "code",
   "execution_count": null,
   "id": "d9735405",
   "metadata": {},
   "outputs": [],
   "source": [
    "#checking for missing values\n",
    "Xe.isnull().values.any()"
   ]
  },
  {
   "cell_type": "markdown",
   "id": "b3280c5d",
   "metadata": {},
   "source": [
    "## Scaling Hot Encoded Data"
   ]
  },
  {
   "cell_type": "code",
   "execution_count": null,
   "id": "29bdbc90",
   "metadata": {},
   "outputs": [],
   "source": [
    "from sklearn.preprocessing import StandardScaler\n",
    "scaler = StandardScaler()\n",
    "X = Xe.values\n",
    "y = ye\n",
    "X_train, X_test, y_train, y_test = train_test_split(X, y, test_size=0.25)\n",
    "for i in range(X_train.shape[1]) :\n",
    "    X_train[:,i]= scaler.fit_transform(X_train[:,i].reshape(-1, 1))[:,0]\n",
    "    X_test[:,i] = scaler.transform(X_test[:,i].reshape(-1, 1))[:,0]"
   ]
  },
  {
   "cell_type": "markdown",
   "id": "c019a17d",
   "metadata": {},
   "source": [
    "# Metrics to use for this dataset"
   ]
  },
  {
   "cell_type": "code",
   "execution_count": null,
   "id": "41cf54ea",
   "metadata": {},
   "outputs": [],
   "source": [
    "def score(y_test, y_pred, cat_number):\n",
    "    score = 1-np.sum(np.abs(y_test-y_pred))/((cat_number-1)*len(y_test))\n",
    "    return score\n",
    "    "
   ]
  },
  {
   "cell_type": "markdown",
   "id": "6366bdfa",
   "metadata": {},
   "source": [
    "# Classification models to try :\n",
    "\n",
    "- Decision trees\n",
    "- K nearest neighbor\n",
    "- PCA\n",
    "- Random Forest\n"
   ]
  },
  {
   "cell_type": "markdown",
   "id": "6f2cb466",
   "metadata": {},
   "source": [
    "# Decision Trees"
   ]
  },
  {
   "cell_type": "code",
   "execution_count": null,
   "id": "2fb37edd",
   "metadata": {},
   "outputs": [],
   "source": [
    "from sklearn.model_selection import KFold\n",
    "from sklearn.tree import DecisionTreeClassifier\n",
    "from sklearn.metrics import accuracy_score, confusion_matrix"
   ]
  },
  {
   "cell_type": "code",
   "execution_count": null,
   "id": "f744ccfe",
   "metadata": {},
   "outputs": [],
   "source": [
    "tree = DecisionTreeClassifier(criterion='entropy')\n",
    "tree.fit(X_train, y_train)\n"
   ]
  },
  {
   "cell_type": "code",
   "execution_count": null,
   "id": "dfa700f1",
   "metadata": {},
   "outputs": [],
   "source": [
    "y_train.shape"
   ]
  },
  {
   "cell_type": "code",
   "execution_count": null,
   "id": "b84c3c6f",
   "metadata": {},
   "outputs": [],
   "source": [
    "y_train"
   ]
  },
  {
   "cell_type": "code",
   "execution_count": null,
   "id": "5f23e317",
   "metadata": {},
   "outputs": [],
   "source": [
    "y_pred = tree.predict(X_test)"
   ]
  },
  {
   "cell_type": "code",
   "execution_count": null,
   "id": "08ab830f",
   "metadata": {},
   "outputs": [],
   "source": [
    "acc = accuracy_score(y_test, y_pred)"
   ]
  },
  {
   "cell_type": "code",
   "execution_count": null,
   "id": "a420aadf",
   "metadata": {},
   "outputs": [],
   "source": [
    "acc"
   ]
  },
  {
   "cell_type": "code",
   "execution_count": null,
   "id": "5fb8f276",
   "metadata": {},
   "outputs": [],
   "source": [
    "from sklearn.metrics import ConfusionMatrixDisplay\n",
    "cm = confusion_matrix(y_test, y_pred)"
   ]
  },
  {
   "cell_type": "code",
   "execution_count": null,
   "id": "caab4a19",
   "metadata": {},
   "outputs": [],
   "source": [
    "disp = ConfusionMatrixDisplay(cm)\n",
    "disp.plot()\n",
    "plt.show()"
   ]
  },
  {
   "cell_type": "code",
   "execution_count": null,
   "id": "1d561703",
   "metadata": {},
   "outputs": [],
   "source": [
    "print(score(y_test, y_pred,11))"
   ]
  },
  {
   "cell_type": "code",
   "execution_count": null,
   "id": "e60eaac6",
   "metadata": {},
   "outputs": [],
   "source": [
    "kf = KFold(5, shuffle=True)\n",
    "fold = 1\n",
    "\n",
    "for train_index, validate_index in kf.split(X,y):\n",
    "    tree.fit(X[train_index], y[train_index])\n",
    "    y_test = y[validate_index]\n",
    "    y_pred = tree.predict(X[validate_index])\n",
    "    print(f'Accuracy : %.4f' % accuracy_score(y_test, y_pred))\n",
    "    print(f'Score : %.4f' % score(y_test, y_pred,11))"
   ]
  },
  {
   "cell_type": "markdown",
   "id": "c46ce62b",
   "metadata": {},
   "source": [
    "### Adding PCA\n"
   ]
  },
  {
   "cell_type": "code",
   "execution_count": null,
   "id": "36cb1ef0",
   "metadata": {},
   "outputs": [],
   "source": [
    "from sklearn.decomposition import PCA\n",
    "pca = PCA(5)\n",
    "\n",
    "Xp = pca.fit_transform(X)\n",
    "X_train, X_test, y_train, y_test = train_test_split(Xp, y, test_size=0.25)\n",
    "for i in range(X_train.shape[1]) :\n",
    "    X_train[:,i]= scaler.fit_transform(X_train[:,i].reshape(-1, 1))[:,0]\n",
    "    X_test[:,i] = scaler.transform(X_test[:,i].reshape(-1, 1))[:,0]\n",
    "\n"
   ]
  },
  {
   "cell_type": "code",
   "execution_count": null,
   "id": "cd3ea2f3",
   "metadata": {},
   "outputs": [],
   "source": [
    "tree.fit(X_train, y_train)\n",
    "y_pred = tree.predict(X_test)"
   ]
  },
  {
   "cell_type": "code",
   "execution_count": null,
   "id": "591696b1",
   "metadata": {},
   "outputs": [],
   "source": [
    "print(accuracy_score(y_test, y_pred))"
   ]
  },
  {
   "cell_type": "code",
   "execution_count": null,
   "id": "a1639af0",
   "metadata": {},
   "outputs": [],
   "source": [
    "print(score(y_test, y_pred,11))"
   ]
  },
  {
   "cell_type": "markdown",
   "id": "d69de068",
   "metadata": {},
   "source": [
    "# SVM"
   ]
  },
  {
   "cell_type": "code",
   "execution_count": null,
   "id": "ebde74d5",
   "metadata": {},
   "outputs": [],
   "source": [
    "from sklearn.svm import SVC\n",
    "model = SVC(kernel='linear', C=1E10)\n",
    "\n",
    "X_train, X_test, y_train, y_test = train_test_split(X, y, test_size=0.25)\n",
    "for i in range(X_train.shape[1]) :\n",
    "    X_train[:,i]= scaler.fit_transform(X_train[:,i].reshape(-1, 1))[:,0]\n",
    "    X_test[:,i] = scaler.transform(X_test[:,i].reshape(-1, 1))[:,0]\n",
    "    \n",
    "model.fit(X_train,y_train)"
   ]
  },
  {
   "cell_type": "code",
   "execution_count": null,
   "id": "0a4916b1",
   "metadata": {},
   "outputs": [],
   "source": [
    "y_pred = model.predict(X_test)\n",
    "print(f'Accuracy : %.3f' % accuracy_score(y_test, y_pred))\n",
    "print(f'Score : %.2f' % score(y_test, y_pred,11))\n",
    "\n",
    "cm = confusion_matrix(y_test, y_pred)\n",
    "disp = ConfusionMatrixDisplay(cm)\n",
    "disp.plot()\n",
    "plt.show()"
   ]
  },
  {
   "cell_type": "markdown",
   "id": "c909afd4",
   "metadata": {},
   "source": [
    "# Kmeans"
   ]
  },
  {
   "cell_type": "code",
   "execution_count": null,
   "id": "258369a3",
   "metadata": {},
   "outputs": [],
   "source": [
    "from sklearn.cluster import KMeans\n",
    "kmeans = KMeans(n_clusters=11)\n",
    "kmeans.fit(X_train)"
   ]
  },
  {
   "cell_type": "code",
   "execution_count": null,
   "id": "3c40c158",
   "metadata": {},
   "outputs": [],
   "source": [
    "y_pred = kmeans.predict(X_test)"
   ]
  },
  {
   "cell_type": "code",
   "execution_count": null,
   "id": "54032d10",
   "metadata": {},
   "outputs": [],
   "source": [
    "print(f'Accuracy : %.3f' % accuracy_score(y_test, y_pred))\n",
    "print(f'Score : %.2f' % score(y_test, y_pred,11))"
   ]
  },
  {
   "cell_type": "code",
   "execution_count": null,
   "id": "4a1db6ac",
   "metadata": {},
   "outputs": [],
   "source": [
    "from sklearn.cluster import SpectralClustering\n",
    "kmeans = SpectralClustering(n_clusters=11, affinity='nearest_neighbors', assign_labels='kmeans')\n",
    "kmeans.fit(X_train)"
   ]
  },
  {
   "cell_type": "code",
   "execution_count": null,
   "id": "67e25180",
   "metadata": {},
   "outputs": [],
   "source": []
  }
 ],
 "metadata": {
  "kernelspec": {
   "display_name": "Python 3 (ipykernel)",
   "language": "python",
   "name": "python3"
  },
  "language_info": {
   "codemirror_mode": {
    "name": "ipython",
    "version": 3
   },
   "file_extension": ".py",
   "mimetype": "text/x-python",
   "name": "python",
   "nbconvert_exporter": "python",
   "pygments_lexer": "ipython3",
   "version": "3.8.12"
  }
 },
 "nbformat": 4,
 "nbformat_minor": 5
}
