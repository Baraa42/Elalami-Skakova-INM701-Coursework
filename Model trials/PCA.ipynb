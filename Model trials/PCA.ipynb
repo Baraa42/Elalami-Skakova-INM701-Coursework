{
 "cells": [
  {
   "cell_type": "code",
   "execution_count": 1,
   "id": "f4f2859a",
   "metadata": {},
   "outputs": [],
   "source": [
    "import os\n",
    "import random\n",
    "import numpy as np\n",
    "import pandas as pd\n",
    "import seaborn as sns\n",
    "import matplotlib.pyplot as plt\n",
    "\n",
    "from sklearn.model_selection import train_test_split\n",
    "from sklearn.preprocessing import LabelEncoder\n",
    "from sklearn.preprocessing import OneHotEncoder\n",
    "\n",
    "\n"
   ]
  },
  {
   "cell_type": "code",
   "execution_count": 2,
   "id": "01eefa4a",
   "metadata": {},
   "outputs": [],
   "source": [
    "## loading the file\n",
    "health_care = pd.read_csv('../healthcare/train_data.csv', na_values=['NA', 'NaN', '?'])"
   ]
  },
  {
   "cell_type": "code",
   "execution_count": 3,
   "id": "86c2c987",
   "metadata": {},
   "outputs": [],
   "source": [
    "# Function to hot encode the column with name : name for dataframe df\n",
    "def encode_text_dummy(df, name):\n",
    "    dummies = pd.get_dummies(df[name])\n",
    "    for x in dummies.columns:\n",
    "        dummy_name = f\"{name}-{x}\"\n",
    "        df[dummy_name] = dummies[x]\n",
    "    df.drop(name, axis=1, inplace=True) ## inplace to make changed on the original df"
   ]
  },
  {
   "cell_type": "code",
   "execution_count": 4,
   "id": "6e71dbb3",
   "metadata": {},
   "outputs": [],
   "source": [
    "## Pre processing these columns\n",
    "\n",
    "le_string_columns = [  'Severity of Illness', 'Age' ]\n",
    "dummies_string_columns = ['Hospital_type_code', 'Hospital_region_code', 'Department', 'Ward_Type', 'Ward_Facility_Code',  'Type of Admission']\n",
    "encoder = LabelEncoder()\n",
    "#ohEncoder = OneHotEncoder()\n",
    "\n",
    "## label_encoded data\n",
    "Xe = health_care.drop(['Stay', 'case_id', 'City_Code_Hospital','City_Code_Patient', 'Bed Grade'], axis=1)\n",
    "Xe['Severity of Illness']= Xe['Severity of Illness'].map({'Minor': 0,  'Moderate': 1,'Extreme': 2})\n",
    "Xe['Age'] = encoder.fit_transform(Xe['Age'])\n",
    "\n",
    "ye = health_care['Stay']\n",
    "ye = encoder.fit_transform(ye)\n",
    "\n",
    "\n",
    "for column in dummies_string_columns :\n",
    "    encode_text_dummy(Xe, column)\n",
    "    "
   ]
  },
  {
   "cell_type": "code",
   "execution_count": 5,
   "id": "87d4212a",
   "metadata": {},
   "outputs": [],
   "source": [
    "from sklearn.preprocessing import StandardScaler\n",
    "scaler = StandardScaler()\n",
    "X = Xe.values\n",
    "y = ye\n",
    "X_train, X_test, y_train, y_test = train_test_split(X, y, test_size=0.25)\n",
    "for i in range(X_train.shape[1]) :\n",
    "    X_train[:,i]= scaler.fit_transform(X_train[:,i].reshape(-1, 1))[:,0]\n",
    "    X_test[:,i] = scaler.transform(X_test[:,i].reshape(-1, 1))[:,0]"
   ]
  },
  {
   "cell_type": "code",
   "execution_count": 6,
   "id": "b5e9bf79",
   "metadata": {},
   "outputs": [],
   "source": [
    "def score(y_test, y_pred, cat_number):\n",
    "    score = 1-np.sum(np.abs(y_test-y_pred))/((cat_number-1)*len(y_test))\n",
    "    return score\n",
    "    "
   ]
  },
  {
   "cell_type": "code",
   "execution_count": 7,
   "id": "d7b8784e",
   "metadata": {},
   "outputs": [
    {
     "data": {
      "text/plain": [
       "Text(0, 0.5, 'cum sum')"
      ]
     },
     "execution_count": 7,
     "metadata": {},
     "output_type": "execute_result"
    },
    {
     "data": {
      "image/png": "[encoded data removed]",
      "text/plain": [
       "<Figure size 432x288 with 1 Axes>"
      ]
     },
     "metadata": {
      "needs_background": "light"
     },
     "output_type": "display_data"
    }
   ],
   "source": [
    "from sklearn.decomposition import PCA\n",
    "pca = PCA().fit(X)\n",
    "plt.plot(np.cumsum(pca.explained_variance_ratio_))\n",
    "plt.xlabel('num of comp')\n",
    "plt.ylabel('cum sum')"
   ]
  },
  {
   "cell_type": "code",
   "execution_count": 8,
   "id": "1b1b8492",
   "metadata": {},
   "outputs": [
    {
     "data": {
      "text/plain": [
       "(318438, 37)"
      ]
     },
     "execution_count": 8,
     "metadata": {},
     "output_type": "execute_result"
    }
   ],
   "source": [
    "X.shape"
   ]
  },
  {
   "cell_type": "code",
   "execution_count": 9,
   "id": "fc04fbec",
   "metadata": {},
   "outputs": [],
   "source": [
    "pca = PCA(5)\n",
    "\n",
    "Xp = pca.fit_transform(X)\n",
    "X_train, X_test, y_train, y_test = train_test_split(Xp, y, test_size=0.25)\n",
    "for i in range(X_train.shape[1]) :\n",
    "    X_train[:,i]= scaler.fit_transform(X_train[:,i].reshape(-1, 1))[:,0]\n",
    "    X_test[:,i] = scaler.transform(X_test[:,i].reshape(-1, 1))[:,0]"
   ]
  },
  {
   "cell_type": "code",
   "execution_count": null,
   "id": "7d220873",
   "metadata": {},
   "outputs": [],
   "source": [
    "from sklearn.svm import SVC\n",
    "model = SVC(kernel='linear', C=10)\n",
    "model.fit(X_train,y_train)"
   ]
  },
  {
   "cell_type": "code",
   "execution_count": null,
   "id": "f491b387",
   "metadata": {},
   "outputs": [],
   "source": []
  }
 ],
 "metadata": {
  "kernelspec": {
   "display_name": "Python 3 (ipykernel)",
   "language": "python",
   "name": "python3"
  },
  "language_info": {
   "codemirror_mode": {
    "name": "ipython",
    "version": 3
   },
   "file_extension": ".py",
   "mimetype": "text/x-python",
   "name": "python",
   "nbconvert_exporter": "python",
   "pygments_lexer": "ipython3",
   "version": "3.8.12"
  }
 },
 "nbformat": 4,
 "nbformat_minor": 5
}
