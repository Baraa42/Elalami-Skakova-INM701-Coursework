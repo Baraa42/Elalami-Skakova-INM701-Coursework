{
 "cells": [
  {
   "cell_type": "markdown",
   "id": "31c32867",
   "metadata": {},
   "source": [
    "## Content:\n",
    "- **[Part 1](#part1)- Importing the data set, packages used**\n",
    "- **[Part 2](#part2)- Preprocessing Data**\n",
    "- **[Part 3](#part3) -  Linear Regression**\n",
    "- **[Part 4](#part4) -  Lasso Regression**\n",
    "- **[Part 5](#part5) -  Naive Bayes**\n",
    "- **[Part 6](#part6) - Gradient Boost Classifier**\n",
    "- **[Part 7](#part6) - Cat Boost Classifier**\n",
    "- **[Part 8](#part6) - XGB Boost Classifier**\n"
   ]
  },
  {
   "cell_type": "markdown",
   "id": "dff19abe",
   "metadata": {},
   "source": [
    "The problem can also be viewed as a regression problem, since categories can be ranked we can use regression and then map the prediction result to a category. Our intuition is that by making the model learn classification of the categories using regression might improve our results."
   ]
  },
  {
   "cell_type": "markdown",
   "id": "f74fbd6e",
   "metadata": {},
   "source": [
    "[Back to top](#Content:)\n",
    "\n",
    "\n",
    "<a id='part1'></a>\n",
    "\n",
    "# Part 1 -  Importing the data set"
   ]
  },
  {
   "cell_type": "code",
   "execution_count": 1,
   "id": "90815836",
   "metadata": {},
   "outputs": [],
   "source": [
    "import pandas as pd\n",
    "import numpy as np\n",
    "import random\n",
    "import matplotlib.pyplot as plt\n",
    "import sklearn.metrics as metrics\n",
    "%matplotlib inline"
   ]
  },
  {
   "cell_type": "code",
   "execution_count": 2,
   "id": "c45964fc",
   "metadata": {},
   "outputs": [],
   "source": [
    "random.seed(0)"
   ]
  },
  {
   "cell_type": "code",
   "execution_count": 3,
   "id": "42c58692",
   "metadata": {},
   "outputs": [],
   "source": [
    "# Loading Dataset\n",
    "df = pd.read_csv(\"healthcare/train_data.csv\", na_values=['NA', '?'])"
   ]
  },
  {
   "cell_type": "code",
   "execution_count": 4,
   "id": "8d21c354",
   "metadata": {},
   "outputs": [],
   "source": [
    "# Dropping na values for \n",
    "df = df.dropna()"
   ]
  },
  {
   "cell_type": "code",
   "execution_count": 5,
   "id": "cb6b46e2",
   "metadata": {},
   "outputs": [],
   "source": [
    "# Dropping case_id\n",
    "df.drop(['case_id'], axis=1, inplace=True)"
   ]
  },
  {
   "cell_type": "markdown",
   "id": "82dc5150",
   "metadata": {},
   "source": [
    "[Back to top](#Content:)\n",
    "\n",
    "\n",
    "<a id='part2'></a>\n",
    "\n",
    "# Part 2 -  Preprocessing Data"
   ]
  },
  {
   "cell_type": "markdown",
   "id": "d63432e8",
   "metadata": {},
   "source": [
    "### Hot Encoded Data"
   ]
  },
  {
   "cell_type": "code",
   "execution_count": 6,
   "id": "29edab24",
   "metadata": {},
   "outputs": [],
   "source": [
    "# Function to hot encode the column with name : name for dataframe df\n",
    "def encode_text_dummy(df, name):\n",
    "    dummies = pd.get_dummies(df[name])\n",
    "    for x in dummies.columns:\n",
    "        dummy_name = f\"{name}-{x}\"\n",
    "        df[dummy_name] = dummies[x]\n",
    "    df.drop(name, axis=1, inplace=True) "
   ]
  },
  {
   "cell_type": "code",
   "execution_count": 52,
   "id": "10313293",
   "metadata": {},
   "outputs": [],
   "source": [
    "from sklearn.preprocessing import LabelEncoder \n",
    "# Columns where we use Label Encoding\n",
    "le_string_columns = ['Severity of Illness', 'Age' ]\n",
    "# Columns where we use One Hot Encoding\n",
    "dummies_string_columns = ['Hospital_type_code', 'Hospital_region_code', 'Department', 'Ward_Type', 'Ward_Facility_Code',  'Type of Admission']\n",
    "encoder = LabelEncoder()\n",
    "\n",
    "## label_encoded data\n",
    "Xe = df.drop(['Stay', 'patientid'], axis=1)\n",
    "Xe['Severity of Illness']= Xe['Severity of Illness'].map({'Minor': 0,  'Moderate': 1,'Extreme': 2})\n",
    "Xe['Age'] = encoder.fit_transform(Xe['Age'])\n",
    "\n",
    "ye = df['Stay']\n",
    "ye = encoder.fit_transform(ye)\n",
    "\n",
    "for column in dummies_string_columns :\n",
    "    encode_text_dummy(Xe, column)\n",
    "    "
   ]
  },
  {
   "cell_type": "markdown",
   "id": "d0393867",
   "metadata": {},
   "source": [
    "### Scaling and splitting Data"
   ]
  },
  {
   "cell_type": "code",
   "execution_count": 53,
   "id": "33df0b99",
   "metadata": {},
   "outputs": [],
   "source": [
    "from sklearn.preprocessing import StandardScaler\n",
    "from sklearn.model_selection import train_test_split\n",
    "scaler = StandardScaler()\n",
    "X = Xe.values\n",
    "y = ye\n",
    "X_train, X_test, y_train, y_test = train_test_split(X, y, test_size=0.25, random_state=0)\n",
    "for i in range(X_train.shape[1]) :\n",
    "    X_train[:,i]= scaler.fit_transform(X_train[:,i].reshape(-1, 1))[:,0]\n",
    "    X_test[:,i] = scaler.transform(X_test[:,i].reshape(-1, 1))[:,0]"
   ]
  },
  {
   "cell_type": "markdown",
   "id": "659176ec",
   "metadata": {},
   "source": [
    "### Scoring"
   ]
  },
  {
   "cell_type": "code",
   "execution_count": 9,
   "id": "5f73132d",
   "metadata": {},
   "outputs": [],
   "source": [
    "K = 10 # Num of Classes \n",
    "# Classes can be ranked here from 0-10\n",
    "def score(pred, target):\n",
    "    error = (np.mean(np.abs(pred-target)))/K\n",
    "    score = 1 - error\n",
    "    return score"
   ]
  },
  {
   "cell_type": "markdown",
   "id": "2fd44d5f",
   "metadata": {},
   "source": [
    "# Models\n",
    "\n",
    "We start by a base model, models used here are that are most adapted to the nature of the problem :\n",
    "- Linear Regression\n",
    "- Lasso Regression\n",
    "- One Hidden Layer ANN\n",
    "- Two Hidden Layer ANN\n"
   ]
  },
  {
   "cell_type": "code",
   "execution_count": 10,
   "id": "b3ac0280",
   "metadata": {},
   "outputs": [],
   "source": [
    "from tensorflow.keras.models import Sequential\n",
    "from tensorflow.keras.layers import Dense, Activation\n",
    "from tensorflow.keras.callbacks import EarlyStopping\n",
    "from tensorflow.keras.layers import Dropout\n",
    "from sklearn.model_selection import KFold\n",
    "from sklearn.metrics import accuracy_score, confusion_matrix\n",
    "from sklearn.metrics import ConfusionMatrixDisplay"
   ]
  },
  {
   "cell_type": "markdown",
   "id": "485a9fc0",
   "metadata": {},
   "source": [
    "[Back to top](#Content:)\n",
    "\n",
    "\n",
    "<a id='part3'></a>\n",
    "\n",
    "# Part 3 -  Linear Regression"
   ]
  },
  {
   "cell_type": "code",
   "execution_count": 12,
   "id": "e7b6b298",
   "metadata": {},
   "outputs": [],
   "source": [
    "from sklearn.linear_model import LinearRegression"
   ]
  },
  {
   "cell_type": "markdown",
   "id": "cbf5b9f7",
   "metadata": {},
   "source": [
    "### Fitting Linear Regression on the whole dataset"
   ]
  },
  {
   "cell_type": "code",
   "execution_count": 54,
   "id": "68136419",
   "metadata": {},
   "outputs": [
    {
     "data": {
      "text/plain": [
       "LinearRegression()"
      ]
     },
     "execution_count": 54,
     "metadata": {},
     "output_type": "execute_result"
    }
   ],
   "source": [
    "model = LinearRegression()\n",
    "model.fit(X, y)"
   ]
  },
  {
   "cell_type": "code",
   "execution_count": 55,
   "id": "3530c711",
   "metadata": {},
   "outputs": [],
   "source": [
    "y_pred = model.predict(X)\n"
   ]
  },
  {
   "cell_type": "code",
   "execution_count": 56,
   "id": "cf1b7855",
   "metadata": {},
   "outputs": [
    {
     "name": "stdout",
     "output_type": "stream",
     "text": [
      "y_pred.max() 23.563992639767644\n",
      "y_pred.min() -1.3908390607728123\n"
     ]
    }
   ],
   "source": [
    "print('y_pred.max()',y_pred.max() )\n",
    "print('y_pred.min()',y_pred.min() )"
   ]
  },
  {
   "cell_type": "markdown",
   "id": "de41cf34",
   "metadata": {},
   "source": [
    "The range of y is from 0 to 10, we can see that the regression have values that are out of bound. We write a function to map the prediction to categories."
   ]
  },
  {
   "cell_type": "code",
   "execution_count": 33,
   "id": "195e16df",
   "metadata": {},
   "outputs": [],
   "source": [
    "def cat(x):\n",
    "    cat_x = np.maximum(x, 0)\n",
    "    cat_x = np.minimum(cat_x, 10)\n",
    "    cat_x = np.floor(cat_x)\n",
    "    cat_x = cat_x.astype(int)\n",
    "    return cat_x"
   ]
  },
  {
   "cell_type": "code",
   "execution_count": 57,
   "id": "e43278f8",
   "metadata": {},
   "outputs": [
    {
     "name": "stdout",
     "output_type": "stream",
     "text": [
      "Accuracy : 0.305\n",
      "Score : 0.8784\n"
     ]
    }
   ],
   "source": [
    "from sklearn.metrics import accuracy_score\n",
    "K = 10\n",
    "y_pred = cat(y_pred)\n",
    "accuracy = accuracy_score(y_pred, y)\n",
    "score = 1 - (np.mean(np.abs(y_pred-y)))/K\n",
    "print(f'Accuracy : %.3f' % accuracy)\n",
    "print(f'Score : %.4f' % score)"
   ]
  },
  {
   "cell_type": "markdown",
   "id": "a04146da",
   "metadata": {},
   "source": [
    "We can see that the score is high compared to accuracy if we take into account the previous results we got, this is makes sense since regression optimise for the distance between categories here which is equivalent to optimising for the score."
   ]
  },
  {
   "cell_type": "markdown",
   "id": "f3f32d9f",
   "metadata": {},
   "source": [
    "### Confusion matrix"
   ]
  },
  {
   "cell_type": "code",
   "execution_count": 58,
   "id": "5d366c17",
   "metadata": {},
   "outputs": [
    {
     "data": {
      "image/png": "[encoded data removed]",
      "text/plain": [
       "<Figure size 432x288 with 2 Axes>"
      ]
     },
     "metadata": {
      "needs_background": "light"
     },
     "output_type": "display_data"
    }
   ],
   "source": [
    "cm = confusion_matrix(y, y_pred)\n",
    "disp = ConfusionMatrixDisplay(cm)\n",
    "disp.plot()\n",
    "plt.show()"
   ]
  },
  {
   "cell_type": "code",
   "execution_count": 59,
   "id": "f8c6772a",
   "metadata": {},
   "outputs": [
    {
     "data": {
      "image/png": "[encoded data removed]",
      "text/plain": [
       "<Figure size 432x288 with 2 Axes>"
      ]
     },
     "metadata": {
      "needs_background": "light"
     },
     "output_type": "display_data"
    }
   ],
   "source": [
    "cm_reduced = cm[:6,:6]\n",
    "cm = confusion_matrix(y, y_pred);\n",
    "disp = ConfusionMatrixDisplay(cm_reduced)\n",
    "disp.plot();"
   ]
  },
  {
   "cell_type": "code",
   "execution_count": 60,
   "id": "8ab0f4fc",
   "metadata": {},
   "outputs": [
    {
     "data": {
      "image/png": "[encoded data removed]",
      "text/plain": [
       "<Figure size 1152x576 with 2 Axes>"
      ]
     },
     "metadata": {
      "needs_background": "light"
     },
     "output_type": "display_data"
    }
   ],
   "source": [
    "fig, (ax1, ax2) = plt.subplots(ncols=2)\n",
    "fig.set_size_inches(16, 8)\n",
    "ax1.grid(True)\n",
    "ax1.hist(y, bins=11, density=True, facecolor='g', alpha=0.75)\n",
    "ax1.set_title('Histogram of LOS of True labels')\n",
    "ax1.set_xlabel('LOS')\n",
    "ax1.set_ylabel('Occurence')\n",
    "\n",
    "ax2.grid(True)\n",
    "ax2.hist(y_pred, bins=11,  density=True, facecolor='b', alpha=0.75)\n",
    "ax2.set_title('Histogram of LOS of Predicted labels')\n",
    "ax2.set_xlabel('LOS')\n",
    "\n",
    "\n",
    "\n",
    "plt.show()"
   ]
  },
  {
   "cell_type": "markdown",
   "id": "a328ce11",
   "metadata": {},
   "source": [
    "Linear regression suffer from different problems, it also over predicts cat 1 and 2 but it neglects cat 5 "
   ]
  },
  {
   "cell_type": "markdown",
   "id": "2968be57",
   "metadata": {},
   "source": [
    "### Fitting Linear Regression on the training dataset"
   ]
  },
  {
   "cell_type": "code",
   "execution_count": 41,
   "id": "397db493",
   "metadata": {},
   "outputs": [
    {
     "name": "stdout",
     "output_type": "stream",
     "text": [
      "y_pred.max() 23.23759422665279\n",
      "y_pred.min() -1.1959995233472132\n"
     ]
    }
   ],
   "source": [
    "model = LinearRegression()\n",
    "model.fit(X_train, y_train)\n",
    "y_pred = model.predict(X_test)\n",
    "print('y_pred.max()',y_pred.max() )\n",
    "print('y_pred.min()',y_pred.min() )"
   ]
  },
  {
   "cell_type": "code",
   "execution_count": 43,
   "id": "754b3cc0",
   "metadata": {},
   "outputs": [
    {
     "name": "stdout",
     "output_type": "stream",
     "text": [
      "mean y_test: 2.69\n",
      "RMSE : 1.76\n",
      "Accuracy : 0.305\n",
      "Score : 0.8789\n"
     ]
    }
   ],
   "source": [
    "from sklearn.metrics import mean_squared_error\n",
    "\n",
    "y_pred = cat(y_pred)\n",
    "\n",
    "accuracy = accuracy_score(y_pred, y_test)\n",
    "score = 1 - (np.mean(np.abs(y_pred-y_test)))/K\n",
    "error = np.sqrt(mean_squared_error(y_pred,y_test))\n",
    "mean = np.mean(y_test)\n",
    "\n",
    "print('mean y_test: %.2f' % mean)\n",
    "print('RMSE : %.2f' % error)\n",
    "print(f'Accuracy : %.3f' % accuracy)\n",
    "print(f'Score : %.4f' % score)"
   ]
  },
  {
   "cell_type": "markdown",
   "id": "fb49c54f",
   "metadata": {},
   "source": [
    "We have similar results to those we get when we fit on the whole dataset. A question we might ask is if there are any features that prevents us from getting better results. We will explore that using Lasso regression."
   ]
  },
  {
   "cell_type": "markdown",
   "id": "8ee4c1e2",
   "metadata": {},
   "source": [
    "[Back to top](#Content:)\n",
    "\n",
    "\n",
    "<a id='part4'></a>\n",
    "\n",
    "# Part 4 -  Lasso Regression"
   ]
  },
  {
   "cell_type": "markdown",
   "id": "67bc41df",
   "metadata": {},
   "source": [
    "It doesnt make much different weather we fit the regression on the whole dataset or only training set, we will try with training dataset"
   ]
  },
  {
   "cell_type": "code",
   "execution_count": 61,
   "id": "f42969b7",
   "metadata": {},
   "outputs": [
    {
     "name": "stdout",
     "output_type": "stream",
     "text": [
      "y_pred.max() 20.7674567645083\n",
      "y_pred.min() 0.40156519599156404\n"
     ]
    }
   ],
   "source": [
    "from sklearn.linear_model import Lasso\n",
    "# Create linear regression\n",
    "regressor = Lasso(alpha=0.1)\n",
    "\n",
    "# Fit/train LASSO\n",
    "regressor.fit(X_train,y_train)\n",
    "# Predict\n",
    "y_pred = regressor.predict(X_test)\n",
    "print('y_pred.max()',y_pred.max() )\n",
    "print('y_pred.min()',y_pred.min() )"
   ]
  },
  {
   "cell_type": "code",
   "execution_count": 62,
   "id": "f585d8e0",
   "metadata": {},
   "outputs": [
    {
     "name": "stdout",
     "output_type": "stream",
     "text": [
      "mean y_test: 2.69\n",
      "RMSE : 1.80\n",
      "Accuracy : 0.314\n",
      "Score : 0.8776\n"
     ]
    }
   ],
   "source": [
    "y_pred = cat(y_pred)\n",
    "\n",
    "accuracy = accuracy_score(y_pred, y_test)\n",
    "score = 1 - (np.mean(np.abs(y_pred-y_test)))/K\n",
    "error = np.sqrt(mean_squared_error(y_pred,y_test))\n",
    "mean = np.mean(y_test)\n",
    "\n",
    "print('mean y_test: %.2f' % mean)\n",
    "print('RMSE : %.2f' % error)\n",
    "print(f'Accuracy : %.3f' % accuracy)\n",
    "print(f'Score : %.4f' % score)"
   ]
  },
  {
   "cell_type": "markdown",
   "id": "c3681486",
   "metadata": {},
   "source": [
    "Results are slightly better than regression, but here we are looking for features to keep/drop"
   ]
  },
  {
   "cell_type": "code",
   "execution_count": 63,
   "id": "b19102d1",
   "metadata": {},
   "outputs": [],
   "source": [
    "# Function to plot Lasso coef\n",
    "def report_coef(names,coef,intercept):\n",
    "    r = pd.DataFrame( { 'coef': coef, 'positive': np.abs(coef)  }, index = names )\n",
    "    r = r.sort_values(by=['positive'], ascending=False)\n",
    "    display(r)\n",
    "    print(\"Intercept: {}\".format(intercept))\n",
    "    #plt.xlabel('covariate coefficient')\n",
    "    #r['coef'].plot(kind='barh')"
   ]
  },
  {
   "cell_type": "code",
   "execution_count": 64,
   "id": "dc2760e5",
   "metadata": {},
   "outputs": [
    {
     "data": {
      "text/html": [
       "<div>\n",
       "<style scoped>\n",
       "    .dataframe tbody tr th:only-of-type {\n",
       "        vertical-align: middle;\n",
       "    }\n",
       "\n",
       "    .dataframe tbody tr th {\n",
       "        vertical-align: top;\n",
       "    }\n",
       "\n",
       "    .dataframe thead th {\n",
       "        text-align: right;\n",
       "    }\n",
       "</style>\n",
       "<table border=\"1\" class=\"dataframe\">\n",
       "  <thead>\n",
       "    <tr style=\"text-align: right;\">\n",
       "      <th></th>\n",
       "      <th>coef</th>\n",
       "      <th>positive</th>\n",
       "    </tr>\n",
       "  </thead>\n",
       "  <tbody>\n",
       "    <tr>\n",
       "      <th>Visitors with Patient</th>\n",
       "      <td>1.094805</td>\n",
       "      <td>1.094805</td>\n",
       "    </tr>\n",
       "    <tr>\n",
       "      <th>Ward_Type-S</th>\n",
       "      <td>0.210604</td>\n",
       "      <td>0.210604</td>\n",
       "    </tr>\n",
       "    <tr>\n",
       "      <th>Ward_Type-Q</th>\n",
       "      <td>-0.155312</td>\n",
       "      <td>0.155312</td>\n",
       "    </tr>\n",
       "    <tr>\n",
       "      <th>Available Extra Rooms in Hospital</th>\n",
       "      <td>-0.133706</td>\n",
       "      <td>0.133706</td>\n",
       "    </tr>\n",
       "    <tr>\n",
       "      <th>Severity of Illness</th>\n",
       "      <td>0.116297</td>\n",
       "      <td>0.116297</td>\n",
       "    </tr>\n",
       "    <tr>\n",
       "      <th>Type of Admission-Emergency</th>\n",
       "      <td>-0.062019</td>\n",
       "      <td>0.062019</td>\n",
       "    </tr>\n",
       "    <tr>\n",
       "      <th>Type of Admission-Trauma</th>\n",
       "      <td>0.060036</td>\n",
       "      <td>0.060036</td>\n",
       "    </tr>\n",
       "    <tr>\n",
       "      <th>Ward_Facility_Code-C</th>\n",
       "      <td>-0.052824</td>\n",
       "      <td>0.052824</td>\n",
       "    </tr>\n",
       "    <tr>\n",
       "      <th>Ward_Type-P</th>\n",
       "      <td>-0.042891</td>\n",
       "      <td>0.042891</td>\n",
       "    </tr>\n",
       "    <tr>\n",
       "      <th>Hospital_type_code-a</th>\n",
       "      <td>-0.008528</td>\n",
       "      <td>0.008528</td>\n",
       "    </tr>\n",
       "    <tr>\n",
       "      <th>Hospital_code</th>\n",
       "      <td>0.000000</td>\n",
       "      <td>0.000000</td>\n",
       "    </tr>\n",
       "    <tr>\n",
       "      <th>Ward_Type-U</th>\n",
       "      <td>-0.000000</td>\n",
       "      <td>0.000000</td>\n",
       "    </tr>\n",
       "    <tr>\n",
       "      <th>Ward_Type-R</th>\n",
       "      <td>0.000000</td>\n",
       "      <td>0.000000</td>\n",
       "    </tr>\n",
       "    <tr>\n",
       "      <th>Ward_Type-T</th>\n",
       "      <td>0.000000</td>\n",
       "      <td>0.000000</td>\n",
       "    </tr>\n",
       "    <tr>\n",
       "      <th>Ward_Facility_Code-D</th>\n",
       "      <td>0.000000</td>\n",
       "      <td>0.000000</td>\n",
       "    </tr>\n",
       "    <tr>\n",
       "      <th>Ward_Facility_Code-A</th>\n",
       "      <td>0.000000</td>\n",
       "      <td>0.000000</td>\n",
       "    </tr>\n",
       "    <tr>\n",
       "      <th>Ward_Facility_Code-B</th>\n",
       "      <td>0.000000</td>\n",
       "      <td>0.000000</td>\n",
       "    </tr>\n",
       "    <tr>\n",
       "      <th>Department-radiotherapy</th>\n",
       "      <td>0.000000</td>\n",
       "      <td>0.000000</td>\n",
       "    </tr>\n",
       "    <tr>\n",
       "      <th>Ward_Facility_Code-E</th>\n",
       "      <td>-0.000000</td>\n",
       "      <td>0.000000</td>\n",
       "    </tr>\n",
       "    <tr>\n",
       "      <th>Ward_Facility_Code-F</th>\n",
       "      <td>0.000000</td>\n",
       "      <td>0.000000</td>\n",
       "    </tr>\n",
       "    <tr>\n",
       "      <th>Department-surgery</th>\n",
       "      <td>0.000000</td>\n",
       "      <td>0.000000</td>\n",
       "    </tr>\n",
       "    <tr>\n",
       "      <th>Department-TB &amp; Chest disease</th>\n",
       "      <td>-0.000000</td>\n",
       "      <td>0.000000</td>\n",
       "    </tr>\n",
       "    <tr>\n",
       "      <th>Department-gynecology</th>\n",
       "      <td>0.000000</td>\n",
       "      <td>0.000000</td>\n",
       "    </tr>\n",
       "    <tr>\n",
       "      <th>Hospital_type_code-d</th>\n",
       "      <td>0.000000</td>\n",
       "      <td>0.000000</td>\n",
       "    </tr>\n",
       "    <tr>\n",
       "      <th>Bed Grade</th>\n",
       "      <td>-0.000000</td>\n",
       "      <td>0.000000</td>\n",
       "    </tr>\n",
       "    <tr>\n",
       "      <th>City_Code_Patient</th>\n",
       "      <td>-0.000000</td>\n",
       "      <td>0.000000</td>\n",
       "    </tr>\n",
       "    <tr>\n",
       "      <th>Age</th>\n",
       "      <td>0.000000</td>\n",
       "      <td>0.000000</td>\n",
       "    </tr>\n",
       "    <tr>\n",
       "      <th>Admission_Deposit</th>\n",
       "      <td>0.000000</td>\n",
       "      <td>0.000000</td>\n",
       "    </tr>\n",
       "    <tr>\n",
       "      <th>Hospital_type_code-b</th>\n",
       "      <td>0.000000</td>\n",
       "      <td>0.000000</td>\n",
       "    </tr>\n",
       "    <tr>\n",
       "      <th>Hospital_type_code-c</th>\n",
       "      <td>0.000000</td>\n",
       "      <td>0.000000</td>\n",
       "    </tr>\n",
       "    <tr>\n",
       "      <th>Hospital_type_code-e</th>\n",
       "      <td>-0.000000</td>\n",
       "      <td>0.000000</td>\n",
       "    </tr>\n",
       "    <tr>\n",
       "      <th>Department-anesthesia</th>\n",
       "      <td>-0.000000</td>\n",
       "      <td>0.000000</td>\n",
       "    </tr>\n",
       "    <tr>\n",
       "      <th>Hospital_type_code-f</th>\n",
       "      <td>-0.000000</td>\n",
       "      <td>0.000000</td>\n",
       "    </tr>\n",
       "    <tr>\n",
       "      <th>Hospital_type_code-g</th>\n",
       "      <td>0.000000</td>\n",
       "      <td>0.000000</td>\n",
       "    </tr>\n",
       "    <tr>\n",
       "      <th>Hospital_region_code-X</th>\n",
       "      <td>-0.000000</td>\n",
       "      <td>0.000000</td>\n",
       "    </tr>\n",
       "    <tr>\n",
       "      <th>Hospital_region_code-Y</th>\n",
       "      <td>0.000000</td>\n",
       "      <td>0.000000</td>\n",
       "    </tr>\n",
       "    <tr>\n",
       "      <th>Hospital_region_code-Z</th>\n",
       "      <td>0.000000</td>\n",
       "      <td>0.000000</td>\n",
       "    </tr>\n",
       "    <tr>\n",
       "      <th>City_Code_Hospital</th>\n",
       "      <td>-0.000000</td>\n",
       "      <td>0.000000</td>\n",
       "    </tr>\n",
       "    <tr>\n",
       "      <th>Type of Admission-Urgent</th>\n",
       "      <td>-0.000000</td>\n",
       "      <td>0.000000</td>\n",
       "    </tr>\n",
       "  </tbody>\n",
       "</table>\n",
       "</div>"
      ],
      "text/plain": [
       "                                       coef  positive\n",
       "Visitors with Patient              1.094805  1.094805\n",
       "Ward_Type-S                        0.210604  0.210604\n",
       "Ward_Type-Q                       -0.155312  0.155312\n",
       "Available Extra Rooms in Hospital -0.133706  0.133706\n",
       "Severity of Illness                0.116297  0.116297\n",
       "Type of Admission-Emergency       -0.062019  0.062019\n",
       "Type of Admission-Trauma           0.060036  0.060036\n",
       "Ward_Facility_Code-C              -0.052824  0.052824\n",
       "Ward_Type-P                       -0.042891  0.042891\n",
       "Hospital_type_code-a              -0.008528  0.008528\n",
       "Hospital_code                      0.000000  0.000000\n",
       "Ward_Type-U                       -0.000000  0.000000\n",
       "Ward_Type-R                        0.000000  0.000000\n",
       "Ward_Type-T                        0.000000  0.000000\n",
       "Ward_Facility_Code-D               0.000000  0.000000\n",
       "Ward_Facility_Code-A               0.000000  0.000000\n",
       "Ward_Facility_Code-B               0.000000  0.000000\n",
       "Department-radiotherapy            0.000000  0.000000\n",
       "Ward_Facility_Code-E              -0.000000  0.000000\n",
       "Ward_Facility_Code-F               0.000000  0.000000\n",
       "Department-surgery                 0.000000  0.000000\n",
       "Department-TB & Chest disease     -0.000000  0.000000\n",
       "Department-gynecology              0.000000  0.000000\n",
       "Hospital_type_code-d               0.000000  0.000000\n",
       "Bed Grade                         -0.000000  0.000000\n",
       "City_Code_Patient                 -0.000000  0.000000\n",
       "Age                                0.000000  0.000000\n",
       "Admission_Deposit                  0.000000  0.000000\n",
       "Hospital_type_code-b               0.000000  0.000000\n",
       "Hospital_type_code-c               0.000000  0.000000\n",
       "Hospital_type_code-e              -0.000000  0.000000\n",
       "Department-anesthesia             -0.000000  0.000000\n",
       "Hospital_type_code-f              -0.000000  0.000000\n",
       "Hospital_type_code-g               0.000000  0.000000\n",
       "Hospital_region_code-X            -0.000000  0.000000\n",
       "Hospital_region_code-Y             0.000000  0.000000\n",
       "Hospital_region_code-Z             0.000000  0.000000\n",
       "City_Code_Hospital                -0.000000  0.000000\n",
       "Type of Admission-Urgent          -0.000000  0.000000"
      ]
     },
     "metadata": {},
     "output_type": "display_data"
    },
    {
     "name": "stdout",
     "output_type": "stream",
     "text": [
      "Intercept: 2.698585899789245\n"
     ]
    }
   ],
   "source": [
    "names = list(Xe.columns.values)\n",
    "report_coef(\n",
    "  names,\n",
    "  regressor.coef_,\n",
    "  regressor.intercept_)"
   ]
  },
  {
   "cell_type": "markdown",
   "id": "4de08051",
   "metadata": {},
   "source": [
    "It seems many of the feature are eliminated by Lasso, following the results we will keep only thease feature for our next LinearRegression model :\n",
    "- Visitors\n",
    "- Ward Type \n",
    "- Available extra rooms\n",
    "- Severity of Illness\n",
    "- Type of Admission\n"
   ]
  },
  {
   "cell_type": "markdown",
   "id": "053211c8",
   "metadata": {},
   "source": [
    "[Back to top](#Content:)\n",
    "\n",
    "\n",
    "<a id='part5'></a>\n",
    "\n",
    "# Part 5 -  Linear Regression with reduced features"
   ]
  },
  {
   "cell_type": "code",
   "execution_count": null,
   "id": "90873071",
   "metadata": {},
   "outputs": [],
   "source": [
    "features = ['Visitors with Patient', 'Ward_Type', 'Available Extra Rooms in Hospital', 'Severity of Illness', 'Type of Admission']\n"
   ]
  }
 ],
 "metadata": {
  "kernelspec": {
   "display_name": "Python 3 (ipykernel)",
   "language": "python",
   "name": "python3"
  },
  "language_info": {
   "codemirror_mode": {
    "name": "ipython",
    "version": 3
   },
   "file_extension": ".py",
   "mimetype": "text/x-python",
   "name": "python",
   "nbconvert_exporter": "python",
   "pygments_lexer": "ipython3",
   "version": "3.7.11"
  }
 },
 "nbformat": 4,
 "nbformat_minor": 5
}
