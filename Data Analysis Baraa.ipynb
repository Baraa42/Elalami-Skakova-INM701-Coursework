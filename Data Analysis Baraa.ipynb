{
 "cells": [
  {
   "cell_type": "code",
   "execution_count": 1,
   "id": "456ee6c4",
   "metadata": {},
   "outputs": [],
   "source": [
    "import os\n",
    "import numpy as np\n",
    "import pandas as pd\n",
    "import seaborn as sns\n",
    "import matplotlib.pyplot as plt\n",
    "\n",
    "from sklearn.model_selection import train_test_split\n",
    "from sklearn.preprocessing import LabelEncoder\n",
    "from sklearn.preprocessing import OneHotEncoder\n",
    "\n",
    "\n"
   ]
  },
  {
   "cell_type": "code",
   "execution_count": 2,
   "id": "27978336",
   "metadata": {},
   "outputs": [],
   "source": [
    "## loading the file\n",
    "health_care = pd.read_csv('./healthcare/train_data.csv')"
   ]
  },
  {
   "cell_type": "code",
   "execution_count": 3,
   "id": "3e024483",
   "metadata": {
    "scrolled": true
   },
   "outputs": [
    {
     "name": "stdout",
     "output_type": "stream",
     "text": [
      "case_id\n",
      "Hospital_code\n",
      "Hospital_type_code\n",
      "City_Code_Hospital\n",
      "Hospital_region_code\n",
      "Available Extra Rooms in Hospital\n",
      "Department\n",
      "Ward_Type\n",
      "Ward_Facility_Code\n",
      "Bed Grade\n",
      "patientid\n",
      "City_Code_Patient\n",
      "Type of Admission\n",
      "Severity of Illness\n",
      "Visitors with Patient\n",
      "Age\n",
      "Admission_Deposit\n",
      "Stay\n"
     ]
    }
   ],
   "source": [
    "## Checking the data\n",
    "for column in health_care.columns :\n",
    "    print(column)"
   ]
  },
  {
   "cell_type": "code",
   "execution_count": 4,
   "id": "5a2724c8",
   "metadata": {},
   "outputs": [
    {
     "data": {
      "text/html": [
       "<div>\n",
       "<style scoped>\n",
       "    .dataframe tbody tr th:only-of-type {\n",
       "        vertical-align: middle;\n",
       "    }\n",
       "\n",
       "    .dataframe tbody tr th {\n",
       "        vertical-align: top;\n",
       "    }\n",
       "\n",
       "    .dataframe thead th {\n",
       "        text-align: right;\n",
       "    }\n",
       "</style>\n",
       "<table border=\"1\" class=\"dataframe\">\n",
       "  <thead>\n",
       "    <tr style=\"text-align: right;\">\n",
       "      <th></th>\n",
       "      <th>case_id</th>\n",
       "      <th>Hospital_code</th>\n",
       "      <th>Hospital_type_code</th>\n",
       "      <th>City_Code_Hospital</th>\n",
       "      <th>Hospital_region_code</th>\n",
       "      <th>Available Extra Rooms in Hospital</th>\n",
       "      <th>Department</th>\n",
       "      <th>Ward_Type</th>\n",
       "      <th>Ward_Facility_Code</th>\n",
       "      <th>Bed Grade</th>\n",
       "      <th>patientid</th>\n",
       "      <th>City_Code_Patient</th>\n",
       "      <th>Type of Admission</th>\n",
       "      <th>Severity of Illness</th>\n",
       "      <th>Visitors with Patient</th>\n",
       "      <th>Age</th>\n",
       "      <th>Admission_Deposit</th>\n",
       "      <th>Stay</th>\n",
       "    </tr>\n",
       "  </thead>\n",
       "  <tbody>\n",
       "    <tr>\n",
       "      <th>0</th>\n",
       "      <td>1</td>\n",
       "      <td>8</td>\n",
       "      <td>c</td>\n",
       "      <td>3</td>\n",
       "      <td>Z</td>\n",
       "      <td>3</td>\n",
       "      <td>radiotherapy</td>\n",
       "      <td>R</td>\n",
       "      <td>F</td>\n",
       "      <td>2.0</td>\n",
       "      <td>31397</td>\n",
       "      <td>7.0</td>\n",
       "      <td>Emergency</td>\n",
       "      <td>Extreme</td>\n",
       "      <td>2</td>\n",
       "      <td>51-60</td>\n",
       "      <td>4911.0</td>\n",
       "      <td>0-10</td>\n",
       "    </tr>\n",
       "    <tr>\n",
       "      <th>1</th>\n",
       "      <td>2</td>\n",
       "      <td>2</td>\n",
       "      <td>c</td>\n",
       "      <td>5</td>\n",
       "      <td>Z</td>\n",
       "      <td>2</td>\n",
       "      <td>radiotherapy</td>\n",
       "      <td>S</td>\n",
       "      <td>F</td>\n",
       "      <td>2.0</td>\n",
       "      <td>31397</td>\n",
       "      <td>7.0</td>\n",
       "      <td>Trauma</td>\n",
       "      <td>Extreme</td>\n",
       "      <td>2</td>\n",
       "      <td>51-60</td>\n",
       "      <td>5954.0</td>\n",
       "      <td>41-50</td>\n",
       "    </tr>\n",
       "    <tr>\n",
       "      <th>2</th>\n",
       "      <td>3</td>\n",
       "      <td>10</td>\n",
       "      <td>e</td>\n",
       "      <td>1</td>\n",
       "      <td>X</td>\n",
       "      <td>2</td>\n",
       "      <td>anesthesia</td>\n",
       "      <td>S</td>\n",
       "      <td>E</td>\n",
       "      <td>2.0</td>\n",
       "      <td>31397</td>\n",
       "      <td>7.0</td>\n",
       "      <td>Trauma</td>\n",
       "      <td>Extreme</td>\n",
       "      <td>2</td>\n",
       "      <td>51-60</td>\n",
       "      <td>4745.0</td>\n",
       "      <td>31-40</td>\n",
       "    </tr>\n",
       "    <tr>\n",
       "      <th>3</th>\n",
       "      <td>4</td>\n",
       "      <td>26</td>\n",
       "      <td>b</td>\n",
       "      <td>2</td>\n",
       "      <td>Y</td>\n",
       "      <td>2</td>\n",
       "      <td>radiotherapy</td>\n",
       "      <td>R</td>\n",
       "      <td>D</td>\n",
       "      <td>2.0</td>\n",
       "      <td>31397</td>\n",
       "      <td>7.0</td>\n",
       "      <td>Trauma</td>\n",
       "      <td>Extreme</td>\n",
       "      <td>2</td>\n",
       "      <td>51-60</td>\n",
       "      <td>7272.0</td>\n",
       "      <td>41-50</td>\n",
       "    </tr>\n",
       "    <tr>\n",
       "      <th>4</th>\n",
       "      <td>5</td>\n",
       "      <td>26</td>\n",
       "      <td>b</td>\n",
       "      <td>2</td>\n",
       "      <td>Y</td>\n",
       "      <td>2</td>\n",
       "      <td>radiotherapy</td>\n",
       "      <td>S</td>\n",
       "      <td>D</td>\n",
       "      <td>2.0</td>\n",
       "      <td>31397</td>\n",
       "      <td>7.0</td>\n",
       "      <td>Trauma</td>\n",
       "      <td>Extreme</td>\n",
       "      <td>2</td>\n",
       "      <td>51-60</td>\n",
       "      <td>5558.0</td>\n",
       "      <td>41-50</td>\n",
       "    </tr>\n",
       "  </tbody>\n",
       "</table>\n",
       "</div>"
      ],
      "text/plain": [
       "   case_id  Hospital_code Hospital_type_code  City_Code_Hospital  \\\n",
       "0        1              8                  c                   3   \n",
       "1        2              2                  c                   5   \n",
       "2        3             10                  e                   1   \n",
       "3        4             26                  b                   2   \n",
       "4        5             26                  b                   2   \n",
       "\n",
       "  Hospital_region_code  Available Extra Rooms in Hospital    Department  \\\n",
       "0                    Z                                  3  radiotherapy   \n",
       "1                    Z                                  2  radiotherapy   \n",
       "2                    X                                  2    anesthesia   \n",
       "3                    Y                                  2  radiotherapy   \n",
       "4                    Y                                  2  radiotherapy   \n",
       "\n",
       "  Ward_Type Ward_Facility_Code  Bed Grade  patientid  City_Code_Patient  \\\n",
       "0         R                  F        2.0      31397                7.0   \n",
       "1         S                  F        2.0      31397                7.0   \n",
       "2         S                  E        2.0      31397                7.0   \n",
       "3         R                  D        2.0      31397                7.0   \n",
       "4         S                  D        2.0      31397                7.0   \n",
       "\n",
       "  Type of Admission Severity of Illness  Visitors with Patient    Age  \\\n",
       "0         Emergency             Extreme                      2  51-60   \n",
       "1            Trauma             Extreme                      2  51-60   \n",
       "2            Trauma             Extreme                      2  51-60   \n",
       "3            Trauma             Extreme                      2  51-60   \n",
       "4            Trauma             Extreme                      2  51-60   \n",
       "\n",
       "   Admission_Deposit   Stay  \n",
       "0             4911.0   0-10  \n",
       "1             5954.0  41-50  \n",
       "2             4745.0  31-40  \n",
       "3             7272.0  41-50  \n",
       "4             5558.0  41-50  "
      ]
     },
     "execution_count": 4,
     "metadata": {},
     "output_type": "execute_result"
    }
   ],
   "source": [
    "health_care.head()"
   ]
  },
  {
   "cell_type": "code",
   "execution_count": 5,
   "id": "a4cb8cf5",
   "metadata": {},
   "outputs": [
    {
     "name": "stdout",
     "output_type": "stream",
     "text": [
      "['0-10' '41-50' '31-40' '11-20' '51-60' '21-30' '71-80'\n",
      " 'More than 100 Days' '81-90' '61-70' '91-100']\n"
     ]
    }
   ],
   "source": [
    "## Checking target\n",
    "target = health_care['Stay']\n",
    "print(pd.unique(target))\n"
   ]
  },
  {
   "cell_type": "code",
   "execution_count": 19,
   "id": "2d15e2d5",
   "metadata": {},
   "outputs": [
    {
     "data": {
      "text/plain": [
       "2.905425552176854"
      ]
     },
     "execution_count": 19,
     "metadata": {},
     "output_type": "execute_result"
    }
   ],
   "source": [
    "## Encoding data\n",
    "encoder = LabelEncoder()\n",
    "target_enc = encoder.fit_transform(target)\n"
   ]
  },
  {
   "cell_type": "code",
   "execution_count": 7,
   "id": "333711f7",
   "metadata": {},
   "outputs": [
    {
     "data": {
      "text/plain": [
       "['0-10',\n",
       " '11-20',\n",
       " '21-30',\n",
       " '31-40',\n",
       " '41-50',\n",
       " '51-60',\n",
       " '61-70',\n",
       " '71-80',\n",
       " '81-90',\n",
       " '91-100',\n",
       " 'More than 100 Days']"
      ]
     },
     "execution_count": 7,
     "metadata": {},
     "output_type": "execute_result"
    }
   ],
   "source": [
    "sorted_target = pd.unique(target)\n",
    "sorted_target.sort()\n",
    "order = sorted_target.tolist()\n",
    "order"
   ]
  },
  {
   "cell_type": "markdown",
   "id": "99f7c9d4",
   "metadata": {},
   "source": [
    "## Checking the relationship between some features and the target\n",
    "\n",
    "The features that intuitively appear to be important are : \n",
    "1. Type of Admission\n",
    "2. Severity of Illness\n",
    "3. Age\n"
   ]
  },
  {
   "cell_type": "markdown",
   "id": "5297ceb7",
   "metadata": {},
   "source": [
    "### Type of Admission Analysis"
   ]
  },
  {
   "cell_type": "code",
   "execution_count": 14,
   "id": "de7d8cf9",
   "metadata": {},
   "outputs": [
    {
     "data": {
      "image/png": "[encoded data removed]",
      "text/plain": [
       "<Figure size 432x288 with 1 Axes>"
      ]
     },
     "metadata": {},
     "output_type": "display_data"
    }
   ],
   "source": [
    "sns.set_theme(style=\"darkgrid\")\n",
    "\n",
    "\n",
    "ax = sns.countplot(x=\"Type of Admission\", hue=\"Stay\", order =['Trauma',  'Emergency','Urgent'], hue_order=order, data=health_care)\n"
   ]
  },
  {
   "cell_type": "code",
   "execution_count": 30,
   "id": "ce79db70",
   "metadata": {},
   "outputs": [
    {
     "name": "stdout",
     "output_type": "stream",
     "text": [
      "The mean of stay when the type of admission if Trauma is approximately : 34.05 days\n",
      "The mean of stay when the type of admission if Urgent is approximately : 29.89 days\n",
      "The mean of stay when the type of admission if Emergency is approximately : 30.17 days\n"
     ]
    }
   ],
   "source": [
    "type_of_admission = ['Trauma', 'Urgent', 'Emergency']\n",
    "\n",
    "for c in type_of_admission : \n",
    "    print('The mean of stay when the type of admission if {} is approximately : {:.2f} days'.format(c,10*target_enc[health_care['Type of Admission']==c].mean() + 5))\n"
   ]
  },
  {
   "cell_type": "code",
   "execution_count": 31,
   "id": "a777e005",
   "metadata": {},
   "outputs": [
    {
     "name": "stdout",
     "output_type": "stream",
     "text": [
      "The std of stay when the type of admission if Trauma is approximately : 26.40 days\n",
      "The std of stay when the type of admission if Urgent is approximately : 24.91 days\n",
      "The std of stay when the type of admission if Emergency is approximately : 27.01 days\n"
     ]
    }
   ],
   "source": [
    "for c in type_of_admission : \n",
    "    print('The std of stay when the type of admission if {} is approximately : {:.2f} days'.format(c,10*target_enc[health_care['Type of Admission']==c].std() + 5))\n"
   ]
  },
  {
   "cell_type": "markdown",
   "id": "3510d84e",
   "metadata": {},
   "source": [
    "Type of Admission doesnt appear to have a big impact on length of stay"
   ]
  },
  {
   "cell_type": "markdown",
   "id": "7cc7c366",
   "metadata": {},
   "source": [
    "### Severity of Ilness Analysis"
   ]
  },
  {
   "cell_type": "code",
   "execution_count": 33,
   "id": "46d8ea6d",
   "metadata": {},
   "outputs": [
    {
     "name": "stdout",
     "output_type": "stream",
     "text": [
      "['Extreme' 'Moderate' 'Minor']\n"
     ]
    }
   ],
   "source": [
    "severity = health_care['Severity of Illness']\n",
    "print(pd.unique(severity))\n",
    "\n",
    "                       "
   ]
  },
  {
   "cell_type": "code",
   "execution_count": 34,
   "id": "8b42972f",
   "metadata": {},
   "outputs": [
    {
     "data": {
      "image/png": "[encoded data removed]",
      "text/plain": [
       "<Figure size 432x288 with 1 Axes>"
      ]
     },
     "metadata": {},
     "output_type": "display_data"
    }
   ],
   "source": [
    "ax = sns.countplot(x=\"Severity of Illness\", hue=\"Stay\", order =['Minor',  'Moderate','Extreme'], hue_order=order, data=health_care)\n"
   ]
  },
  {
   "cell_type": "code",
   "execution_count": 37,
   "id": "77c645b2",
   "metadata": {},
   "outputs": [
    {
     "name": "stdout",
     "output_type": "stream",
     "text": [
      "The mean of stay when the type of admission if Minor is approximately : 28.18 days\n",
      "The mean of stay when the type of admission if Moderate is approximately : 32.45 days\n",
      "The mean of stay when the type of admission if Extreme is approximately : 36.31 days\n"
     ]
    }
   ],
   "source": [
    "severity_of_illness = ['Minor', 'Moderate', 'Extreme']\n",
    "\n",
    "for c in severity_of_illness : \n",
    "    print('The mean of stay when the severity of illness if {} is approximately : {:.2f} days'.format(c,10*target_enc[health_care['Severity of Illness']==c].mean() + 5))\n"
   ]
  },
  {
   "cell_type": "code",
   "execution_count": 38,
   "id": "c89685fe",
   "metadata": {},
   "outputs": [
    {
     "name": "stdout",
     "output_type": "stream",
     "text": [
      "The mean of stay when the type of admission if Minor is approximately : 24.14 days\n",
      "The mean of stay when the type of admission if Moderate is approximately : 26.52 days\n",
      "The mean of stay when the type of admission if Extreme is approximately : 28.75 days\n"
     ]
    }
   ],
   "source": [
    "for c in severity_of_illness : \n",
    "    print('The std of stay when the severity of Illness if {} is approximately : {:.2f} days'.format(c,10*target_enc[health_care['Severity of Illness']==c].std() + 5))\n"
   ]
  },
  {
   "cell_type": "markdown",
   "id": "bc1c3c2c",
   "metadata": {},
   "source": [
    "Severity of Illness does appear to have an impact on the length of stay"
   ]
  },
  {
   "cell_type": "code",
   "execution_count": 99,
   "id": "eca2db94",
   "metadata": {},
   "outputs": [],
   "source": [
    "severity_of_illness_df = health_care[\"Severity of Illness\"] \n",
    "means = { c :10*target_enc[health_care['Severity of Illness']==c].mean()+5 for c in pd.unique(severity) }\n",
    "mean_length_of_stay_severity = np.zeros(len(severity_of_illness_df))\n",
    "\n",
    "for i in range(len(severity_of_illness_df)) :\n",
    "    mean_length_of_stay_severity[i] = round(means[severity_of_illness_df[i]],1)\n",
    "    \n",
    "    \n",
    "    "
   ]
  },
  {
   "cell_type": "code",
   "execution_count": 100,
   "id": "1f4c0ec4",
   "metadata": {},
   "outputs": [],
   "source": [
    "x = np.vstack((severity_of_illness_df,mean_length_of_stay_severity)).T\n",
    "df = pd.DataFrame(data=x, columns =['Severity of Illness', 'Means'])"
   ]
  },
  {
   "cell_type": "code",
   "execution_count": 101,
   "id": "598d1b5e",
   "metadata": {},
   "outputs": [
    {
     "data": {
      "text/html": [
       "<div>\n",
       "<style scoped>\n",
       "    .dataframe tbody tr th:only-of-type {\n",
       "        vertical-align: middle;\n",
       "    }\n",
       "\n",
       "    .dataframe tbody tr th {\n",
       "        vertical-align: top;\n",
       "    }\n",
       "\n",
       "    .dataframe thead th {\n",
       "        text-align: right;\n",
       "    }\n",
       "</style>\n",
       "<table border=\"1\" class=\"dataframe\">\n",
       "  <thead>\n",
       "    <tr style=\"text-align: right;\">\n",
       "      <th></th>\n",
       "      <th>Severity of Illness</th>\n",
       "      <th>Means</th>\n",
       "    </tr>\n",
       "  </thead>\n",
       "  <tbody>\n",
       "    <tr>\n",
       "      <th>0</th>\n",
       "      <td>Extreme</td>\n",
       "      <td>36.3</td>\n",
       "    </tr>\n",
       "    <tr>\n",
       "      <th>1</th>\n",
       "      <td>Extreme</td>\n",
       "      <td>36.3</td>\n",
       "    </tr>\n",
       "    <tr>\n",
       "      <th>2</th>\n",
       "      <td>Extreme</td>\n",
       "      <td>36.3</td>\n",
       "    </tr>\n",
       "    <tr>\n",
       "      <th>3</th>\n",
       "      <td>Extreme</td>\n",
       "      <td>36.3</td>\n",
       "    </tr>\n",
       "    <tr>\n",
       "      <th>4</th>\n",
       "      <td>Extreme</td>\n",
       "      <td>36.3</td>\n",
       "    </tr>\n",
       "  </tbody>\n",
       "</table>\n",
       "</div>"
      ],
      "text/plain": [
       "  Severity of Illness Means\n",
       "0             Extreme  36.3\n",
       "1             Extreme  36.3\n",
       "2             Extreme  36.3\n",
       "3             Extreme  36.3\n",
       "4             Extreme  36.3"
      ]
     },
     "execution_count": 101,
     "metadata": {},
     "output_type": "execute_result"
    }
   ],
   "source": [
    "df.head()"
   ]
  },
  {
   "cell_type": "code",
   "execution_count": 102,
   "id": "351d90c0",
   "metadata": {},
   "outputs": [
    {
     "data": {
      "image/png": "[encoded data removed]",
      "text/plain": [
       "<Figure size 432x288 with 1 Axes>"
      ]
     },
     "metadata": {},
     "output_type": "display_data"
    }
   ],
   "source": [
    "bx = sns.countplot(x=\"Severity of Illness\", hue=\"Means\",  data=df)\n"
   ]
  },
  {
   "cell_type": "markdown",
   "id": "32e40484",
   "metadata": {},
   "source": [
    "### Age analysis"
   ]
  },
  {
   "cell_type": "code",
   "execution_count": 39,
   "id": "7e985b50",
   "metadata": {},
   "outputs": [
    {
     "name": "stdout",
     "output_type": "stream",
     "text": [
      "['51-60' '71-80' '31-40' '41-50' '81-90' '61-70' '21-30' '11-20' '0-10'\n",
      " '91-100']\n"
     ]
    }
   ],
   "source": [
    "age = health_care['Age']\n",
    "print(pd.unique(age))\n",
    "\n",
    "                       "
   ]
  },
  {
   "cell_type": "code",
   "execution_count": 42,
   "id": "b03e2018",
   "metadata": {},
   "outputs": [
    {
     "name": "stdout",
     "output_type": "stream",
     "text": [
      "['0-10' '11-20' '21-30' '31-40' '41-50' '51-60' '61-70' '71-80' '81-90'\n",
      " '91-100']\n"
     ]
    }
   ],
   "source": [
    "age_order = pd.unique(age)\n",
    "age_order.sort()\n",
    "print(age_order)"
   ]
  },
  {
   "cell_type": "code",
   "execution_count": 43,
   "id": "2919c262",
   "metadata": {},
   "outputs": [
    {
     "data": {
      "image/png": "[encoded data removed]",
      "text/plain": [
       "<Figure size 432x288 with 1 Axes>"
      ]
     },
     "metadata": {},
     "output_type": "display_data"
    }
   ],
   "source": [
    "ax = sns.countplot(x=\"Age\", hue=\"Stay\", order =age_order, hue_order=order, data=health_care)\n"
   ]
  },
  {
   "cell_type": "code",
   "execution_count": 44,
   "id": "438b44d0",
   "metadata": {},
   "outputs": [
    {
     "name": "stdout",
     "output_type": "stream",
     "text": [
      "The mean of stay when age range is  0-10 is approximately : 28.91 days\n",
      "The mean of stay when age range is  11-20 is approximately : 28.07 days\n",
      "The mean of stay when age range is  21-30 is approximately : 29.48 days\n",
      "The mean of stay when age range is  31-40 is approximately : 30.76 days\n",
      "The mean of stay when age range is  41-50 is approximately : 32.21 days\n",
      "The mean of stay when age range is  51-60 is approximately : 33.08 days\n",
      "The mean of stay when age range is  61-70 is approximately : 33.55 days\n",
      "The mean of stay when age range is  71-80 is approximately : 34.41 days\n",
      "The mean of stay when age range is  81-90 is approximately : 38.40 days\n",
      "The mean of stay when age range is  91-100 is approximately : 38.16 days\n"
     ]
    }
   ],
   "source": [
    "for c in age_order : \n",
    "    print('The mean of stay when age range is  {} is approximately : {:.2f} days'.format(c,10*target_enc[health_care['Age']==c].mean() + 5))\n"
   ]
  },
  {
   "cell_type": "code",
   "execution_count": 45,
   "id": "a06945de",
   "metadata": {},
   "outputs": [
    {
     "name": "stdout",
     "output_type": "stream",
     "text": [
      "The std of stay when age range is  0-10 is approximately : 25.58 days\n",
      "The std of stay when age range is  11-20 is approximately : 24.31 days\n",
      "The std of stay when age range is  21-30 is approximately : 24.73 days\n",
      "The std of stay when age range is  31-40 is approximately : 25.28 days\n",
      "The std of stay when age range is  41-50 is approximately : 26.44 days\n",
      "The std of stay when age range is  51-60 is approximately : 27.24 days\n",
      "The std of stay when age range is  61-70 is approximately : 27.47 days\n",
      "The std of stay when age range is  71-80 is approximately : 27.93 days\n",
      "The std of stay when age range is  81-90 is approximately : 29.84 days\n",
      "The std of stay when age range is  91-100 is approximately : 30.44 days\n"
     ]
    }
   ],
   "source": [
    "for c in age_order : \n",
    "    print('The std of stay when age range is  {} is approximately : {:.2f} days'.format(c,10*target_enc[health_care['Age']==c].std() + 5))\n"
   ]
  },
  {
   "cell_type": "markdown",
   "id": "460148ea",
   "metadata": {},
   "source": [
    "Age does appear to have some impact on the length of stay"
   ]
  },
  {
   "cell_type": "markdown",
   "id": "fb655cc4",
   "metadata": {},
   "source": [
    "### Hospital code Analysis"
   ]
  },
  {
   "cell_type": "code",
   "execution_count": 54,
   "id": "7d194ec7",
   "metadata": {},
   "outputs": [
    {
     "name": "stdout",
     "output_type": "stream",
     "text": [
      "The mean of stay when hospital code is  1 is approximately : 35.15 days\n",
      "The mean of stay when hospital code is  2 is approximately : 40.03 days\n",
      "The mean of stay when hospital code is  3 is approximately : 28.45 days\n",
      "The mean of stay when hospital code is  4 is approximately : 23.13 days\n",
      "The mean of stay when hospital code is  5 is approximately : 30.08 days\n",
      "The mean of stay when hospital code is  6 is approximately : 31.13 days\n",
      "The mean of stay when hospital code is  7 is approximately : 23.34 days\n",
      "The mean of stay when hospital code is  8 is approximately : 29.82 days\n",
      "The mean of stay when hospital code is  9 is approximately : 32.87 days\n",
      "The mean of stay when hospital code is  10 is approximately : 29.70 days\n",
      "The mean of stay when hospital code is  11 is approximately : 29.99 days\n",
      "The mean of stay when hospital code is  12 is approximately : 30.05 days\n",
      "The mean of stay when hospital code is  13 is approximately : 27.55 days\n",
      "The mean of stay when hospital code is  14 is approximately : 30.69 days\n",
      "The mean of stay when hospital code is  15 is approximately : 29.90 days\n",
      "The mean of stay when hospital code is  16 is approximately : 38.03 days\n",
      "The mean of stay when hospital code is  17 is approximately : 27.53 days\n",
      "The mean of stay when hospital code is  18 is approximately : 34.49 days\n",
      "The mean of stay when hospital code is  19 is approximately : 28.29 days\n",
      "The mean of stay when hospital code is  20 is approximately : 37.63 days\n",
      "The mean of stay when hospital code is  21 is approximately : 36.30 days\n",
      "The mean of stay when hospital code is  22 is approximately : 38.36 days\n",
      "The mean of stay when hospital code is  23 is approximately : 32.59 days\n",
      "The mean of stay when hospital code is  24 is approximately : 26.68 days\n",
      "The mean of stay when hospital code is  25 is approximately : 36.05 days\n",
      "The mean of stay when hospital code is  26 is approximately : 35.69 days\n",
      "The mean of stay when hospital code is  27 is approximately : 27.44 days\n",
      "The mean of stay when hospital code is  28 is approximately : 32.99 days\n",
      "The mean of stay when hospital code is  29 is approximately : 36.06 days\n",
      "The mean of stay when hospital code is  30 is approximately : 31.47 days\n",
      "The mean of stay when hospital code is  31 is approximately : 29.32 days\n",
      "The mean of stay when hospital code is  32 is approximately : 35.55 days\n"
     ]
    }
   ],
   "source": [
    "hospital_code = pd.unique(health_care['Hospital_code'])\n",
    "hospital_code.sort()\n",
    "for c in hospital_code : \n",
    "    print('The mean of stay when hospital code is  {} is approximately : {:.2f} days'.format(c,10*target_enc[health_care['Hospital_code']==c].mean() + 5))\n"
   ]
  },
  {
   "cell_type": "code",
   "execution_count": 56,
   "id": "a790c676",
   "metadata": {},
   "outputs": [
    {
     "name": "stdout",
     "output_type": "stream",
     "text": [
      "['Hospital_code', 'Hospital_type_code', 'City_Code_Hospital', 'Hospital_region_code', 'Available Extra Rooms in Hospital', 'Department', 'Ward_Type', 'Ward_Facility_Code', 'Bed Grade', 'City_Code_Patient', 'Type of Admission', 'Severity of Illness', 'Visitors with Patient', 'Age']\n"
     ]
    }
   ],
   "source": [
    "\n",
    "elements_to_remove = ['case_id', 'patientid', 'Admission_Deposit', 'Stay']\n",
    "column_features = [ column for column in health_care.columns if column not in elements_to_remove]\n",
    "print(column_features)"
   ]
  },
  {
   "cell_type": "markdown",
   "id": "fa121de6",
   "metadata": {},
   "source": [
    "## Mean and Std stat for features with limited number of classes"
   ]
  },
  {
   "cell_type": "code",
   "execution_count": 64,
   "id": "661ac054",
   "metadata": {},
   "outputs": [
    {
     "name": "stdout",
     "output_type": "stream",
     "text": [
      " Mean Statistic : \n",
      "The mean of stay when for 1 in the feature Hospital_code is approximately : 35.15 days\n",
      "The mean of stay when for 2 in the feature Hospital_code is approximately : 40.03 days\n",
      "The mean of stay when for 3 in the feature Hospital_code is approximately : 28.45 days\n",
      "The mean of stay when for 4 in the feature Hospital_code is approximately : 23.13 days\n",
      "The mean of stay when for 5 in the feature Hospital_code is approximately : 30.08 days\n",
      "The mean of stay when for 6 in the feature Hospital_code is approximately : 31.13 days\n",
      "The mean of stay when for 7 in the feature Hospital_code is approximately : 23.34 days\n",
      "The mean of stay when for 8 in the feature Hospital_code is approximately : 29.82 days\n",
      "The mean of stay when for 9 in the feature Hospital_code is approximately : 32.87 days\n",
      "The mean of stay when for 10 in the feature Hospital_code is approximately : 29.70 days\n",
      "The mean of stay when for 11 in the feature Hospital_code is approximately : 29.99 days\n",
      "The mean of stay when for 12 in the feature Hospital_code is approximately : 30.05 days\n",
      "The mean of stay when for 13 in the feature Hospital_code is approximately : 27.55 days\n",
      "The mean of stay when for 14 in the feature Hospital_code is approximately : 30.69 days\n",
      "The mean of stay when for 15 in the feature Hospital_code is approximately : 29.90 days\n",
      "The mean of stay when for 16 in the feature Hospital_code is approximately : 38.03 days\n",
      "The mean of stay when for 17 in the feature Hospital_code is approximately : 27.53 days\n",
      "The mean of stay when for 18 in the feature Hospital_code is approximately : 34.49 days\n",
      "The mean of stay when for 19 in the feature Hospital_code is approximately : 28.29 days\n",
      "The mean of stay when for 20 in the feature Hospital_code is approximately : 37.63 days\n",
      "The mean of stay when for 21 in the feature Hospital_code is approximately : 36.30 days\n",
      "The mean of stay when for 22 in the feature Hospital_code is approximately : 38.36 days\n",
      "The mean of stay when for 23 in the feature Hospital_code is approximately : 32.59 days\n",
      "The mean of stay when for 24 in the feature Hospital_code is approximately : 26.68 days\n",
      "The mean of stay when for 25 in the feature Hospital_code is approximately : 36.05 days\n",
      "The mean of stay when for 26 in the feature Hospital_code is approximately : 35.69 days\n",
      "The mean of stay when for 27 in the feature Hospital_code is approximately : 27.44 days\n",
      "The mean of stay when for 28 in the feature Hospital_code is approximately : 32.99 days\n",
      "The mean of stay when for 29 in the feature Hospital_code is approximately : 36.06 days\n",
      "The mean of stay when for 30 in the feature Hospital_code is approximately : 31.47 days\n",
      "The mean of stay when for 31 in the feature Hospital_code is approximately : 29.32 days\n",
      "The mean of stay when for 32 in the feature Hospital_code is approximately : 35.55 days\n",
      "-------\n",
      " Madian Statistic : \n",
      "The Median of stay when for 1 in the feature Hospital_code is approximately : 25.00 days\n",
      "The Median of stay when for 2 in the feature Hospital_code is approximately : 35.00 days\n",
      "The Median of stay when for 3 in the feature Hospital_code is approximately : 25.00 days\n",
      "The Median of stay when for 4 in the feature Hospital_code is approximately : 25.00 days\n",
      "The Median of stay when for 5 in the feature Hospital_code is approximately : 25.00 days\n",
      "The Median of stay when for 6 in the feature Hospital_code is approximately : 25.00 days\n",
      "The Median of stay when for 7 in the feature Hospital_code is approximately : 15.00 days\n",
      "The Median of stay when for 8 in the feature Hospital_code is approximately : 25.00 days\n",
      "The Median of stay when for 9 in the feature Hospital_code is approximately : 25.00 days\n",
      "The Median of stay when for 10 in the feature Hospital_code is approximately : 25.00 days\n",
      "The Median of stay when for 11 in the feature Hospital_code is approximately : 25.00 days\n",
      "The Median of stay when for 12 in the feature Hospital_code is approximately : 25.00 days\n",
      "The Median of stay when for 13 in the feature Hospital_code is approximately : 25.00 days\n",
      "The Median of stay when for 14 in the feature Hospital_code is approximately : 25.00 days\n",
      "The Median of stay when for 15 in the feature Hospital_code is approximately : 25.00 days\n",
      "The Median of stay when for 16 in the feature Hospital_code is approximately : 35.00 days\n",
      "The Median of stay when for 17 in the feature Hospital_code is approximately : 25.00 days\n",
      "The Median of stay when for 18 in the feature Hospital_code is approximately : 25.00 days\n",
      "The Median of stay when for 19 in the feature Hospital_code is approximately : 25.00 days\n",
      "The Median of stay when for 20 in the feature Hospital_code is approximately : 35.00 days\n",
      "The Median of stay when for 21 in the feature Hospital_code is approximately : 25.00 days\n",
      "The Median of stay when for 22 in the feature Hospital_code is approximately : 35.00 days\n",
      "The Median of stay when for 23 in the feature Hospital_code is approximately : 25.00 days\n",
      "The Median of stay when for 24 in the feature Hospital_code is approximately : 25.00 days\n",
      "The Median of stay when for 25 in the feature Hospital_code is approximately : 25.00 days\n",
      "The Median of stay when for 26 in the feature Hospital_code is approximately : 25.00 days\n",
      "The Median of stay when for 27 in the feature Hospital_code is approximately : 25.00 days\n",
      "The Median of stay when for 28 in the feature Hospital_code is approximately : 25.00 days\n",
      "The Median of stay when for 29 in the feature Hospital_code is approximately : 25.00 days\n",
      "The Median of stay when for 30 in the feature Hospital_code is approximately : 25.00 days\n",
      "The Median of stay when for 31 in the feature Hospital_code is approximately : 25.00 days\n",
      "The Median of stay when for 32 in the feature Hospital_code is approximately : 35.00 days\n",
      "---------------------------------------------------------------------------------------------------------\n",
      " Std Statistic : \n",
      "The Std of stay when for 1 in the feature Hospital_code is approximately : 27.92 days\n",
      "The Std of stay when for 2 in the feature Hospital_code is approximately : 30.49 days\n",
      "The Std of stay when for 3 in the feature Hospital_code is approximately : 25.15 days\n",
      "The Std of stay when for 4 in the feature Hospital_code is approximately : 20.84 days\n",
      "The Std of stay when for 5 in the feature Hospital_code is approximately : 24.26 days\n",
      "The Std of stay when for 6 in the feature Hospital_code is approximately : 25.65 days\n",
      "The Std of stay when for 7 in the feature Hospital_code is approximately : 21.24 days\n",
      "The Std of stay when for 8 in the feature Hospital_code is approximately : 23.74 days\n",
      "The Std of stay when for 9 in the feature Hospital_code is approximately : 26.52 days\n",
      "The Std of stay when for 10 in the feature Hospital_code is approximately : 25.11 days\n",
      "The Std of stay when for 11 in the feature Hospital_code is approximately : 24.94 days\n",
      "The Std of stay when for 12 in the feature Hospital_code is approximately : 25.28 days\n",
      "The Std of stay when for 13 in the feature Hospital_code is approximately : 24.04 days\n",
      "The Std of stay when for 14 in the feature Hospital_code is approximately : 23.83 days\n",
      "The Std of stay when for 15 in the feature Hospital_code is approximately : 24.36 days\n",
      "The Std of stay when for 16 in the feature Hospital_code is approximately : 29.20 days\n",
      "The Std of stay when for 17 in the feature Hospital_code is approximately : 23.82 days\n",
      "The Std of stay when for 18 in the feature Hospital_code is approximately : 25.74 days\n",
      "The Std of stay when for 19 in the feature Hospital_code is approximately : 26.78 days\n",
      "The Std of stay when for 20 in the feature Hospital_code is approximately : 30.19 days\n",
      "The Std of stay when for 21 in the feature Hospital_code is approximately : 29.19 days\n",
      "The Std of stay when for 22 in the feature Hospital_code is approximately : 27.93 days\n",
      "The Std of stay when for 23 in the feature Hospital_code is approximately : 25.74 days\n",
      "The Std of stay when for 24 in the feature Hospital_code is approximately : 22.47 days\n",
      "The Std of stay when for 25 in the feature Hospital_code is approximately : 28.75 days\n",
      "The Std of stay when for 26 in the feature Hospital_code is approximately : 28.27 days\n",
      "The Std of stay when for 27 in the feature Hospital_code is approximately : 24.33 days\n",
      "The Std of stay when for 28 in the feature Hospital_code is approximately : 27.03 days\n",
      "The Std of stay when for 29 in the feature Hospital_code is approximately : 27.78 days\n",
      "The Std of stay when for 30 in the feature Hospital_code is approximately : 23.72 days\n",
      "The Std of stay when for 31 in the feature Hospital_code is approximately : 24.99 days\n",
      "The Std of stay when for 32 in the feature Hospital_code is approximately : 28.95 days\n",
      "---------------------------------------------------------------------------------------------------------\n",
      " Mean Statistic : \n",
      "The mean of stay when for a in the feature Hospital_type_code is approximately : 30.30 days\n",
      "The mean of stay when for b in the feature Hospital_type_code is approximately : 33.63 days\n",
      "The mean of stay when for c in the feature Hospital_type_code is approximately : 32.70 days\n",
      "The mean of stay when for d in the feature Hospital_type_code is approximately : 33.75 days\n",
      "The mean of stay when for e in the feature Hospital_type_code is approximately : 31.74 days\n",
      "The mean of stay when for f in the feature Hospital_type_code is approximately : 35.55 days\n",
      "The mean of stay when for g in the feature Hospital_type_code is approximately : 38.36 days\n",
      "-------\n",
      " Madian Statistic : \n"
     ]
    },
    {
     "name": "stdout",
     "output_type": "stream",
     "text": [
      "The Median of stay when for a in the feature Hospital_type_code is approximately : 25.00 days\n",
      "The Median of stay when for b in the feature Hospital_type_code is approximately : 25.00 days\n",
      "The Median of stay when for c in the feature Hospital_type_code is approximately : 25.00 days\n",
      "The Median of stay when for d in the feature Hospital_type_code is approximately : 25.00 days\n",
      "The Median of stay when for e in the feature Hospital_type_code is approximately : 25.00 days\n",
      "The Median of stay when for f in the feature Hospital_type_code is approximately : 35.00 days\n",
      "The Median of stay when for g in the feature Hospital_type_code is approximately : 35.00 days\n",
      "---------------------------------------------------------------------------------------------------------\n",
      " Std Statistic : \n",
      "The Std of stay when for a in the feature Hospital_type_code is approximately : 25.48 days\n",
      "The Std of stay when for b in the feature Hospital_type_code is approximately : 27.34 days\n",
      "The Std of stay when for c in the feature Hospital_type_code is approximately : 26.88 days\n",
      "The Std of stay when for d in the feature Hospital_type_code is approximately : 26.78 days\n",
      "The Std of stay when for e in the feature Hospital_type_code is approximately : 26.67 days\n",
      "The Std of stay when for f in the feature Hospital_type_code is approximately : 28.95 days\n",
      "The Std of stay when for g in the feature Hospital_type_code is approximately : 27.93 days\n",
      "---------------------------------------------------------------------------------------------------------\n",
      " Mean Statistic : \n",
      "The mean of stay when for 1 in the feature City_Code_Hospital is approximately : 30.52 days\n",
      "The mean of stay when for 2 in the feature City_Code_Hospital is approximately : 33.84 days\n",
      "The mean of stay when for 3 in the feature City_Code_Hospital is approximately : 32.34 days\n",
      "The mean of stay when for 4 in the feature City_Code_Hospital is approximately : 33.71 days\n",
      "The mean of stay when for 5 in the feature City_Code_Hospital is approximately : 32.27 days\n",
      "The mean of stay when for 6 in the feature City_Code_Hospital is approximately : 31.95 days\n",
      "The mean of stay when for 7 in the feature City_Code_Hospital is approximately : 27.94 days\n",
      "The mean of stay when for 9 in the feature City_Code_Hospital is approximately : 33.64 days\n",
      "The mean of stay when for 10 in the feature City_Code_Hospital is approximately : 35.15 days\n",
      "The mean of stay when for 11 in the feature City_Code_Hospital is approximately : 32.99 days\n",
      "The mean of stay when for 13 in the feature City_Code_Hospital is approximately : 34.49 days\n",
      "-------\n",
      " Madian Statistic : \n",
      "The Median of stay when for 1 in the feature City_Code_Hospital is approximately : 25.00 days\n",
      "The Median of stay when for 2 in the feature City_Code_Hospital is approximately : 25.00 days\n",
      "The Median of stay when for 3 in the feature City_Code_Hospital is approximately : 25.00 days\n",
      "The Median of stay when for 4 in the feature City_Code_Hospital is approximately : 25.00 days\n",
      "The Median of stay when for 5 in the feature City_Code_Hospital is approximately : 25.00 days\n",
      "The Median of stay when for 6 in the feature City_Code_Hospital is approximately : 25.00 days\n",
      "The Median of stay when for 7 in the feature City_Code_Hospital is approximately : 25.00 days\n",
      "The Median of stay when for 9 in the feature City_Code_Hospital is approximately : 25.00 days\n",
      "The Median of stay when for 10 in the feature City_Code_Hospital is approximately : 25.00 days\n",
      "The Median of stay when for 11 in the feature City_Code_Hospital is approximately : 25.00 days\n",
      "The Median of stay when for 13 in the feature City_Code_Hospital is approximately : 25.00 days\n",
      "---------------------------------------------------------------------------------------------------------\n",
      " Std Statistic : \n",
      "The Std of stay when for 1 in the feature City_Code_Hospital is approximately : 25.08 days\n",
      "The Std of stay when for 2 in the feature City_Code_Hospital is approximately : 27.44 days\n",
      "The Std of stay when for 3 in the feature City_Code_Hospital is approximately : 26.69 days\n",
      "The Std of stay when for 4 in the feature City_Code_Hospital is approximately : 27.26 days\n",
      "The Std of stay when for 5 in the feature City_Code_Hospital is approximately : 26.59 days\n",
      "The Std of stay when for 6 in the feature City_Code_Hospital is approximately : 25.71 days\n",
      "The Std of stay when for 7 in the feature City_Code_Hospital is approximately : 25.83 days\n",
      "The Std of stay when for 9 in the feature City_Code_Hospital is approximately : 27.51 days\n",
      "The Std of stay when for 10 in the feature City_Code_Hospital is approximately : 27.92 days\n",
      "The Std of stay when for 11 in the feature City_Code_Hospital is approximately : 27.03 days\n",
      "The Std of stay when for 13 in the feature City_Code_Hospital is approximately : 25.74 days\n",
      "---------------------------------------------------------------------------------------------------------\n",
      " Mean Statistic : \n",
      "The mean of stay when for X in the feature Hospital_region_code is approximately : 31.67 days\n",
      "The mean of stay when for Y in the feature Hospital_region_code is approximately : 32.16 days\n",
      "The mean of stay when for Z in the feature Hospital_region_code is approximately : 32.30 days\n",
      "-------\n",
      " Madian Statistic : \n",
      "The Median of stay when for X in the feature Hospital_region_code is approximately : 25.00 days\n",
      "The Median of stay when for Y in the feature Hospital_region_code is approximately : 25.00 days\n",
      "The Median of stay when for Z in the feature Hospital_region_code is approximately : 25.00 days\n",
      "---------------------------------------------------------------------------------------------------------\n",
      " Std Statistic : \n",
      "The Std of stay when for X in the feature Hospital_region_code is approximately : 25.83 days\n",
      "The Std of stay when for Y in the feature Hospital_region_code is approximately : 27.14 days\n",
      "The Std of stay when for Z in the feature Hospital_region_code is approximately : 26.64 days\n",
      "---------------------------------------------------------------------------------------------------------\n",
      " Mean Statistic : \n",
      "The mean of stay when for 0 in the feature Available Extra Rooms in Hospital is approximately : 35.00 days\n",
      "The mean of stay when for 1 in the feature Available Extra Rooms in Hospital is approximately : 41.72 days\n",
      "The mean of stay when for 2 in the feature Available Extra Rooms in Hospital is approximately : 34.93 days\n",
      "The mean of stay when for 3 in the feature Available Extra Rooms in Hospital is approximately : 32.51 days\n",
      "The mean of stay when for 4 in the feature Available Extra Rooms in Hospital is approximately : 28.86 days\n",
      "The mean of stay when for 5 in the feature Available Extra Rooms in Hospital is approximately : 29.16 days\n",
      "The mean of stay when for 6 in the feature Available Extra Rooms in Hospital is approximately : 28.15 days\n",
      "The mean of stay when for 7 in the feature Available Extra Rooms in Hospital is approximately : 26.22 days\n",
      "The mean of stay when for 8 in the feature Available Extra Rooms in Hospital is approximately : 27.78 days\n",
      "The mean of stay when for 9 in the feature Available Extra Rooms in Hospital is approximately : 28.76 days\n",
      "The mean of stay when for 10 in the feature Available Extra Rooms in Hospital is approximately : 34.25 days\n",
      "The mean of stay when for 11 in the feature Available Extra Rooms in Hospital is approximately : 40.88 days\n",
      "The mean of stay when for 12 in the feature Available Extra Rooms in Hospital is approximately : 38.85 days\n",
      "The mean of stay when for 13 in the feature Available Extra Rooms in Hospital is approximately : 65.00 days\n",
      "The mean of stay when for 14 in the feature Available Extra Rooms in Hospital is approximately : 25.00 days\n",
      "The mean of stay when for 20 in the feature Available Extra Rooms in Hospital is approximately : 80.00 days\n",
      "The mean of stay when for 21 in the feature Available Extra Rooms in Hospital is approximately : 65.00 days\n",
      "The mean of stay when for 24 in the feature Available Extra Rooms in Hospital is approximately : 5.00 days\n",
      "-------\n",
      " Madian Statistic : \n",
      "The Median of stay when for 0 in the feature Available Extra Rooms in Hospital is approximately : 25.00 days\n",
      "The Median of stay when for 1 in the feature Available Extra Rooms in Hospital is approximately : 35.00 days\n",
      "The Median of stay when for 2 in the feature Available Extra Rooms in Hospital is approximately : 25.00 days\n",
      "The Median of stay when for 3 in the feature Available Extra Rooms in Hospital is approximately : 25.00 days\n",
      "The Median of stay when for 4 in the feature Available Extra Rooms in Hospital is approximately : 25.00 days\n",
      "The Median of stay when for 5 in the feature Available Extra Rooms in Hospital is approximately : 25.00 days\n",
      "The Median of stay when for 6 in the feature Available Extra Rooms in Hospital is approximately : 25.00 days\n",
      "The Median of stay when for 7 in the feature Available Extra Rooms in Hospital is approximately : 25.00 days\n",
      "The Median of stay when for 8 in the feature Available Extra Rooms in Hospital is approximately : 25.00 days\n",
      "The Median of stay when for 9 in the feature Available Extra Rooms in Hospital is approximately : 25.00 days\n",
      "The Median of stay when for 10 in the feature Available Extra Rooms in Hospital is approximately : 25.00 days\n",
      "The Median of stay when for 11 in the feature Available Extra Rooms in Hospital is approximately : 25.00 days\n",
      "The Median of stay when for 12 in the feature Available Extra Rooms in Hospital is approximately : 35.00 days\n",
      "The Median of stay when for 13 in the feature Available Extra Rooms in Hospital is approximately : 65.00 days\n",
      "The Median of stay when for 14 in the feature Available Extra Rooms in Hospital is approximately : 25.00 days\n",
      "The Median of stay when for 20 in the feature Available Extra Rooms in Hospital is approximately : 80.00 days\n",
      "The Median of stay when for 21 in the feature Available Extra Rooms in Hospital is approximately : 45.00 days\n",
      "The Median of stay when for 24 in the feature Available Extra Rooms in Hospital is approximately : 5.00 days\n",
      "---------------------------------------------------------------------------------------------------------\n",
      " Std Statistic : \n",
      "The Std of stay when for 0 in the feature Available Extra Rooms in Hospital is approximately : 25.98 days\n",
      "The Std of stay when for 1 in the feature Available Extra Rooms in Hospital is approximately : 32.46 days\n",
      "The Std of stay when for 2 in the feature Available Extra Rooms in Hospital is approximately : 28.68 days\n",
      "The Std of stay when for 3 in the feature Available Extra Rooms in Hospital is approximately : 26.52 days\n",
      "The Std of stay when for 4 in the feature Available Extra Rooms in Hospital is approximately : 23.64 days\n",
      "The Std of stay when for 5 in the feature Available Extra Rooms in Hospital is approximately : 24.18 days\n",
      "The Std of stay when for 6 in the feature Available Extra Rooms in Hospital is approximately : 23.18 days\n",
      "The Std of stay when for 7 in the feature Available Extra Rooms in Hospital is approximately : 21.76 days\n",
      "The Std of stay when for 8 in the feature Available Extra Rooms in Hospital is approximately : 22.14 days\n",
      "The Std of stay when for 9 in the feature Available Extra Rooms in Hospital is approximately : 23.83 days\n",
      "The Std of stay when for 10 in the feature Available Extra Rooms in Hospital is approximately : 28.77 days\n",
      "The Std of stay when for 11 in the feature Available Extra Rooms in Hospital is approximately : 35.11 days\n",
      "The Std of stay when for 12 in the feature Available Extra Rooms in Hospital is approximately : 27.03 days\n",
      "The Std of stay when for 13 in the feature Available Extra Rooms in Hospital is approximately : 45.00 days\n",
      "The Std of stay when for 14 in the feature Available Extra Rooms in Hospital is approximately : 5.00 days\n",
      "The Std of stay when for 20 in the feature Available Extra Rooms in Hospital is approximately : 30.00 days\n",
      "The Std of stay when for 21 in the feature Available Extra Rooms in Hospital is approximately : 33.28 days\n",
      "The Std of stay when for 24 in the feature Available Extra Rooms in Hospital is approximately : 5.00 days\n",
      "---------------------------------------------------------------------------------------------------------\n",
      " Mean Statistic : \n",
      "The mean of stay when for TB & Chest disease in the feature Department is approximately : 30.83 days\n",
      "The mean of stay when for anesthesia in the feature Department is approximately : 30.00 days\n",
      "The mean of stay when for gynecology in the feature Department is approximately : 32.10 days\n",
      "The mean of stay when for radiotherapy in the feature Department is approximately : 33.17 days\n",
      "The mean of stay when for surgery in the feature Department is approximately : 37.41 days\n",
      "-------\n",
      " Madian Statistic : \n",
      "The Median of stay when for TB & Chest disease in the feature Department is approximately : 25.00 days\n",
      "The Median of stay when for anesthesia in the feature Department is approximately : 25.00 days\n",
      "The Median of stay when for gynecology in the feature Department is approximately : 25.00 days\n",
      "The Median of stay when for radiotherapy in the feature Department is approximately : 25.00 days\n",
      "The Median of stay when for surgery in the feature Department is approximately : 25.00 days\n",
      "---------------------------------------------------------------------------------------------------------\n",
      " Std Statistic : \n"
     ]
    },
    {
     "name": "stdout",
     "output_type": "stream",
     "text": [
      "The Std of stay when for TB & Chest disease in the feature Department is approximately : 25.26 days\n",
      "The Std of stay when for anesthesia in the feature Department is approximately : 25.04 days\n",
      "The Std of stay when for gynecology in the feature Department is approximately : 26.44 days\n",
      "The Std of stay when for radiotherapy in the feature Department is approximately : 28.50 days\n",
      "The Std of stay when for surgery in the feature Department is approximately : 29.87 days\n",
      "---------------------------------------------------------------------------------------------------------\n",
      " Mean Statistic : \n",
      "The mean of stay when for P in the feature Ward_Type is approximately : 25.90 days\n",
      "The mean of stay when for Q in the feature Ward_Type is approximately : 27.93 days\n",
      "The mean of stay when for R in the feature Ward_Type is approximately : 31.49 days\n",
      "The mean of stay when for S in the feature Ward_Type is approximately : 38.68 days\n",
      "The mean of stay when for T in the feature Ward_Type is approximately : 34.86 days\n",
      "The mean of stay when for U in the feature Ward_Type is approximately : 21.67 days\n",
      "-------\n",
      " Madian Statistic : \n",
      "The Median of stay when for P in the feature Ward_Type is approximately : 25.00 days\n",
      "The Median of stay when for Q in the feature Ward_Type is approximately : 25.00 days\n",
      "The Median of stay when for R in the feature Ward_Type is approximately : 25.00 days\n",
      "The Median of stay when for S in the feature Ward_Type is approximately : 35.00 days\n",
      "The Median of stay when for T in the feature Ward_Type is approximately : 25.00 days\n",
      "The Median of stay when for U in the feature Ward_Type is approximately : 25.00 days\n",
      "---------------------------------------------------------------------------------------------------------\n",
      " Std Statistic : \n",
      "The Std of stay when for P in the feature Ward_Type is approximately : 20.22 days\n",
      "The Std of stay when for Q in the feature Ward_Type is approximately : 22.74 days\n",
      "The Std of stay when for R in the feature Ward_Type is approximately : 26.00 days\n",
      "The Std of stay when for S in the feature Ward_Type is approximately : 30.35 days\n",
      "The Std of stay when for T in the feature Ward_Type is approximately : 27.48 days\n",
      "The Std of stay when for U in the feature Ward_Type is approximately : 14.43 days\n",
      "---------------------------------------------------------------------------------------------------------\n",
      " Mean Statistic : \n",
      "The mean of stay when for A in the feature Ward_Facility_Code is approximately : 32.67 days\n",
      "The mean of stay when for B in the feature Ward_Facility_Code is approximately : 33.95 days\n",
      "The mean of stay when for C in the feature Ward_Facility_Code is approximately : 27.94 days\n",
      "The mean of stay when for D in the feature Ward_Facility_Code is approximately : 33.84 days\n",
      "The mean of stay when for E in the feature Ward_Facility_Code is approximately : 30.52 days\n",
      "The mean of stay when for F in the feature Ward_Facility_Code is approximately : 32.34 days\n",
      "-------\n",
      " Madian Statistic : \n",
      "The Median of stay when for A in the feature Ward_Facility_Code is approximately : 25.00 days\n",
      "The Median of stay when for B in the feature Ward_Facility_Code is approximately : 25.00 days\n",
      "The Median of stay when for C in the feature Ward_Facility_Code is approximately : 25.00 days\n",
      "The Median of stay when for D in the feature Ward_Facility_Code is approximately : 25.00 days\n",
      "The Median of stay when for E in the feature Ward_Facility_Code is approximately : 25.00 days\n",
      "The Median of stay when for F in the feature Ward_Facility_Code is approximately : 25.00 days\n",
      "---------------------------------------------------------------------------------------------------------\n",
      " Std Statistic : \n",
      "The Std of stay when for A in the feature Ward_Facility_Code is approximately : 27.02 days\n",
      "The Std of stay when for B in the feature Ward_Facility_Code is approximately : 27.40 days\n",
      "The Std of stay when for C in the feature Ward_Facility_Code is approximately : 25.83 days\n",
      "The Std of stay when for D in the feature Ward_Facility_Code is approximately : 27.44 days\n",
      "The Std of stay when for E in the feature Ward_Facility_Code is approximately : 25.08 days\n",
      "The Std of stay when for F in the feature Ward_Facility_Code is approximately : 26.31 days\n",
      "---------------------------------------------------------------------------------------------------------\n",
      " Mean Statistic : \n",
      "The mean of stay when for 1.0 in the feature Bed Grade is approximately : 32.61 days\n",
      "The mean of stay when for 2.0 in the feature Bed Grade is approximately : 31.06 days\n",
      "The mean of stay when for 3.0 in the feature Bed Grade is approximately : 32.22 days\n",
      "The mean of stay when for 4.0 in the feature Bed Grade is approximately : 33.24 days\n",
      "The mean of stay when for nan in the feature Bed Grade is approximately : nan days\n",
      "-------\n",
      " Madian Statistic : \n",
      "The Median of stay when for 1.0 in the feature Bed Grade is approximately : 25.00 days\n",
      "The Median of stay when for 2.0 in the feature Bed Grade is approximately : 25.00 days\n",
      "The Median of stay when for 3.0 in the feature Bed Grade is approximately : 25.00 days\n",
      "The Median of stay when for 4.0 in the feature Bed Grade is approximately : 25.00 days\n"
     ]
    },
    {
     "name": "stderr",
     "output_type": "stream",
     "text": [
      "<ipython-input-64-97f0e97244db>:8: RuntimeWarning: Mean of empty slice.\n",
      "  print('The mean of stay when for {} in the feature {} is approximately : {:.2f} days'.format(c, column, 10*target_enc[health_care[column]==c].mean() + 5))\n",
      "/opt/anaconda3/lib/python3.8/site-packages/numpy/core/_methods.py:188: RuntimeWarning: invalid value encountered in double_scalars\n",
      "  ret = ret.dtype.type(ret / rcount)\n",
      "/opt/anaconda3/lib/python3.8/site-packages/numpy/core/fromnumeric.py:3419: RuntimeWarning: Mean of empty slice.\n",
      "  return _methods._mean(a, axis=axis, dtype=dtype,\n",
      "/opt/anaconda3/lib/python3.8/site-packages/numpy/core/_methods.py:188: RuntimeWarning: invalid value encountered in double_scalars\n",
      "  ret = ret.dtype.type(ret / rcount)\n",
      "/opt/anaconda3/lib/python3.8/site-packages/numpy/core/_methods.py:261: RuntimeWarning: Degrees of freedom <= 0 for slice\n",
      "  ret = _var(a, axis=axis, dtype=dtype, out=out, ddof=ddof,\n",
      "/opt/anaconda3/lib/python3.8/site-packages/numpy/core/_methods.py:221: RuntimeWarning: invalid value encountered in true_divide\n",
      "  arrmean = um.true_divide(arrmean, div, out=arrmean, casting='unsafe',\n",
      "/opt/anaconda3/lib/python3.8/site-packages/numpy/core/_methods.py:253: RuntimeWarning: invalid value encountered in double_scalars\n",
      "  ret = ret.dtype.type(ret / rcount)\n"
     ]
    },
    {
     "name": "stdout",
     "output_type": "stream",
     "text": [
      "The Median of stay when for nan in the feature Bed Grade is approximately : nan days\n",
      "---------------------------------------------------------------------------------------------------------\n",
      " Std Statistic : \n",
      "The Std of stay when for 1.0 in the feature Bed Grade is approximately : 26.87 days\n",
      "The Std of stay when for 2.0 in the feature Bed Grade is approximately : 24.47 days\n",
      "The Std of stay when for 3.0 in the feature Bed Grade is approximately : 27.42 days\n",
      "The Std of stay when for 4.0 in the feature Bed Grade is approximately : 28.50 days\n",
      "The Std of stay when for nan in the feature Bed Grade is approximately : nan days\n",
      "---------------------------------------------------------------------------------------------------------\n",
      " Mean Statistic : \n",
      "The mean of stay when for 1.0 in the feature City_Code_Patient is approximately : 31.29 days\n",
      "The mean of stay when for 2.0 in the feature City_Code_Patient is approximately : 30.53 days\n",
      "The mean of stay when for 3.0 in the feature City_Code_Patient is approximately : 38.17 days\n",
      "The mean of stay when for 4.0 in the feature City_Code_Patient is approximately : 30.65 days\n",
      "The mean of stay when for 5.0 in the feature City_Code_Patient is approximately : 33.46 days\n",
      "The mean of stay when for 6.0 in the feature City_Code_Patient is approximately : 29.32 days\n",
      "The mean of stay when for 7.0 in the feature City_Code_Patient is approximately : 32.54 days\n",
      "The mean of stay when for 8.0 in the feature City_Code_Patient is approximately : 32.96 days\n",
      "The mean of stay when for 9.0 in the feature City_Code_Patient is approximately : 31.51 days\n",
      "The mean of stay when for 10.0 in the feature City_Code_Patient is approximately : 28.05 days\n",
      "The mean of stay when for 11.0 in the feature City_Code_Patient is approximately : 26.79 days\n",
      "The mean of stay when for 12.0 in the feature City_Code_Patient is approximately : 29.85 days\n",
      "The mean of stay when for 13.0 in the feature City_Code_Patient is approximately : 28.41 days\n",
      "The mean of stay when for 14.0 in the feature City_Code_Patient is approximately : 34.53 days\n",
      "The mean of stay when for 15.0 in the feature City_Code_Patient is approximately : 34.23 days\n",
      "The mean of stay when for 16.0 in the feature City_Code_Patient is approximately : 29.38 days\n",
      "The mean of stay when for 18.0 in the feature City_Code_Patient is approximately : 28.58 days\n",
      "The mean of stay when for 19.0 in the feature City_Code_Patient is approximately : 27.94 days\n",
      "The mean of stay when for 20.0 in the feature City_Code_Patient is approximately : 29.73 days\n",
      "The mean of stay when for 21.0 in the feature City_Code_Patient is approximately : 23.90 days\n",
      "The mean of stay when for 22.0 in the feature City_Code_Patient is approximately : 34.65 days\n",
      "The mean of stay when for 23.0 in the feature City_Code_Patient is approximately : 28.69 days\n",
      "The mean of stay when for 24.0 in the feature City_Code_Patient is approximately : 29.86 days\n",
      "The mean of stay when for 25.0 in the feature City_Code_Patient is approximately : 30.55 days\n",
      "The mean of stay when for 26.0 in the feature City_Code_Patient is approximately : 30.91 days\n",
      "The mean of stay when for 27.0 in the feature City_Code_Patient is approximately : 27.26 days\n",
      "The mean of stay when for 28.0 in the feature City_Code_Patient is approximately : 29.55 days\n",
      "The mean of stay when for 29.0 in the feature City_Code_Patient is approximately : 28.57 days\n",
      "The mean of stay when for 30.0 in the feature City_Code_Patient is approximately : 31.99 days\n",
      "The mean of stay when for 31.0 in the feature City_Code_Patient is approximately : 30.42 days\n",
      "The mean of stay when for 32.0 in the feature City_Code_Patient is approximately : 28.27 days\n",
      "The mean of stay when for 33.0 in the feature City_Code_Patient is approximately : 26.79 days\n",
      "The mean of stay when for 34.0 in the feature City_Code_Patient is approximately : 29.78 days\n",
      "The mean of stay when for 35.0 in the feature City_Code_Patient is approximately : 26.88 days\n",
      "The mean of stay when for 36.0 in the feature City_Code_Patient is approximately : 28.33 days\n",
      "The mean of stay when for 37.0 in the feature City_Code_Patient is approximately : 29.91 days\n",
      "The mean of stay when for 38.0 in the feature City_Code_Patient is approximately : 18.33 days\n",
      "The mean of stay when for nan in the feature City_Code_Patient is approximately : nan days\n",
      "-------\n",
      " Madian Statistic : \n",
      "The Median of stay when for 1.0 in the feature City_Code_Patient is approximately : 25.00 days\n",
      "The Median of stay when for 2.0 in the feature City_Code_Patient is approximately : 25.00 days\n",
      "The Median of stay when for 3.0 in the feature City_Code_Patient is approximately : 35.00 days\n",
      "The Median of stay when for 4.0 in the feature City_Code_Patient is approximately : 25.00 days\n",
      "The Median of stay when for 5.0 in the feature City_Code_Patient is approximately : 25.00 days\n",
      "The Median of stay when for 6.0 in the feature City_Code_Patient is approximately : 25.00 days\n",
      "The Median of stay when for 7.0 in the feature City_Code_Patient is approximately : 25.00 days\n",
      "The Median of stay when for 8.0 in the feature City_Code_Patient is approximately : 25.00 days\n",
      "The Median of stay when for 9.0 in the feature City_Code_Patient is approximately : 25.00 days\n",
      "The Median of stay when for 10.0 in the feature City_Code_Patient is approximately : 25.00 days\n",
      "The Median of stay when for 11.0 in the feature City_Code_Patient is approximately : 25.00 days\n",
      "The Median of stay when for 12.0 in the feature City_Code_Patient is approximately : 25.00 days\n",
      "The Median of stay when for 13.0 in the feature City_Code_Patient is approximately : 25.00 days\n",
      "The Median of stay when for 14.0 in the feature City_Code_Patient is approximately : 25.00 days\n",
      "The Median of stay when for 15.0 in the feature City_Code_Patient is approximately : 25.00 days\n",
      "The Median of stay when for 16.0 in the feature City_Code_Patient is approximately : 25.00 days\n",
      "The Median of stay when for 18.0 in the feature City_Code_Patient is approximately : 25.00 days\n",
      "The Median of stay when for 19.0 in the feature City_Code_Patient is approximately : 25.00 days\n",
      "The Median of stay when for 20.0 in the feature City_Code_Patient is approximately : 25.00 days\n",
      "The Median of stay when for 21.0 in the feature City_Code_Patient is approximately : 15.00 days\n",
      "The Median of stay when for 22.0 in the feature City_Code_Patient is approximately : 25.00 days\n",
      "The Median of stay when for 23.0 in the feature City_Code_Patient is approximately : 25.00 days\n",
      "The Median of stay when for 24.0 in the feature City_Code_Patient is approximately : 25.00 days\n",
      "The Median of stay when for 25.0 in the feature City_Code_Patient is approximately : 25.00 days\n",
      "The Median of stay when for 26.0 in the feature City_Code_Patient is approximately : 25.00 days\n",
      "The Median of stay when for 27.0 in the feature City_Code_Patient is approximately : 25.00 days\n",
      "The Median of stay when for 28.0 in the feature City_Code_Patient is approximately : 25.00 days\n",
      "The Median of stay when for 29.0 in the feature City_Code_Patient is approximately : 25.00 days\n",
      "The Median of stay when for 30.0 in the feature City_Code_Patient is approximately : 25.00 days\n",
      "The Median of stay when for 31.0 in the feature City_Code_Patient is approximately : 25.00 days\n",
      "The Median of stay when for 32.0 in the feature City_Code_Patient is approximately : 25.00 days\n",
      "The Median of stay when for 33.0 in the feature City_Code_Patient is approximately : 25.00 days\n",
      "The Median of stay when for 34.0 in the feature City_Code_Patient is approximately : 25.00 days\n",
      "The Median of stay when for 35.0 in the feature City_Code_Patient is approximately : 25.00 days\n",
      "The Median of stay when for 36.0 in the feature City_Code_Patient is approximately : 25.00 days\n",
      "The Median of stay when for 37.0 in the feature City_Code_Patient is approximately : 25.00 days\n",
      "The Median of stay when for 38.0 in the feature City_Code_Patient is approximately : 15.00 days\n",
      "The Median of stay when for nan in the feature City_Code_Patient is approximately : nan days\n",
      "---------------------------------------------------------------------------------------------------------\n",
      " Std Statistic : \n",
      "The Std of stay when for 1.0 in the feature City_Code_Patient is approximately : 25.62 days\n",
      "The Std of stay when for 2.0 in the feature City_Code_Patient is approximately : 24.74 days\n",
      "The Std of stay when for 3.0 in the feature City_Code_Patient is approximately : 30.65 days\n",
      "The Std of stay when for 4.0 in the feature City_Code_Patient is approximately : 25.79 days\n",
      "The Std of stay when for 5.0 in the feature City_Code_Patient is approximately : 27.51 days\n",
      "The Std of stay when for 6.0 in the feature City_Code_Patient is approximately : 25.49 days\n",
      "The Std of stay when for 7.0 in the feature City_Code_Patient is approximately : 26.79 days\n",
      "The Std of stay when for 8.0 in the feature City_Code_Patient is approximately : 27.07 days\n",
      "The Std of stay when for 9.0 in the feature City_Code_Patient is approximately : 26.22 days\n",
      "The Std of stay when for 10.0 in the feature City_Code_Patient is approximately : 24.82 days\n",
      "The Std of stay when for 11.0 in the feature City_Code_Patient is approximately : 23.62 days\n",
      "The Std of stay when for 12.0 in the feature City_Code_Patient is approximately : 25.59 days\n",
      "The Std of stay when for 13.0 in the feature City_Code_Patient is approximately : 24.38 days\n",
      "The Std of stay when for 14.0 in the feature City_Code_Patient is approximately : 27.27 days\n",
      "The Std of stay when for 15.0 in the feature City_Code_Patient is approximately : 27.78 days\n",
      "The Std of stay when for 16.0 in the feature City_Code_Patient is approximately : 24.37 days\n",
      "The Std of stay when for 18.0 in the feature City_Code_Patient is approximately : 24.56 days\n",
      "The Std of stay when for 19.0 in the feature City_Code_Patient is approximately : 23.21 days\n",
      "The Std of stay when for 20.0 in the feature City_Code_Patient is approximately : 26.93 days\n",
      "The Std of stay when for 21.0 in the feature City_Code_Patient is approximately : 21.27 days\n",
      "The Std of stay when for 22.0 in the feature City_Code_Patient is approximately : 30.00 days\n",
      "The Std of stay when for 23.0 in the feature City_Code_Patient is approximately : 24.63 days\n",
      "The Std of stay when for 24.0 in the feature City_Code_Patient is approximately : 24.41 days\n",
      "The Std of stay when for 25.0 in the feature City_Code_Patient is approximately : 24.71 days\n",
      "The Std of stay when for 26.0 in the feature City_Code_Patient is approximately : 25.33 days\n",
      "The Std of stay when for 27.0 in the feature City_Code_Patient is approximately : 24.76 days\n",
      "The Std of stay when for 28.0 in the feature City_Code_Patient is approximately : 25.52 days\n",
      "The Std of stay when for 29.0 in the feature City_Code_Patient is approximately : 25.52 days\n",
      "The Std of stay when for 30.0 in the feature City_Code_Patient is approximately : 27.21 days\n",
      "The Std of stay when for 31.0 in the feature City_Code_Patient is approximately : 25.03 days\n",
      "The Std of stay when for 32.0 in the feature City_Code_Patient is approximately : 25.35 days\n",
      "The Std of stay when for 33.0 in the feature City_Code_Patient is approximately : 20.08 days\n",
      "The Std of stay when for 34.0 in the feature City_Code_Patient is approximately : 21.65 days\n",
      "The Std of stay when for 35.0 in the feature City_Code_Patient is approximately : 23.78 days\n",
      "The Std of stay when for 36.0 in the feature City_Code_Patient is approximately : 22.95 days\n",
      "The Std of stay when for 37.0 in the feature City_Code_Patient is approximately : 25.01 days\n",
      "The Std of stay when for 38.0 in the feature City_Code_Patient is approximately : 17.47 days\n",
      "The Std of stay when for nan in the feature City_Code_Patient is approximately : nan days\n",
      "---------------------------------------------------------------------------------------------------------\n",
      " Mean Statistic : \n",
      "The mean of stay when for Emergency in the feature Type of Admission is approximately : 30.17 days\n",
      "The mean of stay when for Trauma in the feature Type of Admission is approximately : 34.05 days\n",
      "The mean of stay when for Urgent in the feature Type of Admission is approximately : 29.89 days\n",
      "-------\n",
      " Madian Statistic : \n",
      "The Median of stay when for Emergency in the feature Type of Admission is approximately : 25.00 days\n",
      "The Median of stay when for Trauma in the feature Type of Admission is approximately : 25.00 days\n"
     ]
    },
    {
     "name": "stderr",
     "output_type": "stream",
     "text": [
      "<ipython-input-64-97f0e97244db>:8: RuntimeWarning: Mean of empty slice.\n",
      "  print('The mean of stay when for {} in the feature {} is approximately : {:.2f} days'.format(c, column, 10*target_enc[health_care[column]==c].mean() + 5))\n",
      "/opt/anaconda3/lib/python3.8/site-packages/numpy/core/_methods.py:188: RuntimeWarning: invalid value encountered in double_scalars\n",
      "  ret = ret.dtype.type(ret / rcount)\n",
      "/opt/anaconda3/lib/python3.8/site-packages/numpy/core/fromnumeric.py:3419: RuntimeWarning: Mean of empty slice.\n",
      "  return _methods._mean(a, axis=axis, dtype=dtype,\n",
      "/opt/anaconda3/lib/python3.8/site-packages/numpy/core/_methods.py:188: RuntimeWarning: invalid value encountered in double_scalars\n",
      "  ret = ret.dtype.type(ret / rcount)\n",
      "/opt/anaconda3/lib/python3.8/site-packages/numpy/core/_methods.py:261: RuntimeWarning: Degrees of freedom <= 0 for slice\n",
      "  ret = _var(a, axis=axis, dtype=dtype, out=out, ddof=ddof,\n",
      "/opt/anaconda3/lib/python3.8/site-packages/numpy/core/_methods.py:221: RuntimeWarning: invalid value encountered in true_divide\n",
      "  arrmean = um.true_divide(arrmean, div, out=arrmean, casting='unsafe',\n",
      "/opt/anaconda3/lib/python3.8/site-packages/numpy/core/_methods.py:253: RuntimeWarning: invalid value encountered in double_scalars\n",
      "  ret = ret.dtype.type(ret / rcount)\n"
     ]
    },
    {
     "name": "stdout",
     "output_type": "stream",
     "text": [
      "The Median of stay when for Urgent in the feature Type of Admission is approximately : 25.00 days\n",
      "---------------------------------------------------------------------------------------------------------\n",
      " Std Statistic : \n",
      "The Std of stay when for Emergency in the feature Type of Admission is approximately : 27.01 days\n",
      "The Std of stay when for Trauma in the feature Type of Admission is approximately : 26.40 days\n",
      "The Std of stay when for Urgent in the feature Type of Admission is approximately : 24.91 days\n",
      "---------------------------------------------------------------------------------------------------------\n",
      " Mean Statistic : \n",
      "The mean of stay when for Extreme in the feature Severity of Illness is approximately : 36.31 days\n",
      "The mean of stay when for Minor in the feature Severity of Illness is approximately : 28.18 days\n",
      "The mean of stay when for Moderate in the feature Severity of Illness is approximately : 32.45 days\n",
      "-------\n",
      " Madian Statistic : \n",
      "The Median of stay when for Extreme in the feature Severity of Illness is approximately : 25.00 days\n",
      "The Median of stay when for Minor in the feature Severity of Illness is approximately : 25.00 days\n",
      "The Median of stay when for Moderate in the feature Severity of Illness is approximately : 25.00 days\n",
      "---------------------------------------------------------------------------------------------------------\n",
      " Std Statistic : \n",
      "The Std of stay when for Extreme in the feature Severity of Illness is approximately : 28.75 days\n",
      "The Std of stay when for Minor in the feature Severity of Illness is approximately : 24.14 days\n",
      "The Std of stay when for Moderate in the feature Severity of Illness is approximately : 26.52 days\n",
      "---------------------------------------------------------------------------------------------------------\n",
      " Mean Statistic : \n",
      "The mean of stay when for 0 in the feature Visitors with Patient is approximately : 24.55 days\n",
      "The mean of stay when for 1 in the feature Visitors with Patient is approximately : 20.52 days\n",
      "The mean of stay when for 2 in the feature Visitors with Patient is approximately : 24.31 days\n",
      "The mean of stay when for 3 in the feature Visitors with Patient is approximately : 26.44 days\n",
      "The mean of stay when for 4 in the feature Visitors with Patient is approximately : 35.96 days\n",
      "The mean of stay when for 5 in the feature Visitors with Patient is approximately : 49.39 days\n",
      "The mean of stay when for 6 in the feature Visitors with Patient is approximately : 55.02 days\n",
      "The mean of stay when for 7 in the feature Visitors with Patient is approximately : 61.79 days\n",
      "The mean of stay when for 8 in the feature Visitors with Patient is approximately : 65.24 days\n",
      "The mean of stay when for 9 in the feature Visitors with Patient is approximately : 73.64 days\n",
      "The mean of stay when for 10 in the feature Visitors with Patient is approximately : 84.62 days\n",
      "The mean of stay when for 11 in the feature Visitors with Patient is approximately : 81.97 days\n",
      "The mean of stay when for 12 in the feature Visitors with Patient is approximately : 85.77 days\n",
      "The mean of stay when for 13 in the feature Visitors with Patient is approximately : 91.79 days\n",
      "The mean of stay when for 14 in the feature Visitors with Patient is approximately : 95.87 days\n",
      "The mean of stay when for 15 in the feature Visitors with Patient is approximately : 92.53 days\n",
      "The mean of stay when for 16 in the feature Visitors with Patient is approximately : 93.99 days\n",
      "The mean of stay when for 17 in the feature Visitors with Patient is approximately : 104.00 days\n",
      "The mean of stay when for 18 in the feature Visitors with Patient is approximately : 101.89 days\n",
      "The mean of stay when for 19 in the feature Visitors with Patient is approximately : 105.00 days\n",
      "The mean of stay when for 20 in the feature Visitors with Patient is approximately : 101.77 days\n",
      "The mean of stay when for 21 in the feature Visitors with Patient is approximately : 105.00 days\n",
      "The mean of stay when for 22 in the feature Visitors with Patient is approximately : 97.11 days\n",
      "The mean of stay when for 23 in the feature Visitors with Patient is approximately : 105.00 days\n",
      "The mean of stay when for 24 in the feature Visitors with Patient is approximately : 105.00 days\n",
      "The mean of stay when for 25 in the feature Visitors with Patient is approximately : 105.00 days\n",
      "The mean of stay when for 30 in the feature Visitors with Patient is approximately : 105.00 days\n",
      "The mean of stay when for 32 in the feature Visitors with Patient is approximately : 105.00 days\n",
      "-------\n",
      " Madian Statistic : \n",
      "The Median of stay when for 0 in the feature Visitors with Patient is approximately : 25.00 days\n",
      "The Median of stay when for 1 in the feature Visitors with Patient is approximately : 15.00 days\n",
      "The Median of stay when for 2 in the feature Visitors with Patient is approximately : 25.00 days\n",
      "The Median of stay when for 3 in the feature Visitors with Patient is approximately : 25.00 days\n",
      "The Median of stay when for 4 in the feature Visitors with Patient is approximately : 35.00 days\n",
      "The Median of stay when for 5 in the feature Visitors with Patient is approximately : 55.00 days\n",
      "The Median of stay when for 6 in the feature Visitors with Patient is approximately : 55.00 days\n",
      "The Median of stay when for 7 in the feature Visitors with Patient is approximately : 55.00 days\n",
      "The Median of stay when for 8 in the feature Visitors with Patient is approximately : 55.00 days\n",
      "The Median of stay when for 9 in the feature Visitors with Patient is approximately : 85.00 days\n",
      "The Median of stay when for 10 in the feature Visitors with Patient is approximately : 95.00 days\n",
      "The Median of stay when for 11 in the feature Visitors with Patient is approximately : 85.00 days\n",
      "The Median of stay when for 12 in the feature Visitors with Patient is approximately : 95.00 days\n",
      "The Median of stay when for 13 in the feature Visitors with Patient is approximately : 105.00 days\n",
      "The Median of stay when for 14 in the feature Visitors with Patient is approximately : 105.00 days\n",
      "The Median of stay when for 15 in the feature Visitors with Patient is approximately : 105.00 days\n",
      "The Median of stay when for 16 in the feature Visitors with Patient is approximately : 105.00 days\n",
      "The Median of stay when for 17 in the feature Visitors with Patient is approximately : 105.00 days\n",
      "The Median of stay when for 18 in the feature Visitors with Patient is approximately : 105.00 days\n",
      "The Median of stay when for 19 in the feature Visitors with Patient is approximately : 105.00 days\n",
      "The Median of stay when for 20 in the feature Visitors with Patient is approximately : 105.00 days\n",
      "The Median of stay when for 21 in the feature Visitors with Patient is approximately : 105.00 days\n",
      "The Median of stay when for 22 in the feature Visitors with Patient is approximately : 105.00 days\n",
      "The Median of stay when for 23 in the feature Visitors with Patient is approximately : 105.00 days\n",
      "The Median of stay when for 24 in the feature Visitors with Patient is approximately : 105.00 days\n",
      "The Median of stay when for 25 in the feature Visitors with Patient is approximately : 105.00 days\n",
      "The Median of stay when for 30 in the feature Visitors with Patient is approximately : 105.00 days\n",
      "The Median of stay when for 32 in the feature Visitors with Patient is approximately : 105.00 days\n",
      "---------------------------------------------------------------------------------------------------------\n",
      " Std Statistic : \n",
      "The Std of stay when for 0 in the feature Visitors with Patient is approximately : 13.78 days\n",
      "The Std of stay when for 1 in the feature Visitors with Patient is approximately : 19.08 days\n",
      "The Std of stay when for 2 in the feature Visitors with Patient is approximately : 19.20 days\n",
      "The Std of stay when for 3 in the feature Visitors with Patient is approximately : 20.99 days\n",
      "The Std of stay when for 4 in the feature Visitors with Patient is approximately : 25.86 days\n",
      "The Std of stay when for 5 in the feature Visitors with Patient is approximately : 27.06 days\n",
      "The Std of stay when for 6 in the feature Visitors with Patient is approximately : 30.01 days\n",
      "The Std of stay when for 7 in the feature Visitors with Patient is approximately : 30.24 days\n",
      "The Std of stay when for 8 in the feature Visitors with Patient is approximately : 32.01 days\n",
      "The Std of stay when for 9 in the feature Visitors with Patient is approximately : 29.25 days\n",
      "The Std of stay when for 10 in the feature Visitors with Patient is approximately : 28.34 days\n",
      "The Std of stay when for 11 in the feature Visitors with Patient is approximately : 29.28 days\n",
      "The Std of stay when for 12 in the feature Visitors with Patient is approximately : 27.57 days\n",
      "The Std of stay when for 13 in the feature Visitors with Patient is approximately : 22.89 days\n",
      "The Std of stay when for 14 in the feature Visitors with Patient is approximately : 23.45 days\n",
      "The Std of stay when for 15 in the feature Visitors with Patient is approximately : 24.53 days\n",
      "The Std of stay when for 16 in the feature Visitors with Patient is approximately : 21.85 days\n",
      "The Std of stay when for 17 in the feature Visitors with Patient is approximately : 9.36 days\n",
      "The Std of stay when for 18 in the feature Visitors with Patient is approximately : 16.67 days\n",
      "The Std of stay when for 19 in the feature Visitors with Patient is approximately : 5.00 days\n",
      "The Std of stay when for 20 in the feature Visitors with Patient is approximately : 17.28 days\n",
      "The Std of stay when for 21 in the feature Visitors with Patient is approximately : 5.00 days\n",
      "The Std of stay when for 22 in the feature Visitors with Patient is approximately : 23.23 days\n",
      "The Std of stay when for 23 in the feature Visitors with Patient is approximately : 5.00 days\n",
      "The Std of stay when for 24 in the feature Visitors with Patient is approximately : 5.00 days\n",
      "The Std of stay when for 25 in the feature Visitors with Patient is approximately : 5.00 days\n",
      "The Std of stay when for 30 in the feature Visitors with Patient is approximately : 5.00 days\n",
      "The Std of stay when for 32 in the feature Visitors with Patient is approximately : 5.00 days\n",
      "---------------------------------------------------------------------------------------------------------\n",
      " Mean Statistic : \n",
      "The mean of stay when for 0-10 in the feature Age is approximately : 28.91 days\n",
      "The mean of stay when for 11-20 in the feature Age is approximately : 28.07 days\n",
      "The mean of stay when for 21-30 in the feature Age is approximately : 29.48 days\n",
      "The mean of stay when for 31-40 in the feature Age is approximately : 30.76 days\n",
      "The mean of stay when for 41-50 in the feature Age is approximately : 32.21 days\n",
      "The mean of stay when for 51-60 in the feature Age is approximately : 33.08 days\n",
      "The mean of stay when for 61-70 in the feature Age is approximately : 33.55 days\n",
      "The mean of stay when for 71-80 in the feature Age is approximately : 34.41 days\n"
     ]
    },
    {
     "name": "stdout",
     "output_type": "stream",
     "text": [
      "The mean of stay when for 81-90 in the feature Age is approximately : 38.40 days\n",
      "The mean of stay when for 91-100 in the feature Age is approximately : 38.16 days\n",
      "-------\n",
      " Madian Statistic : \n",
      "The Median of stay when for 0-10 in the feature Age is approximately : 25.00 days\n",
      "The Median of stay when for 11-20 in the feature Age is approximately : 25.00 days\n",
      "The Median of stay when for 21-30 in the feature Age is approximately : 25.00 days\n",
      "The Median of stay when for 31-40 in the feature Age is approximately : 25.00 days\n",
      "The Median of stay when for 41-50 in the feature Age is approximately : 25.00 days\n",
      "The Median of stay when for 51-60 in the feature Age is approximately : 25.00 days\n",
      "The Median of stay when for 61-70 in the feature Age is approximately : 25.00 days\n",
      "The Median of stay when for 71-80 in the feature Age is approximately : 25.00 days\n",
      "The Median of stay when for 81-90 in the feature Age is approximately : 35.00 days\n",
      "The Median of stay when for 91-100 in the feature Age is approximately : 35.00 days\n",
      "---------------------------------------------------------------------------------------------------------\n",
      " Std Statistic : \n",
      "The Std of stay when for 0-10 in the feature Age is approximately : 25.58 days\n",
      "The Std of stay when for 11-20 in the feature Age is approximately : 24.31 days\n",
      "The Std of stay when for 21-30 in the feature Age is approximately : 24.73 days\n",
      "The Std of stay when for 31-40 in the feature Age is approximately : 25.28 days\n",
      "The Std of stay when for 41-50 in the feature Age is approximately : 26.44 days\n",
      "The Std of stay when for 51-60 in the feature Age is approximately : 27.24 days\n",
      "The Std of stay when for 61-70 in the feature Age is approximately : 27.47 days\n",
      "The Std of stay when for 71-80 in the feature Age is approximately : 27.93 days\n",
      "The Std of stay when for 81-90 in the feature Age is approximately : 29.84 days\n",
      "The Std of stay when for 91-100 in the feature Age is approximately : 30.44 days\n",
      "---------------------------------------------------------------------------------------------------------\n"
     ]
    }
   ],
   "source": [
    "for column in column_features :\n",
    "    unique = pd.unique(health_care[column])\n",
    "    unique.sort()\n",
    "    \n",
    "    \n",
    "    print(' Mean Statistic : ')    \n",
    "    for c in unique : \n",
    "        print('The mean of stay when for {} in the feature {} is approximately : {:.2f} days'.format(c, column, 10*target_enc[health_care[column]==c].mean() + 5))\n",
    "    print('-------')\n",
    "    \n",
    "    print(' Madian Statistic : ')    \n",
    "    for c in unique : \n",
    "        print('The Median of stay when for {} in the feature {} is approximately : {:.2f} days'.format(c, column, 10*np.median(target_enc[health_care[column]==c]) + 5))\n",
    "    print('---------------------------------------------------------------------------------------------------------')\n",
    "    \n",
    "    print(' Std Statistic : ')    \n",
    "    for c in unique : \n",
    "        print('The Std of stay when for {} in the feature {} is approximately : {:.2f} days'.format(c, column, 10*target_enc[health_care[column]==c].std() + 5))\n",
    "    print('---------------------------------------------------------------------------------------------------------')\n",
    "        \n",
    "    \n",
    "\n",
    "    "
   ]
  },
  {
   "cell_type": "code",
   "execution_count": null,
   "id": "f01b49cf",
   "metadata": {},
   "outputs": [],
   "source": []
  }
 ],
 "metadata": {
  "kernelspec": {
   "display_name": "Python 3",
   "language": "python",
   "name": "python3"
  },
  "language_info": {
   "codemirror_mode": {
    "name": "ipython",
    "version": 3
   },
   "file_extension": ".py",
   "mimetype": "text/x-python",
   "name": "python",
   "nbconvert_exporter": "python",
   "pygments_lexer": "ipython3",
   "version": "3.8.8"
  }
 },
 "nbformat": 4,
 "nbformat_minor": 5
}
