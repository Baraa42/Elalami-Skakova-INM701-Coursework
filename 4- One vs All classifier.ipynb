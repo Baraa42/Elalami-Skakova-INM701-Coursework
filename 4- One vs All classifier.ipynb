{
 "cells": [
  {
   "cell_type": "markdown",
   "id": "12b24361",
   "metadata": {},
   "source": [
    "## Content:\n",
    "- **[Part 1](#part1)- Importing the data set, packages used**\n",
    "- **[Part 2](#part2)- Preprocessing Data**\n",
    "- **[Part 3](#part3) -  Logistic Regression**\n",
    "- **[Part 4](#part4) -  ANN with one Hidden Layer**\n",
    "- **[Part 5](#part5) -  ANN with two Hidden Layers**\n",
    "- **[Part 6](#part6) - ANN with three Hidden Layers**\n",
    "\n"
   ]
  },
  {
   "cell_type": "markdown",
   "id": "5610e2dd",
   "metadata": {},
   "source": [
    "[Back to top](#Content:)\n",
    "\n",
    "\n",
    "<a id='part1'></a>\n",
    "\n",
    "# Part 1 -  Importing the data set"
   ]
  },
  {
   "cell_type": "code",
   "execution_count": 1,
   "id": "12b6aa61",
   "metadata": {},
   "outputs": [],
   "source": [
    "import pandas as pd\n",
    "import numpy as np\n",
    "import random\n",
    "import matplotlib.pyplot as plt\n",
    "import sklearn.metrics as metrics\n",
    "%matplotlib inline"
   ]
  },
  {
   "cell_type": "code",
   "execution_count": 2,
   "id": "ea4b8e06",
   "metadata": {},
   "outputs": [],
   "source": [
    "random.seed(0)"
   ]
  },
  {
   "cell_type": "code",
   "execution_count": 3,
   "id": "de9ac7dc",
   "metadata": {},
   "outputs": [],
   "source": [
    "# Loading Dataset\n",
    "df = pd.read_csv(\"healthcare/train_data.csv\", na_values=['NA', '?'])"
   ]
  },
  {
   "cell_type": "code",
   "execution_count": 4,
   "id": "cf9db3df",
   "metadata": {},
   "outputs": [],
   "source": [
    "# Dropping na values for \n",
    "df = df.dropna()"
   ]
  },
  {
   "cell_type": "code",
   "execution_count": 5,
   "id": "df31ccb3",
   "metadata": {},
   "outputs": [],
   "source": [
    "# Dropping case_id\n",
    "df.drop(['case_id'], axis=1, inplace=True)"
   ]
  },
  {
   "cell_type": "markdown",
   "id": "a80054c0",
   "metadata": {},
   "source": [
    "[Back to top](#Content:)\n",
    "\n",
    "\n",
    "<a id='part2'></a>\n",
    "\n",
    "# Part 2 -  Preprocessing Data"
   ]
  },
  {
   "cell_type": "markdown",
   "id": "7f35a7bf",
   "metadata": {},
   "source": [
    "### Hot Encoded Data"
   ]
  },
  {
   "cell_type": "code",
   "execution_count": 6,
   "id": "dab14cd1",
   "metadata": {},
   "outputs": [],
   "source": [
    "# Function to hot encode the column with name : name for dataframe df\n",
    "def encode_text_dummy(df, name):\n",
    "    dummies = pd.get_dummies(df[name])\n",
    "    for x in dummies.columns:\n",
    "        dummy_name = f\"{name}-{x}\"\n",
    "        df[dummy_name] = dummies[x]\n",
    "    df.drop(name, axis=1, inplace=True) "
   ]
  },
  {
   "cell_type": "code",
   "execution_count": 7,
   "id": "499e93a3",
   "metadata": {},
   "outputs": [],
   "source": [
    "from sklearn.preprocessing import LabelEncoder \n",
    "# Columns where we use Label Encoding\n",
    "le_string_columns = ['Severity of Illness', 'Age' ]\n",
    "# Columns where we use One Hot Encoding\n",
    "dummies_string_columns = ['Hospital_type_code', 'Hospital_region_code', 'Department', 'Ward_Type', 'Ward_Facility_Code',  'Type of Admission']\n",
    "encoder = LabelEncoder()\n",
    "\n",
    "## label_encoded data\n",
    "Xe = df.drop(['Stay'], axis=1)\n",
    "Xe['Severity of Illness']= Xe['Severity of Illness'].map({'Minor': 0,  'Moderate': 1,'Extreme': 2})\n",
    "Xe['Age'] = encoder.fit_transform(Xe['Age'])\n",
    "\n",
    "ye = df['Stay']\n",
    "ye = encoder.fit_transform(ye)\n",
    "\n",
    "for column in dummies_string_columns :\n",
    "    encode_text_dummy(Xe, column)\n",
    "    "
   ]
  },
  {
   "cell_type": "markdown",
   "id": "9effda97",
   "metadata": {},
   "source": [
    "### Scaling and splitting Data"
   ]
  },
  {
   "cell_type": "code",
   "execution_count": 13,
   "id": "0fd9b247",
   "metadata": {},
   "outputs": [],
   "source": [
    "from sklearn.preprocessing import StandardScaler\n",
    "from sklearn.model_selection import train_test_split\n",
    "scaler = StandardScaler()\n",
    "X = Xe.values\n",
    "y = ye\n",
    "X_train, X_test, y_train, y_test = train_test_split(X, y, test_size=0.25, random_state=0)\n",
    "for i in range(X_train.shape[1]) :\n",
    "    X_train[:,i]= scaler.fit_transform(X_train[:,i].reshape(-1, 1))[:,0]\n",
    "    X_test[:,i] = scaler.transform(X_test[:,i].reshape(-1, 1))[:,0]"
   ]
  },
  {
   "cell_type": "markdown",
   "id": "d63d40c2",
   "metadata": {},
   "source": [
    "# Models\n",
    "\n",
    "We will use the best models from our last analysis :\n",
    "- Random Forest\n",
    "- ANN Classifier\n",
    "\n"
   ]
  },
  {
   "cell_type": "code",
   "execution_count": 8,
   "id": "2f35bb24",
   "metadata": {},
   "outputs": [],
   "source": [
    "from tensorflow.keras.models import Sequential\n",
    "from tensorflow.keras.layers import Dense, Activation\n",
    "from tensorflow.keras.callbacks import EarlyStopping\n",
    "from tensorflow.keras.layers import Dropout\n",
    "from sklearn.model_selection import KFold\n",
    "from sklearn.metrics import accuracy_score, confusion_matrix\n",
    "from sklearn.metrics import ConfusionMatrixDisplay\n",
    "from sklearn.ensemble import RandomForestClassifier"
   ]
  },
  {
   "cell_type": "markdown",
   "id": "1e30d800",
   "metadata": {},
   "source": [
    "[Back to top](#Content:)\n",
    "\n",
    "\n",
    "<a id='part3'></a>\n",
    "\n",
    "# Part 3 -  Class 0 vs All"
   ]
  },
  {
   "cell_type": "markdown",
   "id": "261c4d01",
   "metadata": {},
   "source": [
    "## Preparing Data"
   ]
  },
  {
   "cell_type": "code",
   "execution_count": 17,
   "id": "6c5161c7",
   "metadata": {},
   "outputs": [],
   "source": [
    "y_train0 = np.minimum(1, y_train)\n",
    "y_test0 = np.minimum(1, y_test)"
   ]
  },
  {
   "cell_type": "markdown",
   "id": "33c7d884",
   "metadata": {},
   "source": [
    "## Random Forest"
   ]
  },
  {
   "cell_type": "code",
   "execution_count": 18,
   "id": "7aaaaf59",
   "metadata": {},
   "outputs": [
    {
     "data": {
      "text/plain": [
       "RandomForestClassifier(criterion='entropy', n_estimators=60)"
      ]
     },
     "execution_count": 18,
     "metadata": {},
     "output_type": "execute_result"
    }
   ],
   "source": [
    "# Instantiating and fitting the data\n",
    "forest0 = RandomForestClassifier(n_estimators=60, criterion='entropy')\n",
    "forest0.fit(X_train, y_train0)"
   ]
  },
  {
   "cell_type": "code",
   "execution_count": 23,
   "id": "ba3d8bfc",
   "metadata": {},
   "outputs": [
    {
     "name": "stdout",
     "output_type": "stream",
     "text": [
      "Accuracy : 0.926\n"
     ]
    },
    {
     "data": {
      "image/png": "[encoded data removed]",
      "text/plain": [
       "<Figure size 432x288 with 2 Axes>"
      ]
     },
     "metadata": {
      "needs_background": "light"
     },
     "output_type": "display_data"
    }
   ],
   "source": [
    "y_pred = forest0.predict(X_test)\n",
    "print(f'Accuracy : %.3f' % accuracy_score(y_test0, y_pred))\n",
    "\n",
    "cm = confusion_matrix(y_test0, y_pred)\n",
    "disp = ConfusionMatrixDisplay(cm)\n",
    "disp.plot()\n",
    "plt.show()"
   ]
  },
  {
   "cell_type": "code",
   "execution_count": 24,
   "id": "661aecd9",
   "metadata": {},
   "outputs": [
    {
     "name": "stdout",
     "output_type": "stream",
     "text": [
      "Test Precision- 0.93\n",
      "Test Recall- 0.995\n",
      "Test ROCAUC 0.522\n"
     ]
    }
   ],
   "source": [
    "from sklearn.metrics import precision_score, recall_score,roc_curve, auc, roc_auc_score\n",
    "print(\"Test Precision-\",round(precision_score(y_test0, y_pred),3))\n",
    "print(\"Test Recall-\",round(recall_score(y_test0, y_pred),3))\n",
    "print(\"Test ROCAUC\", round(roc_auc_score(y_test0, y_pred),3))"
   ]
  },
  {
   "cell_type": "code",
   "execution_count": 25,
   "id": "849dc40e",
   "metadata": {},
   "outputs": [
    {
     "data": {
      "image/png": "[encoded data removed]",
      "text/plain": [
       "<Figure size 432x288 with 1 Axes>"
      ]
     },
     "metadata": {
      "needs_background": "light"
     },
     "output_type": "display_data"
    }
   ],
   "source": [
    "#Validation\n",
    "fpr_v, tpr_v, _ = roc_curve(y_test0, y_pred)\n",
    "roc_auc_v = auc(fpr_v, tpr_v)\n",
    "plt.plot(fpr_v, tpr_v, 'b', label = 'Validation AUC = %0.2f' % roc_auc_v)\n",
    "plt.legend(loc = 'lower right')\n",
    "plt.plot([0, 1], [0, 1],'r--')\n",
    "plt.xlim([0, 1])\n",
    "plt.ylim([0, 1])\n",
    "plt.ylabel('True Positive Rate')\n",
    "plt.xlabel('False Positive Rate')\n",
    "plt.show()"
   ]
  },
  {
   "cell_type": "markdown",
   "id": "f51401df",
   "metadata": {},
   "source": [
    "Bad classifier, misses a lot"
   ]
  },
  {
   "cell_type": "markdown",
   "id": "9c827843",
   "metadata": {},
   "source": [
    "## ANN"
   ]
  },
  {
   "cell_type": "code",
   "execution_count": 30,
   "id": "ee2c31d1",
   "metadata": {
    "collapsed": true
   },
   "outputs": [
    {
     "name": "stdout",
     "output_type": "stream",
     "text": [
      "Train on 188275 samples, validate on 47069 samples\n",
      "Epoch 1/50\n",
      "188275/188275 [==============================] - 8s 44us/sample - loss: 0.2405 - accuracy: 0.9234 - val_loss: 0.2329 - val_accuracy: 0.9238\n",
      "Epoch 2/50\n",
      "188275/188275 [==============================] - 7s 37us/sample - loss: 0.2252 - accuracy: 0.9262 - val_loss: 0.2287 - val_accuracy: 0.9236\n",
      "Epoch 3/50\n",
      "188275/188275 [==============================] - 7s 37us/sample - loss: 0.2208 - accuracy: 0.9262 - val_loss: 0.2242 - val_accuracy: 0.9242\n",
      "Epoch 4/50\n",
      "188275/188275 [==============================] - 7s 37us/sample - loss: 0.2185 - accuracy: 0.9262 - val_loss: 0.2235 - val_accuracy: 0.9237\n",
      "Epoch 5/50\n",
      "188275/188275 [==============================] - 8s 43us/sample - loss: 0.2175 - accuracy: 0.9263 - val_loss: 0.2232 - val_accuracy: 0.9236\n",
      "Epoch 6/50\n",
      "188275/188275 [==============================] - 7s 38us/sample - loss: 0.2169 - accuracy: 0.9263 - val_loss: 0.2221 - val_accuracy: 0.9239\n",
      "Epoch 7/50\n",
      "188275/188275 [==============================] - 7s 37us/sample - loss: 0.2164 - accuracy: 0.9265 - val_loss: 0.2224 - val_accuracy: 0.9241\n",
      "Epoch 8/50\n",
      "188275/188275 [==============================] - 7s 37us/sample - loss: 0.2161 - accuracy: 0.9264 - val_loss: 0.2228 - val_accuracy: 0.9237\n",
      "Epoch 9/50\n",
      "188275/188275 [==============================] - 7s 37us/sample - loss: 0.2157 - accuracy: 0.9265 - val_loss: 0.2223 - val_accuracy: 0.9238\n",
      "Epoch 10/50\n",
      "188275/188275 [==============================] - 7s 37us/sample - loss: 0.2155 - accuracy: 0.9263 - val_loss: 0.2215 - val_accuracy: 0.9240\n",
      "Epoch 11/50\n",
      "188275/188275 [==============================] - 9s 47us/sample - loss: 0.2154 - accuracy: 0.9264 - val_loss: 0.2219 - val_accuracy: 0.9236\n",
      "Epoch 12/50\n",
      "188275/188275 [==============================] - 9s 50us/sample - loss: 0.2152 - accuracy: 0.9262 - val_loss: 0.2217 - val_accuracy: 0.9236\n",
      "Epoch 13/50\n",
      "188275/188275 [==============================] - 8s 40us/sample - loss: 0.2150 - accuracy: 0.9266 - val_loss: 0.2219 - val_accuracy: 0.9236\n",
      "Epoch 14/50\n",
      "188275/188275 [==============================] - 8s 42us/sample - loss: 0.2149 - accuracy: 0.9265 - val_loss: 0.2218 - val_accuracy: 0.9236\n",
      "Epoch 15/50\n",
      "188275/188275 [==============================] - 8s 42us/sample - loss: 0.2148 - accuracy: 0.9266 - val_loss: 0.2213 - val_accuracy: 0.9234\n",
      "Epoch 16/50\n",
      "188275/188275 [==============================] - 8s 42us/sample - loss: 0.2147 - accuracy: 0.9264 - val_loss: 0.2214 - val_accuracy: 0.9239\n",
      "Epoch 17/50\n",
      "188275/188275 [==============================] - 9s 46us/sample - loss: 0.2145 - accuracy: 0.9265 - val_loss: 0.2211 - val_accuracy: 0.9239\n",
      "Epoch 18/50\n",
      "188275/188275 [==============================] - 8s 41us/sample - loss: 0.2145 - accuracy: 0.9264 - val_loss: 0.2213 - val_accuracy: 0.9238\n",
      "Epoch 19/50\n",
      "188275/188275 [==============================] - 8s 41us/sample - loss: 0.2144 - accuracy: 0.9262 - val_loss: 0.2218 - val_accuracy: 0.9235\n",
      "Epoch 20/50\n",
      "188275/188275 [==============================] - 7s 40us/sample - loss: 0.2141 - accuracy: 0.9265 - val_loss: 0.2215 - val_accuracy: 0.9234\n",
      "Epoch 21/50\n",
      "188275/188275 [==============================] - 7s 40us/sample - loss: 0.2143 - accuracy: 0.9265 - val_loss: 0.2215 - val_accuracy: 0.9237\n",
      "Epoch 22/50\n",
      "188275/188275 [==============================] - 7s 40us/sample - loss: 0.2141 - accuracy: 0.9265 - val_loss: 0.2216 - val_accuracy: 0.9239\n",
      "Epoch 00022: early stopping\n"
     ]
    }
   ],
   "source": [
    "model0 = Sequential()\n",
    "model0.add(Dense(16, input_dim=X_train.shape[1], activation='relu'))\n",
    "model0.add(Dense(1,activation='sigmoid'))\n",
    "model0.compile(loss='binary_crossentropy', optimizer='adam', metrics=['accuracy'])\n",
    "\n",
    "monitor = EarlyStopping(monitor='val_loss', min_delta=1e-4, patience=5, verbose=1, mode='auto')\n",
    "r = model0.fit(X_train,y_train0,verbose=1, callbacks=[monitor],validation_split=0.2, epochs=50)\n",
    "\n"
   ]
  },
  {
   "cell_type": "code",
   "execution_count": 35,
   "id": "96d98fea",
   "metadata": {},
   "outputs": [
    {
     "name": "stdout",
     "output_type": "stream",
     "text": [
      "Accuracy : 0.927\n"
     ]
    },
    {
     "data": {
      "image/png": "[encoded data removed]",
      "text/plain": [
       "<Figure size 432x288 with 2 Axes>"
      ]
     },
     "metadata": {
      "needs_background": "light"
     },
     "output_type": "display_data"
    }
   ],
   "source": [
    "y_pred = model0.predict(X_test) > 0.5\n",
    "print(f'Accuracy : %.3f' % accuracy_score(y_test0, y_pred))\n",
    "\n",
    "cm = confusion_matrix(y_test0, y_pred)\n",
    "disp = ConfusionMatrixDisplay(cm)\n",
    "disp.plot()\n",
    "plt.show()"
   ]
  },
  {
   "cell_type": "markdown",
   "id": "2c6e78ac",
   "metadata": {},
   "source": [
    "Both confusion matrices for Random Forest and ANN are disappointing we possibly have to handle the imcalanced data"
   ]
  }
 ],
 "metadata": {
  "kernelspec": {
   "display_name": "Python 3 (ipykernel)",
   "language": "python",
   "name": "python3"
  },
  "language_info": {
   "codemirror_mode": {
    "name": "ipython",
    "version": 3
   },
   "file_extension": ".py",
   "mimetype": "text/x-python",
   "name": "python",
   "nbconvert_exporter": "python",
   "pygments_lexer": "ipython3",
   "version": "3.7.11"
  }
 },
 "nbformat": 4,
 "nbformat_minor": 5
}
