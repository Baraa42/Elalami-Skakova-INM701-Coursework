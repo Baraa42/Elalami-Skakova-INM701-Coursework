{
 "cells": [
  {
   "cell_type": "code",
   "execution_count": 5,
   "id": "f8240de1",
   "metadata": {},
   "outputs": [],
   "source": [
    "import os\n",
    "import random\n",
    "import numpy as np\n",
    "import pandas as pd\n",
    "import seaborn as sns\n",
    "import matplotlib.pyplot as plt\n",
    "\n",
    "from sklearn.model_selection import train_test_split\n",
    "from sklearn.preprocessing import LabelEncoder\n",
    "from sklearn.preprocessing import OneHotEncoder\n",
    "\n",
    "\n"
   ]
  },
  {
   "cell_type": "code",
   "execution_count": 6,
   "id": "ea8a333f",
   "metadata": {},
   "outputs": [],
   "source": [
    "random.seed(0)"
   ]
  },
  {
   "cell_type": "code",
   "execution_count": 7,
   "id": "9b68a80b",
   "metadata": {},
   "outputs": [],
   "source": [
    "## loading the file\n",
    "health_care = pd.read_csv('./healthcare/train_data.csv', na_values=['NA', 'NaN', '?'])"
   ]
  },
  {
   "cell_type": "code",
   "execution_count": 8,
   "id": "022d9820",
   "metadata": {},
   "outputs": [
    {
     "data": {
      "text/plain": [
       "True"
      ]
     },
     "execution_count": 8,
     "metadata": {},
     "output_type": "execute_result"
    }
   ],
   "source": [
    "# Checking for NA values\n",
    "health_care.isnull().values.any()"
   ]
  },
  {
   "cell_type": "code",
   "execution_count": 9,
   "id": "1a6532bc",
   "metadata": {},
   "outputs": [
    {
     "data": {
      "text/plain": [
       "4645"
      ]
     },
     "execution_count": 9,
     "metadata": {},
     "output_type": "execute_result"
    }
   ],
   "source": [
    "# Counting  NA values\n",
    "health_care.isnull().sum().sum()"
   ]
  },
  {
   "cell_type": "code",
   "execution_count": 10,
   "id": "f9e8a4bf",
   "metadata": {},
   "outputs": [
    {
     "name": "stdout",
     "output_type": "stream",
     "text": [
      "Number of NA values in case_id is : 0 \n",
      "Number of NA values in Hospital_code is : 0 \n",
      "Number of NA values in Hospital_type_code is : 0 \n",
      "Number of NA values in City_Code_Hospital is : 0 \n",
      "Number of NA values in Hospital_region_code is : 0 \n",
      "Number of NA values in Available Extra Rooms in Hospital is : 0 \n",
      "Number of NA values in Department is : 0 \n",
      "Number of NA values in Ward_Type is : 0 \n",
      "Number of NA values in Ward_Facility_Code is : 0 \n",
      "Number of NA values in Bed Grade is : 113 \n",
      "Number of NA values in patientid is : 0 \n",
      "Number of NA values in City_Code_Patient is : 4532 \n",
      "Number of NA values in Type of Admission is : 0 \n",
      "Number of NA values in Severity of Illness is : 0 \n",
      "Number of NA values in Visitors with Patient is : 0 \n",
      "Number of NA values in Age is : 0 \n",
      "Number of NA values in Admission_Deposit is : 0 \n",
      "Number of NA values in Stay is : 0 \n"
     ]
    }
   ],
   "source": [
    "for column in health_care.columns :\n",
    "    print(f\"Number of NA values in {column} is : { health_care[column].isnull().sum()} \")\n"
   ]
  },
  {
   "cell_type": "code",
   "execution_count": 11,
   "id": "fcb4b3dd",
   "metadata": {},
   "outputs": [],
   "source": [
    "# Dropping these columns for now\n",
    "health_care = health_care.dropna()"
   ]
  },
  {
   "cell_type": "code",
   "execution_count": 12,
   "id": "3abff959",
   "metadata": {},
   "outputs": [
    {
     "name": "stdout",
     "output_type": "stream",
     "text": [
      "Number of NA values in case_id is : 0 \n",
      "Number of NA values in Hospital_code is : 0 \n",
      "Number of NA values in Hospital_type_code is : 0 \n",
      "Number of NA values in City_Code_Hospital is : 0 \n",
      "Number of NA values in Hospital_region_code is : 0 \n",
      "Number of NA values in Available Extra Rooms in Hospital is : 0 \n",
      "Number of NA values in Department is : 0 \n",
      "Number of NA values in Ward_Type is : 0 \n",
      "Number of NA values in Ward_Facility_Code is : 0 \n",
      "Number of NA values in Bed Grade is : 0 \n",
      "Number of NA values in patientid is : 0 \n",
      "Number of NA values in City_Code_Patient is : 0 \n",
      "Number of NA values in Type of Admission is : 0 \n",
      "Number of NA values in Severity of Illness is : 0 \n",
      "Number of NA values in Visitors with Patient is : 0 \n",
      "Number of NA values in Age is : 0 \n",
      "Number of NA values in Admission_Deposit is : 0 \n",
      "Number of NA values in Stay is : 0 \n"
     ]
    }
   ],
   "source": [
    "for column in health_care.columns :\n",
    "    print(f\"Number of NA values in {column} is : { health_care[column].isnull().sum()} \")\n"
   ]
  },
  {
   "cell_type": "code",
   "execution_count": 13,
   "id": "60404bab",
   "metadata": {},
   "outputs": [
    {
     "data": {
      "text/html": [
       "<div>\n",
       "<style scoped>\n",
       "    .dataframe tbody tr th:only-of-type {\n",
       "        vertical-align: middle;\n",
       "    }\n",
       "\n",
       "    .dataframe tbody tr th {\n",
       "        vertical-align: top;\n",
       "    }\n",
       "\n",
       "    .dataframe thead th {\n",
       "        text-align: right;\n",
       "    }\n",
       "</style>\n",
       "<table border=\"1\" class=\"dataframe\">\n",
       "  <thead>\n",
       "    <tr style=\"text-align: right;\">\n",
       "      <th></th>\n",
       "      <th>case_id</th>\n",
       "      <th>Hospital_code</th>\n",
       "      <th>Hospital_type_code</th>\n",
       "      <th>City_Code_Hospital</th>\n",
       "      <th>Hospital_region_code</th>\n",
       "      <th>Available Extra Rooms in Hospital</th>\n",
       "      <th>Department</th>\n",
       "      <th>Ward_Type</th>\n",
       "      <th>Ward_Facility_Code</th>\n",
       "      <th>Bed Grade</th>\n",
       "      <th>patientid</th>\n",
       "      <th>City_Code_Patient</th>\n",
       "      <th>Type of Admission</th>\n",
       "      <th>Severity of Illness</th>\n",
       "      <th>Visitors with Patient</th>\n",
       "      <th>Age</th>\n",
       "      <th>Admission_Deposit</th>\n",
       "      <th>Stay</th>\n",
       "    </tr>\n",
       "  </thead>\n",
       "  <tbody>\n",
       "    <tr>\n",
       "      <th>318433</th>\n",
       "      <td>318434</td>\n",
       "      <td>6</td>\n",
       "      <td>a</td>\n",
       "      <td>6</td>\n",
       "      <td>X</td>\n",
       "      <td>3</td>\n",
       "      <td>radiotherapy</td>\n",
       "      <td>Q</td>\n",
       "      <td>F</td>\n",
       "      <td>4.0</td>\n",
       "      <td>86499</td>\n",
       "      <td>23.0</td>\n",
       "      <td>Emergency</td>\n",
       "      <td>Moderate</td>\n",
       "      <td>3</td>\n",
       "      <td>41-50</td>\n",
       "      <td>4144.0</td>\n",
       "      <td>11-20</td>\n",
       "    </tr>\n",
       "    <tr>\n",
       "      <th>318434</th>\n",
       "      <td>318435</td>\n",
       "      <td>24</td>\n",
       "      <td>a</td>\n",
       "      <td>1</td>\n",
       "      <td>X</td>\n",
       "      <td>2</td>\n",
       "      <td>anesthesia</td>\n",
       "      <td>Q</td>\n",
       "      <td>E</td>\n",
       "      <td>4.0</td>\n",
       "      <td>325</td>\n",
       "      <td>8.0</td>\n",
       "      <td>Urgent</td>\n",
       "      <td>Moderate</td>\n",
       "      <td>4</td>\n",
       "      <td>81-90</td>\n",
       "      <td>6699.0</td>\n",
       "      <td>31-40</td>\n",
       "    </tr>\n",
       "    <tr>\n",
       "      <th>318435</th>\n",
       "      <td>318436</td>\n",
       "      <td>7</td>\n",
       "      <td>a</td>\n",
       "      <td>4</td>\n",
       "      <td>X</td>\n",
       "      <td>3</td>\n",
       "      <td>gynecology</td>\n",
       "      <td>R</td>\n",
       "      <td>F</td>\n",
       "      <td>4.0</td>\n",
       "      <td>125235</td>\n",
       "      <td>10.0</td>\n",
       "      <td>Emergency</td>\n",
       "      <td>Minor</td>\n",
       "      <td>3</td>\n",
       "      <td>71-80</td>\n",
       "      <td>4235.0</td>\n",
       "      <td>11-20</td>\n",
       "    </tr>\n",
       "    <tr>\n",
       "      <th>318436</th>\n",
       "      <td>318437</td>\n",
       "      <td>11</td>\n",
       "      <td>b</td>\n",
       "      <td>2</td>\n",
       "      <td>Y</td>\n",
       "      <td>3</td>\n",
       "      <td>anesthesia</td>\n",
       "      <td>Q</td>\n",
       "      <td>D</td>\n",
       "      <td>3.0</td>\n",
       "      <td>91081</td>\n",
       "      <td>8.0</td>\n",
       "      <td>Trauma</td>\n",
       "      <td>Minor</td>\n",
       "      <td>5</td>\n",
       "      <td>11-20</td>\n",
       "      <td>3761.0</td>\n",
       "      <td>11-20</td>\n",
       "    </tr>\n",
       "    <tr>\n",
       "      <th>318437</th>\n",
       "      <td>318438</td>\n",
       "      <td>19</td>\n",
       "      <td>a</td>\n",
       "      <td>7</td>\n",
       "      <td>Y</td>\n",
       "      <td>5</td>\n",
       "      <td>gynecology</td>\n",
       "      <td>Q</td>\n",
       "      <td>C</td>\n",
       "      <td>2.0</td>\n",
       "      <td>21641</td>\n",
       "      <td>8.0</td>\n",
       "      <td>Emergency</td>\n",
       "      <td>Minor</td>\n",
       "      <td>2</td>\n",
       "      <td>11-20</td>\n",
       "      <td>4752.0</td>\n",
       "      <td>0-10</td>\n",
       "    </tr>\n",
       "  </tbody>\n",
       "</table>\n",
       "</div>"
      ],
      "text/plain": [
       "        case_id  Hospital_code Hospital_type_code  City_Code_Hospital  \\\n",
       "318433   318434              6                  a                   6   \n",
       "318434   318435             24                  a                   1   \n",
       "318435   318436              7                  a                   4   \n",
       "318436   318437             11                  b                   2   \n",
       "318437   318438             19                  a                   7   \n",
       "\n",
       "       Hospital_region_code  Available Extra Rooms in Hospital    Department  \\\n",
       "318433                    X                                  3  radiotherapy   \n",
       "318434                    X                                  2    anesthesia   \n",
       "318435                    X                                  3    gynecology   \n",
       "318436                    Y                                  3    anesthesia   \n",
       "318437                    Y                                  5    gynecology   \n",
       "\n",
       "       Ward_Type Ward_Facility_Code  Bed Grade  patientid  City_Code_Patient  \\\n",
       "318433         Q                  F        4.0      86499               23.0   \n",
       "318434         Q                  E        4.0        325                8.0   \n",
       "318435         R                  F        4.0     125235               10.0   \n",
       "318436         Q                  D        3.0      91081                8.0   \n",
       "318437         Q                  C        2.0      21641                8.0   \n",
       "\n",
       "       Type of Admission Severity of Illness  Visitors with Patient    Age  \\\n",
       "318433         Emergency            Moderate                      3  41-50   \n",
       "318434            Urgent            Moderate                      4  81-90   \n",
       "318435         Emergency               Minor                      3  71-80   \n",
       "318436            Trauma               Minor                      5  11-20   \n",
       "318437         Emergency               Minor                      2  11-20   \n",
       "\n",
       "        Admission_Deposit   Stay  \n",
       "318433             4144.0  11-20  \n",
       "318434             6699.0  31-40  \n",
       "318435             4235.0  11-20  \n",
       "318436             3761.0  11-20  \n",
       "318437             4752.0   0-10  "
      ]
     },
     "execution_count": 13,
     "metadata": {},
     "output_type": "execute_result"
    }
   ],
   "source": [
    "health_care.tail()"
   ]
  },
  {
   "cell_type": "markdown",
   "id": "d62cd0d2",
   "metadata": {},
   "source": [
    "The columns to be pre-processed are :\n",
    "1. Hospital_type_code\n",
    "2. Hospital_region_code\n",
    "3. Department\n",
    "4. Ward_type\n",
    "5. Ward_Facility_Code\n",
    "6. City_Code_Patient\n",
    "7. Type of Admission\n",
    "8. Severity of Illness\n",
    "9. Age\n",
    "11. Stay\n",
    "\n"
   ]
  },
  {
   "cell_type": "code",
   "execution_count": 14,
   "id": "cca35833",
   "metadata": {},
   "outputs": [
    {
     "data": {
      "text/plain": [
       "Index(['case_id', 'Hospital_code', 'Hospital_type_code', 'City_Code_Hospital',\n",
       "       'Hospital_region_code', 'Available Extra Rooms in Hospital',\n",
       "       'Department', 'Ward_Type', 'Ward_Facility_Code', 'Bed Grade',\n",
       "       'patientid', 'City_Code_Patient', 'Type of Admission',\n",
       "       'Severity of Illness', 'Visitors with Patient', 'Age',\n",
       "       'Admission_Deposit', 'Stay'],\n",
       "      dtype='object')"
      ]
     },
     "execution_count": 14,
     "metadata": {},
     "output_type": "execute_result"
    }
   ],
   "source": [
    "health_care.columns"
   ]
  },
  {
   "cell_type": "code",
   "execution_count": 15,
   "id": "5c722330",
   "metadata": {},
   "outputs": [],
   "source": [
    "## Pre processing these columns\n",
    "\n",
    "string_columns = ['Hospital_type_code', 'Hospital_region_code', 'Department', 'Ward_Type', 'Ward_Facility_Code',  'Type of Admission', 'Severity of Illness', 'Age' ]\n",
    "encoder = LabelEncoder()\n",
    "ohEncoder = OneHotEncoder()\n",
    "\n",
    "## label_encoded data\n",
    "X_le = health_care.drop(['Stay', 'case_id'], axis=1)\n",
    "y_le = health_care['Stay']\n",
    "\n",
    "y_le = encoder.fit_transform(y_le)\n",
    "for column in string_columns :\n",
    "    X_le[column] = encoder.fit(X_le[column]).transform(X_le[column])\n",
    "    "
   ]
  },
  {
   "cell_type": "code",
   "execution_count": 16,
   "id": "de95c211",
   "metadata": {},
   "outputs": [
    {
     "data": {
      "text/html": [
       "<div>\n",
       "<style scoped>\n",
       "    .dataframe tbody tr th:only-of-type {\n",
       "        vertical-align: middle;\n",
       "    }\n",
       "\n",
       "    .dataframe tbody tr th {\n",
       "        vertical-align: top;\n",
       "    }\n",
       "\n",
       "    .dataframe thead th {\n",
       "        text-align: right;\n",
       "    }\n",
       "</style>\n",
       "<table border=\"1\" class=\"dataframe\">\n",
       "  <thead>\n",
       "    <tr style=\"text-align: right;\">\n",
       "      <th></th>\n",
       "      <th>Hospital_code</th>\n",
       "      <th>Hospital_type_code</th>\n",
       "      <th>City_Code_Hospital</th>\n",
       "      <th>Hospital_region_code</th>\n",
       "      <th>Available Extra Rooms in Hospital</th>\n",
       "      <th>Department</th>\n",
       "      <th>Ward_Type</th>\n",
       "      <th>Ward_Facility_Code</th>\n",
       "      <th>Bed Grade</th>\n",
       "      <th>patientid</th>\n",
       "      <th>City_Code_Patient</th>\n",
       "      <th>Type of Admission</th>\n",
       "      <th>Severity of Illness</th>\n",
       "      <th>Visitors with Patient</th>\n",
       "      <th>Age</th>\n",
       "      <th>Admission_Deposit</th>\n",
       "    </tr>\n",
       "  </thead>\n",
       "  <tbody>\n",
       "    <tr>\n",
       "      <th>0</th>\n",
       "      <td>8</td>\n",
       "      <td>2</td>\n",
       "      <td>3</td>\n",
       "      <td>2</td>\n",
       "      <td>3</td>\n",
       "      <td>3</td>\n",
       "      <td>2</td>\n",
       "      <td>5</td>\n",
       "      <td>2.0</td>\n",
       "      <td>31397</td>\n",
       "      <td>7.0</td>\n",
       "      <td>0</td>\n",
       "      <td>0</td>\n",
       "      <td>2</td>\n",
       "      <td>5</td>\n",
       "      <td>4911.0</td>\n",
       "    </tr>\n",
       "    <tr>\n",
       "      <th>1</th>\n",
       "      <td>2</td>\n",
       "      <td>2</td>\n",
       "      <td>5</td>\n",
       "      <td>2</td>\n",
       "      <td>2</td>\n",
       "      <td>3</td>\n",
       "      <td>3</td>\n",
       "      <td>5</td>\n",
       "      <td>2.0</td>\n",
       "      <td>31397</td>\n",
       "      <td>7.0</td>\n",
       "      <td>1</td>\n",
       "      <td>0</td>\n",
       "      <td>2</td>\n",
       "      <td>5</td>\n",
       "      <td>5954.0</td>\n",
       "    </tr>\n",
       "    <tr>\n",
       "      <th>2</th>\n",
       "      <td>10</td>\n",
       "      <td>4</td>\n",
       "      <td>1</td>\n",
       "      <td>0</td>\n",
       "      <td>2</td>\n",
       "      <td>1</td>\n",
       "      <td>3</td>\n",
       "      <td>4</td>\n",
       "      <td>2.0</td>\n",
       "      <td>31397</td>\n",
       "      <td>7.0</td>\n",
       "      <td>1</td>\n",
       "      <td>0</td>\n",
       "      <td>2</td>\n",
       "      <td>5</td>\n",
       "      <td>4745.0</td>\n",
       "    </tr>\n",
       "    <tr>\n",
       "      <th>3</th>\n",
       "      <td>26</td>\n",
       "      <td>1</td>\n",
       "      <td>2</td>\n",
       "      <td>1</td>\n",
       "      <td>2</td>\n",
       "      <td>3</td>\n",
       "      <td>2</td>\n",
       "      <td>3</td>\n",
       "      <td>2.0</td>\n",
       "      <td>31397</td>\n",
       "      <td>7.0</td>\n",
       "      <td>1</td>\n",
       "      <td>0</td>\n",
       "      <td>2</td>\n",
       "      <td>5</td>\n",
       "      <td>7272.0</td>\n",
       "    </tr>\n",
       "    <tr>\n",
       "      <th>4</th>\n",
       "      <td>26</td>\n",
       "      <td>1</td>\n",
       "      <td>2</td>\n",
       "      <td>1</td>\n",
       "      <td>2</td>\n",
       "      <td>3</td>\n",
       "      <td>3</td>\n",
       "      <td>3</td>\n",
       "      <td>2.0</td>\n",
       "      <td>31397</td>\n",
       "      <td>7.0</td>\n",
       "      <td>1</td>\n",
       "      <td>0</td>\n",
       "      <td>2</td>\n",
       "      <td>5</td>\n",
       "      <td>5558.0</td>\n",
       "    </tr>\n",
       "  </tbody>\n",
       "</table>\n",
       "</div>"
      ],
      "text/plain": [
       "   Hospital_code  Hospital_type_code  City_Code_Hospital  \\\n",
       "0              8                   2                   3   \n",
       "1              2                   2                   5   \n",
       "2             10                   4                   1   \n",
       "3             26                   1                   2   \n",
       "4             26                   1                   2   \n",
       "\n",
       "   Hospital_region_code  Available Extra Rooms in Hospital  Department  \\\n",
       "0                     2                                  3           3   \n",
       "1                     2                                  2           3   \n",
       "2                     0                                  2           1   \n",
       "3                     1                                  2           3   \n",
       "4                     1                                  2           3   \n",
       "\n",
       "   Ward_Type  Ward_Facility_Code  Bed Grade  patientid  City_Code_Patient  \\\n",
       "0          2                   5        2.0      31397                7.0   \n",
       "1          3                   5        2.0      31397                7.0   \n",
       "2          3                   4        2.0      31397                7.0   \n",
       "3          2                   3        2.0      31397                7.0   \n",
       "4          3                   3        2.0      31397                7.0   \n",
       "\n",
       "   Type of Admission  Severity of Illness  Visitors with Patient  Age  \\\n",
       "0                  0                    0                      2    5   \n",
       "1                  1                    0                      2    5   \n",
       "2                  1                    0                      2    5   \n",
       "3                  1                    0                      2    5   \n",
       "4                  1                    0                      2    5   \n",
       "\n",
       "   Admission_Deposit  \n",
       "0             4911.0  \n",
       "1             5954.0  \n",
       "2             4745.0  \n",
       "3             7272.0  \n",
       "4             5558.0  "
      ]
     },
     "execution_count": 16,
     "metadata": {},
     "output_type": "execute_result"
    }
   ],
   "source": [
    "X_le.head()"
   ]
  },
  {
   "cell_type": "code",
   "execution_count": 17,
   "id": "fc6e8041",
   "metadata": {},
   "outputs": [
    {
     "data": {
      "text/plain": [
       "array([ 5, 45, 35, ..., 15, 15,  5])"
      ]
     },
     "execution_count": 17,
     "metadata": {},
     "output_type": "execute_result"
    }
   ],
   "source": [
    "y_le = 10*y_le + 5\n",
    "y_le"
   ]
  },
  {
   "cell_type": "code",
   "execution_count": 18,
   "id": "de1ece6d",
   "metadata": {},
   "outputs": [],
   "source": [
    "## getting the inputs and labels\n",
    "\n",
    "X = X_le.values\n",
    "y = y_le"
   ]
  },
  {
   "cell_type": "code",
   "execution_count": 19,
   "id": "5a64c918",
   "metadata": {},
   "outputs": [
    {
     "name": "stdout",
     "output_type": "stream",
     "text": [
      "X.shape (313793, 16)\n",
      "y.shape (313793,)\n"
     ]
    }
   ],
   "source": [
    "print('X.shape', X.shape)\n",
    "print('y.shape', y.shape)\n"
   ]
  },
  {
   "cell_type": "code",
   "execution_count": 20,
   "id": "f79276c5",
   "metadata": {},
   "outputs": [
    {
     "name": "stdout",
     "output_type": "stream",
     "text": [
      "max Hospital_type_code is : 6\n",
      "max Hospital_region_code is : 2\n",
      "max Department is : 4\n",
      "max Ward_Type is : 5\n",
      "max Ward_Facility_Code is : 5\n",
      "max Type of Admission is : 2\n",
      "max Severity of Illness is : 2\n",
      "max Age is : 9\n"
     ]
    }
   ],
   "source": [
    "for column in string_columns :\n",
    "    print(f'max {column} is : {X_le[column].max()}')"
   ]
  },
  {
   "cell_type": "code",
   "execution_count": 21,
   "id": "2ba662a1",
   "metadata": {},
   "outputs": [
    {
     "name": "stdout",
     "output_type": "stream",
     "text": [
      "number of unique elements of  case_id is : 313793\n",
      "number of unique elements of  Hospital_code is : 32\n",
      "number of unique elements of  Hospital_type_code is : 7\n",
      "number of unique elements of  City_Code_Hospital is : 11\n",
      "number of unique elements of  Hospital_region_code is : 3\n",
      "number of unique elements of  Available Extra Rooms in Hospital is : 18\n",
      "number of unique elements of  Department is : 5\n",
      "number of unique elements of  Ward_Type is : 6\n",
      "number of unique elements of  Ward_Facility_Code is : 6\n",
      "number of unique elements of  Bed Grade is : 4\n",
      "number of unique elements of  patientid is : 90344\n",
      "number of unique elements of  City_Code_Patient is : 37\n",
      "number of unique elements of  Type of Admission is : 3\n",
      "number of unique elements of  Severity of Illness is : 3\n",
      "number of unique elements of  Visitors with Patient is : 28\n",
      "number of unique elements of  Age is : 10\n",
      "number of unique elements of  Admission_Deposit is : 7283\n",
      "number of unique elements of  Stay is : 11\n"
     ]
    }
   ],
   "source": [
    "for column in health_care.columns :\n",
    "    x = pd.unique(health_care[column])\n",
    "    print(f'number of unique elements of  {column} is : {len(x)}')"
   ]
  },
  {
   "cell_type": "markdown",
   "id": "1e704ee1",
   "metadata": {},
   "source": [
    "## Mean of stay"
   ]
  },
  {
   "cell_type": "code",
   "execution_count": 22,
   "id": "804c2f0e",
   "metadata": {},
   "outputs": [
    {
     "name": "stdout",
     "output_type": "stream",
     "text": [
      "The mean of stay is 31.960034162648626 days\n"
     ]
    }
   ],
   "source": [
    "print(f'The mean of stay is {y_le.mean()} days')"
   ]
  },
  {
   "cell_type": "markdown",
   "id": "e8dc3d15",
   "metadata": {},
   "source": [
    "# Linear Regression"
   ]
  },
  {
   "cell_type": "code",
   "execution_count": 23,
   "id": "648793d1",
   "metadata": {},
   "outputs": [],
   "source": [
    "from sklearn.linear_model import LinearRegression"
   ]
  },
  {
   "cell_type": "code",
   "execution_count": 24,
   "id": "41009753",
   "metadata": {},
   "outputs": [],
   "source": [
    "model = LinearRegression(fit_intercept=True)\n"
   ]
  },
  {
   "cell_type": "code",
   "execution_count": 25,
   "id": "0fb3df7b",
   "metadata": {},
   "outputs": [
    {
     "data": {
      "text/plain": [
       "LinearRegression()"
      ]
     },
     "execution_count": 25,
     "metadata": {},
     "output_type": "execute_result"
    }
   ],
   "source": [
    "model.fit(X, y)"
   ]
  },
  {
   "cell_type": "code",
   "execution_count": 26,
   "id": "9bb9278d",
   "metadata": {},
   "outputs": [],
   "source": [
    "a, b, score = model.coef_, model.intercept_, model.score(X, y)"
   ]
  },
  {
   "cell_type": "code",
   "execution_count": 27,
   "id": "123bd90e",
   "metadata": {},
   "outputs": [
    {
     "name": "stdout",
     "output_type": "stream",
     "text": [
      "score : 0.37\n"
     ]
    }
   ],
   "source": [
    "print('score : %.2f' % score)"
   ]
  },
  {
   "cell_type": "code",
   "execution_count": 28,
   "id": "2ec0fe42",
   "metadata": {},
   "outputs": [
    {
     "name": "stdout",
     "output_type": "stream",
     "text": [
      "Mean of stay 31.96\n",
      "Predicted mean of stay: 31.96\n",
      "RMSE : 17.11\n",
      "Max predicted length of stay 245.65\n"
     ]
    }
   ],
   "source": [
    "from sklearn.metrics import mean_squared_error\n",
    "y_pred = model.predict(X)\n",
    "print('Mean of stay %.2f' % y.mean())\n",
    "print('Predicted mean of stay: %.2f' % y_pred.mean())\n",
    "print('RMSE : %.2f' % np.sqrt(mean_squared_error(y, y_pred)))\n",
    "print('Max predicted length of stay %.2f' % y_pred.max())"
   ]
  },
  {
   "cell_type": "code",
   "execution_count": 29,
   "id": "1a9fe363",
   "metadata": {},
   "outputs": [
    {
     "name": "stdout",
     "output_type": "stream",
     "text": [
      "Mean model RMSE : 21.48\n"
     ]
    }
   ],
   "source": [
    "print('Mean model RMSE : %.2f' % np.sqrt(mean_squared_error(y, y.mean()*np.ones(len(y))  )) )\n"
   ]
  },
  {
   "cell_type": "code",
   "execution_count": 30,
   "id": "ab6418b4",
   "metadata": {},
   "outputs": [
    {
     "name": "stdout",
     "output_type": "stream",
     "text": [
      "['Hospital_code', 'Hospital_type_code', 'City_Code_Hospital', 'Hospital_region_code', 'Available Extra Rooms in Hospital', 'Department', 'Ward_Type', 'Ward_Facility_Code', 'Bed Grade', 'City_Code_Patient', 'Type of Admission', 'Severity of Illness', 'Visitors with Patient', 'Age', 'Admission_Deposit']\n"
     ]
    }
   ],
   "source": [
    "l = ['case_id', 'Stay', 'patientid']\n",
    "columns = [ c for c in health_care.columns if c not in l ]\n",
    "print(columns)"
   ]
  },
  {
   "cell_type": "code",
   "execution_count": 112,
   "id": "3770be92",
   "metadata": {},
   "outputs": [
    {
     "name": "stdout",
     "output_type": "stream",
     "text": [
      "Feature used is : Hospital_code\n",
      "score : 0.0018\n",
      "Mean of stay 31.96\n",
      "Predicted mean of stay: 31.96\n",
      "RMSE : 21.46\n",
      "Max predicted length of stay 33.42\n",
      "-------------------------------------------------\n",
      "Feature used is : Hospital_type_code\n",
      "score : 0.0035\n",
      "Mean of stay 31.96\n",
      "Predicted mean of stay: 31.96\n",
      "RMSE : 21.44\n",
      "Max predicted length of stay 35.87\n",
      "-------------------------------------------------\n",
      "Feature used is : City_Code_Hospital\n",
      "score : 0.0000\n",
      "Mean of stay 31.96\n",
      "Predicted mean of stay: 31.96\n",
      "RMSE : 21.48\n",
      "Max predicted length of stay 32.34\n",
      "-------------------------------------------------\n",
      "Feature used is : Hospital_region_code\n",
      "score : 0.0001\n",
      "Mean of stay 31.96\n",
      "Predicted mean of stay: 31.96\n",
      "RMSE : 21.48\n",
      "Max predicted length of stay 32.38\n",
      "-------------------------------------------------\n",
      "Feature used is : Available Extra Rooms in Hospital\n",
      "score : 0.0148\n",
      "Mean of stay 31.96\n",
      "Predicted mean of stay: 31.96\n",
      "RMSE : 21.32\n",
      "Max predicted length of stay 39.11\n",
      "-------------------------------------------------\n",
      "Feature used is : Department\n",
      "score : 0.0011\n",
      "Mean of stay 31.96\n",
      "Predicted mean of stay: 31.96\n",
      "RMSE : 21.47\n",
      "Max predicted length of stay 34.54\n",
      "-------------------------------------------------\n",
      "Feature used is : Ward_Type\n",
      "score : 0.0345\n",
      "Mean of stay 31.96\n",
      "Predicted mean of stay: 31.96\n",
      "RMSE : 21.11\n",
      "Max predicted length of stay 47.38\n",
      "-------------------------------------------------\n",
      "Feature used is : Ward_Facility_Code\n",
      "score : 0.0000\n",
      "Mean of stay 31.96\n",
      "Predicted mean of stay: 31.96\n",
      "RMSE : 21.48\n",
      "Max predicted length of stay 32.16\n",
      "-------------------------------------------------\n",
      "Feature used is : Bed Grade\n",
      "score : 0.0006\n",
      "Mean of stay 31.96\n",
      "Predicted mean of stay: 31.96\n",
      "RMSE : 21.47\n",
      "Max predicted length of stay 32.81\n",
      "-------------------------------------------------\n",
      "Feature used is : City_Code_Patient\n",
      "score : 0.0001\n",
      "Mean of stay 31.96\n",
      "Predicted mean of stay: 31.96\n",
      "RMSE : 21.48\n",
      "Max predicted length of stay 32.24\n",
      "-------------------------------------------------\n",
      "Feature used is : Type of Admission\n",
      "score : 0.0006\n",
      "Mean of stay 31.96\n",
      "Predicted mean of stay: 31.96\n",
      "RMSE : 21.47\n",
      "Max predicted length of stay 32.88\n",
      "-------------------------------------------------\n",
      "Feature used is : Severity of Illness\n",
      "score : 0.0010\n",
      "Mean of stay 31.96\n",
      "Predicted mean of stay: 31.96\n",
      "RMSE : 21.47\n",
      "Max predicted length of stay 33.16\n",
      "-------------------------------------------------\n",
      "Feature used is : Visitors with Patient\n",
      "score : 0.2889\n",
      "Mean of stay 31.96\n",
      "Predicted mean of stay: 31.96\n",
      "RMSE : 18.11\n",
      "Max predicted length of stay 220.15\n",
      "-------------------------------------------------\n",
      "Feature used is : Age\n",
      "score : 0.0088\n",
      "Mean of stay 31.96\n",
      "Predicted mean of stay: 31.96\n",
      "RMSE : 21.38\n",
      "Max predicted length of stay 37.16\n",
      "-------------------------------------------------\n",
      "Feature used is : Admission_Deposit\n",
      "score : 0.0027\n",
      "Mean of stay 31.96\n",
      "Predicted mean of stay: 31.96\n",
      "RMSE : 21.45\n",
      "Max predicted length of stay 35.13\n",
      "-------------------------------------------------\n"
     ]
    }
   ],
   "source": [
    "for c in columns :\n",
    "    Xc = X_le[c].values\n",
    "    model = LinearRegression(fit_intercept=True)\n",
    "    reg = model.fit(Xc.reshape(-1,1), y)\n",
    "    sc = model.score(Xc.reshape(-1,1),y)\n",
    "    yp = model.predict(Xc.reshape(-1,1))\n",
    "    print(f'Feature used is : {c}')\n",
    "    print('score : %.4f' % sc)\n",
    "    print('Mean of stay %.2f' % y.mean())\n",
    "    print('Predicted mean of stay: %.2f' % yp.mean())\n",
    "    print('RMSE : %.2f' % np.sqrt(mean_squared_error(y, yp)))\n",
    "    print('Max predicted length of stay %.2f' % yp.max())\n",
    "    print('-------------------------------------------------')\n",
    "    "
   ]
  },
  {
   "cell_type": "code",
   "execution_count": 56,
   "id": "f731536b",
   "metadata": {},
   "outputs": [
    {
     "name": "stdout",
     "output_type": "stream",
     "text": [
      "RMSE : 18.99\n",
      "score : 0.22\n"
     ]
    }
   ],
   "source": [
    "import sklearn\n",
    "from sklearn.linear_model import Lasso\n",
    "from sklearn import metrics\n",
    "\n",
    "# Create linear regression\n",
    "regressor = Lasso(alpha=0)\n",
    "\n",
    "# Fit/train LASSO\n",
    "regressor.fit(X,y)\n",
    "# Predict\n",
    "pred = regressor.predict(X)\n",
    "\n",
    "a= regressor.coef_\n",
    "b = regressor.intercept_\n",
    "c = np.sqrt(metrics.mean_squared_error(pred,y))\n",
    "\n",
    "print('RMSE : %.2f' % c)\n",
    "print('score : %.2f' % regressor.score(X,y))\n",
    "\n"
   ]
  },
  {
   "cell_type": "code",
   "execution_count": 51,
   "id": "f5300ee9",
   "metadata": {},
   "outputs": [
    {
     "name": "stdout",
     "output_type": "stream",
     "text": [
      "score : 0.37\n"
     ]
    }
   ],
   "source": [
    "print('score : %.2f' % regressor.score(X,y))"
   ]
  },
  {
   "cell_type": "code",
   "execution_count": 60,
   "id": "4b5c7037",
   "metadata": {},
   "outputs": [],
   "source": [
    "from tensorflow.keras.models import Sequential\n",
    "from tensorflow.keras.layers import Dense, Activation\n",
    "from tensorflow.keras.callbacks import EarlyStopping\n"
   ]
  },
  {
   "cell_type": "code",
   "execution_count": 61,
   "id": "ec4e30d8",
   "metadata": {},
   "outputs": [
    {
     "name": "stdout",
     "output_type": "stream",
     "text": [
      "Final score (RMSE): 16.987498268760206\n"
     ]
    }
   ],
   "source": [
    "X_train, X_test, y_train, y_test = train_test_split(X, y, test_size=0.25, random_state=0)\n",
    "model = Sequential()\n",
    "model.add(Dense(64, input_dim=X.shape[1], activation='relu'))\n",
    "model.add(Dense(1)) # Output\n",
    "model.compile(loss='mean_squared_error', optimizer='adam')\n",
    "monitor = EarlyStopping(monitor='loss', min_delta=1e-3, patience=5, verbose=1, mode='auto')\n",
    "model.fit(X_train,y_train,verbose=0,epochs=100)\n",
    "pred = model.predict(X_test)\n",
    "# Measure RMSE error.  \n",
    "score = np.sqrt(metrics.mean_squared_error(pred,y_test))\n",
    "print(\"Final score (RMSE): {}\".format(score))"
   ]
  },
  {
   "cell_type": "code",
   "execution_count": 62,
   "id": "408bffa8",
   "metadata": {},
   "outputs": [
    {
     "name": "stdout",
     "output_type": "stream",
     "text": [
      "Final score (RMSE): 17.101368794413656\n"
     ]
    }
   ],
   "source": [
    "model = Sequential()\n",
    "model.add(Dense(64, input_dim=X.shape[1], activation='relu'))\n",
    "model.add(Dense(64)) \n",
    "model.add(Dense(1)) # Output\n",
    "model.compile(loss='mean_squared_error', optimizer='adam')\n",
    "monitor = EarlyStopping(monitor='loss', min_delta=1e-3, patience=5, verbose=1, mode='auto')\n",
    "model.fit(X_train,y_train,verbose=0,epochs=100)\n",
    "pred = model.predict(X_test)\n",
    "# Measure RMSE error.  \n",
    "score = np.sqrt(metrics.mean_squared_error(pred,y_test))\n",
    "print(\"Final score (RMSE): {}\".format(score))"
   ]
  },
  {
   "cell_type": "code",
   "execution_count": 77,
   "id": "24960b7f",
   "metadata": {},
   "outputs": [],
   "source": [
    "from sklearn.preprocessing import StandardScaler\n"
   ]
  },
  {
   "cell_type": "code",
   "execution_count": 84,
   "id": "2bbfb528",
   "metadata": {},
   "outputs": [],
   "source": [
    "scaler = StandardScaler()\n",
    "for i in range(X_train.shape[1]) :\n",
    "    X_train[:,i]= scaler.fit_transform(X_train[:,i].reshape(-1, 1))[:,0]\n",
    "    X_test[:,i] = scaler.transform(X_test[:,i].reshape(-1, 1))[:,0]\n",
    "\n",
    "    "
   ]
  },
  {
   "cell_type": "code",
   "execution_count": 85,
   "id": "b6474eb4",
   "metadata": {},
   "outputs": [
    {
     "name": "stdout",
     "output_type": "stream",
     "text": [
      "(78449, 16)\n",
      "(235344, 16)\n"
     ]
    }
   ],
   "source": [
    "print(X_test.shape)\n",
    "print(X_train.shape)"
   ]
  },
  {
   "cell_type": "code",
   "execution_count": 86,
   "id": "9d884c9c",
   "metadata": {},
   "outputs": [
    {
     "name": "stdout",
     "output_type": "stream",
     "text": [
      "[ 0.54260906  0.54260906  0.07916298  0.7743321  -1.42703678  0.54260906\n",
      "  0.31088602 -0.50014462  0.54260906  1.3536397 ]\n",
      "[-0.81954518 -0.81954518 -0.81954518  1.78713849 -0.81954518 -0.81954518\n",
      "  0.48379665 -0.81954518 -0.81954518  0.48379665]\n",
      "[ 0.39510011  0.39510011  0.71738868 -1.21634271  0.39510011  0.39510011\n",
      " -0.57176558 -1.21634271  0.39510011 -0.57176558]\n",
      "[-1.03711316 -1.03711316  0.29207248 -1.03711316 -1.03711316 -1.03711316\n",
      "  1.62125812 -1.03711316 -1.03711316  1.62125812]\n",
      "[ 1.53969622  1.53969622 -0.16903714  0.68532954 -0.16903714 -0.16903714\n",
      " -0.16903714 -0.16903714 -1.02340381 -0.16903714]\n",
      "[ 1.87889614  1.87889614  0.10001591  0.10001591 -1.67886433  0.10001591\n",
      "  0.10001591 -1.67886433  1.87889614  0.10001591]\n",
      "[ 0.13849744 -1.10438305 -1.10438305  0.13849744  0.13849744  0.13849744\n",
      "  0.13849744  0.13849744  1.38137792  0.13849744]\n",
      "[ 1.01632609  1.01632609 -0.76082115  0.42394368  1.01632609  1.01632609\n",
      " -1.94558599  0.42394368  1.01632609 -1.94558599]\n",
      "[-1.86151664 -0.7151676  -0.7151676   0.43118143  1.57753047  1.57753047\n",
      " -1.86151664 -0.7151676   0.43118143  0.43118143]\n",
      "[-0.18466288  1.33325417  1.39010756  1.53181951  0.76097921  1.72337698\n",
      " -0.01665821  0.3556551   0.50708851 -0.47933627]\n",
      "[-0.05340839 -0.05340839  0.15687275 -1.10481411 -1.10481411 -0.47397068\n",
      " -0.05340839  3.31108989  0.57743504  0.15687275]\n",
      "[ 0.31202724  0.31202724 -1.13954799  0.31202724  0.31202724  0.31202724\n",
      "  1.76360247  1.76360247  0.31202724  0.31202724]\n",
      "[-1.78558946 -1.78558946 -1.78558946  0.81418638 -1.78558946  0.81418638\n",
      "  0.81418638 -1.78558946  0.81418638  0.81418638]\n",
      "[-0.16153263 -0.16153263  0.40418613 -0.72725139 -0.72725139 -0.72725139\n",
      " -0.72725139 -0.16153263 -0.72725139 -0.72725139]\n",
      "[ 1.52116921 -0.06596656  0.4630787  -0.59501181  0.99212395 -0.59501181\n",
      " -0.06596656  0.4630787   1.52116921 -1.12405706]\n",
      "[-0.69097054 -0.45709866 -0.55009496 -0.69465356  0.71778528  0.83748348\n",
      " -0.95706886 -0.29044192 -0.6338837   0.56401912]\n"
     ]
    }
   ],
   "source": [
    "for i in range(X_train.shape[1]) :\n",
    "    print(X_train[:10,i])"
   ]
  },
  {
   "cell_type": "code",
   "execution_count": 87,
   "id": "46eeda09",
   "metadata": {},
   "outputs": [
    {
     "name": "stdout",
     "output_type": "stream",
     "text": [
      "Final score (RMSE): 15.575867820524966\n"
     ]
    }
   ],
   "source": [
    "model = Sequential()\n",
    "model.add(Dense(64, input_dim=X.shape[1], activation='relu'))\n",
    "model.add(Dense(1)) # Output\n",
    "model.compile(loss='mean_squared_error', optimizer='adam')\n",
    "monitor = EarlyStopping(monitor='loss', min_delta=1e-3, patience=5, verbose=1, mode='auto')\n",
    "model.fit(X_train,y_train,verbose=0,epochs=100)\n",
    "pred = model.predict(X_test)\n",
    "# Measure RMSE error.  \n",
    "score = np.sqrt(metrics.mean_squared_error(pred,y_test))\n",
    "print(\"Final score (RMSE): {}\".format(score))"
   ]
  },
  {
   "cell_type": "code",
   "execution_count": null,
   "id": "da87003b",
   "metadata": {},
   "outputs": [],
   "source": [
    "model = Sequential()\n",
    "model.add(Dense(64, input_dim=X.shape[1], activation='relu'))\n",
    "model.add(Dense(1)) # Output\n",
    "model.compile(loss='mean_squared_error', optimizer='adam')\n",
    "monitor = EarlyStopping(monitor='loss', min_delta=1e-3, patience=5, verbose=1, mode='auto')\n",
    "model.fit(X_train,y_train,verbose=0,epochs=100)\n",
    "pred = model.predict(X_test)\n",
    "# Measure RMSE error.  \n",
    "score = np.sqrt(metrics.mean_squared_error(pred,y_test))\n",
    "print(\"Final score (RMSE): {}\".format(score))"
   ]
  }
 ],
 "metadata": {
  "kernelspec": {
   "display_name": "Python 3 (ipykernel)",
   "language": "python",
   "name": "python3"
  },
  "language_info": {
   "codemirror_mode": {
    "name": "ipython",
    "version": 3
   },
   "file_extension": ".py",
   "mimetype": "text/x-python",
   "name": "python",
   "nbconvert_exporter": "python",
   "pygments_lexer": "ipython3",
   "version": "3.7.11"
  }
 },
 "nbformat": 4,
 "nbformat_minor": 5
}
