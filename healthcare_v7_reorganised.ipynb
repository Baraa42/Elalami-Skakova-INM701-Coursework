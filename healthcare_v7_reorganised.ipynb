{
 "cells": [
  {
   "cell_type": "markdown",
   "id": "ab6bca03",
   "metadata": {},
   "source": [
    "# Health Care Dataset - INM701 Coursework\n",
    "Postgraduate students: \n",
    "- Tamila Skakova\n",
    "- Elbarraa Elalami"
   ]
  },
  {
   "cell_type": "markdown",
   "id": "e360c158",
   "metadata": {},
   "source": [
    "## Content:\n",
    "- **[Part 1](#part1)- Importing the data set, packages used**\n",
    "- **[Part 2](#part2)- Exploratory data analysis**\n",
    "- [Part 2.1](#part2.1)- Analysis of the features\n",
    "- [Part 2.2](#part2.2)- Analysis of the Target\n",
    "- [Part 2.3](#part2.3)- Statistical analysis of the dataset\n",
    "- **[Part 3](#part3) -  Preparing our data**\n",
    "- [Part 3.1](#part3.1) -  Missing Values\n",
    "- [Part 3.2](#part3.2) -  Enconding, Shuffling, Scaling\n",
    "- [Part 3.3](#part3.3) -  Multicollinearity\n",
    "- [Part 3.4](#part3.4) -  SMOTE Analysis\n",
    "- **[Part 4](#part4) -  Models**\n",
    "- [Part 4.1](#part4.1) -  Score mthod\n",
    "- [Part 4.2](#part4.2) -  KNN\n",
    "- [Part 4.3](#part4.3) -  NN\n",
    "- [Part 4.4](#part4.4) -  Decision tree model (reservation_status included)\n",
    "- [Part 4.5](#part4.5) -  Random Forest\n",
    "- [Part 4.6](#part4.6) -  Naive Bayes\n",
    "- **[Part 5](#part5) -  Additional Models**\n",
    "- [Part 5.1](#part5.1) -  Gradient Boost Classifier\n",
    "- [Part 5.2](#part5.2) -  CatBoost Classifier\n",
    "- [Part 5.2](#part5.2) -  XGB BOOST Classifier"
   ]
  },
  {
   "cell_type": "markdown",
   "id": "b8417dbe",
   "metadata": {},
   "source": [
    "## Description of features in the dataframe:\n",
    "\n",
    "- `Column`\tDescription\n",
    "- `case_id`\tCase_ID registered in Hospital\n",
    "- `Hospital_code`\tUnique code for the Hospital\n",
    "- `Hospital_type_code`\tUnique code for the type of Hospital\n",
    "- `City_Code_Hospital` City Code of the Hospital\n",
    "- `Hospital_region_code`\tRegion Code of the Hospital\n",
    "- `Available Extra Rooms in Hospital`\tNumber of Extra rooms available in the Hospital\n",
    "- `Department`\tDepartment overlooking the case\n",
    "- `Ward_Type`\tCode for the Ward type\n",
    "- `Ward_Facility_Code`\tCode for the Ward Facility\n",
    "- `Bed Grade`\tCondition of Bed in the Ward\n",
    "- `patientid`\tUnique Patient Id\n",
    "- `City_Code_Patient`\tCity Code for the patient\n",
    "- `Type of Admission`\tAdmission Type registered by the Hospital\n",
    "- `Severity of Illness`\tSeverity of the illness recorded at the time of admission\n",
    "- `Visitors with Patient`\tNumber of Visitors with the patient\n",
    "- `Age`\tAge of the patient\n",
    "- `Admission_Deposit`\tDeposit at the Admission Time\n",
    "- `Stay`\tStay Days by the patient, the length of stay - 11 different classes ranging from 0-10 days to more than 100 days.\n"
   ]
  },
  {
   "cell_type": "markdown",
   "id": "a90784ff",
   "metadata": {},
   "source": [
    "[Back to top](#Content:)\n",
    "\n",
    "\n",
    "<a id='part1'></a>\n",
    "\n",
    "## Part 1 -  Importing the data set, packages used"
   ]
  },
  {
   "cell_type": "code",
   "execution_count": null,
   "id": "dd6d9a99",
   "metadata": {},
   "outputs": [],
   "source": [
    "import os\n",
    "import pandas as pd\n",
    "import numpy as np\n",
    "import sklearn as sk\n",
    "import seaborn as sns\n",
    "import matplotlib.pyplot as plt\n",
    "from sklearn.model_selection import train_test_split\n",
    "from sklearn.preprocessing import LabelEncoder \n",
    "from sklearn.preprocessing import OneHotEncoder\n",
    "from sklearn.linear_model import Perceptron\n",
    "from sklearn.preprocessing import StandardScaler\n",
    "import statsmodels.api as sm\n",
    "from statsmodels.stats.outliers_influence import variance_inflation_factor\n",
    "from sklearn.decomposition import PCA\n",
    "from sklearn.linear_model import LogisticRegression\n",
    "from imblearn.over_sampling import SMOTE\n",
    "from sklearn.neighbors import KNeighborsClassifier\n",
    "from sklearn.model_selection import KFold\n",
    "from sklearn.tree import DecisionTreeClassifier\n",
    "import sklearn.metrics as metrics\n",
    "from sklearn.metrics import accuracy_score, confusion_matrix, precision_score, recall_score\n",
    "from tensorflow.keras.models import Sequential\n",
    "from tensorflow.keras.layers import Dense, Activation, Dropout\n",
    "from tensorflow.keras.callbacks import EarlyStopping\n",
    "from sklearn.ensemble import RandomForestClassifier\n",
    "from sklearn.model_selection import cross_validate\n",
    "from sklearn.naive_bayes import GaussianNB\n",
    "import io\n",
    "import requests\n",
    "%matplotlib inline"
   ]
  },
  {
   "cell_type": "code",
   "execution_count": null,
   "id": "0d1705dc",
   "metadata": {},
   "outputs": [],
   "source": [
    "path = \"healthcare\"\n",
    "\n",
    "filename_read = os.path.join(path, \"train_data.csv\")\n",
    "health_care = pd.read_csv(filename_read, na_values=['NA', '?'])\n",
    "\n",
    "# print(health_care.shape)\n",
    "# print(health_care.columns)"
   ]
  },
  {
   "cell_type": "code",
   "execution_count": null,
   "id": "4f446740",
   "metadata": {},
   "outputs": [],
   "source": [
    "health_care.head(10)"
   ]
  },
  {
   "cell_type": "markdown",
   "id": "ba886c85",
   "metadata": {},
   "source": [
    "[Back to top](#Content:)\n",
    "\n",
    "<a id='part2'></a>\n",
    "## Part 2- Exploratory data analysis (EDA)"
   ]
  },
  {
   "cell_type": "markdown",
   "id": "f05877eb",
   "metadata": {},
   "source": [
    "[Back to top](#Content:)\n",
    "\n",
    "<a id='part2.1'></a>\n",
    "### Analysis of the features"
   ]
  },
  {
   "cell_type": "code",
   "execution_count": null,
   "id": "057471e2",
   "metadata": {},
   "outputs": [],
   "source": [
    "#sorting by Stay for better representation in the visualisations\n",
    "health_care = health_care.sort_values(by = \"Stay\", ascending = True)\n",
    "# To make sure we consider all the correct features to make an accurate prediction, it may be useful to create some plots to have a better understanding of our data and relationship between them and the output feature. For that we have used Python data visualisation library seaborn. We begin by visualising the length of stays by age of patients admitted to hospitals, type of admissions, severity of illness, available extra rooms in hospitals,  etc., by using a countplot(), that shows the counts of observations in each categorical bin using bars."
   ]
  },
  {
   "cell_type": "code",
   "execution_count": null,
   "id": "04bb7b93",
   "metadata": {
    "scrolled": true
   },
   "outputs": [],
   "source": [
    "#plot size\n",
    "plt.figure(figsize = (15,4))\n",
    "#plot title\n",
    "plt.title(\"Age\", fontdict = {'fontsize':15})\n",
    "ax = sns.countplot(x = \"Age\", hue = 'Stay', data = health_care)"
   ]
  },
  {
   "cell_type": "code",
   "execution_count": null,
   "id": "a041ea44",
   "metadata": {},
   "outputs": [],
   "source": [
    "#plot size\n",
    "plt.figure(figsize = (15,4))\n",
    "#plot title\n",
    "plt.title(\"Hospital_region_code\", fontdict = {'fontsize':15})\n",
    "ax = sns.countplot(x = \"Hospital_region_code\", hue = 'Stay', data = health_care)"
   ]
  },
  {
   "cell_type": "code",
   "execution_count": null,
   "id": "f1591cdd",
   "metadata": {},
   "outputs": [],
   "source": [
    "#plot size\n",
    "plt.figure(figsize = (20,4))\n",
    "#plot title\n",
    "plt.title(\"Available Extra Rooms in Hospital\", fontdict = {'fontsize':15})\n",
    "ax = sns.countplot(x = \"Available Extra Rooms in Hospital\", hue = 'Stay', data = health_care)"
   ]
  },
  {
   "cell_type": "code",
   "execution_count": null,
   "id": "03ed0442",
   "metadata": {},
   "outputs": [],
   "source": [
    "#plot size\n",
    "plt.figure(figsize = (15,4))\n",
    "#plot title\n",
    "plt.title(\"Type of Admission\", fontdict = {'fontsize': 15})\n",
    "ax = sns.countplot(x = \"Type of Admission\", hue = 'Stay', data = health_care)\n"
   ]
  },
  {
   "cell_type": "code",
   "execution_count": null,
   "id": "3c744bc6",
   "metadata": {},
   "outputs": [],
   "source": [
    "#plot size\n",
    "plt.figure(figsize = (15,4))\n",
    "#plot title\n",
    "plt.title(\"Severity of Illness\", fontdict = {'fontsize':15})\n",
    "ax = sns.countplot(x = \"Severity of Illness\", hue = 'Stay', data = health_care)"
   ]
  },
  {
   "cell_type": "code",
   "execution_count": null,
   "id": "68e53f03",
   "metadata": {},
   "outputs": [],
   "source": [
    "#plot size\n",
    "plt.figure(figsize = (15,8))\n",
    "#plot title\n",
    "plt.title(\"Department\", fontdict = {'fontsize':15})\n",
    "ax = sns.countplot(x = \"Department\", hue = 'Stay', data = health_care)"
   ]
  },
  {
   "cell_type": "markdown",
   "id": "bd873a59",
   "metadata": {},
   "source": [
    "[Back to top](#Content:)\n",
    "\n",
    "<a id='part2.2'></a>\n",
    "### Analysis of the Target"
   ]
  },
  {
   "cell_type": "code",
   "execution_count": null,
   "id": "5c2b86ea",
   "metadata": {},
   "outputs": [],
   "source": [
    "## Checking target\n",
    "#creating a copy of df to have an original for further manipulation\n",
    "health_care_copy = health_care.copy()\n",
    "target = health_care_copy['Stay']"
   ]
  },
  {
   "cell_type": "code",
   "execution_count": null,
   "id": "3dde689b",
   "metadata": {},
   "outputs": [],
   "source": [
    "## Encoding data\n",
    "encoder = LabelEncoder()\n",
    "target_enc = encoder.fit_transform(target)"
   ]
  },
  {
   "cell_type": "code",
   "execution_count": null,
   "id": "abead431",
   "metadata": {},
   "outputs": [],
   "source": [
    "#number of unique element for each feature\n",
    "health_care_copy['Stay_cat'] = encoder.fit_transform(health_care_copy['Stay'])\n",
    "n = len(health_care_copy['Stay_cat'])\n",
    "l = []\n",
    "for i in range(len(np.unique(health_care_copy['Stay_cat']))):\n",
    "    k = len(health_care[health_care_copy['Stay_cat']==i])\n",
    "    #print(f'N {10*i} and {10*(i+1)} is : {k}')\n",
    "    print(f'{i}- {k}  : {100*k/n:.2f}%')"
   ]
  },
  {
   "cell_type": "code",
   "execution_count": null,
   "id": "8522c7e7",
   "metadata": {},
   "outputs": [],
   "source": [
    "#Visualisation of Target categories\n",
    "fig, ax1 = plt.subplots()\n",
    "labels = np.unique(health_care['Stay'])\n",
    "labels[-1] = '100+'\n",
    "\n",
    "#define Seaborn color palette to use\n",
    "colors = sns.color_palette('pastel')[0:6]\n",
    "plt.pie(health_care.groupby('Stay').size(), labels = labels,colors=colors, autopct='%1.1f%%', shadow=True, startangle=90)\n",
    "#draw circle\n",
    "centre_circle = plt.Circle((0,0),0.70,fc='white')\n",
    "fig = plt.gcf()\n",
    "fig.gca().add_artist(centre_circle)\n",
    "fig.set_size_inches(20, 15.5)\n",
    "# Equal aspect ratio ensures that pie is drawn as a circle\n",
    "ax1.axis('equal')  \n",
    "plt.tight_layout()\n",
    "plt.title('Percentage of occurence of each category')\n",
    "plt.show()"
   ]
  },
  {
   "cell_type": "code",
   "execution_count": null,
   "id": "64b0bc80",
   "metadata": {},
   "outputs": [],
   "source": [
    "#Histogram plot\n",
    "h = health_care['Stay'].sort_values()\n",
    "h[h=='More than 100 Days'] = '100+'\n",
    "plt.figure(figsize = (8,8))\n",
    "plt.hist(h, bins=11, label=labels, density=True, facecolor='g', alpha=0.75)\n",
    "\n",
    "plt.xlabel('LOS')\n",
    "plt.ylabel('Occurence')\n",
    "plt.title('Histogram of LOS')\n",
    "\n",
    "plt.grid(True)\n",
    "plt.show()"
   ]
  },
  {
   "cell_type": "markdown",
   "id": "772de57a",
   "metadata": {},
   "source": [
    "[Back to top](#Content:)\n",
    "\n",
    "<a id='part2.3'></a>\n",
    "### Statistical analysis of the dataset"
   ]
  },
  {
   "cell_type": "code",
   "execution_count": null,
   "id": "056c7fb7",
   "metadata": {},
   "outputs": [],
   "source": [
    "#statistical analysis of each feature\n",
    "df_copy = health_care.copy()\n",
    "df_copy = df_copy.select_dtypes(include=[\"int\",\"float\"])\n",
    "headers = list(df_copy.columns.values)\n",
    "fields = []\n",
    "for field in headers:\n",
    "    fields.append({\n",
    "        \"name\":field,\n",
    "        \"mean\":health_care[field].mean(),\n",
    "        \"var\":health_care[field].var(),\n",
    "        \"sdev\":health_care[field].std()\n",
    "    })\n",
    "for field in fields:\n",
    "    print(field)"
   ]
  },
  {
   "cell_type": "code",
   "execution_count": null,
   "id": "73faaa17",
   "metadata": {},
   "outputs": [],
   "source": [
    "## functions to feed to barplot\n",
    "def mean(x):\n",
    "    return np.mean(x)\n",
    "\n",
    "def median(x):\n",
    "    return np.median(x)\n",
    "\n",
    "def std(x):\n",
    "    return np.std(x)"
   ]
  },
  {
   "cell_type": "code",
   "execution_count": null,
   "id": "ba7051c2",
   "metadata": {},
   "outputs": [],
   "source": [
    "## Estimate of length of stay\n",
    "target_estimate = 10* (target_enc) + 5\n",
    "# Adding the estimate to the dataframe\n",
    "df_copy['Stay Estimate'] = target_estimate"
   ]
  },
  {
   "cell_type": "code",
   "execution_count": null,
   "id": "6e686e0e",
   "metadata": {},
   "outputs": [],
   "source": [
    "# Mean Analysis\n",
    "#We study the relationship between the mean of stay and each feature\n",
    "for feature in column_features :\n",
    "    order = pd.unique(health_care[feature])\n",
    "    order.sort()\n",
    "    ax = sns.barplot(x=feature, y=\"Stay Estimate\", data=health_care,order=order, estimator=mean)\n",
    "    ax.set_title(f'Means of {feature} classes') \n",
    "    plt.show();"
   ]
  },
  {
   "cell_type": "code",
   "execution_count": null,
   "id": "9c2915f3",
   "metadata": {},
   "outputs": [],
   "source": [
    "#Median Analysis\n",
    "for feature in column_features :\n",
    "    order = pd.unique(health_care[feature])\n",
    "    order.sort()\n",
    "    ax = sns.barplot(x=feature, y=\"Stay Estimate\", data=health_care,order=order, estimator=median)\n",
    "    ax.set_title(f'Medians of {feature} classes') \n",
    "    plt.show();"
   ]
  },
  {
   "cell_type": "code",
   "execution_count": null,
   "id": "9560c100",
   "metadata": {},
   "outputs": [],
   "source": [
    "#Analysis of Std\n",
    "for feature in column_features :\n",
    "    order = pd.unique(health_care[feature])\n",
    "    order.sort()\n",
    "    ax = sns.barplot(x=feature, y=\"Stay Estimate\", data=health_care,order=order, estimator=std)\n",
    "    ax.set_title(f'Stds of {feature} classes') \n",
    "    plt.show();"
   ]
  },
  {
   "cell_type": "markdown",
   "id": "146f21c7",
   "metadata": {},
   "source": [
    "[Back to top](#Content:)\n",
    "\n",
    "<a id='part3'></a>\n",
    "## Part 3 - Preparing our data"
   ]
  },
  {
   "cell_type": "markdown",
   "id": "7e3dc704",
   "metadata": {},
   "source": [
    "[Back to top](#Content:)\n",
    "\n",
    "<a id='part3.1'></a>\n",
    "### Missing Values"
   ]
  },
  {
   "cell_type": "code",
   "execution_count": null,
   "id": "0ddd0bf8",
   "metadata": {},
   "outputs": [],
   "source": [
    "#checking for missing values\n",
    "health_care.isnull().values.any()"
   ]
  },
  {
   "cell_type": "code",
   "execution_count": null,
   "id": "e3022022",
   "metadata": {
    "scrolled": true
   },
   "outputs": [],
   "source": [
    "#Checking number of NANs for each column, in order to understand how many missing values there are in a dataframe.\n",
    "print(\"# of NaN in each columns:\", health_care.isnull().sum(), sep='\\n')"
   ]
  },
  {
   "cell_type": "code",
   "execution_count": null,
   "id": "90cf91e6",
   "metadata": {},
   "outputs": [],
   "source": [
    "#calculates percentage of missing values in the specific feature\n",
    "def perc_mv(x, y):\n",
    "    perc = y.isnull().sum() / len(x) * 100\n",
    "    return perc"
   ]
  },
  {
   "cell_type": "code",
   "execution_count": null,
   "id": "ad95a704",
   "metadata": {},
   "outputs": [],
   "source": [
    "print('Missing value ratios:\\nBed Grade: {}\\nCity_Code_Patient: {}'.format(\n",
    "    perc_mv(health_care, health_care['Bed Grade']),\n",
    "    perc_mv(health_care, health_care['City_Code_Patient'])))"
   ]
  },
  {
   "cell_type": "code",
   "execution_count": null,
   "id": "ba64e9a9",
   "metadata": {
    "scrolled": true
   },
   "outputs": [],
   "source": [
    "#In the code cell below, we use the attribute dtype on df to retrieve the data type for each column.\n",
    "print (health_care.dtypes)"
   ]
  },
  {
   "cell_type": "code",
   "execution_count": null,
   "id": "b4691401",
   "metadata": {},
   "outputs": [],
   "source": [
    "#We want to map the name of each Severity of Illness to the corresponding number in ascending order.\n",
    "health_care['Severity of Illness'] = health_care['Severity of Illness'].map({'Minor':1, 'Moderate': 2, 'Extreme':3})\n",
    "health_care['Type of Admission'] = health_care['Type of Admission'].map({'Trauma':1, 'Emergency': 2, 'Urgent':3})\n",
    "# health_care"
   ]
  },
  {
   "cell_type": "code",
   "execution_count": null,
   "id": "d80bc0c3",
   "metadata": {},
   "outputs": [],
   "source": [
    "#dropping features\n",
    "elements_to_remove = ['case_id', 'City_Code_Hospital', 'City_Code_Patient', 'patientid', 'Bed Grade', 'Admission_Deposit']\n",
    "health_care = health_care.drop(elements_to_remove, axis=1)"
   ]
  },
  {
   "cell_type": "code",
   "execution_count": null,
   "id": "2299e0a3",
   "metadata": {},
   "outputs": [],
   "source": [
    "# #uniting the predictors \n",
    "# #playing with the parameters\n",
    "# health_care[\"Stay\"] = health_care[\"Stay\"].map({'0-10':'0-20', \n",
    "#                              '11-20':'0-20', \n",
    "#                              '21-30':'21-30', \n",
    "#                              '31-40':'21-30', \n",
    "#                              '41-50':'31-40', \n",
    "#                              '51-60':'31-40',\n",
    "#                              '61-70':\"more than 60 Days\",  \n",
    "#                              '71-80':\"more than 60 Days\", \n",
    "#                              '81-90':\"more than 60 Days\", \n",
    "#                              '91 - 100':\"more than 60 Days\", \n",
    "#                              'More than 100 Days' :\"more than 60 Days\"})\n",
    "\n",
    "# # df.iloc[np.random.permutation(len(df))]"
   ]
  },
  {
   "cell_type": "markdown",
   "id": "8cbb4a28",
   "metadata": {},
   "source": [
    "[Back to top](#Content:)\n",
    "\n",
    "<a id='part3.2'></a>\n",
    "### Enconding, Shuffling, Scaling"
   ]
  },
  {
   "cell_type": "code",
   "execution_count": null,
   "id": "d0e9d9bb",
   "metadata": {},
   "outputs": [],
   "source": [
    "#using LabelEncoder to change and transform the object format of \n",
    "le = LabelEncoder()\n",
    "for col in ['Hospital_type_code', 'Hospital_region_code','Ward_Type', 'Ward_Facility_Code', 'Department', 'Age', 'Stay']:\n",
    "    health_care[col]= health_care[col].astype('str')\n",
    "    health_care[col]= le.fit_transform(health_care[col])\n",
    "print (health_care.dtypes)"
   ]
  },
  {
   "cell_type": "code",
   "execution_count": null,
   "id": "f2f19b9f",
   "metadata": {},
   "outputs": [],
   "source": [
    "# # Function to hot encode the column with name : name for dataframe df\n",
    "# def encode_text_dummy(df, name):\n",
    "#     dummies = pd.get_dummies(df[name])\n",
    "#     for x in dummies.columns:\n",
    "#         dummy_name = f\"{name}-{x}\"\n",
    "#         df[dummy_name] = dummies[x]\n",
    "#     df.drop(name, axis=1, inplace=True) ## inplace to make changed on the original df"
   ]
  },
  {
   "cell_type": "code",
   "execution_count": null,
   "id": "b2e8f793",
   "metadata": {},
   "outputs": [],
   "source": [
    "# ohEncoder = OneHotEncoder()\n",
    "\n",
    "# Xe = health_care.drop(columns = [\"Stay\"])\n",
    "# ye = health_care[\"Stay\"]\n",
    "\n",
    "# #hot encoding\n",
    "# ## Pre processing these columns\n",
    "# dummies_string_columns = ['Hospital_region_code', 'Department', 'Ward_Type', 'Ward_Facility_Code',  'Type of Admission']\n",
    "# for column in dummies_string_columns :\n",
    "#     encode_text_dummy(Xe, column)\n",
    "    \n",
    "# ## label_encoded data\n",
    "# Xe['Age'] = encoder.fit_transform(Xe['Age'])\n",
    "# ye = ohEncoder.fit_transform(ye)"
   ]
  },
  {
   "cell_type": "code",
   "execution_count": null,
   "id": "dd2c8595",
   "metadata": {},
   "outputs": [],
   "source": [
    "# #Scaling Hot Encoded Data\n",
    "# scaler = StandardScaler()\n",
    "# X = X.values\n",
    "# y = y\n",
    "# X_train, X_test, y_train, y_test = train_test_split(X, y, test_size=0.25)\n",
    "# for i in range(X_train.shape[1]) :\n",
    "#     X_train[:,i]= scaler.fit_transform(X_train[:,i].reshape(-1, 1))[:,0]\n",
    "#     X_test[:,i] = scaler.transform(X_test[:,i].reshape(-1, 1))[:,0]"
   ]
  },
  {
   "cell_type": "code",
   "execution_count": null,
   "id": "d81174c6",
   "metadata": {},
   "outputs": [],
   "source": [
    "#shuffling\n",
    "health_care= health_care.reindex(np.random.permutation(health_care.index))\n",
    "health_care.reset_index(inplace=True, drop=True)"
   ]
  },
  {
   "cell_type": "code",
   "execution_count": null,
   "id": "7ed3ce91",
   "metadata": {},
   "outputs": [],
   "source": [
    "#initialisation\n",
    "X = health_care.drop(columns = [\"Stay\"])\n",
    "y = health_care[\"Stay\"]\n",
    "scaler=StandardScaler()"
   ]
  },
  {
   "cell_type": "markdown",
   "id": "085d9b53",
   "metadata": {},
   "source": [
    "[Back to top](#Content:)\n",
    "\n",
    "<a id='part3.3'></a>\n",
    "### Multicollinearity"
   ]
  },
  {
   "cell_type": "code",
   "execution_count": null,
   "id": "9e941000",
   "metadata": {},
   "outputs": [],
   "source": [
    "# Heatmap\n",
    "fig, ax = plt.subplots(figsize=(10,10))        \n",
    "sns.heatmap(health_care.corr(), annot=True, linewidths=.5, ax=ax)"
   ]
  },
  {
   "cell_type": "code",
   "execution_count": null,
   "id": "c4e19600",
   "metadata": {},
   "outputs": [],
   "source": [
    "#OLS\n",
    "model = sm.OLS(y, X)\n",
    "results = model.fit()\n",
    "print(results.summary())"
   ]
  },
  {
   "cell_type": "code",
   "execution_count": null,
   "id": "e13a562b",
   "metadata": {},
   "outputs": [],
   "source": [
    "#VIF\n",
    "X_VIF = health_care\n",
    "data = pd.DataFrame()\n",
    "data[\"feature\"] = X_VIF.columns\n",
    "data[\"VIF\"] = [variance_inflation_factor(X_VIF.values, i) for i in range(len(X_VIF.columns))]\n",
    "print(data)"
   ]
  },
  {
   "cell_type": "code",
   "execution_count": null,
   "id": "44d1a1a3",
   "metadata": {},
   "outputs": [],
   "source": [
    "#Choosing the number of components\n",
    "X_scaler = StandardScaler().fit_transform(X)\n",
    "pca = PCA().fit(X_scaler)"
   ]
  },
  {
   "cell_type": "code",
   "execution_count": null,
   "id": "33ec6d5a",
   "metadata": {},
   "outputs": [],
   "source": [
    "#Plotting the Cumulative Summation of the Explained Variance\n",
    "plt.figure()\n",
    "plt.plot(np.cumsum(pca.explained_variance_ratio_))\n",
    "plt.xlabel('Number of Components')\n",
    "plt.ylabel('Variance (%)') #for each component\n",
    "plt.title('Dataset Explained Variance')\n",
    "plt.show()"
   ]
  },
  {
   "cell_type": "code",
   "execution_count": null,
   "id": "8a0ef008",
   "metadata": {},
   "outputs": [],
   "source": [
    "np.cumsum(pca.explained_variance_ratio_)"
   ]
  },
  {
   "cell_type": "code",
   "execution_count": null,
   "id": "d15203ab",
   "metadata": {},
   "outputs": [],
   "source": [
    "# For our analysis we choose n_components = 7\n",
    "pca = PCA(n_components=7)\n",
    "X_pca = pca.fit_transform(X_scaler)\n",
    "X_pca_with_constant = sm.add_constant(X_pca)"
   ]
  },
  {
   "cell_type": "code",
   "execution_count": null,
   "id": "77dc83b0",
   "metadata": {},
   "outputs": [],
   "source": [
    "model = sm.OLS(y, X_pca_with_constant)\n",
    "results = model.fit()\n",
    "print(results.summary())"
   ]
  },
  {
   "cell_type": "markdown",
   "id": "d3c0036d",
   "metadata": {},
   "source": [
    "[Back to top](#Content:)\n",
    "\n",
    "<a id='part3.4'></a>\n",
    "### SMOTE analysis"
   ]
  },
  {
   "cell_type": "code",
   "execution_count": null,
   "id": "d9289608",
   "metadata": {},
   "outputs": [],
   "source": [
    "health_care[\"Stay\"].value_counts().plot.bar()"
   ]
  },
  {
   "cell_type": "code",
   "execution_count": null,
   "id": "31d75cfc",
   "metadata": {},
   "outputs": [],
   "source": [
    "smote_health_care = health_care.copy()\n",
    "\n",
    "# X = np.array(smote_health_care.loc[:, smote_health_care.columns != \"Stay\"])\n",
    "y = np.array(smote_health_care.loc[:, smote_health_care.columns == \"Stay\"]).reshape(-1, 1)\n",
    "\n",
    "X = scaler.fit_transform(X_pca_with_constant)"
   ]
  },
  {
   "cell_type": "code",
   "execution_count": null,
   "id": "8ce21022",
   "metadata": {},
   "outputs": [],
   "source": [
    "X_train, X_test, y_train, y_test = train_test_split(X_pca_with_constant, y, test_size = 0.33, random_state = 2, shuffle = True, stratify = y)\n",
    "\n",
    "clf = LogisticRegression(solver = 'lbfgs')\n",
    "oversample = SMOTE(random_state = 33)\n",
    "\n",
    "X_train_SMOTE, y_train_SMOTE = oversample.fit_resample(X_train, y_train)"
   ]
  },
  {
   "cell_type": "code",
   "execution_count": null,
   "id": "10bf0c05",
   "metadata": {},
   "outputs": [],
   "source": [
    "# observe that data has been balanced\n",
    "pd.Series(y_train_SMOTE).value_counts().plot.bar()"
   ]
  },
  {
   "cell_type": "code",
   "execution_count": null,
   "id": "173914c4",
   "metadata": {},
   "outputs": [],
   "source": [
    "# fit the model\n",
    "clf.fit(X_train_SMOTE, y_train_SMOTE)\n",
    "\n",
    "# prediction for Training data\n",
    "train_pred_sm = clf.predict(X_train_SMOTE)\n",
    "\n",
    "# prediction for Testing data\n",
    "test_pred_sm = clf.predict(X_test)"
   ]
  },
  {
   "cell_type": "code",
   "execution_count": null,
   "id": "a9179c4d",
   "metadata": {},
   "outputs": [],
   "source": [
    "print('Accuracy score for Training Dataset = ', accuracy_score(train_pred_sm, y_train_SMOTE))\n",
    "print('Accuracy score for Testing Dataset = ', accuracy_score(test_pred_sm, y_test.ravel()))\n"
   ]
  },
  {
   "cell_type": "markdown",
   "id": "e75d5bc5",
   "metadata": {},
   "source": [
    "[Back to top](#Content:)\n",
    "\n",
    "\n",
    "<a id='part4'></a>\n",
    "\n",
    "## Part - 4 Models "
   ]
  },
  {
   "cell_type": "markdown",
   "id": "99f77ef1",
   "metadata": {},
   "source": [
    "[Back to top](#Content:)\n",
    "\n",
    "<a id='part4.1'></a>\n",
    "### Score method"
   ]
  },
  {
   "cell_type": "code",
   "execution_count": null,
   "id": "d82ab779",
   "metadata": {},
   "outputs": [],
   "source": [
    "# Score of 1 is perfect. The closer the score to 1 the better\n",
    "K = 10 # Num of Classes - 1 here\n",
    "\n",
    "# Classes can be ranked here from 0-10\n",
    "def score(pred, target):\n",
    "    error = (np.mean(np.abs(pred-target)))/K\n",
    "    score = 1 - error\n",
    "    return score"
   ]
  },
  {
   "cell_type": "markdown",
   "id": "014d2b4d",
   "metadata": {},
   "source": [
    "[Back to top](#Content:)\n",
    "\n",
    "<a id='part4.2'></a>\n",
    "### KNN"
   ]
  },
  {
   "cell_type": "code",
   "execution_count": null,
   "id": "8d95c338",
   "metadata": {},
   "outputs": [],
   "source": [
    "knn = KNeighborsClassifier(n_neighbors=3) \n",
    "knn.fit(X_train, y_train) "
   ]
  },
  {
   "cell_type": "code",
   "execution_count": null,
   "id": "d896ce08",
   "metadata": {},
   "outputs": [],
   "source": [
    "y_pred = knn.predict(X_test)"
   ]
  },
  {
   "cell_type": "code",
   "execution_count": null,
   "id": "6e3b7972",
   "metadata": {},
   "outputs": [],
   "source": [
    "#accuracy\n",
    "print('Accuracy: %.2f' %accuracy_score(y_test,y_pred))"
   ]
  },
  {
   "cell_type": "code",
   "execution_count": null,
   "id": "2e555942",
   "metadata": {},
   "outputs": [],
   "source": [
    "# Model Precision\n",
    "print(\"Precision:\",precision_score(y_test, y_pred, average='micro'))\n",
    "\n",
    "# Model Recall\n",
    "print(\"Recall:\",recall_score(y_test, y_pred, average='micro'))"
   ]
  },
  {
   "cell_type": "code",
   "execution_count": null,
   "id": "f80b2f1b",
   "metadata": {},
   "outputs": [],
   "source": [
    "#with Smote\n",
    "knn = KNeighborsClassifier(n_neighbors=3) \n",
    "knn.fit(X_train_SMOTE, y_train_SMOTE) "
   ]
  },
  {
   "cell_type": "code",
   "execution_count": null,
   "id": "7dec79a6",
   "metadata": {},
   "outputs": [],
   "source": [
    "y_pred = knn.predict(X_test)"
   ]
  },
  {
   "cell_type": "code",
   "execution_count": null,
   "id": "b9f80c25",
   "metadata": {},
   "outputs": [],
   "source": [
    "#accuracy\n",
    "print('Accuracy: %.2f' %accuracy_score(y_test,y_pred))"
   ]
  },
  {
   "cell_type": "code",
   "execution_count": null,
   "id": "b3094541",
   "metadata": {},
   "outputs": [],
   "source": [
    "# Model Precision\n",
    "print(\"Precision:\",precision_score(y_test, y_pred, average='micro'))\n",
    "\n",
    "# Model Recall\n",
    "print(\"Recall:\",recall_score(y_test, y_pred, average='micro'))"
   ]
  },
  {
   "cell_type": "code",
   "execution_count": null,
   "id": "b9063e53",
   "metadata": {},
   "outputs": [],
   "source": [
    "# from sklearn.metrics import classification_report\n",
    "# print(classification_report(y_test, y_pred))"
   ]
  },
  {
   "cell_type": "markdown",
   "id": "d2ca08de",
   "metadata": {},
   "source": [
    "[Back to top](#Content:)\n",
    "\n",
    "<a id='part4.3'></a>\n",
    "### NN"
   ]
  },
  {
   "cell_type": "code",
   "execution_count": null,
   "id": "cf2c74b0",
   "metadata": {},
   "outputs": [],
   "source": [
    "nn = Sequential()\n",
    "\n",
    "#model.add(Dropout(0.1)) #applies to layer before ie input here\n",
    "nn.add(Dense(12, input_dim=X.shape[1], activation='relu'))\n",
    "nn.add(Dense(8, activation='relu'))\n",
    "nn.add(Dense(1, activation='sigmoid'))\n",
    "nn.add(Dropout(0.2))\n",
    "nn.add(Dense(1))"
   ]
  },
  {
   "cell_type": "code",
   "execution_count": null,
   "id": "fcca9ce4",
   "metadata": {},
   "outputs": [],
   "source": [
    "nn.compile(loss='mean_squared_error', optimizer='adam')\n",
    "monitor = EarlyStopping(monitor='loss', min_delta=1e-4, patience=5, verbose=1, mode='auto')\n",
    "nn.fit(X_train,y_train,verbose=2,epochs=2)\n",
    "pred = nn.predict(X_test)\n",
    "#accuracy\n",
    "print('Accuracy: %.2f' %accuracy_score(y_test,y_pred))"
   ]
  },
  {
   "cell_type": "code",
   "execution_count": null,
   "id": "61ffde22",
   "metadata": {},
   "outputs": [],
   "source": [
    "# Measure RMSE error.  RMSE is common for regression.\n",
    "score = np.sqrt(metrics.mean_squared_error(pred,y_test))\n",
    "print(\"Final score (RMSE): {}\".format(score))\n",
    "nn.summary()"
   ]
  },
  {
   "cell_type": "code",
   "execution_count": null,
   "id": "fcce13dc",
   "metadata": {},
   "outputs": [],
   "source": [
    "# # compile the keras model\n",
    "# model.compile(loss='binary_crossentropy', optimizer='adam', metrics=['accuracy'])\n",
    "# # fit the keras model on the dataset\n",
    "# model.fit(X, y, epochs=150, batch_size=10)\n",
    "# # evaluate the keras model\n",
    "# accuracy = model.evaluate(X, y)\n",
    "# print('Accuracy: %.2f' % (accuracy*100))"
   ]
  },
  {
   "cell_type": "code",
   "execution_count": null,
   "id": "152b41df",
   "metadata": {},
   "outputs": [],
   "source": [
    "# Model Precision\n",
    "print(\"Precision:\",precision_score(y_test, y_pred, average='micro'))\n",
    "\n",
    "# Model Recall\n",
    "print(\"Recall:\",recall_score(y_test, y_pred, average='micro'))"
   ]
  },
  {
   "cell_type": "code",
   "execution_count": null,
   "id": "eeec130a",
   "metadata": {},
   "outputs": [],
   "source": [
    "# from sklearn.metrics import classification_report\n",
    "# print(classification_report(y_test, y_pred))"
   ]
  },
  {
   "cell_type": "markdown",
   "id": "272715bd",
   "metadata": {},
   "source": [
    "[Back to top](#Content:)\n",
    "\n",
    "<a id='part4.4'></a>\n",
    "### Decision Trees"
   ]
  },
  {
   "cell_type": "code",
   "execution_count": null,
   "id": "11546af0",
   "metadata": {},
   "outputs": [],
   "source": [
    "tree = DecisionTreeClassifier(criterion='entropy')\n",
    "tree.fit(X_train, y_train)"
   ]
  },
  {
   "cell_type": "code",
   "execution_count": null,
   "id": "bfd6c22b",
   "metadata": {},
   "outputs": [],
   "source": [
    "y_pred = tree.predict(X_test)\n",
    "print(f'Accuracy : %.3f' % accuracy_score(y_test, y_pred))\n",
    "print(f'Score : %.2f' % score(y_test.ravel(), y_pred.ravel()))"
   ]
  },
  {
   "cell_type": "code",
   "execution_count": null,
   "id": "5e9556bd",
   "metadata": {},
   "outputs": [],
   "source": [
    "# Model Precision\n",
    "print(\"Precision:\",precision_score(y_test, y_pred, average='micro'))\n",
    "\n",
    "# Model Recall\n",
    "print(\"Recall:\",recall_score(y_test, y_pred, average='micro'))"
   ]
  },
  {
   "cell_type": "code",
   "execution_count": null,
   "id": "ac2f5471",
   "metadata": {},
   "outputs": [],
   "source": [
    "cm = confusion_matrix(y_test, y_pred)\n",
    "disp = ConfusionMatrixDisplay(cm )\n",
    "disp.plot()\n",
    "plt.show();"
   ]
  },
  {
   "cell_type": "code",
   "execution_count": null,
   "id": "f34eb49a",
   "metadata": {},
   "outputs": [],
   "source": [
    "cm_reduced = cm[:6,:6]\n",
    "\n",
    "cm = confusion_matrix(y_test, y_pred);\n",
    "disp = ConfusionMatrixDisplay(cm_reduced)\n",
    "disp.plot();"
   ]
  },
  {
   "cell_type": "code",
   "execution_count": null,
   "id": "4d4948e4",
   "metadata": {},
   "outputs": [],
   "source": [
    "#with SMOTE\n",
    "tree.fit(X_train_SMOTE, y_train_SMOTE)\n",
    "y_pred = tree.predict(X_test)\n",
    "print(f'Accuracy : %.3f' % accuracy_score(y_test, y_pred))\n",
    "print(f'Score : %.2f' % score(y_test.ravel(), y_pred.ravel()))"
   ]
  },
  {
   "cell_type": "markdown",
   "id": "dd8b2824",
   "metadata": {},
   "source": [
    "[Back to top](#Content:)\n",
    "\n",
    "<a id='part4.5'></a>\n",
    "### Random Forest"
   ]
  },
  {
   "cell_type": "code",
   "execution_count": null,
   "id": "fbd88ddf",
   "metadata": {},
   "outputs": [],
   "source": [
    "forest = RandomForestClassifier(n_estimators=10, criterion='entropy')\n",
    "forest.fit(X_train, y_train)"
   ]
  },
  {
   "cell_type": "code",
   "execution_count": null,
   "id": "beba2504",
   "metadata": {},
   "outputs": [],
   "source": [
    "y_pred = forest.predict(X_test)\n",
    "print(f'Accuracy : %.3f' % accuracy_score(y_test, y_pred))\n",
    "print(f'Score : %.4f' % score(y_test.ravel(), y_pred.ravel()))"
   ]
  },
  {
   "cell_type": "code",
   "execution_count": null,
   "id": "884a1897",
   "metadata": {},
   "outputs": [],
   "source": [
    "# Model Precision\n",
    "print(\"Precision:\",precision_score(y_test, y_pred, average='micro'))\n",
    "\n",
    "# Model Recall\n",
    "print(\"Recall:\",recall_score(y_test, y_pred, average='micro'))"
   ]
  },
  {
   "cell_type": "code",
   "execution_count": null,
   "id": "2304d15e",
   "metadata": {},
   "outputs": [],
   "source": [
    "cm = confusion_matrix(y_test, y_pred)\n",
    "disp = ConfusionMatrixDisplay(cm)\n",
    "disp.plot()\n",
    "plt.show()"
   ]
  },
  {
   "cell_type": "code",
   "execution_count": null,
   "id": "460f99de",
   "metadata": {},
   "outputs": [],
   "source": [
    "cm_reduced = cm[:6,:6]\n",
    "\n",
    "cm = confusion_matrix(y_test, y_pred);\n",
    "disp = ConfusionMatrixDisplay(cm_reduced)\n",
    "disp.plot();"
   ]
  },
  {
   "cell_type": "code",
   "execution_count": null,
   "id": "34cc6021",
   "metadata": {},
   "outputs": [],
   "source": [
    "### Cross Validating to check some results\n",
    "kf = KFold(5, shuffle=True)\n",
    "fold = 1\n",
    "\n",
    "for train_index, validate_index in kf.split(X,y):\n",
    "    forest.fit(X[train_index], y[train_index])\n",
    "    ytest = y[validate_index]\n",
    "    y_pred = forest.predict(X[validate_index])\n",
    "    print(f'Accuracy : %.4f' % accuracy_score(ytest, y_pred))\n",
    "    print(f'Score : %.4f' % score(ytest.ravel(), y_pred.ravel()))"
   ]
  },
  {
   "cell_type": "code",
   "execution_count": null,
   "id": "d0cf0ffc",
   "metadata": {},
   "outputs": [],
   "source": [
    "#Trying Different num of estimators\n",
    "accuracy_data = []\n",
    "score_data = []\n",
    "\n",
    "for i in range(1,2):\n",
    "    forest = RandomForestClassifier(n_estimators=i, criterion='entropy')\n",
    "    forest.fit(X_train, y_train)\n",
    "    y_pred = forest.predict(X_test)\n",
    "    accuracy = accuracy_score(y_test, y_pred)\n",
    "    score = 1-np.mean(np.abs(y_test-y_pred))/K\n",
    "    print(f'Accuracy {i} estimators : %.4f' % accuracy)\n",
    "    print(f'Score {i} estimators : %.4f' % score)\n",
    "    accuracy_data.append(accuracy)\n",
    "    score_data.append(score)"
   ]
  },
  {
   "cell_type": "code",
   "execution_count": null,
   "id": "f8f2f8a7",
   "metadata": {},
   "outputs": [],
   "source": [
    "nums = np.arange(1,40)\n",
    "fig = plt.figure(figsize=(6,5))\n",
    "plt.plot(nums, accuracy_data, c='r', label='Accuracy')\n",
    "plt.plot(nums, score_data, label='Score')\n",
    "plt.xlabel('Number of Trees')\n",
    "plt.ylabel('Accuracy and Score')\n",
    "plt.legend(loc='upper right')\n",
    "plt.show();"
   ]
  },
  {
   "cell_type": "code",
   "execution_count": null,
   "id": "e3aa84ad",
   "metadata": {},
   "outputs": [],
   "source": [
    "#Last Model results\n",
    "y_pred = forest.predict(X_test)\n",
    "print(f'Accuracy : %.3f' % accuracy_score(y_test, y_pred))\n",
    "score = 1-np.mean(np.abs(y_test-y_pred))/K\n",
    "print(f'Score : %.4f' % score)"
   ]
  },
  {
   "cell_type": "code",
   "execution_count": null,
   "id": "d7b0cf51",
   "metadata": {},
   "outputs": [],
   "source": [
    "# Model Precision\n",
    "print(\"Precision:\",precision_score(y_test, y_pred, average='micro'))\n",
    "\n",
    "# Model Recall\n",
    "print(\"Recall:\",recall_score(y_test, y_pred, average='micro'))"
   ]
  },
  {
   "cell_type": "code",
   "execution_count": null,
   "id": "dbe00ed9",
   "metadata": {},
   "outputs": [],
   "source": [
    "cm = confusion_matrix(y_test, y_pred)\n",
    "disp = ConfusionMatrixDisplay(cm)\n",
    "disp.plot()\n",
    "plt.show()"
   ]
  },
  {
   "cell_type": "code",
   "execution_count": null,
   "id": "2287ba25",
   "metadata": {},
   "outputs": [],
   "source": [
    "cm_reduced = cm[:6,:6]\n",
    "\n",
    "cm = confusion_matrix(y_test, y_pred);\n",
    "disp = ConfusionMatrixDisplay(cm_reduced)\n",
    "disp.plot();"
   ]
  },
  {
   "cell_type": "markdown",
   "id": "4fdbdba4",
   "metadata": {},
   "source": [
    "[Back to top](#Content:)\n",
    "\n",
    "\n",
    "<a id='part4.'></a>\n",
    "### Naive Bayes"
   ]
  },
  {
   "cell_type": "code",
   "execution_count": null,
   "id": "9a5179e1",
   "metadata": {},
   "outputs": [],
   "source": [
    "smoothing = [1e-3, 1e-2, 1e-1, 1, 10,100]\n",
    "for i in range(len(smoothing)):\n",
    "    model = GaussianNB(var_smoothing=smoothing[i])\n",
    "    model.fit(X_test, y_test)\n",
    "    y_pred = model.predict(X_test)\n",
    "    print('var_smoothing = ',smoothing[i] )\n",
    "    print(f'Accuracy : %.3f' % accuracy_score(y_test, y_pred))\n",
    "    score = 1-np.mean(np.abs(y_test-y_pred))/K\n",
    "    print(f'Score : %.4f' % score)\n",
    "    print('---------' )"
   ]
  },
  {
   "cell_type": "code",
   "execution_count": null,
   "id": "50e0ca67",
   "metadata": {},
   "outputs": [],
   "source": [
    "## Keeping smoothing = 1\n",
    "model = GaussianNB(var_smoothing=1)\n",
    "model.fit(X_test, y_test)\n",
    "y_pred = model.predict(X_test)"
   ]
  },
  {
   "cell_type": "code",
   "execution_count": null,
   "id": "b67670e2",
   "metadata": {},
   "outputs": [],
   "source": [
    "print(f'Accuracy : %.3f' % accuracy_score(y_test, y_pred))\n",
    "# Model Precision\n",
    "print(\"Precision:\",precision_score(y_test, y_pred, average='micro'))\n",
    "\n",
    "# Model Recall\n",
    "print(\"Recall:\",recall_score(y_test, y_pred, average='micro'))"
   ]
  },
  {
   "cell_type": "code",
   "execution_count": null,
   "id": "cd051e63",
   "metadata": {},
   "outputs": [],
   "source": [
    "cm = confusion_matrix(y_test, y_pred)\n",
    "disp = ConfusionMatrixDisplay(cm)\n",
    "disp.plot()\n",
    "plt.show()"
   ]
  },
  {
   "cell_type": "code",
   "execution_count": null,
   "id": "13f0616b",
   "metadata": {},
   "outputs": [],
   "source": [
    "cm_reduced = cm[:6,:6]\n",
    "\n",
    "cm = confusion_matrix(y_test, y_pred);\n",
    "disp = ConfusionMatrixDisplay(cm_reduced)\n",
    "disp.plot();"
   ]
  },
  {
   "cell_type": "markdown",
   "id": "f9e79876",
   "metadata": {},
   "source": [
    "[Back to top](#Content:)\n",
    "\n",
    "\n",
    "<a id='part5'></a>\n",
    "\n",
    "## Part - 5 Additional Models"
   ]
  },
  {
   "cell_type": "markdown",
   "id": "f506a0f8",
   "metadata": {},
   "source": [
    "[Back to top](#Content:)\n",
    "\n",
    "\n",
    "<a id='part5.1'></a>\n",
    "### Gradient Boost Classifier"
   ]
  },
  {
   "cell_type": "code",
   "execution_count": null,
   "id": "a129142a",
   "metadata": {},
   "outputs": [],
   "source": [
    "from sklearn.ensemble import GradientBoostingClassifier\n",
    "model = GradientBoostingClassifier()\n",
    "model.fit(X_train, y_train)"
   ]
  },
  {
   "cell_type": "code",
   "execution_count": null,
   "id": "2cc4b716",
   "metadata": {},
   "outputs": [],
   "source": [
    "y_pred = model.predict(X_test)\n",
    "print(f'Accuracy : %.3f' % accuracy_score(y_test, y_pred))\n",
    "score = 1-np.mean(np.abs(y_test-y_pred))/K\n",
    "print(f'Score : %.4f' % score)"
   ]
  },
  {
   "cell_type": "code",
   "execution_count": null,
   "id": "97cb9e4c",
   "metadata": {},
   "outputs": [],
   "source": [
    "# Model Precision\n",
    "print(\"Precision:\",precision_score(y_test, y_pred, average='micro'))\n",
    "\n",
    "# Model Recall\n",
    "print(\"Recall:\",recall_score(y_test, y_pred, average='micro'))"
   ]
  },
  {
   "cell_type": "code",
   "execution_count": null,
   "id": "5ce8a55c",
   "metadata": {},
   "outputs": [],
   "source": [
    "cm = confusion_matrix(y_test, y_pred)\n",
    "disp = ConfusionMatrixDisplay(cm)\n",
    "disp.plot()\n",
    "plt.show()"
   ]
  },
  {
   "cell_type": "code",
   "execution_count": null,
   "id": "a709c4b2",
   "metadata": {},
   "outputs": [],
   "source": [
    "cm_reduced = cm[:6,:6]\n",
    "\n",
    "cm = confusion_matrix(y_test, y_pred);\n",
    "disp = ConfusionMatrixDisplay(cm_reduced)\n",
    "disp.plot();"
   ]
  },
  {
   "cell_type": "markdown",
   "id": "badaf939",
   "metadata": {},
   "source": [
    "[Back to top](#Content:)\n",
    "\n",
    "\n",
    "<a id='part5.2'></a>\n",
    "### Cat Boost Classifier"
   ]
  },
  {
   "cell_type": "code",
   "execution_count": null,
   "id": "574aecf7",
   "metadata": {},
   "outputs": [],
   "source": [
    "from catboost import CatBoostClassifier\n",
    "cb = CatBoostClassifier(iterations=1000)\n",
    "cb.fit(X_train, y_train)"
   ]
  },
  {
   "cell_type": "code",
   "execution_count": null,
   "id": "8b086021",
   "metadata": {},
   "outputs": [],
   "source": [
    "y_pred = cb.predict(X_test)\n",
    "print(f'Accuracy : %.3f' % accuracy_score(y_test, y_pred))"
   ]
  },
  {
   "cell_type": "code",
   "execution_count": null,
   "id": "657ae76d",
   "metadata": {},
   "outputs": [],
   "source": [
    "y_pred = y_pred.flatten()\n",
    "y_pred.shape"
   ]
  },
  {
   "cell_type": "code",
   "execution_count": null,
   "id": "34207c86",
   "metadata": {},
   "outputs": [],
   "source": [
    "y_diff = np.abs(y_test-y_pred)"
   ]
  },
  {
   "cell_type": "code",
   "execution_count": null,
   "id": "a71fc3b3",
   "metadata": {},
   "outputs": [],
   "source": [
    "score = 1-np.mean(y_diff)/K\n",
    "print(f'Score : %.4f' % score)"
   ]
  },
  {
   "cell_type": "code",
   "execution_count": null,
   "id": "4e6f506d",
   "metadata": {},
   "outputs": [],
   "source": [
    "cm = confusion_matrix(y_test, y_pred)\n",
    "disp = ConfusionMatrixDisplay(cm)\n",
    "disp.plot()\n",
    "plt.show()"
   ]
  },
  {
   "cell_type": "code",
   "execution_count": null,
   "id": "2b5a362b",
   "metadata": {},
   "outputs": [],
   "source": [
    "cm_reduced = cm[:6,:6]\n",
    "\n",
    "cm = confusion_matrix(y_test, y_pred);\n",
    "disp = ConfusionMatrixDisplay(cm_reduced)\n",
    "disp.plot();"
   ]
  },
  {
   "cell_type": "markdown",
   "id": "3c16301a",
   "metadata": {},
   "source": [
    "[Back to top](#Content:)\n",
    "\n",
    "\n",
    "<a id='part5.3'></a>\n",
    "### XGB BOOST Classifier"
   ]
  },
  {
   "cell_type": "code",
   "execution_count": null,
   "id": "1083adcb",
   "metadata": {},
   "outputs": [],
   "source": [
    "from xgboost import XGBClassifier\n",
    "xgb = XGBClassifier()\n",
    "xgb.fit(X_train, y_train)"
   ]
  },
  {
   "cell_type": "code",
   "execution_count": null,
   "id": "df0d55d8",
   "metadata": {},
   "outputs": [],
   "source": [
    "y_pred = xgb.predict(X_test)\n",
    "print(f'Accuracy : %.3f' % accuracy_score(y_test, y_pred))\n",
    "score = 1-np.mean(np.abs(y_test-y_pred))/K\n",
    "print(f'Score : %.4f' % score)"
   ]
  }
 ],
 "metadata": {
  "kernelspec": {
   "display_name": "Python 3 (ipykernel)",
   "language": "python",
   "name": "python3"
  },
  "language_info": {
   "codemirror_mode": {
    "name": "ipython",
    "version": 3
   },
   "file_extension": ".py",
   "mimetype": "text/x-python",
   "name": "python",
   "nbconvert_exporter": "python",
   "pygments_lexer": "ipython3",
   "version": "3.8.8"
  }
 },
 "nbformat": 4,
 "nbformat_minor": 5
}
